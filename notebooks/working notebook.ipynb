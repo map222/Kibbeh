{
 "cells": [
  {
   "cell_type": "markdown",
   "metadata": {},
   "source": [
    "# To do:\n",
    "Get 800 Locu menus\n",
    "\n",
    "Parse the Foursquare menus"
   ]
  },
  {
   "cell_type": "code",
   "execution_count": 4,
   "metadata": {
    "collapsed": false
   },
   "outputs": [],
   "source": [
    "import requests\n",
    "import os\n",
    "import importlib\n",
    "import pandas as pd\n",
    "import numpy as np\n",
    "%matplotlib inline\n",
    "import pdb\n",
    "import json\n",
    "import time\n",
    "import Kibbeh.src.feature_calc as feature_calc\n",
    "import Kibbeh.src.API_io as API_io\n",
    "import re\n",
    "import matplotlib.pyplot as plt\n",
    "import ast"
   ]
  },
  {
   "cell_type": "code",
   "execution_count": 5,
   "metadata": {
    "collapsed": true
   },
   "outputs": [],
   "source": [
    "working_dir = 'C:\\\\Users\\\\Chauncey\\\\Documents\\\\GitHub\\\\Kibbeh'\n",
    "#working_dir = 'C:\\\\Users\\\\Me\\\\Documents\\\\GitHub\\\\Kibbeh'\n",
    "seattle_zips = pd.read_csv(working_dir + '\\\\seattle_zips.csv')['Zip'].values"
   ]
  },
  {
   "cell_type": "code",
   "execution_count": 6,
   "metadata": {
    "collapsed": true
   },
   "outputs": [],
   "source": [
    "# load foursquare menus\n",
    "with open('fs_restaurant_menus.json', 'r') as json_file:\n",
    "    fs_menus_rated = json.load( json_file)"
   ]
  },
  {
   "cell_type": "code",
   "execution_count": 4,
   "metadata": {
    "collapsed": false
   },
   "outputs": [],
   "source": [
    "# load yelp restaurants\n",
    "with open('yelp_restaurant_list.json', 'r') as json_file:\n",
    "    yelp_restos = json.load( json_file)"
   ]
  },
  {
   "cell_type": "markdown",
   "metadata": {},
   "source": [
    "# Load Yelp data"
   ]
  },
  {
   "cell_type": "code",
   "execution_count": 85,
   "metadata": {
    "collapsed": false
   },
   "outputs": [],
   "source": [
    "from yelpapi import YelpAPI\n",
    "with open(working_dir+ '\\\\yelp_api_key.txt', 'r') as api_file:\n",
    "    api_key =  api_file.read()\n",
    "    [CONSUMER_KEY, CONSUMER_SECRET, TOKEN, TOKEN_SECRET] = api_key.split('\\n')\n",
    "yelp_api = YelpAPI(CONSUMER_KEY, CONSUMER_SECRET, TOKEN, TOKEN_SECRET)"
   ]
  },
  {
   "cell_type": "code",
   "execution_count": 88,
   "metadata": {
    "collapsed": false
   },
   "outputs": [
    {
     "data": {
      "text/plain": [
       "1000"
      ]
     },
     "execution_count": 88,
     "metadata": {},
     "output_type": "execute_result"
    }
   ],
   "source": [
    "yelp_restos = API_io.get_yelp_restaurants(yelp_api)\n",
    "len(yelp_restos)"
   ]
  },
  {
   "cell_type": "code",
   "execution_count": null,
   "metadata": {
    "collapsed": false
   },
   "outputs": [],
   "source": [
    "# save\n",
    "with open('yelp_restaurant_list.json', 'w') as json_file:\n",
    "    json.dump(yelp_restos, json_file)"
   ]
  },
  {
   "cell_type": "markdown",
   "metadata": {},
   "source": [
    "# Load Foursquare data\n",
    "### Top restaurants in each zip code"
   ]
  },
  {
   "cell_type": "code",
   "execution_count": 84,
   "metadata": {
    "collapsed": false
   },
   "outputs": [
    {
     "data": {
      "text/plain": [
       "3081"
      ]
     },
     "execution_count": 84,
     "metadata": {},
     "output_type": "execute_result"
    }
   ],
   "source": [
    "# load pre-scraped data - this has lots of duplicates\n",
    "with open('fs_restaurant_list.json', 'r') as json_file:\n",
    "    fs_top_restos = json.load( json_file)\n",
    "len(fs_top_restos)"
   ]
  },
  {
   "cell_type": "code",
   "execution_count": 73,
   "metadata": {
    "collapsed": true
   },
   "outputs": [],
   "source": [
    "import foursquare\n",
    "with open(working_dir+ '\\\\foursquare_api_key.txt', 'r') as api_file:\n",
    "    api_key =  api_file.read()\n",
    "    [FOURSQUARE_ID, FOURSQUARE_SECRET] = api_key.split('\\n')\n",
    "foursquare_client = foursquare.Foursquare(FOURSQUARE_ID, FOURSQUARE_SECRET)"
   ]
  },
  {
   "cell_type": "code",
   "execution_count": 76,
   "metadata": {
    "collapsed": false
   },
   "outputs": [
    {
     "name": "stdout",
     "output_type": "stream",
     "text": [
      "Download data for 98001 zip code.\n",
      "Download data for 98002 zip code.\n"
     ]
    },
    {
     "data": {
      "text/plain": [
       "156"
      ]
     },
     "execution_count": 76,
     "metadata": {},
     "output_type": "execute_result"
    }
   ],
   "source": [
    "# get data from all seattle zip codes\n",
    "fs_top_restos = API_io.get_fs_top_restos_zip(foursquare_client, seattle_zips[:2])\n",
    "# this takes a while to run\n",
    "len(fs_top_restos)"
   ]
  },
  {
   "cell_type": "code",
   "execution_count": 81,
   "metadata": {
    "collapsed": false
   },
   "outputs": [
    {
     "data": {
      "text/plain": [
       "3081"
      ]
     },
     "execution_count": 81,
     "metadata": {},
     "output_type": "execute_result"
    }
   ],
   "source": [
    "fs_top_restos = remove_duplicate_fs_restos(fs_top_restos)\n",
    "len(fs_top_restos)"
   ]
  },
  {
   "cell_type": "code",
   "execution_count": 82,
   "metadata": {
    "collapsed": false
   },
   "outputs": [],
   "source": [
    "# save\n",
    "with open('fs_restaurant_list.json', 'w') as json_file:\n",
    "    json.dump(fs_top_restos, json_file)"
   ]
  },
  {
   "cell_type": "markdown",
   "metadata": {},
   "source": [
    "### Random restaurants in a latitude longitude grid\n",
    "Most of these do not have ratings or menus"
   ]
  },
  {
   "cell_type": "code",
   "execution_count": null,
   "metadata": {
    "collapsed": false
   },
   "outputs": [],
   "source": [
    "# not tested after offloading to API_io.py\n",
    "seattle_grid = [-122.38, -122.28, 47.55, 47.70]\n",
    "fs_ll_restos = API_io.get_fs_restos_by_ll(seattle_grid, foursquare_client, grid_step = 0.1)"
   ]
  },
  {
   "cell_type": "code",
   "execution_count": null,
   "metadata": {
    "collapsed": false
   },
   "outputs": [],
   "source": [
    "len(fs_ll_restos)"
   ]
  },
  {
   "cell_type": "markdown",
   "metadata": {},
   "source": [
    "### Get menus from foursquare"
   ]
  },
  {
   "cell_type": "code",
   "execution_count": 93,
   "metadata": {
    "collapsed": false
   },
   "outputs": [
    {
     "data": {
      "text/plain": [
       "1569"
      ]
     },
     "execution_count": 93,
     "metadata": {},
     "output_type": "execute_result"
    }
   ],
   "source": [
    "# get foursquare venues that have both menu and rating\n",
    "# use set intersection to get intersection of keys\n",
    "fs_has_menu_rated = [x['venue'] for x in fs_top_restos if set(('menu', 'rating')) <= x['venue'].keys()]\n",
    "len(fs_has_menu_rated)"
   ]
  },
  {
   "cell_type": "code",
   "execution_count": 141,
   "metadata": {
    "collapsed": false
   },
   "outputs": [],
   "source": [
    "fs_menus_rated = API_io.get_menus_fs(foursquare_client,fs_id_list[:10])"
   ]
  },
  {
   "cell_type": "code",
   "execution_count": 131,
   "metadata": {
    "collapsed": true
   },
   "outputs": [],
   "source": [
    "# save menus\n",
    "with open('fs_restaurant_menus.json', 'w') as json_file:\n",
    "    json.dump(fs_menus_rated, json_file)"
   ]
  },
  {
   "cell_type": "markdown",
   "metadata": {},
   "source": [
    "# Load OpenMenu data\n",
    "Denied on OpenMenu API request"
   ]
  },
  {
   "cell_type": "markdown",
   "metadata": {},
   "source": [
    "# Load Locu data\n",
    "### Set up api key and class"
   ]
  },
  {
   "cell_type": "code",
   "execution_count": 97,
   "metadata": {
    "collapsed": true
   },
   "outputs": [],
   "source": [
    "from Kibbeh.src.locu_api import VenueApiClient, MenuItemApiClient\n",
    "with open(working_dir+ '\\\\locu_api_key.txt', 'r') as api_file:\n",
    "    api_key =  api_file.read()\n",
    "    [LOCU_KEY] = api_key.split('\\n')\n",
    "venue_client = VenueApiClient(LOCU_KEY)"
   ]
  },
  {
   "cell_type": "markdown",
   "metadata": {},
   "source": [
    "### Get list of locu restaurants by zip code"
   ]
  },
  {
   "cell_type": "code",
   "execution_count": 98,
   "metadata": {
    "collapsed": true
   },
   "outputs": [],
   "source": [
    "# load from local json\n",
    "with open('locu_restaurant_list.json', 'r') as json_file:\n",
    "    locu_restos = json.load( json_file)"
   ]
  },
  {
   "cell_type": "code",
   "execution_count": 70,
   "metadata": {
    "collapsed": false
   },
   "outputs": [],
   "source": [
    "import itertools\n",
    "def get_locu_by_zip(venue_client, zip_list):\n",
    "    # a set of 25 restaurants with menus for each zip code in seattle\n",
    "    list_of_lists =  list(map(lambda x: venue_client.search(category=['restaurant'], has_menu=True, postal_code=x)['objects'],\n",
    "                              zip_list) )\n",
    "    return list(itertools.chain(*list_of_lists))\n",
    "\n",
    "#venues = venue_client.search(locality = 'Seattle', has_menu=True)"
   ]
  },
  {
   "cell_type": "code",
   "execution_count": 49,
   "metadata": {
    "collapsed": false
   },
   "outputs": [
    {
     "data": {
      "text/plain": [
       "1416"
      ]
     },
     "execution_count": 49,
     "metadata": {},
     "output_type": "execute_result"
    }
   ],
   "source": [
    "locu_restos = get_locu_by_zip(venue_client, seattle_zips)\n",
    "len(locu_restos)"
   ]
  },
  {
   "cell_type": "code",
   "execution_count": 56,
   "metadata": {
    "collapsed": true
   },
   "outputs": [],
   "source": [
    "# save\n",
    "with open('locu_restaurant_list.json', 'w') as json_file:\n",
    "    json.dump(locu_restos, json_file)"
   ]
  },
  {
   "cell_type": "markdown",
   "metadata": {},
   "source": [
    "### Search for menus of locations from yelp\n",
    "To get yelp_df, need to execute feature_extraction below"
   ]
  },
  {
   "cell_type": "code",
   "execution_count": 95,
   "metadata": {
    "collapsed": false
   },
   "outputs": [],
   "source": [
    "import time\n",
    "def get_menus_yelp(yelp_df, locu_restos, venue_client):\n",
    "    ''' yelp_df is a dataframe with the 'name' as the index\n",
    "        locu_restos is a json list of locu restaurant metadat '''\n",
    "    \n",
    "    new_locu_list = []\n",
    "    menu_list = []\n",
    "    \n",
    "    # use phone number as unique index\n",
    "    locu_phones = [x['phone'] for x in locu_restos ]\n",
    "    locu_phones = list(map( lambda x: re.sub('[()\\- ]', '',str(x)),  locu_phones) ) # get rid of punctuation\n",
    "    \n",
    "    # find menus for everything in yelp df\n",
    "    for cur_resto in yelp_df.iterrows():\n",
    "        try:\n",
    "            # cur_resto[0] is the index / name, cur_resto[1] is the data\n",
    "            if cur_resto[1]['phone'] in locu_phones:    # check if I have locu id for this restaurant\n",
    "                cur_locu_id = locu_restos[ locu_phones.index(cur_resto[1]['phone']) ]['id']\n",
    "                cur_menu = venue_client.get_menus(cur_locu_id)\n",
    "            else:\n",
    "                cur_locu = venue_client.search(name = cur_resto[0], locality='Seattle', category=['restaurant'], has_menu=True)\n",
    "                time.sleep(0.5)\n",
    "                if cur_locu['objects'] == []: # can't get a menu for this restaurant\n",
    "                    continue\n",
    "                new_locu_list.append(cur_locu['objects'][0])\n",
    "\n",
    "                cur_menu = venue_client.get_menus( cur_locu['objects'][0]['id'] )\n",
    "\n",
    "            menu_list.append( [cur_resto[0], cur_menu ] )\n",
    "            time.sleep(0.5)\n",
    "            #if cur_name\n",
    "        except:\n",
    "            print('Reached rate limit on restaurant: {0}'.format(cur_resto[0]))\n",
    "            break\n",
    "    return menu_list, new_locu_list"
   ]
  },
  {
   "cell_type": "code",
   "execution_count": 99,
   "metadata": {
    "collapsed": false
   },
   "outputs": [
    {
     "name": "stdout",
     "output_type": "stream",
     "text": [
      "Reached rate limit on restaurant: Caffe Umbria\n"
     ]
    }
   ],
   "source": [
    "# looks like you can do ~1000 calls; stopped at 750\n",
    "locu_yelp_overlap_menus2 = get_menus_yelp(yelp_df[750:], locu_restos, venue_client)"
   ]
  },
  {
   "cell_type": "code",
   "execution_count": 57,
   "metadata": {
    "collapsed": false
   },
   "outputs": [
    {
     "data": {
      "text/plain": [
       "303"
      ]
     },
     "execution_count": 57,
     "metadata": {},
     "output_type": "execute_result"
    }
   ],
   "source": [
    "\n",
    "locu_menus = locu_yelp_overlap_menus[0]\n",
    "#locu_menus.extend(locu_yelp_overlap_menus2[0])\n",
    "#locu_menus.extend(locu_yelp_overlap_menus3[0])\n",
    "len(locu_menus)"
   ]
  },
  {
   "cell_type": "code",
   "execution_count": 53,
   "metadata": {
    "collapsed": false
   },
   "outputs": [
    {
     "data": {
      "text/plain": [
       "92"
      ]
     },
     "execution_count": 53,
     "metadata": {},
     "output_type": "execute_result"
    }
   ],
   "source": [
    "len(locu_yelp_overlap_menus[1])"
   ]
  },
  {
   "cell_type": "code",
   "execution_count": 55,
   "metadata": {
    "collapsed": false
   },
   "outputs": [
    {
     "data": {
      "text/plain": [
       "True"
      ]
     },
     "execution_count": 55,
     "metadata": {},
     "output_type": "execute_result"
    }
   ],
   "source": [
    "locu_restos[-1].keys() == locu_restos[0].keys()"
   ]
  },
  {
   "cell_type": "code",
   "execution_count": 54,
   "metadata": {
    "collapsed": true
   },
   "outputs": [],
   "source": [
    "locu_restos.extend(locu_yelp_overlap_menus[1])"
   ]
  },
  {
   "cell_type": "code",
   "execution_count": 58,
   "metadata": {
    "collapsed": true
   },
   "outputs": [],
   "source": [
    "# save\n",
    "with open('locu_menu_list.json', 'w') as json_file:\n",
    "    json.dump(locu_menus, json_file)"
   ]
  },
  {
   "cell_type": "markdown",
   "metadata": {},
   "source": [
    "# Feature extraction\n",
    "## Yelp restaurants"
   ]
  },
  {
   "cell_type": "code",
   "execution_count": 9,
   "metadata": {
    "collapsed": false
   },
   "outputs": [
    {
     "data": {
      "text/html": [
       "<div>\n",
       "<table border=\"1\" class=\"dataframe\">\n",
       "  <thead>\n",
       "    <tr style=\"text-align: right;\">\n",
       "      <th></th>\n",
       "      <th>categories</th>\n",
       "      <th>id</th>\n",
       "      <th>phone</th>\n",
       "      <th>rating</th>\n",
       "      <th>review_count</th>\n",
       "    </tr>\n",
       "    <tr>\n",
       "      <th>name</th>\n",
       "      <th></th>\n",
       "      <th></th>\n",
       "      <th></th>\n",
       "      <th></th>\n",
       "      <th></th>\n",
       "    </tr>\n",
       "  </thead>\n",
       "  <tbody>\n",
       "    <tr>\n",
       "      <th>Piroshky Piroshky</th>\n",
       "      <td>[Bakeries, Russian]</td>\n",
       "      <td>piroshky-piroshky-seattle</td>\n",
       "      <td>2064416068</td>\n",
       "      <td>4.5</td>\n",
       "      <td>3235</td>\n",
       "    </tr>\n",
       "    <tr>\n",
       "      <th>Paseo</th>\n",
       "      <td>[Caribbean, Cuban, Sandwiches]</td>\n",
       "      <td>paseo-seattle-3</td>\n",
       "      <td>2065457440</td>\n",
       "      <td>4.5</td>\n",
       "      <td>4099</td>\n",
       "    </tr>\n",
       "    <tr>\n",
       "      <th>Umma's Lunch Box</th>\n",
       "      <td>[Korean, Buffets]</td>\n",
       "      <td>ummas-lunch-box-seattle</td>\n",
       "      <td>2068543166</td>\n",
       "      <td>4.5</td>\n",
       "      <td>184</td>\n",
       "    </tr>\n",
       "  </tbody>\n",
       "</table>\n",
       "</div>"
      ],
      "text/plain": [
       "                                       categories                         id  \\\n",
       "name                                                                           \n",
       "Piroshky Piroshky             [Bakeries, Russian]  piroshky-piroshky-seattle   \n",
       "Paseo              [Caribbean, Cuban, Sandwiches]            paseo-seattle-3   \n",
       "Umma's Lunch Box                [Korean, Buffets]    ummas-lunch-box-seattle   \n",
       "\n",
       "                        phone  rating  review_count  \n",
       "name                                                 \n",
       "Piroshky Piroshky  2064416068     4.5          3235  \n",
       "Paseo              2065457440     4.5          4099  \n",
       "Umma's Lunch Box   2068543166     4.5           184  "
      ]
     },
     "execution_count": 9,
     "metadata": {},
     "output_type": "execute_result"
    }
   ],
   "source": [
    "yelp_df = feature_calc.feature_extract_yelp_list(yelp_restos)\n",
    "yelp_df.head(3)"
   ]
  },
  {
   "cell_type": "code",
   "execution_count": 12,
   "metadata": {
    "collapsed": false
   },
   "outputs": [
    {
     "data": {
      "image/png": "[encoded data removed]",
      "text/plain": [
       "<matplotlib.figure.Figure at 0x8d5c128>"
      ]
     },
     "metadata": {},
     "output_type": "display_data"
    }
   ],
   "source": [
    "pd.scatter_matrix(ganma);"
   ]
  },
  {
   "cell_type": "code",
   "execution_count": 10,
   "metadata": {
    "collapsed": true
   },
   "outputs": [],
   "source": [
    "with open(working_dir + 'yelp_df.csv', 'w', encoding='utf8') as csv_file:\n",
    "    yelp_df.to_csv(csv_file,  sep=';')"
   ]
  },
  {
   "cell_type": "code",
   "execution_count": 12,
   "metadata": {
    "collapsed": false
   },
   "outputs": [
    {
     "ename": "NameError",
     "evalue": "name 'ast' is not defined",
     "output_type": "error",
     "traceback": [
      "\u001b[1;31m---------------------------------------------------------------------------\u001b[0m",
      "\u001b[1;31mNameError\u001b[0m                                 Traceback (most recent call last)",
      "\u001b[1;32m<ipython-input-12-3676b73f2f95>\u001b[0m in \u001b[0;36m<module>\u001b[1;34m()\u001b[0m\n\u001b[0;32m      1\u001b[0m \u001b[1;32mwith\u001b[0m \u001b[0mopen\u001b[0m\u001b[1;33m(\u001b[0m\u001b[0mworking_dir\u001b[0m \u001b[1;33m+\u001b[0m \u001b[1;34m'yelp_df.csv'\u001b[0m\u001b[1;33m,\u001b[0m \u001b[1;34m'r'\u001b[0m\u001b[1;33m,\u001b[0m \u001b[0mencoding\u001b[0m\u001b[1;33m=\u001b[0m\u001b[1;34m'utf8'\u001b[0m\u001b[1;33m)\u001b[0m \u001b[1;32mas\u001b[0m \u001b[0mcsv_file\u001b[0m\u001b[1;33m:\u001b[0m\u001b[1;33m\u001b[0m\u001b[0m\n\u001b[0;32m      2\u001b[0m     \u001b[0myelp_df\u001b[0m \u001b[1;33m=\u001b[0m \u001b[0mpd\u001b[0m\u001b[1;33m.\u001b[0m\u001b[0mread_csv\u001b[0m\u001b[1;33m(\u001b[0m\u001b[0mcsv_file\u001b[0m\u001b[1;33m,\u001b[0m \u001b[0msep\u001b[0m\u001b[1;33m=\u001b[0m\u001b[1;34m';'\u001b[0m\u001b[1;33m,\u001b[0m \u001b[0mindex_col\u001b[0m\u001b[1;33m=\u001b[0m\u001b[1;34m'name'\u001b[0m\u001b[1;33m,\u001b[0m \u001b[0mdtype\u001b[0m\u001b[1;33m=\u001b[0m\u001b[1;33m{\u001b[0m\u001b[1;34m'phone'\u001b[0m\u001b[1;33m:\u001b[0m\u001b[0mstr\u001b[0m\u001b[1;33m}\u001b[0m\u001b[1;33m)\u001b[0m\u001b[1;33m\u001b[0m\u001b[0m\n\u001b[1;32m----> 3\u001b[1;33m     \u001b[0myelp_df\u001b[0m\u001b[1;33m[\u001b[0m\u001b[1;34m'categories'\u001b[0m\u001b[1;33m]\u001b[0m \u001b[1;33m=\u001b[0m \u001b[0myelp_df\u001b[0m\u001b[1;33m[\u001b[0m\u001b[1;34m'categories'\u001b[0m\u001b[1;33m]\u001b[0m\u001b[1;33m.\u001b[0m\u001b[0mapply\u001b[0m\u001b[1;33m(\u001b[0m\u001b[0mast\u001b[0m\u001b[1;33m.\u001b[0m\u001b[0mliteral_eval\u001b[0m \u001b[1;33m)\u001b[0m\u001b[1;33m\u001b[0m\u001b[0m\n\u001b[0m",
      "\u001b[1;31mNameError\u001b[0m: name 'ast' is not defined"
     ]
    }
   ],
   "source": [
    "with open(working_dir + 'yelp_df.csv', 'r', encoding='utf8') as csv_file:\n",
    "    yelp_df = pd.read_csv(csv_file, sep=';', index_col='name', dtype={'phone':str})\n",
    "    yelp_df['categories'] = yelp_df['categories'].apply(ast.literal_eval )"
   ]
  },
  {
   "cell_type": "markdown",
   "metadata": {},
   "source": [
    "## Foursquare restaurant feature extraction"
   ]
  },
  {
   "cell_type": "code",
   "execution_count": 6,
   "metadata": {
    "collapsed": false
   },
   "outputs": [
    {
     "data": {
      "text/plain": [
       "7021"
      ]
     },
     "execution_count": 6,
     "metadata": {},
     "output_type": "execute_result"
    }
   ],
   "source": [
    "fs_rated = [x for x in fs_top_restos if 'rating' in x['venue'].keys()]\n",
    "len(fs_rated)"
   ]
  },
  {
   "cell_type": "code",
   "execution_count": 18,
   "metadata": {
    "collapsed": false
   },
   "outputs": [
    {
     "data": {
      "text/html": [
       "<div>\n",
       "<table border=\"1\" class=\"dataframe\">\n",
       "  <thead>\n",
       "    <tr style=\"text-align: right;\">\n",
       "      <th></th>\n",
       "      <th>categories</th>\n",
       "      <th>checkinsCount</th>\n",
       "      <th>id</th>\n",
       "      <th>phone</th>\n",
       "      <th>rating</th>\n",
       "      <th>tier</th>\n",
       "      <th>tipCount</th>\n",
       "      <th>usersCount</th>\n",
       "    </tr>\n",
       "    <tr>\n",
       "      <th>name</th>\n",
       "      <th></th>\n",
       "      <th></th>\n",
       "      <th></th>\n",
       "      <th></th>\n",
       "      <th></th>\n",
       "      <th></th>\n",
       "      <th></th>\n",
       "      <th></th>\n",
       "    </tr>\n",
       "  </thead>\n",
       "  <tbody>\n",
       "    <tr>\n",
       "      <th>Burger Express</th>\n",
       "      <td>Burgers</td>\n",
       "      <td>629</td>\n",
       "      <td>4c0c1f2d6071a593a954e232</td>\n",
       "      <td>2538742701</td>\n",
       "      <td>8.8</td>\n",
       "      <td>1</td>\n",
       "      <td>13</td>\n",
       "      <td>320</td>\n",
       "    </tr>\n",
       "    <tr>\n",
       "      <th>Señor Taco</th>\n",
       "      <td>Burritos</td>\n",
       "      <td>391</td>\n",
       "      <td>4b6a5e42f964a520a4d32be3</td>\n",
       "      <td>2536619915</td>\n",
       "      <td>8.7</td>\n",
       "      <td>1</td>\n",
       "      <td>12</td>\n",
       "      <td>138</td>\n",
       "    </tr>\n",
       "    <tr>\n",
       "      <th>Popeyes Louisiana Kitchen</th>\n",
       "      <td>Fried Chicken</td>\n",
       "      <td>470</td>\n",
       "      <td>4aeb5ad8f964a52050c121e3</td>\n",
       "      <td>2538749740</td>\n",
       "      <td>8.1</td>\n",
       "      <td>1</td>\n",
       "      <td>8</td>\n",
       "      <td>287</td>\n",
       "    </tr>\n",
       "  </tbody>\n",
       "</table>\n",
       "</div>"
      ],
      "text/plain": [
       "                              categories  checkinsCount  \\\n",
       "name                                                      \n",
       "Burger Express                   Burgers            629   \n",
       "Señor Taco                      Burritos            391   \n",
       "Popeyes Louisiana Kitchen  Fried Chicken            470   \n",
       "\n",
       "                                                 id       phone  rating  tier  \\\n",
       "name                                                                            \n",
       "Burger Express             4c0c1f2d6071a593a954e232  2538742701     8.8     1   \n",
       "Señor Taco                 4b6a5e42f964a520a4d32be3  2536619915     8.7     1   \n",
       "Popeyes Louisiana Kitchen  4aeb5ad8f964a52050c121e3  2538749740     8.1     1   \n",
       "\n",
       "                           tipCount  usersCount  \n",
       "name                                             \n",
       "Burger Express                   13         320  \n",
       "Señor Taco                       12         138  \n",
       "Popeyes Louisiana Kitchen         8         287  "
      ]
     },
     "execution_count": 18,
     "metadata": {},
     "output_type": "execute_result"
    }
   ],
   "source": [
    "importlib.reload(feature_calc)\n",
    "fs_df = feature_calc.feature_extract_fs_list(fs_rated)\n",
    "fs_df.drop_duplicates(inplace=True)\n",
    "fs_df.head(3)"
   ]
  },
  {
   "cell_type": "code",
   "execution_count": 17,
   "metadata": {
    "collapsed": false
   },
   "outputs": [
    {
     "name": "stderr",
     "output_type": "stream",
     "text": [
      "C:\\Users\\Chauncey\\Anaconda3\\lib\\site-packages\\pandas\\tools\\plotting.py:3235: UserWarning: To output multiple subplots, the figure containing the passed axes is being cleared\n",
      "  \"is being cleared\", UserWarning)\n"
     ]
    },
    {
     "data": {
      "image/png": "[encoded data removed]",
      "text/plain": [
       "<matplotlib.figure.Figure at 0x9d41630>"
      ]
     },
     "metadata": {},
     "output_type": "display_data"
    }
   ],
   "source": [
    "fig, fs_ax = plt.subplots(1, figsize=[10, 8])\n",
    "pd.scatter_matrix(fs_df, ax=fs_ax);"
   ]
  },
  {
   "cell_type": "markdown",
   "metadata": {
    "collapsed": true
   },
   "source": [
    "## Foursquare menu feature extraction\n",
    "Each menu json has keys: id, provider, menus\n",
    "\n",
    "Each menus dict has keys: count (# of \"menus\"), and items (a LIST of menus, even if theree's just one)\n",
    "\n",
    "Each element of items has keys: name (of menu), menuId, description, and entries (a dict)\n",
    "\n",
    "Each entries has keys: count (# of items on menu), and list of items\n",
    "\n",
    "Each element of items has keys: name, sectionId, description, and MORE entries\n",
    "\n",
    "Each entries has keys: count, and a list of items\n",
    "\n",
    "The FINAL items is a list, each element has: description, entryId, and name"
   ]
  },
  {
   "cell_type": "code",
   "execution_count": 19,
   "metadata": {
    "collapsed": true
   },
   "outputs": [],
   "source": [
    "import nltk\n",
    "from nltk.corpus import stopwords"
   ]
  },
  {
   "cell_type": "code",
   "execution_count": 3,
   "metadata": {
    "collapsed": false
   },
   "outputs": [
    {
     "name": "stdout",
     "output_type": "stream",
     "text": [
      "showing info http://www.nltk.org/nltk_data/\n"
     ]
    },
    {
     "data": {
      "text/plain": [
       "True"
      ]
     },
     "execution_count": 3,
     "metadata": {},
     "output_type": "execute_result"
    }
   ],
   "source": [
    "nltk.download()"
   ]
  },
  {
   "cell_type": "code",
   "execution_count": 34,
   "metadata": {
    "collapsed": false
   },
   "outputs": [],
   "source": [
    "stop_words = set(stopwords.words('english'))\n",
    "def wordify_json_menu(json_menu, stop_words):\n",
    "    dumb_keys = {'name', 'count', 'items', 'Main', 'Menu', 'description', 'entries'}\n",
    "    cur_menu = json_menu['menus']\n",
    "    string_menu = json.dumps(cur_menu)\n",
    "    letters_only_menu =re.sub(\"[^a-zA-Z]\", \" \", string_menu )\n",
    "    menu_words = letters_only_menu.split() # split into words\n",
    "    menu_words = [w for w in menu_words if len(w) > 2] # get rid of 1-2 letter words\n",
    "    menu_words = [w for w in menu_words if w not in stop_words]\n",
    "    menu_words = [w for w in menu_words if w not in dumb_keys]\n",
    "    return ' '.join(menu_words).lower()"
   ]
  },
  {
   "cell_type": "code",
   "execution_count": 36,
   "metadata": {
    "collapsed": false
   },
   "outputs": [],
   "source": [
    "parsed_menus  = [wordify_json_menu(menu, stop_words) for menu in fs_menus_rated ] "
   ]
  },
  {
   "cell_type": "code",
   "execution_count": 37,
   "metadata": {
    "collapsed": false
   },
   "outputs": [
    {
     "data": {
      "text/plain": [
       "'menuid pwth knbki bonafide chicken sectionid louisiana tenders entryid whether spicy mild bonafide chicken marinated least hours hand battered hand breaded bursting bold louisiana flavor spicy entryid our freshly prepared bonafide chicken marinated popeyes spicy chicken marinade hand battered breaded uniquely southern crispy coating round one signature sides hot buttery biscuit mild entryid our freshly prepared bonafide chicken marinated louisiana seasonings hand battered breaded uniquely southern crispy coating round one signature sides hot buttery biscuit all bonafide chicken items available entryid combos entryid make combo includes signature side hot buttery biscuit ice cold refreshing drink family meals entryid feeding whole family get family meal pieces juicy bonafide chicken plus signature sides hot buttery biscuits get chicken spicy mild mix match kids chicken leg meal entryid one mild chicken leg regular fry small drink tenders our whole breast meat tenders slow marinated unique blend louisiana seasonings hand battered breaded right kitchens cooked fresh sectionid mild entryid mild spice taste our handcrafted mild tenders marinated special seasoning round hot buttery biscuit one signature sides spicy entryid handcrafted spicy tenders pack louisiana punch every bite round hot buttery biscuit one signature sides naked entryid batter free non breaded still bursting famous popeyes flavor round hot buttery biscuit one signature sides all tenders items available entryid combos entryid make combo includes signature side hot buttery biscuit ice cold refreshing drink family meals entryid feeding whole family get family meal spicy mild handcrafted tenders plus signature sides hot buttery biscuits kids naked tender meals entryid the perfect kid sized louisiana meal comes two naked tenders applesauce toasted french baguette roll zero calorie drink try our recommended sauces tenders entryid blackened ranch sweet heat bayou buffalo buttermilk ranch barbeque mardi gras mustard seafood louisiana many miles coastline inspires seafood offerings season seafood flavorful lightly spicy blend traditional herbs spices serve crispy unique southern style breading sectionid butterfly shrimp tackle box entryid butterfly shrimp regular fries biscuit cocktail sauce popcorn shrimp entryid tender crispy shrimp seasoned louisiana herbs spices served crispy unique southern style breading pair signature side hot buttery biscuit shrimp boy entryid our zesty mouth watering shrimp french baguette lettuce pickles tartar sauce all seafood items available entryid combos entryid make combo includes signature side hot buttery biscuit ice cold refreshing drink try our recommended seafood sauces entryid cocktail tartar sandwiches wraps new orleans famous sandwich boy louisiana delicacy pass try one today make chicken wrap bold taste wrapped warm cheddar tortilla sectionid chicken boy entryid two handcrafted tenders french baguette loaded lettuce pickles mayo naked bbq chicken boy entryid two batter free non breaded handcrafted tenders french baguette loaded lettuce pickles bbq sauce shrimp boy entryid mountain zesty mouth watering shrimp french baguette lettuce pickles tartar sauce loaded chicken wrap entryid handcrafted tender wrapped red beans rice warm cheddar tortilla naked chicken wrap entryid naked batter breading full flavor naked handcrafted tender wrapped cheddar tortilla lettuce pickles louisiana leaux get geaux flavorful menu alternatives featuring naked chicken tenders strips white meat breasts tossed special blend seasonings significant reduction fat calories cholesterol sodium taste sectionid naked chicken wrap entryid naked batter breading full flavor naked handcrafted tender wrapped cheddar tortilla lettuce pickles naked bbq chicken boy entryid two batter free non breaded handcrafted tenders french baguette loaded lettuce pickles bbq sauce naked tenders combo entryid batter free non breaded flavor our handcrafted naked tenders combo comes three naked handcrafted tenders green beans toasted french baguette roll ice cold refreshing drink kids naked tenders meal entryid the perfect kid sized louisiana meal comes two naked tenders applesauce toasted french baguette roll zero calorie drink family kids meals the thing important flavor louisiana family matter big dinner table got perfect bold meal satisfy everyone around sectionid piece bonafide meal entryid eight pieces juicy bonafide chicken one large signature side four hot buttery biscuits get chicken spicy mild mix match piece bonafide meal entryid twelve pieces juicy bonafide chicken mix match spicy mild comes two large signature sides six hot buttery biscuits piece bonafide meal entryid sixteen pieces juicy bonafide chicken three large signature sides nine hot buttery biscuits order spicy mild mix family meals entryid feeding whole family get family meal spicy mild handcrafted tenders plus signature sides hot buttery biscuits kids chicken nugget meal entryid four louisiana nuggets choice dipping sauce along regular signature side small drink kids chicken tender meal entryid one mild tender choice dipping sauce along regular signature side small drink kids chicken leg meal entryid one mild chicken leg regular signature side small drink kids naked tenders meal entryid the perfect kid sized louisiana meal comes two naked tenders applesauce toasted french baguette roll zero calorie drink signature sides louisiana meal complete without perfect signature side order dig sectionid cole slaw entryid crisp cool tangy treat perfectly complements spicy chicken cajun fries entryid they may look like french fries special seasoning makes cajun mashed potatoes entryid smooth creamy mashed potatoes covered flavorful cajun gravy red beans rice entryid famous popeyes favorite tasty velvety smooth red beans served seasoned rice green beans entryid home style green beans turkey bacon cooked perfection biscuits entryid popeyes meal complete without hearty flaky buttermilk biscuits applesauce entryid refreshing blend apples cinnamon perfect sidekick meal cajun rice entryid special blend cajun spiced rice right amount authentic new orleans seasoned meats herbs sauces our culinary experts always working next great saucy complement popeyes meal check latest additions along classics sectionid bayou buffalo entryid cayenne pepper hot sauce blended butter celery cajun seasonings barbeque entryid sweet tangy bbq sauce molasses spices slight smoky flavor sweet heat entryid sweet honey dipping sauce kicked louisiana hot sauce vinegar special blend peppers mardi gras mustard entryid sweetened traditional creole mustard dipping sauce buttermilk ranch entryid traditional buttermilk ranch dressing blackened ranch entryid traditional buttermilk ranch dressing mixed onion garlic blend peppers white black red blackened seasoning cocktail entryid tomato ketchup based dipping sauce mixed horseradish lemon juice blend louisiana seasonings tartar entryid creamy dipping sauce mixed dill pickle relish onion parsley blend louisiana seasonings desserts make sure save room one specially made louisiana inspired desserts sectionid cinnamon apple pie entryid warm crispy crust outside hot cinnamon apple goodness inside sweet potato pie entryid made delicious sweet potatoes special blend cinnamon spices mardi gras cheesecake entryid our mardi gras cheesecake served chilled decorated confectionary confetti beverages sectionid non carbonated entryid popeyes fresh brewed cane sweeeet tea made cane sugar special blend orange pekoe pekoe black teas far east south america perfect complement bold louisiana flavors try one non carbonated options available either glass gallon cane sweeeet tea entryid lemonade entryid fruit punch entryid carbonated entryid our wide variety brand carbonated drinks offer cool sparkling companion louisiana dish coke entryid diet coke entryid sprite entryid pepper entryid fanta strawberry entryid fanta orange cherry entryid'"
      ]
     },
     "execution_count": 37,
     "metadata": {},
     "output_type": "execute_result"
    }
   ],
   "source": [
    "parsed_menus[0]"
   ]
  },
  {
   "cell_type": "code",
   "execution_count": null,
   "metadata": {
    "collapsed": true
   },
   "outputs": [],
   "source": []
  }
 ],
 "metadata": {
  "kernelspec": {
   "display_name": "Python 3",
   "language": "python",
   "name": "python3"
  },
  "language_info": {
   "codemirror_mode": {
    "name": "ipython",
    "version": 3
   },
   "file_extension": ".py",
   "mimetype": "text/x-python",
   "name": "python",
   "nbconvert_exporter": "python",
   "pygments_lexer": "ipython3",
   "version": "3.4.3"
  }
 },
 "nbformat": 4,
 "nbformat_minor": 0
}
