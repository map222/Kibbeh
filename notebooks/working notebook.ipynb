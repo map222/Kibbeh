{
 "cells": [
  {
   "cell_type": "markdown",
   "metadata": {},
   "source": [
    "# To do:\n",
    "See if 4square menu is anything\n",
    "\n",
    "Parse the Locu menus"
   ]
  },
  {
   "cell_type": "code",
   "execution_count": 37,
   "metadata": {
    "collapsed": false
   },
   "outputs": [],
   "source": [
    "import requests\n",
    "import os\n",
    "import importlib\n",
    "import pandas as pd\n",
    "import numpy as np\n",
    "%matplotlib inline\n",
    "import pdb\n",
    "import json\n",
    "import time\n",
    "import Kibbeh.src.feature_calc as feature_calc\n",
    "import Kibbeh.src.API_io as API_io"
   ]
  },
  {
   "cell_type": "code",
   "execution_count": 2,
   "metadata": {
    "collapsed": true
   },
   "outputs": [],
   "source": [
    "working_dir = 'C:\\\\Users\\\\Chauncey\\\\Documents\\\\GitHub\\\\Kibbeh'\n",
    "#working_dir = 'C:\\\\Users\\\\Me\\\\Documents\\\\GitHub\\\\Kibbeh'\n",
    "seattle_zips = pd.read_csv(working_dir + '\\\\seattle_zips.csv')['Zip'].values"
   ]
  },
  {
   "cell_type": "markdown",
   "metadata": {},
   "source": [
    "# Load Yelp data"
   ]
  },
  {
   "cell_type": "code",
   "execution_count": 21,
   "metadata": {
    "collapsed": false
   },
   "outputs": [],
   "source": [
    "# load\n",
    "with open('yelp_restaurant_list.json', 'r') as json_file:\n",
    "    yelp_restos = json.load( json_file)"
   ]
  },
  {
   "cell_type": "code",
   "execution_count": null,
   "metadata": {
    "collapsed": false
   },
   "outputs": [],
   "source": [
    "from yelpapi import YelpAPI\n",
    "with open(working_dir+ '\\\\yelp_api_key.txt', 'r') as api_file:\n",
    "    api_key =  api_file.read()\n",
    "    [CONSUMER_KEY, CONSUMER_SECRET, TOKEN, TOKEN_SECRET] = api_key.split('\\n')"
   ]
  },
  {
   "cell_type": "code",
   "execution_count": null,
   "metadata": {
    "collapsed": false
   },
   "outputs": [],
   "source": [
    "yelp_api = YelpAPI(CONSUMER_KEY, CONSUMER_SECRET, TOKEN, TOKEN_SECRET)"
   ]
  },
  {
   "cell_type": "code",
   "execution_count": null,
   "metadata": {
    "collapsed": false
   },
   "outputs": [],
   "source": [
    "def get_restaurants_yelp():\n",
    "    restaurant_data = []\n",
    "    for cur_offset in range(0, 1000, 20):\n",
    "        # sort = 0 sets by default, limited to 1000, sort = 2 is ranked from best to worst, but limited to 40\n",
    "        cur_query = yelp_api.search_query(term='food', location = 'Seattle', sort=0, limit=20, offset = cur_offset) \n",
    "        #pdb.set_trace()\n",
    "        restaurant_data.extend( cur_query['businesses'])\n",
    "    return restaurant_data"
   ]
  },
  {
   "cell_type": "code",
   "execution_count": null,
   "metadata": {
    "collapsed": false
   },
   "outputs": [],
   "source": [
    "yelp_restos = get_restaurants_yelp()\n",
    "len(yelp_restos)"
   ]
  },
  {
   "cell_type": "code",
   "execution_count": null,
   "metadata": {
    "collapsed": false
   },
   "outputs": [],
   "source": [
    "# save\n",
    "with open('yelp_restaurant_list.json', 'w') as json_file:\n",
    "    json.dump(yelp_restos, json_file)"
   ]
  },
  {
   "cell_type": "markdown",
   "metadata": {},
   "source": [
    "# Load Foursquare data"
   ]
  },
  {
   "cell_type": "code",
   "execution_count": 3,
   "metadata": {
    "collapsed": false
   },
   "outputs": [],
   "source": [
    "# load save data\n",
    "with open('foursquare_restaurant_list.json', 'r') as json_file:\n",
    "    fs_top_restos = json.load( json_file)"
   ]
  },
  {
   "cell_type": "code",
   "execution_count": 31,
   "metadata": {
    "collapsed": true
   },
   "outputs": [],
   "source": [
    "import foursquare\n",
    "with open(working_dir+ '\\\\foursquare_api_key.txt', 'r') as api_file:\n",
    "    api_key =  api_file.read()\n",
    "    [FOURSQUARE_ID, FOURSQUARE_SECRET] = api_key.split('\\n')\n",
    "foursquare_client = foursquare.Foursquare(FOURSQUARE_ID, FOURSQUARE_SECRET)"
   ]
  },
  {
   "cell_type": "code",
   "execution_count": 35,
   "metadata": {
    "collapsed": false
   },
   "outputs": [
    {
     "name": "stdout",
     "output_type": "stream",
     "text": [
      "98001\n",
      "98002\n"
     ]
    }
   ],
   "source": [
    "# get data from all seattle zip codes\n",
    "fs_top_restos = API_io.get_top_restos_zip_4square(foursquare_client, seattle_zips[:2])\n",
    "# this takes a while to run"
   ]
  },
  {
   "cell_type": "code",
   "execution_count": 368,
   "metadata": {
    "collapsed": false
   },
   "outputs": [],
   "source": [
    "# save\n",
    "with open('fs_restaurant_list.json', 'w') as json_file:\n",
    "    json.dump(fs_top_restos, json_file)"
   ]
  },
  {
   "cell_type": "code",
   "execution_count": 319,
   "metadata": {
    "collapsed": false
   },
   "outputs": [],
   "source": [
    "seattle_grid = [-122.38, -122.28, 47.55, 47.70]\n",
    "def get_restos_by_ll_4square(grid_values):\n",
    "    ''' get restaurants by latitude and longitude\n",
    "        restaurants returned by this almost all do not have ratings\n",
    "        '''\n",
    "    restaurant_data = []\n",
    "    query_limit = 50\n",
    "    \n",
    "    # set up longitude latitude grid\n",
    "    grid_step = 0.01\n",
    "    x_range = np.arange(grid_values[0], grid_values[1], grid_step)\n",
    "    y_range = np.arange(grid_values[2], grid_values[3], grid_step)\n",
    "    grid_radius= 250 # in meters\n",
    "    \n",
    "    for x in x_range:\n",
    "        for y in y_range:\n",
    "            #pdb.set_trace\n",
    "            string_ll = str(y) + ',' +str(x)\n",
    "            grid_params = {'ll': string_ll, 'categoryId': '4d4b7105d754a06374d81259',\n",
    "                                                      'radius': grid_radius, 'limit': query_limit}\n",
    "            cur_query = foursquare_client.venues.search(params=grid_params)\n",
    "            #pdb.set_trace()\n",
    "            restaurant_data.extend(cur_query['venues'])\n",
    "            time.sleep(0.5)\n",
    "    return restaurant_data\n",
    "\n",
    "fs_ll_restos = get_restos_by_ll_4square(seattle_grid)"
   ]
  },
  {
   "cell_type": "markdown",
   "metadata": {},
   "source": [
    "# Load OpenMenu data\n",
    "Denied on OpenMenu API request"
   ]
  },
  {
   "cell_type": "markdown",
   "metadata": {},
   "source": [
    "# Load Locu data\n",
    "### Set up api key and class"
   ]
  },
  {
   "cell_type": "code",
   "execution_count": 13,
   "metadata": {
    "collapsed": false
   },
   "outputs": [],
   "source": [
    "from Kibbeh.src.locu_api import VenueApiClient, MenuItemApiClient"
   ]
  },
  {
   "cell_type": "code",
   "execution_count": 25,
   "metadata": {
    "collapsed": true
   },
   "outputs": [],
   "source": [
    "working_dir = 'C:\\\\Users\\\\Chauncey\\\\Documents\\\\GitHub\\\\Kibbeh'\n",
    "#working_dir = 'C:\\\\Users\\\\Me\\\\Documents\\\\GitHub\\\\Kibbeh'\n",
    "with open(working_dir+ '\\\\locu_api_key.txt', 'r') as api_file:\n",
    "    api_key =  api_file.read()\n",
    "    [LOCU_KEY] = api_key.split('\\n')"
   ]
  },
  {
   "cell_type": "code",
   "execution_count": 14,
   "metadata": {
    "collapsed": false
   },
   "outputs": [],
   "source": [
    "venue_client = VenueApiClient(LOCU_KEY)"
   ]
  },
  {
   "cell_type": "markdown",
   "metadata": {},
   "source": [
    "### Get list of locu restaurants by zip code"
   ]
  },
  {
   "cell_type": "code",
   "execution_count": null,
   "metadata": {
    "collapsed": true
   },
   "outputs": [],
   "source": [
    "# load\n",
    "with open('locu_restaurant_list.json', 'r') as json_file:\n",
    "    locu_restos = json.load( json_file)"
   ]
  },
  {
   "cell_type": "code",
   "execution_count": 70,
   "metadata": {
    "collapsed": false
   },
   "outputs": [],
   "source": [
    "import itertools\n",
    "def get_locu_by_zip(venue_client, zip_list):\n",
    "    # a set of 25 restaurants with menus for each zip code in seattle\n",
    "    list_of_lists =  list(map(lambda x: venue_client.search(category=['restaurant'], has_menu=True, postal_code=x)['objects'],\n",
    "                              zip_list) )\n",
    "    return list(itertools.chain(*list_of_lists))\n",
    "\n",
    "#venues = venue_client.search(locality = 'Seattle', has_menu=True)"
   ]
  },
  {
   "cell_type": "code",
   "execution_count": 74,
   "metadata": {
    "collapsed": false
   },
   "outputs": [
    {
     "data": {
      "text/plain": [
       "1277"
      ]
     },
     "execution_count": 74,
     "metadata": {},
     "output_type": "execute_result"
    }
   ],
   "source": [
    "locu_restos = get_locu_by_zip(venue_client, seattle_zips)\n",
    "len(locu_restos)"
   ]
  },
  {
   "cell_type": "code",
   "execution_count": 76,
   "metadata": {
    "collapsed": true
   },
   "outputs": [],
   "source": [
    "# save\n",
    "with open('locu_restaurant_list.json', 'w') as json_file:\n",
    "    json.dump(locu_restos, json_file)"
   ]
  },
  {
   "cell_type": "markdown",
   "metadata": {},
   "source": [
    "### Search for menus of locations from yelp\n",
    "To get yelp_df, need to execute feature_extraction below"
   ]
  },
  {
   "cell_type": "code",
   "execution_count": 377,
   "metadata": {
    "collapsed": false
   },
   "outputs": [],
   "source": [
    "import time\n",
    "def get_menus_yelp(yelp_df, locu_restos, venue_client):\n",
    "    ''' yelp_df is a dataframe with the 'name' as the index\n",
    "        locu_restos is a json list of locu restaurant metadat '''\n",
    "    \n",
    "    new_locu_list = []\n",
    "    menu_list = []\n",
    "    \n",
    "    # use phone number as unique index\n",
    "    locu_phones = [x['phone'] for x in locu_restos ]\n",
    "    locu_phones = list(map( lambda x: re.sub('[()\\- ]', '',str(x)),  locu_phones) ) # get rid of punctuation\n",
    "    \n",
    "    # find menus for everything in yelp df\n",
    "    for cur_resto in yelp_df.iterrows():\n",
    "        try:\n",
    "            # cur_resto[0] is the index / name, cur_resto[1] is the data\n",
    "            if cur_resto[1]['phone'] in locu_phones:    # check if I have locu id for this restaurant\n",
    "                cur_locu_id = locu_restos[ locu_phones.index(cur_resto[1]['phone']) ]['id']\n",
    "                cur_menu = venue_client.get_menus(cur_locu_id)\n",
    "            else:\n",
    "                cur_locu = venue_client.search(name = cur_resto[0], locality='Seattle', category=['restaurant'], has_menu=True)\n",
    "                time.sleep(1)\n",
    "                if cur_locu['objects'] == []: # can't get a menu for this restaurant\n",
    "                    continue\n",
    "                new_locu_list.append(cur_locu['objects'][0])\n",
    "\n",
    "                cur_menu = venue_client.get_menus( cur_locu['objects'][0]['id'] )\n",
    "\n",
    "            menu_list.append( [cur_resto[0], cur_menu ] )\n",
    "            time.sleep(2)\n",
    "            #if cur_name\n",
    "        except:\n",
    "            print('Reached rate limit on restaurant: {0}'.format(cur_resto[0]))\n",
    "            break\n",
    "    return menu_list, new_locu_list"
   ]
  },
  {
   "cell_type": "code",
   "execution_count": 378,
   "metadata": {
    "collapsed": false
   },
   "outputs": [
    {
     "name": "stdout",
     "output_type": "stream",
     "text": [
      "Reached rate limit on restaurant: Piroshky Piroshky\n"
     ]
    }
   ],
   "source": [
    "locu_yelp_overlap_menus = get_menus_yelp(yelp_df[:200], locu_restos, venue_client)"
   ]
  },
  {
   "cell_type": "code",
   "execution_count": null,
   "metadata": {
    "collapsed": false
   },
   "outputs": [],
   "source": [
    "locu_yelp_overlap_menus"
   ]
  },
  {
   "cell_type": "code",
   "execution_count": 181,
   "metadata": {
    "collapsed": false
   },
   "outputs": [
    {
     "data": {
      "text/plain": [
       "13"
      ]
     },
     "execution_count": 181,
     "metadata": {},
     "output_type": "execute_result"
    }
   ],
   "source": [
    "len(locu_yelp_overlap_menus[0])"
   ]
  },
  {
   "cell_type": "markdown",
   "metadata": {},
   "source": [
    "# Feature extraction\n",
    "## Yelp"
   ]
  },
  {
   "cell_type": "code",
   "execution_count": 42,
   "metadata": {
    "collapsed": false
   },
   "outputs": [
    {
     "data": {
      "text/html": [
       "<div>\n",
       "<table border=\"1\" class=\"dataframe\">\n",
       "  <thead>\n",
       "    <tr style=\"text-align: right;\">\n",
       "      <th></th>\n",
       "      <th>categories</th>\n",
       "      <th>id</th>\n",
       "      <th>phone</th>\n",
       "      <th>rating</th>\n",
       "      <th>review_count</th>\n",
       "    </tr>\n",
       "    <tr>\n",
       "      <th>name</th>\n",
       "      <th></th>\n",
       "      <th></th>\n",
       "      <th></th>\n",
       "      <th></th>\n",
       "      <th></th>\n",
       "    </tr>\n",
       "  </thead>\n",
       "  <tbody>\n",
       "    <tr>\n",
       "      <th>Piroshky Piroshky</th>\n",
       "      <td>[Bakeries, Russian]</td>\n",
       "      <td>piroshky-piroshky-seattle</td>\n",
       "      <td>2064416068</td>\n",
       "      <td>4.5</td>\n",
       "      <td>3235</td>\n",
       "    </tr>\n",
       "    <tr>\n",
       "      <th>Paseo</th>\n",
       "      <td>[Caribbean, Cuban, Sandwiches]</td>\n",
       "      <td>paseo-seattle-3</td>\n",
       "      <td>2065457440</td>\n",
       "      <td>4.5</td>\n",
       "      <td>4099</td>\n",
       "    </tr>\n",
       "    <tr>\n",
       "      <th>Umma's Lunch Box</th>\n",
       "      <td>[Korean, Buffets]</td>\n",
       "      <td>ummas-lunch-box-seattle</td>\n",
       "      <td>2068543166</td>\n",
       "      <td>4.5</td>\n",
       "      <td>184</td>\n",
       "    </tr>\n",
       "  </tbody>\n",
       "</table>\n",
       "</div>"
      ],
      "text/plain": [
       "                                       categories                         id  \\\n",
       "name                                                                           \n",
       "Piroshky Piroshky             [Bakeries, Russian]  piroshky-piroshky-seattle   \n",
       "Paseo              [Caribbean, Cuban, Sandwiches]            paseo-seattle-3   \n",
       "Umma's Lunch Box                [Korean, Buffets]    ummas-lunch-box-seattle   \n",
       "\n",
       "                        phone  rating  review_count  \n",
       "name                                                 \n",
       "Piroshky Piroshky  2064416068     4.5          3235  \n",
       "Paseo              2065457440     4.5          4099  \n",
       "Umma's Lunch Box   2068543166     4.5           184  "
      ]
     },
     "execution_count": 42,
     "metadata": {},
     "output_type": "execute_result"
    }
   ],
   "source": [
    "importlib.reload(feature_calc)\n",
    "yelp_df = feature_calc.feature_extract_yelp_list(yelp_restos)\n",
    "yelp_df.head(3)"
   ]
  },
  {
   "cell_type": "code",
   "execution_count": 83,
   "metadata": {
    "collapsed": false
   },
   "outputs": [
    {
     "data": {
      "text/plain": [
       "(1000, 5)"
      ]
     },
     "execution_count": 83,
     "metadata": {},
     "output_type": "execute_result"
    }
   ],
   "source": [
    "yelp_df.shape"
   ]
  },
  {
   "cell_type": "code",
   "execution_count": 12,
   "metadata": {
    "collapsed": false
   },
   "outputs": [
    {
     "data": {
      "image/png": "[encoded data removed]",
      "text/plain": [
       "<matplotlib.figure.Figure at 0x8d5c128>"
      ]
     },
     "metadata": {},
     "output_type": "display_data"
    }
   ],
   "source": [
    "pd.scatter_matrix(ganma);"
   ]
  },
  {
   "cell_type": "code",
   "execution_count": null,
   "metadata": {
    "collapsed": false
   },
   "outputs": [],
   "source": [
    "yelp_api.business_query(restaurant_json[20]['id'])"
   ]
  },
  {
   "cell_type": "markdown",
   "metadata": {},
   "source": [
    "## Foursquare feature extraction"
   ]
  },
  {
   "cell_type": "code",
   "execution_count": 4,
   "metadata": {
    "collapsed": false
   },
   "outputs": [
    {
     "data": {
      "text/plain": [
       "7021"
      ]
     },
     "execution_count": 4,
     "metadata": {},
     "output_type": "execute_result"
    }
   ],
   "source": [
    "fs_rated = [x for x in fs_top_restos if 'rating' in x['venue'].keys()]\n",
    "len(fs_rated)"
   ]
  },
  {
   "cell_type": "code",
   "execution_count": 43,
   "metadata": {
    "collapsed": false
   },
   "outputs": [
    {
     "data": {
      "text/html": [
       "<div>\n",
       "<table border=\"1\" class=\"dataframe\">\n",
       "  <thead>\n",
       "    <tr style=\"text-align: right;\">\n",
       "      <th></th>\n",
       "      <th>categories</th>\n",
       "      <th>checkinsCount</th>\n",
       "      <th>id</th>\n",
       "      <th>phone</th>\n",
       "      <th>rating</th>\n",
       "      <th>tier</th>\n",
       "      <th>tipCount</th>\n",
       "      <th>usersCount</th>\n",
       "    </tr>\n",
       "    <tr>\n",
       "      <th>name</th>\n",
       "      <th></th>\n",
       "      <th></th>\n",
       "      <th></th>\n",
       "      <th></th>\n",
       "      <th></th>\n",
       "      <th></th>\n",
       "      <th></th>\n",
       "      <th></th>\n",
       "    </tr>\n",
       "  </thead>\n",
       "  <tbody>\n",
       "    <tr>\n",
       "      <th>Burger Express</th>\n",
       "      <td>Burgers</td>\n",
       "      <td>629</td>\n",
       "      <td>4c0c1f2d6071a593a954e232</td>\n",
       "      <td>2538742701</td>\n",
       "      <td>8.8</td>\n",
       "      <td>1</td>\n",
       "      <td>13</td>\n",
       "      <td>320</td>\n",
       "    </tr>\n",
       "    <tr>\n",
       "      <th>Señor Taco</th>\n",
       "      <td>Burritos</td>\n",
       "      <td>391</td>\n",
       "      <td>4b6a5e42f964a520a4d32be3</td>\n",
       "      <td>2536619915</td>\n",
       "      <td>8.7</td>\n",
       "      <td>1</td>\n",
       "      <td>12</td>\n",
       "      <td>138</td>\n",
       "    </tr>\n",
       "    <tr>\n",
       "      <th>Popeyes Louisiana Kitchen</th>\n",
       "      <td>Fried Chicken</td>\n",
       "      <td>470</td>\n",
       "      <td>4aeb5ad8f964a52050c121e3</td>\n",
       "      <td>2538749740</td>\n",
       "      <td>8.1</td>\n",
       "      <td>1</td>\n",
       "      <td>8</td>\n",
       "      <td>287</td>\n",
       "    </tr>\n",
       "  </tbody>\n",
       "</table>\n",
       "</div>"
      ],
      "text/plain": [
       "                              categories  checkinsCount  \\\n",
       "name                                                      \n",
       "Burger Express                   Burgers            629   \n",
       "Señor Taco                      Burritos            391   \n",
       "Popeyes Louisiana Kitchen  Fried Chicken            470   \n",
       "\n",
       "                                                 id       phone  rating  tier  \\\n",
       "name                                                                            \n",
       "Burger Express             4c0c1f2d6071a593a954e232  2538742701     8.8     1   \n",
       "Señor Taco                 4b6a5e42f964a520a4d32be3  2536619915     8.7     1   \n",
       "Popeyes Louisiana Kitchen  4aeb5ad8f964a52050c121e3  2538749740     8.1     1   \n",
       "\n",
       "                           tipCount  usersCount  \n",
       "name                                             \n",
       "Burger Express                   13         320  \n",
       "Señor Taco                       12         138  \n",
       "Popeyes Louisiana Kitchen         8         287  "
      ]
     },
     "execution_count": 43,
     "metadata": {},
     "output_type": "execute_result"
    }
   ],
   "source": [
    "importlib.reload(feature_calc)\n",
    "fs_dict = feature_calc.feature_extract_fs_list(fs_rated)\n",
    "fs_dict.head(3)"
   ]
  },
  {
   "cell_type": "code",
   "execution_count": 44,
   "metadata": {
    "collapsed": false
   },
   "outputs": [
    {
     "data": {
      "text/plain": [
       "'2538742701'"
      ]
     },
     "execution_count": 44,
     "metadata": {},
     "output_type": "execute_result"
    }
   ],
   "source": [
    "fs_dict['phone'][0]"
   ]
  },
  {
   "cell_type": "code",
   "execution_count": null,
   "metadata": {
    "collapsed": true
   },
   "outputs": [],
   "source": []
  }
 ],
 "metadata": {
  "kernelspec": {
   "display_name": "Python 3",
   "language": "python",
   "name": "python3"
  },
  "language_info": {
   "codemirror_mode": {
    "name": "ipython",
    "version": 3
   },
   "file_extension": ".py",
   "mimetype": "text/x-python",
   "name": "python",
   "nbconvert_exporter": "python",
   "pygments_lexer": "ipython3",
   "version": "3.4.3"
  }
 },
 "nbformat": 4,
 "nbformat_minor": 0
}
