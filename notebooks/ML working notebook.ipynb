{
 "cells": [
  {
   "cell_type": "markdown",
   "metadata": {},
   "source": [
    "# To do:\n",
    "\n",
    "See if I can integrate locu\n",
    "\n",
    "Set up pipeline for other regressors?"
   ]
  },
  {
   "cell_type": "code",
   "execution_count": 1,
   "metadata": {
    "collapsed": false
   },
   "outputs": [],
   "source": [
    "import os\n",
    "import importlib\n",
    "import pandas as pd\n",
    "import numpy as np\n",
    "%matplotlib inline\n",
    "import pdb\n",
    "import json\n",
    "import time\n",
    "from Kibbeh.src import feature_extract_resto\n",
    "from Kibbeh.src import API_io\n",
    "import re\n",
    "import matplotlib.pyplot as plt\n",
    "import ast"
   ]
  },
  {
   "cell_type": "code",
   "execution_count": 2,
   "metadata": {
    "collapsed": false
   },
   "outputs": [],
   "source": [
    "working_dir = 'C:\\\\Users\\\\Chauncey\\\\Documents\\\\GitHub\\\\Kibbeh'\n",
    "#working_dir = 'C:\\\\Users\\\\Me\\\\Documents\\\\GitHub\\\\Kibbeh'\n",
    "seattle_zips = pd.read_csv(working_dir + '\\\\seattle_zips.csv')['Zip'].values"
   ]
  },
  {
   "cell_type": "code",
   "execution_count": 3,
   "metadata": {
    "collapsed": false
   },
   "outputs": [
    {
     "data": {
      "text/plain": [
       "10778"
      ]
     },
     "execution_count": 3,
     "metadata": {},
     "output_type": "execute_result"
    }
   ],
   "source": [
    "# load foursquare restaurants and ratings\n",
    "def load_json(json_name):\n",
    "    with open(json_name) as json_file:\n",
    "        return json.load(json_file)\n",
    "seattle_top_restos = load_json('seattle_fs_restaurant_list.json')\n",
    "portland_top_restos = load_json('portland_fs_restaurant_list.json')\n",
    "bay_area_top_restos = load_json('bay_area_fs_restaurant_list.json')\n",
    "fs_top_restos = list(seattle_top_restos)\n",
    "fs_top_restos.extend(portland_top_restos)\n",
    "fs_top_restos.extend(bay_area_top_restos)\n",
    "len(fs_top_restos)"
   ]
  },
  {
   "cell_type": "code",
   "execution_count": 4,
   "metadata": {
    "collapsed": false
   },
   "outputs": [
    {
     "data": {
      "text/plain": [
       "3409"
      ]
     },
     "execution_count": 4,
     "metadata": {},
     "output_type": "execute_result"
    }
   ],
   "source": [
    "# load foursquare menus\n",
    "seattle_fs_menus_rated = load_json('seattle_fs_restaurant_menus.json')\n",
    "portland_fs_menus_rated = load_json('portland_fs_restaurant_menus.json')\n",
    "bay_area_fs_menus_rated = load_json('bay_area_fs_restaurant_menus.json')\n",
    "fs_menus_rated = list(seattle_fs_menus_rated)\n",
    "fs_menus_rated.extend(portland_fs_menus_rated)\n",
    "fs_menus_rated.extend(bay_area_fs_menus_rated)\n",
    "len(fs_menus_rated)"
   ]
  },
  {
   "cell_type": "code",
   "execution_count": 6,
   "metadata": {
    "collapsed": false
   },
   "outputs": [
    {
     "data": {
      "text/plain": [
       "1000"
      ]
     },
     "execution_count": 6,
     "metadata": {},
     "output_type": "execute_result"
    }
   ],
   "source": [
    "# load yelp restaurants\n",
    "with open('seattle_yelp_restaurant_list.json', 'r') as json_file:\n",
    "    yelp_restos = json.load( json_file)\n",
    "len(yelp_restos)"
   ]
  },
  {
   "cell_type": "code",
   "execution_count": 7,
   "metadata": {
    "collapsed": false
   },
   "outputs": [
    {
     "data": {
      "text/plain": [
       "1564"
      ]
     },
     "execution_count": 7,
     "metadata": {},
     "output_type": "execute_result"
    }
   ],
   "source": [
    "# load from local json\n",
    "with open('seattle_locu_restaurant_list.json', 'r') as json_file:\n",
    "    locu_restos = json.load( json_file)\n",
    "len(locu_restos)"
   ]
  },
  {
   "cell_type": "code",
   "execution_count": 8,
   "metadata": {
    "collapsed": false
   },
   "outputs": [
    {
     "data": {
      "text/plain": [
       "399"
      ]
     },
     "execution_count": 8,
     "metadata": {},
     "output_type": "execute_result"
    }
   ],
   "source": [
    "# load\n",
    "with open('seattle_locu_menu_list.json', 'r') as json_file:\n",
    "    locu_menus = json.load( json_file)\n",
    "len(locu_menus)"
   ]
  },
  {
   "cell_type": "markdown",
   "metadata": {},
   "source": [
    "# Feature extraction\n",
    "## Yelp restaurants"
   ]
  },
  {
   "cell_type": "code",
   "execution_count": 11,
   "metadata": {
    "collapsed": false
   },
   "outputs": [
    {
     "data": {
      "text/html": [
       "<div>\n",
       "<table border=\"1\" class=\"dataframe\">\n",
       "  <thead>\n",
       "    <tr style=\"text-align: right;\">\n",
       "      <th></th>\n",
       "      <th>categories</th>\n",
       "      <th>id</th>\n",
       "      <th>phone</th>\n",
       "      <th>rating</th>\n",
       "      <th>review_count</th>\n",
       "    </tr>\n",
       "    <tr>\n",
       "      <th>name</th>\n",
       "      <th></th>\n",
       "      <th></th>\n",
       "      <th></th>\n",
       "      <th></th>\n",
       "      <th></th>\n",
       "    </tr>\n",
       "  </thead>\n",
       "  <tbody>\n",
       "    <tr>\n",
       "      <th>Piroshky Piroshky</th>\n",
       "      <td>[Bakeries, Russian]</td>\n",
       "      <td>piroshky-piroshky-seattle</td>\n",
       "      <td>2064416068</td>\n",
       "      <td>4.5</td>\n",
       "      <td>3235</td>\n",
       "    </tr>\n",
       "    <tr>\n",
       "      <th>Paseo</th>\n",
       "      <td>[Caribbean, Cuban, Sandwiches]</td>\n",
       "      <td>paseo-seattle-3</td>\n",
       "      <td>2065457440</td>\n",
       "      <td>4.5</td>\n",
       "      <td>4099</td>\n",
       "    </tr>\n",
       "    <tr>\n",
       "      <th>Umma's Lunch Box</th>\n",
       "      <td>[Korean, Buffets]</td>\n",
       "      <td>ummas-lunch-box-seattle</td>\n",
       "      <td>2068543166</td>\n",
       "      <td>4.5</td>\n",
       "      <td>184</td>\n",
       "    </tr>\n",
       "  </tbody>\n",
       "</table>\n",
       "</div>"
      ],
      "text/plain": [
       "                                       categories                         id  \\\n",
       "name                                                                           \n",
       "Piroshky Piroshky             [Bakeries, Russian]  piroshky-piroshky-seattle   \n",
       "Paseo              [Caribbean, Cuban, Sandwiches]            paseo-seattle-3   \n",
       "Umma's Lunch Box                [Korean, Buffets]    ummas-lunch-box-seattle   \n",
       "\n",
       "                        phone  rating  review_count  \n",
       "name                                                 \n",
       "Piroshky Piroshky  2064416068     4.5          3235  \n",
       "Paseo              2065457440     4.5          4099  \n",
       "Umma's Lunch Box   2068543166     4.5           184  "
      ]
     },
     "execution_count": 11,
     "metadata": {},
     "output_type": "execute_result"
    }
   ],
   "source": [
    "yelp_df = feature_extract_resto.feature_extract_yelp_list(yelp_restos)\n",
    "yelp_df.head(3)"
   ]
  },
  {
   "cell_type": "code",
   "execution_count": null,
   "metadata": {
    "collapsed": false
   },
   "outputs": [],
   "source": [
    "pd.scatter_matrix(ganma);"
   ]
  },
  {
   "cell_type": "code",
   "execution_count": null,
   "metadata": {
    "collapsed": true
   },
   "outputs": [],
   "source": [
    "with open(working_dir + 'yelp_df.csv', 'w', encoding='utf8') as csv_file:\n",
    "    yelp_df.to_csv(csv_file,  sep=';')"
   ]
  },
  {
   "cell_type": "code",
   "execution_count": null,
   "metadata": {
    "collapsed": false
   },
   "outputs": [],
   "source": [
    "with open(working_dir + 'yelp_df.csv', 'r', encoding='utf8') as csv_file:\n",
    "    yelp_df = pd.read_csv(csv_file, sep=';', index_col='name', dtype={'phone':str})\n",
    "    yelp_df['categories'] = yelp_df['categories'].apply(ast.literal_eval )"
   ]
  },
  {
   "cell_type": "markdown",
   "metadata": {},
   "source": [
    "## Foursquare restaurant feature extraction"
   ]
  },
  {
   "cell_type": "markdown",
   "metadata": {},
   "source": [
    "### Check that different cities have similar ratings"
   ]
  },
  {
   "cell_type": "code",
   "execution_count": 5,
   "metadata": {
    "collapsed": false
   },
   "outputs": [
    {
     "data": {
      "text/plain": [
       "1151"
      ]
     },
     "execution_count": 5,
     "metadata": {},
     "output_type": "execute_result"
    }
   ],
   "source": [
    "portland_restos_rated = [x for x in portland_top_restos if 'rating' in x['venue'].keys()]\n",
    "len(portland_restos_rated)"
   ]
  },
  {
   "cell_type": "code",
   "execution_count": 6,
   "metadata": {
    "collapsed": false
   },
   "outputs": [
    {
     "data": {
      "text/plain": [
       "2289"
      ]
     },
     "execution_count": 6,
     "metadata": {},
     "output_type": "execute_result"
    }
   ],
   "source": [
    "seattle_restos_rated = [x for x in seattle_top_restos if 'rating' in x['venue'].keys()]\n",
    "len(seattle_restos_rated)"
   ]
  },
  {
   "cell_type": "code",
   "execution_count": 7,
   "metadata": {
    "collapsed": false
   },
   "outputs": [
    {
     "data": {
      "text/plain": [
       "5548"
      ]
     },
     "execution_count": 7,
     "metadata": {},
     "output_type": "execute_result"
    }
   ],
   "source": [
    "bay_area_restos_rated = [x for x in bay_area_top_restos if 'rating' in x['venue'].keys()]\n",
    "len(bay_area_restos_rated)"
   ]
  },
  {
   "cell_type": "code",
   "execution_count": 8,
   "metadata": {
    "collapsed": true
   },
   "outputs": [],
   "source": [
    "def z_score_col(df, col_name):\n",
    "    df['z_' + col_name] = (df[col_name] - df[col_name].mean()) / df[col_name].std()\n",
    "    return df"
   ]
  },
  {
   "cell_type": "code",
   "execution_count": 9,
   "metadata": {
    "collapsed": false
   },
   "outputs": [],
   "source": [
    "# z_score normalize portland ratings\n",
    "importlib.reload(feature_extract_resto)\n",
    "portland_resto_df = feature_extract_resto.feature_extract_fs_list(portland_restos_rated)\n",
    "portland_resto_df.drop_duplicates(inplace=True)\n",
    "portland_resto_df = z_score_col(portland_resto_df, 'rating')\n",
    "#portland_resto_df.describe()"
   ]
  },
  {
   "cell_type": "code",
   "execution_count": 10,
   "metadata": {
    "collapsed": false
   },
   "outputs": [],
   "source": [
    "# z_score normalize seattle ratings\n",
    "seattle_resto_df = feature_extract_resto.feature_extract_fs_list(seattle_restos_rated)\n",
    "seattle_resto_df.drop_duplicates(inplace=True)\n",
    "seattle_resto_df = z_score_col(seattle_resto_df, 'rating')\n",
    "#seattle_resto_df.describe()"
   ]
  },
  {
   "cell_type": "code",
   "execution_count": 11,
   "metadata": {
    "collapsed": false
   },
   "outputs": [],
   "source": [
    "# z_score normalize seattle ratings\n",
    "bay_area_resto_df = feature_extract_resto.feature_extract_fs_list(bay_area_restos_rated)\n",
    "bay_area_resto_df.drop_duplicates(inplace=True)\n",
    "bay_area_resto_df = z_score_col(bay_area_resto_df, 'rating')\n",
    "#bay_area_resto_df.describe()"
   ]
  },
  {
   "cell_type": "code",
   "execution_count": 12,
   "metadata": {
    "collapsed": true
   },
   "outputs": [],
   "source": [
    "fs_resto_df = pd.concat([seattle_resto_df, portland_resto_df, bay_area_resto_df])"
   ]
  },
  {
   "cell_type": "code",
   "execution_count": 13,
   "metadata": {
    "collapsed": false
   },
   "outputs": [
    {
     "name": "stderr",
     "output_type": "stream",
     "text": [
      "C:\\Users\\Chauncey\\Anaconda3\\lib\\site-packages\\pandas\\tools\\plotting.py:3235: UserWarning: To output multiple subplots, the figure containing the passed axes is being cleared\n",
      "  \"is being cleared\", UserWarning)\n"
     ]
    },
    {
     "data": {
      "image/png": "[encoded data removed]",
      "text/plain": [
       "<matplotlib.figure.Figure at 0x186755f8>"
      ]
     },
     "metadata": {},
     "output_type": "display_data"
    }
   ],
   "source": [
    "fig, fs_ax = plt.subplots(1, figsize=[10, 8]);\n",
    "pd.scatter_matrix(fs_resto_df.sample(n=1000), ax=fs_ax);"
   ]
  },
  {
   "cell_type": "code",
   "execution_count": 14,
   "metadata": {
    "collapsed": false
   },
   "outputs": [
    {
     "data": {
      "text/plain": [
       "3409"
      ]
     },
     "execution_count": 14,
     "metadata": {},
     "output_type": "execute_result"
    }
   ],
   "source": [
    "# get ids of the menus I have\n",
    "fs_menu_ids = [menu['id'] for menu in fs_menus_rated]\n",
    "len(fs_menu_ids)"
   ]
  },
  {
   "cell_type": "markdown",
   "metadata": {
    "collapsed": true
   },
   "source": [
    "## Foursquare menu feature extraction\n",
    "Each menu json has keys: id, provider, menus\n",
    "\n",
    "Each menus dict has keys: count (# of \"menus\"), and items (a LIST of menus, even if theree's just one)\n",
    "\n",
    "Each element of items has keys: name (of menu), menuId, description, and entries (a dict)\n",
    "\n",
    "Each entries has keys: count (# of items on menu), and list of items\n",
    "\n",
    "Each element of items has keys: name, sectionId, description, and MORE entries\n",
    "\n",
    "Each entries has keys: count, and a list of items\n",
    "\n",
    "The FINAL items is a list, each element has: description, entryId, and name"
   ]
  },
  {
   "cell_type": "code",
   "execution_count": 15,
   "metadata": {
    "collapsed": false
   },
   "outputs": [],
   "source": [
    "import nltk\n",
    "import Kibbeh.src.feature_extract_menu as fem\n",
    "from nltk.corpus import stopwords\n",
    "from sklearn.feature_extraction.text import CountVectorizer\n",
    "from sklearn.feature_extraction.text import TfidfVectorizer\n",
    "from sklearn.cross_validation import train_test_split\n",
    "from nltk import word_tokenize          \n",
    "from nltk.stem import WordNetLemmatizer\n",
    "from sklearn.ensemble import GradientBoostingRegressor"
   ]
  },
  {
   "cell_type": "code",
   "execution_count": 16,
   "metadata": {
    "collapsed": false
   },
   "outputs": [],
   "source": [
    "menu_list = [json.dumps(menu['menus']) for menu in fs_menus_rated] # convert json to string\n",
    "def strip_punct(menu):\n",
    "    menu =re.sub(\"[^a-zA-Z0-9]\", \" \", menu )\n",
    "    menu =re.sub(\"[0-9]+\", \" \", menu )\n",
    "    return menu\n",
    "menu_list2 = list(map(strip_punct, menu_list)) # remove punctuation"
   ]
  },
  {
   "cell_type": "code",
   "execution_count": 17,
   "metadata": {
    "collapsed": false
   },
   "outputs": [
    {
     "data": {
      "text/plain": [
       "3409"
      ]
     },
     "execution_count": 17,
     "metadata": {},
     "output_type": "execute_result"
    }
   ],
   "source": [
    "# preprocessing that turns all to lower case, removes punctuation, and gets rid of some stop words\n",
    "# super slow, and should probably be using built in\n",
    "importlib.reload(fem)\n",
    "menu_obj = [fem.wordify_json_menu(menu['menus'], set(stopwords.words()) ) for menu in fs_menus_rated]\n",
    "[parsed_fs_menus, num_items, num_sections, num_menus] = zip(*menu_obj)\n",
    "parsed_fs_menus = list(parsed_fs_menus)\n",
    "len(parsed_fs_menus)"
   ]
  },
  {
   "cell_type": "markdown",
   "metadata": {},
   "source": [
    "## Locu menu parsing\n",
    "Each json is a list: first element is the name, second element is a json object of the menu\n",
    "Each menu is a list of sub_menus\n",
    "Each sub_menu has keys: menu_name, sections, currency_symbol"
   ]
  },
  {
   "cell_type": "code",
   "execution_count": 14,
   "metadata": {
    "collapsed": false
   },
   "outputs": [
    {
     "data": {
      "text/plain": [
       "245"
      ]
     },
     "execution_count": 14,
     "metadata": {},
     "output_type": "execute_result"
    }
   ],
   "source": [
    "# menu[0] has the restaurant name; get all restaurants whose name is in the foursquare dataframe\n",
    "locu_fs_menus = [menu for menu in locu_menus if menu[0] in fs_resto_df.index]\n",
    "len(locu_fs_menus)"
   ]
  },
  {
   "cell_type": "code",
   "execution_count": 15,
   "metadata": {
    "collapsed": false
   },
   "outputs": [
    {
     "data": {
      "text/plain": [
       "222"
      ]
     },
     "execution_count": 15,
     "metadata": {},
     "output_type": "execute_result"
    }
   ],
   "source": [
    "def remove_duplicate_locu_restos(locu_resto_list):\n",
    "    locu_names = {x[0] for x in locu_resto_list}\n",
    "    new_locu_restos = []\n",
    "    for cur_resto in locu_resto_list:\n",
    "        #pdb.set_trace()\n",
    "        if cur_resto[0] in locu_names:\n",
    "            locu_names.remove(cur_resto[0])\n",
    "            new_locu_restos.append(cur_resto)\n",
    "    return new_locu_restos\n",
    "locu_fs_menus = remove_duplicate_locu_restos(locu_fs_menus)\n",
    "len(locu_fs_menus)"
   ]
  },
  {
   "cell_type": "code",
   "execution_count": 16,
   "metadata": {
    "collapsed": false
   },
   "outputs": [
    {
     "data": {
      "text/plain": [
       "222"
      ]
     },
     "execution_count": 16,
     "metadata": {},
     "output_type": "execute_result"
    }
   ],
   "source": [
    "# get the foursquare ids of the locu restaurants\n",
    "def parse_ids(ids_in):\n",
    "    if type(ids_in) == str:\n",
    "        return ids_in\n",
    "    else:\n",
    "        return list(ids_in)[0]\n",
    "locu_fs_ids = [parse_ids(fs_resto_df.loc[ menu[0]]['id'] ) for menu in locu_fs_menus]\n",
    "len(locu_fs_ids)"
   ]
  },
  {
   "cell_type": "code",
   "execution_count": 20,
   "metadata": {
    "collapsed": false
   },
   "outputs": [
    {
     "data": {
      "text/plain": [
       "211"
      ]
     },
     "execution_count": 20,
     "metadata": {},
     "output_type": "execute_result"
    }
   ],
   "source": [
    "# locu menus for which I don't have a foursquare menu\n",
    "locu_menu_no_fs_menu = [menu for i, menu in enumerate(locu_fs_menus) if locu_fs_ids[i] not in fs_id]\n",
    "len(locu_menu_no_fs_menu)"
   ]
  },
  {
   "cell_type": "code",
   "execution_count": 21,
   "metadata": {
    "collapsed": false
   },
   "outputs": [
    {
     "data": {
      "text/plain": [
       "211"
      ]
     },
     "execution_count": 21,
     "metadata": {},
     "output_type": "execute_result"
    }
   ],
   "source": [
    "locu_fs_ids = [parse_ids(fs_resto_df.loc[ menu[0]]['id'] ) for menu in locu_menu_no_fs_menu]\n",
    "locu_fs_ids = np.unique(np.array(locu_fs_ids))\n",
    "len(locu_fs_ids)"
   ]
  },
  {
   "cell_type": "code",
   "execution_count": 22,
   "metadata": {
    "collapsed": false
   },
   "outputs": [
    {
     "data": {
      "text/plain": [
       "211"
      ]
     },
     "execution_count": 22,
     "metadata": {},
     "output_type": "execute_result"
    }
   ],
   "source": [
    "locu_menu_has_fs_id = [menu for i, menu in enumerate(locu_menu_no_fs_menu) if locu_fs_ids[i] in fs_resto_df.id.values]\n",
    "len(locu_menu_has_fs_id)"
   ]
  },
  {
   "cell_type": "code",
   "execution_count": 38,
   "metadata": {
    "collapsed": false
   },
   "outputs": [
    {
     "data": {
      "text/plain": [
       "211"
      ]
     },
     "execution_count": 38,
     "metadata": {},
     "output_type": "execute_result"
    }
   ],
   "source": [
    "importlib.reload(fem)\n",
    "menu_obj = [fem.wordify_json_menu(menu, stopwords.words()) for menu in locu_menu_no_fs_menu]\n",
    "[parsed_locu_menus, num_items, num_sections, num_menus] = zip(*menu_obj)\n",
    "parsed_locu_menus = list(parsed_locu_menus)\n",
    "len(parsed_locu_menus)"
   ]
  },
  {
   "cell_type": "markdown",
   "metadata": {},
   "source": [
    "### Vectorize menu - bag of words, N-grams, and tf-idf"
   ]
  },
  {
   "cell_type": "code",
   "execution_count": 18,
   "metadata": {
    "collapsed": false
   },
   "outputs": [
    {
     "data": {
      "text/plain": [
       "3409"
      ]
     },
     "execution_count": 18,
     "metadata": {},
     "output_type": "execute_result"
    }
   ],
   "source": [
    "#combined_menus = list(parsed_fs_menus) # without the list(), it is a variable reference, not a copy\n",
    "#combined_menus.extend(parsed_locu_menus)\n",
    "combined_menus = list(parsed_fs_menus)\n",
    "len(combined_menus)"
   ]
  },
  {
   "cell_type": "code",
   "execution_count": 19,
   "metadata": {
    "collapsed": true
   },
   "outputs": [],
   "source": [
    "class LemmaTokenizer(object):\n",
    "    def __init__(self):\n",
    "        self.wnl = WordNetLemmatizer()\n",
    "    def __call__(self, doc):\n",
    "        return [self.wnl.lemmatize(t) for t in word_tokenize(doc)]\n",
    "#vect = CountVectorizer(tokenizer=LemmaTokenizer())  "
   ]
  },
  {
   "cell_type": "code",
   "execution_count": 20,
   "metadata": {
    "collapsed": false
   },
   "outputs": [],
   "source": [
    "bigram_vectorizer = CountVectorizer(stop_words=nltk.corpus.stopwords.words(), analyzer='word',\n",
    "                                    tokenizer=LemmaTokenizer(), ngram_range=(1,2),\n",
    "                                    #token_pattern=u'(?u)\\\\b[A-Za-z]{3,}\\\\b',\n",
    "                                    min_df= 5, max_df = 0.5, max_features=10000)\n",
    "unigram_vectorizer = CountVectorizer(stop_words=nltk.corpus.stopwords.words(), analyzer='word',\n",
    "                                     tokenizer=LemmaTokenizer(), ngram_range=(1,1),\n",
    "                                     #token_pattern=u'(?u)\\\\b[A-Za-z]{3,}\\\\b',\n",
    "                                     min_df= 5, max_df = 0.5)"
   ]
  },
  {
   "cell_type": "code",
   "execution_count": 21,
   "metadata": {
    "collapsed": true
   },
   "outputs": [],
   "source": [
    "unigram_features = unigram_vectorizer.fit_transform(combined_menus)"
   ]
  },
  {
   "cell_type": "code",
   "execution_count": 22,
   "metadata": {
    "collapsed": false
   },
   "outputs": [
    {
     "data": {
      "text/plain": [
       "(3409, 10000)"
      ]
     },
     "execution_count": 22,
     "metadata": {},
     "output_type": "execute_result"
    }
   ],
   "source": [
    "bigram_features = bigram_vectorizer.fit_transform(combined_menus)\n",
    "bigram_features.shape"
   ]
  },
  {
   "cell_type": "code",
   "execution_count": 60,
   "metadata": {
    "collapsed": false
   },
   "outputs": [
    {
     "data": {
      "text/plain": [
       "['tempura roll',\n",
       " 'tempura sauce',\n",
       " 'tempura shrimp',\n",
       " 'tempura udon',\n",
       " 'ten',\n",
       " 'tender',\n",
       " 'tender addition',\n",
       " 'tender beef',\n",
       " 'tender chicken',\n",
       " 'tender chunk']"
      ]
     },
     "execution_count": 60,
     "metadata": {},
     "output_type": "execute_result"
    }
   ],
   "source": [
    "bigram_vectorizer.get_feature_names()[-1000:-990]"
   ]
  },
  {
   "cell_type": "markdown",
   "metadata": {},
   "source": [
    "### Select subset of foursquare dataframe with the menu ids"
   ]
  },
  {
   "cell_type": "code",
   "execution_count": 23,
   "metadata": {
    "collapsed": false
   },
   "outputs": [
    {
     "data": {
      "text/plain": [
       "(3409, 9)"
      ]
     },
     "execution_count": 23,
     "metadata": {},
     "output_type": "execute_result"
    }
   ],
   "source": [
    "fs_menu_df = fs_resto_df.query('id in @fs_menu_ids')\n",
    "#fs_menu_df = fs_resto_df.query('id in @locu_fs_ids')\n",
    "#fs_menu_df = fs_resto_df.query('id in @fs_id_menus or id in @locu_fs_ids')\n",
    "fs_menu_df.shape"
   ]
  },
  {
   "cell_type": "code",
   "execution_count": 24,
   "metadata": {
    "collapsed": false
   },
   "outputs": [
    {
     "name": "stderr",
     "output_type": "stream",
     "text": [
      "C:\\Users\\Chauncey\\Anaconda3\\lib\\site-packages\\IPython\\kernel\\__main__.py:2: SettingWithCopyWarning: \n",
      "A value is trying to be set on a copy of a slice from a DataFrame.\n",
      "Try using .loc[row_indexer,col_indexer] = value instead\n",
      "\n",
      "See the the caveats in the documentation: http://pandas.pydata.org/pandas-docs/stable/indexing.html#indexing-view-versus-copy\n",
      "  from IPython.kernel.zmq import kernelapp as app\n"
     ]
    }
   ],
   "source": [
    "# make sure the menus are in same order as the dataframe\n",
    "fs_menu_df['name2'] = fs_menu_df.index.values\n",
    "fs_menu_df.set_index('id', inplace=True)\n",
    "fs_menu_df = fs_menu_df.reindex(fs_menu_ids)"
   ]
  },
  {
   "cell_type": "markdown",
   "metadata": {},
   "source": [
    "## Tf-idf"
   ]
  },
  {
   "cell_type": "code",
   "execution_count": 46,
   "metadata": {
    "collapsed": false
   },
   "outputs": [
    {
     "data": {
      "text/plain": [
       "3409"
      ]
     },
     "execution_count": 46,
     "metadata": {},
     "output_type": "execute_result"
    }
   ],
   "source": [
    "#combined_menus = list(parsed_locu_menus) # without the list(), it is a variable reference, not a copy\n",
    "#combined_menus.extend(parsed_fs_menus)\n",
    "combined_menus = list(parsed_fs_menus)\n",
    "len(combined_menus)"
   ]
  },
  {
   "cell_type": "code",
   "execution_count": 26,
   "metadata": {
    "collapsed": false
   },
   "outputs": [],
   "source": [
    "tfidf_vectorizer = TfidfVectorizer(stop_words=nltk.corpus.stopwords.words(), analyzer='word',\n",
    "                                  tokenizer=LemmaTokenizer(), ngram_range=(1,2),\n",
    "                                  #token_pattern=u'(?u)\\\\b[A-Za-z]{3,}\\\\b',\n",
    "                                  min_df= 5, max_df = 0.5, max_features=10000, use_idf=True)\n",
    "#tfidf_vectorizer = TfidfVectorizer(max_df=0.5, max_features=5000, min_df=2,\n",
    "#                                   stop_words='english', token_pattern=u'(?u)\\\\b[A-Za-z]{3,}\\\\b',\n",
    "#                                   use_idf=True)"
   ]
  },
  {
   "cell_type": "code",
   "execution_count": 27,
   "metadata": {
    "collapsed": false
   },
   "outputs": [
    {
     "data": {
      "text/plain": [
       "(3409, 10000)"
      ]
     },
     "execution_count": 27,
     "metadata": {},
     "output_type": "execute_result"
    }
   ],
   "source": [
    "tfidf_features = tfidf_vectorizer.fit_transform(combined_menus)\n",
    "tfidf_features.shape"
   ]
  },
  {
   "cell_type": "markdown",
   "metadata": {},
   "source": [
    "### Gradient boosted trees"
   ]
  },
  {
   "cell_type": "code",
   "execution_count": 93,
   "metadata": {
    "collapsed": false
   },
   "outputs": [],
   "source": [
    "menu_boost_regressor = GradientBoostingRegressor(n_estimators=50, max_depth = 20, min_samples_leaf=4)"
   ]
  },
  {
   "cell_type": "code",
   "execution_count": 39,
   "metadata": {
    "collapsed": false
   },
   "outputs": [],
   "source": [
    "#X_train, X_test, y_train, y_test = train_test_split(tfidf_features, fs_menu_df['rating'], test_size=0.2, random_state=30)\n",
    "X_train, X_test, y_train, y_test = train_test_split(bigram_features, fs_menu_df['z_rating'], test_size=0.2, random_state=42)\n",
    "#menu_boost_regressor.fit(X_train, y_train)\n",
    "#menu_boost_regressor.score(X_test.toarray(), y_test)"
   ]
  },
  {
   "cell_type": "code",
   "execution_count": null,
   "metadata": {
    "collapsed": false
   },
   "outputs": [],
   "source": [
    "importances = menu_boost_regressor.feature_importances_\n",
    "indices = np.argsort(importances)\n",
    "bigram_feature_names = np.array(bigram_vectorizer.get_feature_names() )\n",
    "list(sorted(zip(importances, bigram_feature_names), reverse = True) )[:20]"
   ]
  },
  {
   "cell_type": "markdown",
   "metadata": {},
   "source": [
    "### Random forests"
   ]
  },
  {
   "cell_type": "code",
   "execution_count": 28,
   "metadata": {
    "collapsed": true
   },
   "outputs": [],
   "source": [
    "from sklearn.ensemble import RandomForestRegressor\n",
    "from sklearn.grid_search import GridSearchCV"
   ]
  },
  {
   "cell_type": "code",
   "execution_count": 34,
   "metadata": {
    "collapsed": true
   },
   "outputs": [],
   "source": [
    "menu_rf_regressor = RandomForestRegressor( min_samples_leaf = 5, n_estimators = 150,\n",
    "                                          min_samples_split = 10, n_jobs = 2)\n",
    "# previously ran a grid search that found max_depth 30 was better than 20,\n",
    "# and min_samples_split=10 was better than 20 or 100\n",
    "# second grid search found 150 estimators > 100\n",
    "rf_dict = { 'max_depth' : [ 30, 40] }\n",
    "forest_grid = GridSearchCV(menu_rf_regressor, param_grid = rf_dict, cv = 3, n_jobs = 2)"
   ]
  },
  {
   "cell_type": "code",
   "execution_count": 35,
   "metadata": {
    "collapsed": false
   },
   "outputs": [
    {
     "data": {
      "text/plain": [
       "{'max_depth': 40}"
      ]
     },
     "execution_count": 35,
     "metadata": {},
     "output_type": "execute_result"
    }
   ],
   "source": [
    "forest_grid.fit(bigram_features, fs_menu_df['z_rating'])\n",
    "forest_grid.best_params_"
   ]
  },
  {
   "cell_type": "code",
   "execution_count": 36,
   "metadata": {
    "collapsed": false
   },
   "outputs": [],
   "source": [
    "best_forest = forest_grid.best_estimator_"
   ]
  },
  {
   "cell_type": "code",
   "execution_count": 37,
   "metadata": {
    "collapsed": false
   },
   "outputs": [
    {
     "data": {
      "text/plain": [
       "0.74981171327275786"
      ]
     },
     "execution_count": 37,
     "metadata": {},
     "output_type": "execute_result"
    }
   ],
   "source": [
    "best_forest.score(bigram_features, fs_menu_df['z_rating'])"
   ]
  },
  {
   "cell_type": "code",
   "execution_count": 40,
   "metadata": {
    "collapsed": false
   },
   "outputs": [
    {
     "data": {
      "text/plain": [
       "0.37763071048716873"
      ]
     },
     "execution_count": 40,
     "metadata": {},
     "output_type": "execute_result"
    }
   ],
   "source": [
    "best_forest.fit(X_train, y_train)\n",
    "best_forest.score(X_test, y_test)"
   ]
  },
  {
   "cell_type": "code",
   "execution_count": 41,
   "metadata": {
    "collapsed": false
   },
   "outputs": [
    {
     "data": {
      "text/plain": [
       "[(0.062587320089476553, 'bacon ranch'),\n",
       " (0.056737542142188895, 'bun big'),\n",
       " (0.048449357415438141, 'bun'),\n",
       " (0.036188606236802937, 'loaded'),\n",
       " (0.02268200568902165, 'beet'),\n",
       " (0.019620454647762728, 'ranch melt'),\n",
       " (0.0097182579842205723, 'house made'),\n",
       " (0.0080415654348258755, 'ripe tomato'),\n",
       " (0.0067871303031382044, 'pickled'),\n",
       " (0.0057361324776893314, 'caesar'),\n",
       " (0.0053756921556631027, 'real'),\n",
       " (0.005246666155767324, 'cilantro'),\n",
       " (0.0046579028131343621, 'cru'),\n",
       " (0.0043812884721756672, 'breast'),\n",
       " (0.0043214763569914645, 'tender'),\n",
       " (0.0042243207879554909, 'addition chicken'),\n",
       " (0.0042042192394296908, 'cured'),\n",
       " (0.0040696033736769277, 'bleu cheese'),\n",
       " (0.0040632369519320302, 'grilled chicken'),\n",
       " (0.0035743472701131392, 'confit')]"
      ]
     },
     "execution_count": 41,
     "metadata": {},
     "output_type": "execute_result"
    }
   ],
   "source": [
    "importances = best_forest.feature_importances_\n",
    "indices = np.argsort(importances)\n",
    "bigram_feature_names = np.array(bigram_vectorizer.get_feature_names() )\n",
    "list(sorted(zip(importances, bigram_feature_names), reverse = True) )[:20]"
   ]
  },
  {
   "cell_type": "code",
   "execution_count": 200,
   "metadata": {
    "collapsed": false
   },
   "outputs": [],
   "source": [
    "first_tree = menu_boost_regressor.estimators_[0][0]\n",
    "from sklearn.tree import export_graphviz\n",
    "export_graphviz(first_tree.tree_, out_file='menu_tree.dot', feature_names = menu_feature_names)"
   ]
  },
  {
   "cell_type": "code",
   "execution_count": 64,
   "metadata": {
    "collapsed": false
   },
   "outputs": [],
   "source": [
    "def calc_ratings_ngram( feature_names, features, word, df):\n",
    "    word_index = np.arange(10000)[feature_names == word]\n",
    "    word_feature = features[:,word_index].toarray()\n",
    "    word_feature = np.array([x[0] for x in word_feature] )\n",
    "    print('Average rating for {0}: {1}'.format(word, df['rating'][word_feature > 0 ].mean())) \n",
    "    print('Restaurants with menus containing {0}: {1}'.format(word,\n",
    "                              df[['rating', 'name2']][word_feature > 0 ][:5]) )"
   ]
  },
  {
   "cell_type": "code",
   "execution_count": 75,
   "metadata": {
    "collapsed": false
   },
   "outputs": [
    {
     "name": "stdout",
     "output_type": "stream",
     "text": [
      "Average rating for shredded cheddar: 6.372164948453607\n",
      "Restaurants with menus containing shredded cheddar:                           rating            name2\n",
      "id                                               \n",
      "4b58b351f964a5205f6628e3     6.4           Arby's\n",
      "4c1e9d1763750f478609ba67     6.1  Jack in the Box\n",
      "4be79537ee96c9284430fdbf     6.0       McDonald's\n",
      "4b12da54f964a520718f23e3     5.9          Denny's\n",
      "4b70caa8f964a520d42e2de3     5.7  Jack in the Box\n"
     ]
    }
   ],
   "source": [
    "calc_ratings_ngram(menu_feature_names, menu_features, 'shredded cheddar', fs_menu_df )"
   ]
  },
  {
   "cell_type": "code",
   "execution_count": 211,
   "metadata": {
    "collapsed": false
   },
   "outputs": [
    {
     "data": {
      "text/plain": [
       "7.6059268600252254"
      ]
     },
     "execution_count": 211,
     "metadata": {},
     "output_type": "execute_result"
    }
   ],
   "source": [
    "fs_menu_df['rating'].mean()"
   ]
  },
  {
   "cell_type": "markdown",
   "metadata": {},
   "source": [
    "### Elasticnet regression"
   ]
  },
  {
   "cell_type": "code",
   "execution_count": null,
   "metadata": {
    "collapsed": true
   },
   "outputs": [],
   "source": [
    "from sklearn.linear_model import ElasticNetCV\n",
    "menu_elastic_net = ElasticNetCV(cv = 2, normalize=True, max_iter=500, n_jobs=2)"
   ]
  },
  {
   "cell_type": "code",
   "execution_count": null,
   "metadata": {
    "collapsed": false
   },
   "outputs": [],
   "source": [
    "menu_elastic_net.fit(menu_features, fs_menu_df['rating'])"
   ]
  },
  {
   "cell_type": "code",
   "execution_count": null,
   "metadata": {
    "collapsed": false
   },
   "outputs": [],
   "source": [
    "menu_elastic_net.score(menu_features, fs_menu_df['rating'])"
   ]
  },
  {
   "cell_type": "code",
   "execution_count": null,
   "metadata": {
    "collapsed": false
   },
   "outputs": [],
   "source": [
    "best_coeff = np.argsort(np.abs(menu_elastic_net.coef_))[-25:]\n",
    "list(zip(menu_feature_names[best_coeff], menu_elastic_net.coef_[best_coeff]))"
   ]
  },
  {
   "cell_type": "markdown",
   "metadata": {},
   "source": [
    "## Latent Dirichlet Allocation"
   ]
  },
  {
   "cell_type": "code",
   "execution_count": 115,
   "metadata": {
    "collapsed": false
   },
   "outputs": [
    {
     "data": {
      "text/plain": [
       "LatentDirichletAllocation(batch_size=128, doc_topic_prior=None,\n",
       "             evaluate_every=-1, learning_decay=0.7,\n",
       "             learning_method='online', learning_offset=10.0,\n",
       "             max_doc_update_iter=100, max_iter=10, mean_change_tol=0.001,\n",
       "             n_jobs=1, n_topics=10, perp_tol=0.1, random_state=37,\n",
       "             topic_word_prior=None, total_samples=1000000.0, verbose=0)"
      ]
     },
     "execution_count": 115,
     "metadata": {},
     "output_type": "execute_result"
    }
   ],
   "source": [
    "from sklearn.decomposition import LatentDirichletAllocation\n",
    "menu_lda = LatentDirichletAllocation(n_topics = 10, max_iter =10, random_state =37)\n",
    "menu_lda.fit(bigram_features)"
   ]
  },
  {
   "cell_type": "code",
   "execution_count": 116,
   "metadata": {
    "collapsed": true
   },
   "outputs": [],
   "source": [
    "def print_top_words(model, feature_names, n_top_words):\n",
    "    for topic_idx, topic in enumerate(model.components_):\n",
    "        print(\"Topic #%d:\" % topic_idx)\n",
    "        print(\" \".join([feature_names[i]\n",
    "                        for i in topic.argsort()[:-n_top_words - 1:-1]]))\n",
    "    print()"
   ]
  },
  {
   "cell_type": "code",
   "execution_count": 122,
   "metadata": {
    "collapsed": false
   },
   "outputs": [
    {
     "name": "stdout",
     "output_type": "stream",
     "text": [
      "Topic #0:\n",
      "crispy bun premium crispy chicken tortilla grilled chicken creamy ranch crisp juicy seasoned white meat cheddar slice american patty wrap snack strip soft\n",
      "Topic #1:\n",
      "tortilla salsa guacamole sour sour cream taco chile corn burrito cilantro avocado enchilada rice bean flour steak black bean mexican flour tortilla corn tortilla pico\n",
      "Topic #2:\n",
      "noodle prawn tofu curry sauteed chili thai chicken addition carrot sour soup addition fried rice basil peanut rice addition bell bell pepper broccoli coconut sauce addition\n",
      "Topic #3:\n",
      "vinaigrette lemon organic butter smoked house made made avocado aioli apple chocolate seasonal fry olive fruit salmon cake arugula toasted bread\n",
      "Topic #4:\n",
      "crab steak cocktail lobster salmon calorie signature fry lime prawn vodka crispy clam juice filet classic wood beer wine fish\n",
      "Topic #5:\n",
      "sandwich burger turkey cheddar fry bbq breast jack lettuce tomato french bread swiss steak mayo smoked avocado chicken breast sausage cheddar cheese sliced\n",
      "Topic #6:\n",
      "roll tuna salmon tempura roll addition cucumber avocado cooked teriyaki sashimi crab sushi spice lamb special fish curry miso pc sake\n",
      "Topic #7:\n",
      "mozzarella olive italian pasta pizza parmesan basil sausage marinara oil olive oil pesto baked tomato sauce feta red onion pepperoni bread lemon wine\n",
      "Topic #8:\n",
      "freshly baked freshly baked available bread whole fat bagel natural cinnamon chocolate made bowl half available whole asiago smoked antibiotic whole half kid\n",
      "Topic #9:\n",
      "valley valley addition napa napa valley pinot sauvignon wine blanc sonoma california vineyard cabernet france noir chardonnay pinot noir brut cabernet sauvignon italy domaine\n",
      "\n"
     ]
    }
   ],
   "source": [
    "print_top_words(menu_lda, bigram_feature_names, 20)"
   ]
  },
  {
   "cell_type": "markdown",
   "metadata": {},
   "source": [
    "### Get all keys in json"
   ]
  },
  {
   "cell_type": "code",
   "execution_count": null,
   "metadata": {
    "collapsed": false
   },
   "outputs": [],
   "source": [
    "def get_keys(json, json_keys = set()):\n",
    "    #pdb.set_trace()\n",
    "    if type(json) == dict:\n",
    "        for key in json.keys():\n",
    "            json_keys.add( key )\n",
    "            json_keys.update(get_keys(json[key]))\n",
    "    elif type(json) == list:\n",
    "        for element in json:\n",
    "            json_keys.update(get_keys(element))\n",
    "    return json_keys"
   ]
  },
  {
   "cell_type": "code",
   "execution_count": null,
   "metadata": {
    "collapsed": false
   },
   "outputs": [],
   "source": [
    "all_keys = get_keys(fs_menus_rated)\n",
    "all_keys"
   ]
  },
  {
   "cell_type": "code",
   "execution_count": null,
   "metadata": {
    "collapsed": true
   },
   "outputs": [],
   "source": []
  }
 ],
 "metadata": {
  "kernelspec": {
   "display_name": "Python 3",
   "language": "python",
   "name": "python3"
  },
  "language_info": {
   "codemirror_mode": {
    "name": "ipython",
    "version": 3
   },
   "file_extension": ".py",
   "mimetype": "text/x-python",
   "name": "python",
   "nbconvert_exporter": "python",
   "pygments_lexer": "ipython3",
   "version": "3.4.3"
  }
 },
 "nbformat": 4,
 "nbformat_minor": 0
}
