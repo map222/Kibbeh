{
 "cells": [
  {
   "cell_type": "markdown",
   "metadata": {},
   "source": [
    "# To do:\n",
    "\n",
    "Structure data so that yelp and foursquare IDs are matched to menus\n",
    "\n",
    "Combine foursquare and yelp menus\n",
    "\n",
    "Get prices from Foursquare"
   ]
  },
  {
   "cell_type": "code",
   "execution_count": 4,
   "metadata": {
    "collapsed": false
   },
   "outputs": [],
   "source": [
    "import os\n",
    "import importlib\n",
    "import pandas as pd\n",
    "import numpy as np\n",
    "%matplotlib inline\n",
    "import pdb\n",
    "import json\n",
    "import time\n",
    "from Kibbeh.src import feature_extract_resto\n",
    "from Kibbeh.src import API_io\n",
    "import re\n",
    "import matplotlib.pyplot as plt\n",
    "import ast"
   ]
  },
  {
   "cell_type": "code",
   "execution_count": 5,
   "metadata": {
    "collapsed": false
   },
   "outputs": [],
   "source": [
    "#working_dir = 'C:\\\\Users\\\\Chauncey\\\\Documents\\\\GitHub\\\\Kibbeh'\n",
    "working_dir = 'C:\\\\Users\\\\Me\\\\Documents\\\\GitHub\\\\Kibbeh'\n",
    "seattle_zips = pd.read_csv(working_dir + '\\\\seattle_zips.csv')['Zip'].values"
   ]
  },
  {
   "cell_type": "code",
   "execution_count": 6,
   "metadata": {
    "collapsed": false
   },
   "outputs": [
    {
     "data": {
      "text/plain": [
       "3081"
      ]
     },
     "execution_count": 6,
     "metadata": {},
     "output_type": "execute_result"
    }
   ],
   "source": [
    "# load foursquare restaurants and ratings\n",
    "with open('fs_restaurant_list.json', 'r') as json_file:\n",
    "    fs_top_restos = json.load( json_file)\n",
    "len(fs_top_restos)"
   ]
  },
  {
   "cell_type": "code",
   "execution_count": 7,
   "metadata": {
    "collapsed": false
   },
   "outputs": [
    {
     "data": {
      "text/plain": [
       "332"
      ]
     },
     "execution_count": 7,
     "metadata": {},
     "output_type": "execute_result"
    }
   ],
   "source": [
    "# load foursquare menus\n",
    "with open('fs_restaurant_menus.json', 'r') as json_file:\n",
    "    fs_menus_rated = json.load( json_file)\n",
    "len(fs_menus_rated)"
   ]
  },
  {
   "cell_type": "code",
   "execution_count": 8,
   "metadata": {
    "collapsed": false
   },
   "outputs": [
    {
     "data": {
      "text/plain": [
       "1000"
      ]
     },
     "execution_count": 8,
     "metadata": {},
     "output_type": "execute_result"
    }
   ],
   "source": [
    "# load yelp restaurants\n",
    "with open('yelp_restaurant_list.json', 'r') as json_file:\n",
    "    yelp_restos = json.load( json_file)\n",
    "len(yelp_restos)"
   ]
  },
  {
   "cell_type": "code",
   "execution_count": 9,
   "metadata": {
    "collapsed": false
   },
   "outputs": [
    {
     "data": {
      "text/plain": [
       "1564"
      ]
     },
     "execution_count": 9,
     "metadata": {},
     "output_type": "execute_result"
    }
   ],
   "source": [
    "# load from local json\n",
    "with open('locu_restaurant_list.json', 'r') as json_file:\n",
    "    locu_restos = json.load( json_file)\n",
    "len(locu_restos)"
   ]
  },
  {
   "cell_type": "code",
   "execution_count": 10,
   "metadata": {
    "collapsed": false
   },
   "outputs": [
    {
     "data": {
      "text/plain": [
       "399"
      ]
     },
     "execution_count": 10,
     "metadata": {},
     "output_type": "execute_result"
    }
   ],
   "source": [
    "# load\n",
    "with open('locu_menu_list.json', 'r') as json_file:\n",
    "    locu_menus = json.load( json_file)\n",
    "len(locu_menus)"
   ]
  },
  {
   "cell_type": "markdown",
   "metadata": {},
   "source": [
    "# Feature extraction\n",
    "## Yelp restaurants"
   ]
  },
  {
   "cell_type": "code",
   "execution_count": 11,
   "metadata": {
    "collapsed": false
   },
   "outputs": [
    {
     "data": {
      "text/html": [
       "<div>\n",
       "<table border=\"1\" class=\"dataframe\">\n",
       "  <thead>\n",
       "    <tr style=\"text-align: right;\">\n",
       "      <th></th>\n",
       "      <th>categories</th>\n",
       "      <th>id</th>\n",
       "      <th>phone</th>\n",
       "      <th>rating</th>\n",
       "      <th>review_count</th>\n",
       "    </tr>\n",
       "    <tr>\n",
       "      <th>name</th>\n",
       "      <th></th>\n",
       "      <th></th>\n",
       "      <th></th>\n",
       "      <th></th>\n",
       "      <th></th>\n",
       "    </tr>\n",
       "  </thead>\n",
       "  <tbody>\n",
       "    <tr>\n",
       "      <th>Piroshky Piroshky</th>\n",
       "      <td>[Bakeries, Russian]</td>\n",
       "      <td>piroshky-piroshky-seattle</td>\n",
       "      <td>2064416068</td>\n",
       "      <td>4.5</td>\n",
       "      <td>3235</td>\n",
       "    </tr>\n",
       "    <tr>\n",
       "      <th>Paseo</th>\n",
       "      <td>[Caribbean, Cuban, Sandwiches]</td>\n",
       "      <td>paseo-seattle-3</td>\n",
       "      <td>2065457440</td>\n",
       "      <td>4.5</td>\n",
       "      <td>4099</td>\n",
       "    </tr>\n",
       "    <tr>\n",
       "      <th>Umma's Lunch Box</th>\n",
       "      <td>[Korean, Buffets]</td>\n",
       "      <td>ummas-lunch-box-seattle</td>\n",
       "      <td>2068543166</td>\n",
       "      <td>4.5</td>\n",
       "      <td>184</td>\n",
       "    </tr>\n",
       "  </tbody>\n",
       "</table>\n",
       "</div>"
      ],
      "text/plain": [
       "                                       categories                         id  \\\n",
       "name                                                                           \n",
       "Piroshky Piroshky             [Bakeries, Russian]  piroshky-piroshky-seattle   \n",
       "Paseo              [Caribbean, Cuban, Sandwiches]            paseo-seattle-3   \n",
       "Umma's Lunch Box                [Korean, Buffets]    ummas-lunch-box-seattle   \n",
       "\n",
       "                        phone  rating  review_count  \n",
       "name                                                 \n",
       "Piroshky Piroshky  2064416068     4.5          3235  \n",
       "Paseo              2065457440     4.5          4099  \n",
       "Umma's Lunch Box   2068543166     4.5           184  "
      ]
     },
     "execution_count": 11,
     "metadata": {},
     "output_type": "execute_result"
    }
   ],
   "source": [
    "yelp_df = feature_extract_resto.feature_extract_yelp_list(yelp_restos)\n",
    "yelp_df.head(3)"
   ]
  },
  {
   "cell_type": "code",
   "execution_count": null,
   "metadata": {
    "collapsed": false
   },
   "outputs": [],
   "source": [
    "pd.scatter_matrix(ganma);"
   ]
  },
  {
   "cell_type": "code",
   "execution_count": null,
   "metadata": {
    "collapsed": true
   },
   "outputs": [],
   "source": [
    "with open(working_dir + 'yelp_df.csv', 'w', encoding='utf8') as csv_file:\n",
    "    yelp_df.to_csv(csv_file,  sep=';')"
   ]
  },
  {
   "cell_type": "code",
   "execution_count": null,
   "metadata": {
    "collapsed": false
   },
   "outputs": [],
   "source": [
    "with open(working_dir + 'yelp_df.csv', 'r', encoding='utf8') as csv_file:\n",
    "    yelp_df = pd.read_csv(csv_file, sep=';', index_col='name', dtype={'phone':str})\n",
    "    yelp_df['categories'] = yelp_df['categories'].apply(ast.literal_eval )"
   ]
  },
  {
   "cell_type": "markdown",
   "metadata": {},
   "source": [
    "## Foursquare restaurant feature extraction"
   ]
  },
  {
   "cell_type": "code",
   "execution_count": 103,
   "metadata": {
    "collapsed": false
   },
   "outputs": [
    {
     "data": {
      "text/plain": [
       "2289"
      ]
     },
     "execution_count": 103,
     "metadata": {},
     "output_type": "execute_result"
    }
   ],
   "source": [
    "fs_restos_rated = [x for x in fs_top_restos if 'rating' in x['venue'].keys()]\n",
    "len(fs_restos_rated)"
   ]
  },
  {
   "cell_type": "code",
   "execution_count": 104,
   "metadata": {
    "collapsed": false
   },
   "outputs": [
    {
     "data": {
      "text/html": [
       "<div>\n",
       "<table border=\"1\" class=\"dataframe\">\n",
       "  <thead>\n",
       "    <tr style=\"text-align: right;\">\n",
       "      <th></th>\n",
       "      <th>categories</th>\n",
       "      <th>checkinsCount</th>\n",
       "      <th>id</th>\n",
       "      <th>phone</th>\n",
       "      <th>rating</th>\n",
       "      <th>tier</th>\n",
       "      <th>tipCount</th>\n",
       "      <th>usersCount</th>\n",
       "    </tr>\n",
       "    <tr>\n",
       "      <th>name</th>\n",
       "      <th></th>\n",
       "      <th></th>\n",
       "      <th></th>\n",
       "      <th></th>\n",
       "      <th></th>\n",
       "      <th></th>\n",
       "      <th></th>\n",
       "      <th></th>\n",
       "    </tr>\n",
       "  </thead>\n",
       "  <tbody>\n",
       "    <tr>\n",
       "      <th>Burger Express</th>\n",
       "      <td>Burgers</td>\n",
       "      <td>629</td>\n",
       "      <td>4c0c1f2d6071a593a954e232</td>\n",
       "      <td>2538742701</td>\n",
       "      <td>8.8</td>\n",
       "      <td>1</td>\n",
       "      <td>13</td>\n",
       "      <td>320</td>\n",
       "    </tr>\n",
       "    <tr>\n",
       "      <th>Señor Taco</th>\n",
       "      <td>Burritos</td>\n",
       "      <td>391</td>\n",
       "      <td>4b6a5e42f964a520a4d32be3</td>\n",
       "      <td>2536619915</td>\n",
       "      <td>8.7</td>\n",
       "      <td>1</td>\n",
       "      <td>12</td>\n",
       "      <td>138</td>\n",
       "    </tr>\n",
       "    <tr>\n",
       "      <th>Popeyes Louisiana Kitchen</th>\n",
       "      <td>Fried Chicken</td>\n",
       "      <td>470</td>\n",
       "      <td>4aeb5ad8f964a52050c121e3</td>\n",
       "      <td>2538749740</td>\n",
       "      <td>8.1</td>\n",
       "      <td>1</td>\n",
       "      <td>8</td>\n",
       "      <td>287</td>\n",
       "    </tr>\n",
       "  </tbody>\n",
       "</table>\n",
       "</div>"
      ],
      "text/plain": [
       "                              categories  checkinsCount  \\\n",
       "name                                                      \n",
       "Burger Express                   Burgers            629   \n",
       "Señor Taco                      Burritos            391   \n",
       "Popeyes Louisiana Kitchen  Fried Chicken            470   \n",
       "\n",
       "                                                 id       phone  rating  tier  \\\n",
       "name                                                                            \n",
       "Burger Express             4c0c1f2d6071a593a954e232  2538742701     8.8     1   \n",
       "Señor Taco                 4b6a5e42f964a520a4d32be3  2536619915     8.7     1   \n",
       "Popeyes Louisiana Kitchen  4aeb5ad8f964a52050c121e3  2538749740     8.1     1   \n",
       "\n",
       "                           tipCount  usersCount  \n",
       "name                                             \n",
       "Burger Express                   13         320  \n",
       "Señor Taco                       12         138  \n",
       "Popeyes Louisiana Kitchen         8         287  "
      ]
     },
     "execution_count": 104,
     "metadata": {},
     "output_type": "execute_result"
    }
   ],
   "source": [
    "importlib.reload(feature_extract_resto)\n",
    "fs_resto_df = feature_extract_resto.feature_extract_fs_list(fs_restos_rated)\n",
    "fs_resto_df.drop_duplicates(inplace=True)\n",
    "fs_resto_df.head(3)"
   ]
  },
  {
   "cell_type": "code",
   "execution_count": null,
   "metadata": {
    "collapsed": false
   },
   "outputs": [],
   "source": [
    "fig, fs_ax = plt.subplots(1, figsize=[10, 8]);\n",
    "pd.scatter_matrix(fs_df, ax=fs_ax);"
   ]
  },
  {
   "cell_type": "markdown",
   "metadata": {
    "collapsed": true
   },
   "source": [
    "## Foursquare menu feature extraction\n",
    "Each menu json has keys: id, provider, menus\n",
    "\n",
    "Each menus dict has keys: count (# of \"menus\"), and items (a LIST of menus, even if theree's just one)\n",
    "\n",
    "Each element of items has keys: name (of menu), menuId, description, and entries (a dict)\n",
    "\n",
    "Each entries has keys: count (# of items on menu), and list of items\n",
    "\n",
    "Each element of items has keys: name, sectionId, description, and MORE entries\n",
    "\n",
    "Each entries has keys: count, and a list of items\n",
    "\n",
    "The FINAL items is a list, each element has: description, entryId, and name"
   ]
  },
  {
   "cell_type": "code",
   "execution_count": 3,
   "metadata": {
    "collapsed": false
   },
   "outputs": [],
   "source": [
    "import nltk\n",
    "import Kibbeh.src.feature_extract_menu as fem\n",
    "from nltk.corpus import stopwords"
   ]
  },
  {
   "cell_type": "code",
   "execution_count": 2,
   "metadata": {
    "collapsed": false
   },
   "outputs": [
    {
     "name": "stdout",
     "output_type": "stream",
     "text": [
      "showing info http://www.nltk.org/nltk_data/\n"
     ]
    },
    {
     "data": {
      "text/plain": [
       "True"
      ]
     },
     "execution_count": 2,
     "metadata": {},
     "output_type": "execute_result"
    }
   ],
   "source": [
    "nltk.download()"
   ]
  },
  {
   "cell_type": "code",
   "execution_count": 23,
   "metadata": {
    "collapsed": false
   },
   "outputs": [],
   "source": [
    "from sklearn.feature_extraction.text import CountVectorizer"
   ]
  },
  {
   "cell_type": "code",
   "execution_count": 59,
   "metadata": {
    "collapsed": false
   },
   "outputs": [
    {
     "data": {
      "text/plain": [
       "<1x401 sparse matrix of type '<class 'numpy.int64'>'\n",
       "\twith 401 stored elements in Compressed Sparse Row format>"
      ]
     },
     "execution_count": 59,
     "metadata": {},
     "output_type": "execute_result"
    }
   ],
   "source": [
    "cur_menu = fs_menus_rated[0]['menus']\n",
    "vectorizer = CountVectorizer()\n",
    "cur_menu_string = json.dumps(cur_menu)\n",
    "cur_menu_string =re.sub(\"[^a-zA-Z0-9]\", \" \", cur_menu_string )\n",
    "cur_menu_string =re.sub(\"[0-9]+\", \" \", cur_menu_string )\n",
    "vectorizer.fit_transform([cur_menu_string])"
   ]
  },
  {
   "cell_type": "code",
   "execution_count": 98,
   "metadata": {
    "collapsed": false
   },
   "outputs": [],
   "source": [
    "menu_list = [json.dumps(menu['menus']) for menu in fs_menus_rated]\n",
    "from nltk.stem import WordNetLemmatizer \n",
    "class LemmaTokenizer(object):\n",
    "    def __init__(self):\n",
    "        self.wnl = WordNetLemmatizer()\n",
    "    def __call__(self, doc):\n",
    "        return [self.wnl.lemmatize(t) for t in word_tokenize(doc)]\n",
    "\n",
    "vectorizer = CountVectorizer(stop_words=nltk.corpus.stopwords.words(), analyzer='word',\n",
    "                             token_pattern=u'(?u)\\\\b\\\\w{3,}\\\\b',\n",
    "                             min_df= 3 / len(menu_list), max_df = 0.9)\n",
    "def strip_punct(menu):\n",
    "    menu =re.sub(\"[^a-zA-Z0-9]\", \" \", menu )\n",
    "    menu =re.sub(\"[0-9]+\", \" \", menu )\n",
    "    return menu\n",
    "menu_list2 = list(map(strip_punct, menu_list))"
   ]
  },
  {
   "cell_type": "code",
   "execution_count": 101,
   "metadata": {
    "collapsed": false
   },
   "outputs": [],
   "source": [
    "v2 = vectorizer.fit_transform(menu_list2)"
   ]
  },
  {
   "cell_type": "code",
   "execution_count": 100,
   "metadata": {
    "collapsed": false
   },
   "outputs": [
    {
     "data": {
      "text/plain": [
       "['cafe',\n",
       " 'caff',\n",
       " 'caffe',\n",
       " 'caffeine',\n",
       " 'cajun',\n",
       " 'cake',\n",
       " 'cakes',\n",
       " 'cal',\n",
       " 'calabrian',\n",
       " 'calamari',\n",
       " 'calamata',\n",
       " 'caldo',\n",
       " 'cali',\n",
       " 'california',\n",
       " 'call',\n",
       " 'called',\n",
       " 'calorie',\n",
       " 'calories',\n",
       " 'calzone',\n",
       " 'calzones',\n",
       " 'calzoni',\n",
       " 'cam',\n",
       " 'camaron',\n",
       " 'camarones',\n",
       " 'cambozola',\n",
       " 'camomile',\n",
       " 'campania',\n",
       " 'campari',\n",
       " 'campechana',\n",
       " 'campfire',\n",
       " 'canada',\n",
       " 'canadian',\n",
       " 'candied',\n",
       " 'candies',\n",
       " 'candy',\n",
       " 'cane',\n",
       " 'cannellini',\n",
       " 'cannelloni',\n",
       " 'cannoli',\n",
       " 'cannot',\n",
       " 'canoe',\n",
       " 'canola',\n",
       " 'cans',\n",
       " 'cant',\n",
       " 'cantaloupe',\n",
       " 'cantucci',\n",
       " 'cap',\n",
       " 'cape',\n",
       " 'capellini',\n",
       " 'caper',\n",
       " 'capers',\n",
       " 'caponata',\n",
       " 'cappuccino',\n",
       " 'caprese',\n",
       " 'capri',\n",
       " 'capricciosa',\n",
       " 'caps',\n",
       " 'captain',\n",
       " 'carafe',\n",
       " 'caramba',\n",
       " 'caramel',\n",
       " 'caramelized',\n",
       " 'caraway',\n",
       " 'carb',\n",
       " 'carbon',\n",
       " 'carbonara',\n",
       " 'carbonated',\n",
       " 'carbs',\n",
       " 'cardamom',\n",
       " 'carefully',\n",
       " 'caribbean',\n",
       " 'carlton',\n",
       " 'carmelized',\n",
       " 'carmine',\n",
       " 'carne',\n",
       " 'carnes',\n",
       " 'carnitas',\n",
       " 'carolina',\n",
       " 'carpaccio',\n",
       " 'carpano',\n",
       " 'carraia',\n",
       " 'carrot',\n",
       " 'carrots',\n",
       " 'carry',\n",
       " 'carta',\n",
       " 'carte',\n",
       " 'carved',\n",
       " 'casa',\n",
       " 'case',\n",
       " 'cashew',\n",
       " 'cashews',\n",
       " 'casita',\n",
       " 'casserole',\n",
       " 'cassis',\n",
       " 'cast',\n",
       " 'castello',\n",
       " 'castelvetrana',\n",
       " 'castelvetrano',\n",
       " 'castle',\n",
       " 'castra',\n",
       " 'catch',\n",
       " 'catering',\n",
       " 'caterpillar',\n",
       " 'catfish',\n",
       " 'caught',\n",
       " 'cauliflower',\n",
       " 'cause',\n",
       " 'cava',\n",
       " 'cavatappi',\n",
       " 'cave',\n",
       " 'caviar',\n",
       " 'cavolfiore',\n",
       " 'cayenne',\n",
       " 'ceasar',\n",
       " 'cedar',\n",
       " 'celebration',\n",
       " 'celery',\n",
       " 'cellars',\n",
       " 'cellers',\n",
       " 'center',\n",
       " 'centers',\n",
       " 'centioli',\n",
       " 'central',\n",
       " 'century',\n",
       " 'cereals',\n",
       " 'certified',\n",
       " 'cesare',\n",
       " 'ceviche',\n",
       " 'cha',\n",
       " 'chaat',\n",
       " 'chablis',\n",
       " 'chai',\n",
       " 'chaleur',\n",
       " 'challah',\n",
       " 'chalupa',\n",
       " 'chambord',\n",
       " 'chamel',\n",
       " 'chamomile',\n",
       " 'champagne',\n",
       " 'champignon',\n",
       " 'chandon',\n",
       " 'change',\n",
       " 'changed',\n",
       " 'changes',\n",
       " 'chanterelle',\n",
       " 'chanterelles',\n",
       " 'chantilly',\n",
       " 'char',\n",
       " 'charbroiled',\n",
       " 'charcoal',\n",
       " 'chard',\n",
       " 'chardonnay',\n",
       " 'charge',\n",
       " 'charles',\n",
       " 'charred',\n",
       " 'chat',\n",
       " 'chateau',\n",
       " 'check',\n",
       " 'cheddar',\n",
       " 'cheddarburger',\n",
       " 'chee',\n",
       " 'cheek',\n",
       " 'cheeks',\n",
       " 'cheese',\n",
       " 'cheeseamerican',\n",
       " 'cheeseburger',\n",
       " 'cheesecake',\n",
       " 'cheeses',\n",
       " 'cheesesteak',\n",
       " 'cheesiness',\n",
       " 'cheesy',\n",
       " 'chef',\n",
       " 'chefs',\n",
       " 'chenin',\n",
       " 'cherries',\n",
       " 'cherry',\n",
       " 'chestnut',\n",
       " 'chestnuts',\n",
       " 'chevre',\n",
       " 'chewy',\n",
       " 'chianti',\n",
       " 'chiarli',\n",
       " 'chic',\n",
       " 'chicago',\n",
       " 'chicana',\n",
       " 'chick',\n",
       " 'chickn',\n",
       " 'chickpea',\n",
       " 'chickpeas',\n",
       " 'chico',\n",
       " 'child',\n",
       " 'children',\n",
       " 'chile',\n",
       " 'chilean',\n",
       " 'chiles',\n",
       " 'chili',\n",
       " 'chilies',\n",
       " 'chilis',\n",
       " 'chilitm',\n",
       " 'chilled',\n",
       " 'chilli',\n",
       " 'chimichanga',\n",
       " 'chimichangas',\n",
       " 'chimichurri',\n",
       " 'chin',\n",
       " 'chinese',\n",
       " 'chip',\n",
       " 'chipotle',\n",
       " 'chipper',\n",
       " 'chips',\n",
       " 'chirashi',\n",
       " 'chivas',\n",
       " 'chive',\n",
       " 'chives',\n",
       " 'choc',\n",
       " 'chocolate',\n",
       " 'chocolatey',\n",
       " 'chocolaty',\n",
       " 'choice',\n",
       " 'choices',\n",
       " 'cholesterol',\n",
       " 'chomp',\n",
       " 'choose',\n",
       " 'chop',\n",
       " 'chophouse',\n",
       " 'chopped',\n",
       " 'chopper',\n",
       " 'chops',\n",
       " 'chorizo',\n",
       " 'chow',\n",
       " 'chowder',\n",
       " 'choy',\n",
       " 'christi',\n",
       " 'chuck',\n",
       " 'chuckanut',\n",
       " 'chunk',\n",
       " 'chunks',\n",
       " 'chunky',\n",
       " 'churros',\n",
       " 'chutney',\n",
       " 'ciabatta',\n",
       " 'cider',\n",
       " 'cilantro',\n",
       " 'cinna',\n",
       " 'cinnamon',\n",
       " 'cioppino',\n",
       " 'cipollini',\n",
       " 'circa',\n",
       " 'ciro',\n",
       " 'citron',\n",
       " 'citrus',\n",
       " 'citrusy',\n",
       " 'city',\n",
       " 'claim',\n",
       " 'clam',\n",
       " 'clamato',\n",
       " 'clamdigger',\n",
       " 'clams',\n",
       " 'clamstrips',\n",
       " 'classic',\n",
       " 'classico',\n",
       " 'classics',\n",
       " 'classicwith',\n",
       " 'classy',\n",
       " 'claw',\n",
       " 'clay',\n",
       " 'clean',\n",
       " 'cleansing',\n",
       " 'clear',\n",
       " 'cleto',\n",
       " 'cliquot',\n",
       " 'clos',\n",
       " 'close',\n",
       " 'clove',\n",
       " 'cloves',\n",
       " 'club',\n",
       " 'clubhouse',\n",
       " 'clubs',\n",
       " 'clucks',\n",
       " 'coast',\n",
       " 'coastal',\n",
       " 'coated',\n",
       " 'coating',\n",
       " 'cob',\n",
       " 'cobb',\n",
       " 'cobbler',\n",
       " 'cobblestone',\n",
       " 'coca',\n",
       " 'cocchi',\n",
       " 'cocktail',\n",
       " 'cocktails',\n",
       " 'coco',\n",
       " 'cocoa',\n",
       " 'coconut',\n",
       " 'cod',\n",
       " 'coffee',\n",
       " 'coffees',\n",
       " 'cognac',\n",
       " 'coho',\n",
       " 'coins',\n",
       " 'cointreau',\n",
       " 'coke',\n",
       " 'cola',\n",
       " 'colada',\n",
       " 'colby',\n",
       " 'cold',\n",
       " 'cole',\n",
       " 'coleslaw',\n",
       " 'collection',\n",
       " 'collins',\n",
       " 'colonel',\n",
       " 'color',\n",
       " 'colorado',\n",
       " 'colored',\n",
       " 'colossal',\n",
       " 'columbia',\n",
       " 'combination',\n",
       " 'combinations',\n",
       " 'combine',\n",
       " 'combined',\n",
       " 'combines',\n",
       " 'combo',\n",
       " 'combos',\n",
       " 'comes',\n",
       " 'comfort',\n",
       " 'commands',\n",
       " 'companion',\n",
       " 'complement',\n",
       " 'complemented',\n",
       " 'complements',\n",
       " 'complete',\n",
       " 'complex',\n",
       " 'complimentary',\n",
       " 'compote',\n",
       " 'concentrated',\n",
       " 'concoction',\n",
       " 'condiment',\n",
       " 'condiments',\n",
       " 'cone',\n",
       " 'confit',\n",
       " 'conscious',\n",
       " 'consists',\n",
       " 'contact',\n",
       " 'contain',\n",
       " 'containing',\n",
       " 'contains',\n",
       " 'content',\n",
       " 'contorni',\n",
       " 'cook',\n",
       " 'cooked',\n",
       " 'cookie',\n",
       " 'cookies',\n",
       " 'cooks',\n",
       " 'cool',\n",
       " 'cooler',\n",
       " 'coors',\n",
       " 'coppa',\n",
       " 'copper',\n",
       " 'coppola',\n",
       " 'cordon',\n",
       " 'coriander',\n",
       " 'corn',\n",
       " 'cornbread',\n",
       " 'corned',\n",
       " 'cornetto',\n",
       " 'cornmeal',\n",
       " 'corona',\n",
       " 'corporation',\n",
       " 'corralejo',\n",
       " 'corrected',\n",
       " 'corretto',\n",
       " 'cosmo',\n",
       " 'cosmopolitan',\n",
       " 'cost',\n",
       " 'cotija',\n",
       " 'cotta',\n",
       " 'cottage',\n",
       " 'cotto',\n",
       " 'could',\n",
       " 'coulis',\n",
       " 'country',\n",
       " 'county',\n",
       " 'course',\n",
       " 'courvoisier',\n",
       " 'couscous',\n",
       " 'cove',\n",
       " 'cover',\n",
       " 'covered',\n",
       " 'covering',\n",
       " 'cowboy',\n",
       " 'cowpokes',\n",
       " 'crab',\n",
       " 'crabmeat',\n",
       " 'cracked',\n",
       " 'cracker',\n",
       " 'crackers',\n",
       " 'craft',\n",
       " 'crafted',\n",
       " 'crammed',\n",
       " 'cranberries',\n",
       " 'cranberry',\n",
       " 'crave',\n",
       " 'craveable',\n",
       " 'craves',\n",
       " 'craving',\n",
       " 'crawfish',\n",
       " 'crawford',\n",
       " 'crazy',\n",
       " 'cream',\n",
       " 'creame',\n",
       " 'creamed',\n",
       " 'creamery',\n",
       " 'creams',\n",
       " 'creamtopped',\n",
       " 'creamy',\n",
       " 'create',\n",
       " 'created',\n",
       " 'creativity',\n",
       " 'creek',\n",
       " 'crema',\n",
       " 'creme',\n",
       " 'cremini',\n",
       " 'creole',\n",
       " 'crepe',\n",
       " 'crepes',\n",
       " 'crescent',\n",
       " 'crest',\n",
       " 'crimini',\n",
       " 'criminis',\n",
       " 'crinkle',\n",
       " 'criolla',\n",
       " 'crisp',\n",
       " 'crisped',\n",
       " 'crispi',\n",
       " 'crisply',\n",
       " 'crisps',\n",
       " 'crispy',\n",
       " 'croissant',\n",
       " 'croque',\n",
       " 'croquette',\n",
       " 'croquettes',\n",
       " 'cross',\n",
       " 'crostini',\n",
       " 'crouton',\n",
       " 'croutons',\n",
       " 'crown',\n",
       " 'crowned',\n",
       " 'crudo',\n",
       " 'crumb',\n",
       " 'crumble',\n",
       " 'crumbled',\n",
       " 'crumbles',\n",
       " 'crumbs',\n",
       " 'crunch',\n",
       " 'crunchy',\n",
       " 'crushed',\n",
       " 'crusher',\n",
       " 'crust',\n",
       " 'crusted',\n",
       " 'crustos',\n",
       " 'crusts',\n",
       " 'crusty',\n",
       " 'crute',\n",
       " 'cruzan',\n",
       " 'crying',\n",
       " 'crystal',\n",
       " 'cuautla',\n",
       " 'cuban',\n",
       " 'cube',\n",
       " 'cubed',\n",
       " 'cubes',\n",
       " 'cucumber',\n",
       " 'cucumbers',\n",
       " 'cuddle',\n",
       " 'cuervo',\n",
       " 'cuisine',\n",
       " 'cuke',\n",
       " 'culinary',\n",
       " 'cumin',\n",
       " 'cuon',\n",
       " 'cup',\n",
       " 'cups',\n",
       " 'curd',\n",
       " 'curds',\n",
       " 'cured',\n",
       " 'curly',\n",
       " 'currant',\n",
       " 'currants',\n",
       " 'current',\n",
       " 'curried',\n",
       " 'curries',\n",
       " 'curry',\n",
       " 'custard',\n",
       " 'custom',\n",
       " 'customer',\n",
       " 'customers',\n",
       " 'customize',\n",
       " 'cut',\n",
       " 'cutlet',\n",
       " 'cutrer',\n",
       " 'cuts',\n",
       " 'cuv',\n",
       " 'cuz',\n",
       " 'dac',\n",
       " 'daikon',\n",
       " 'daily',\n",
       " 'daiquiri',\n",
       " 'dairy',\n",
       " 'dance',\n",
       " 'daniel',\n",
       " 'danish',\n",
       " 'daring',\n",
       " 'dark',\n",
       " 'dasani',\n",
       " 'dash',\n",
       " 'dashes',\n",
       " 'dashi',\n",
       " 'dates',\n",
       " 'dating',\n",
       " 'dau',\n",
       " 'daughters',\n",
       " 'dave',\n",
       " 'day',\n",
       " 'days',\n",
       " 'dazzled',\n",
       " 'dbl',\n",
       " 'dead',\n",
       " 'deal',\n",
       " 'decadence',\n",
       " 'decadent',\n",
       " 'decaf',\n",
       " 'decker',\n",
       " 'decorated',\n",
       " 'deep',\n",
       " 'delectable',\n",
       " 'deli',\n",
       " 'delicacy',\n",
       " 'delicate',\n",
       " 'delicately',\n",
       " 'delicioso',\n",
       " 'delicious',\n",
       " 'deliciously',\n",
       " 'deliciousness',\n",
       " 'deliciousnesstopped',\n",
       " 'delight',\n",
       " 'delightful',\n",
       " 'delights',\n",
       " 'delille',\n",
       " 'delite',\n",
       " 'delivered',\n",
       " 'delivers',\n",
       " 'delivery',\n",
       " 'delizioso',\n",
       " 'delmonico',\n",
       " 'deluxe',\n",
       " 'demi',\n",
       " 'demitasse',\n",
       " 'dense',\n",
       " 'denver',\n",
       " 'depth',\n",
       " 'deschutes',\n",
       " 'desert',\n",
       " 'desire',\n",
       " 'dessert',\n",
       " 'desserts',\n",
       " 'destruction',\n",
       " 'details',\n",
       " 'deviled',\n",
       " 'devour',\n",
       " 'dew',\n",
       " 'diabla',\n",
       " 'diablo',\n",
       " 'diamond',\n",
       " 'diavolo',\n",
       " 'diced',\n",
       " 'didn',\n",
       " 'diet',\n",
       " 'different',\n",
       " 'differently',\n",
       " 'digestivi',\n",
       " 'dijon',\n",
       " 'dill',\n",
       " 'dilld',\n",
       " 'dim',\n",
       " 'dine',\n",
       " 'diner',\n",
       " 'dining',\n",
       " 'dinner',\n",
       " 'dinners',\n",
       " 'dip',\n",
       " 'dipped',\n",
       " 'dippers',\n",
       " 'dippin',\n",
       " 'dipping',\n",
       " 'directly',\n",
       " 'discerning',\n",
       " 'discriminating',\n",
       " 'dish',\n",
       " 'dishes',\n",
       " 'distilled',\n",
       " 'distillery',\n",
       " 'distinct',\n",
       " 'distinctive',\n",
       " 'distinguished',\n",
       " 'ditalini',\n",
       " 'dive',\n",
       " 'diver',\n",
       " 'divine',\n",
       " 'doc',\n",
       " 'doccantele',\n",
       " 'docg',\n",
       " 'dociovine',\n",
       " 'docstefanini',\n",
       " 'doctor',\n",
       " 'doesn',\n",
       " 'doesnt',\n",
       " 'dogs',\n",
       " 'dolce',\n",
       " 'dolci',\n",
       " 'dollar',\n",
       " 'dollop',\n",
       " 'dom',\n",
       " 'domaine',\n",
       " 'domani',\n",
       " 'domestic',\n",
       " 'domino',\n",
       " 'done',\n",
       " 'dont',\n",
       " 'doppio',\n",
       " 'doritos',\n",
       " 'double',\n",
       " 'dough',\n",
       " 'doul',\n",
       " 'dozen',\n",
       " 'dqpc',\n",
       " 'draft',\n",
       " 'drafts',\n",
       " 'dragon',\n",
       " 'dream',\n",
       " 'drenched',\n",
       " 'dress',\n",
       " 'dressed',\n",
       " 'dressing',\n",
       " 'dressings',\n",
       " 'dried',\n",
       " 'drink',\n",
       " 'drinks',\n",
       " 'drive',\n",
       " 'drizzle',\n",
       " 'drizzled',\n",
       " 'drop',\n",
       " 'drouhin',\n",
       " 'drunken',\n",
       " 'dry',\n",
       " 'duck',\n",
       " 'duckhorn',\n",
       " 'dude',\n",
       " 'due',\n",
       " 'duet',\n",
       " 'dumpling',\n",
       " 'dumplings',\n",
       " 'dundee',\n",
       " 'dungeness',\n",
       " 'dunkers',\n",
       " 'duo',\n",
       " 'dusted',\n",
       " 'dutch',\n",
       " 'dynamite',\n",
       " 'ear',\n",
       " 'earl',\n",
       " 'early',\n",
       " 'east',\n",
       " 'eastern',\n",
       " 'easy',\n",
       " 'eat',\n",
       " 'eaten',\n",
       " 'eater',\n",
       " 'eaters',\n",
       " 'eating',\n",
       " 'ebi',\n",
       " 'ecco',\n",
       " 'ecole',\n",
       " 'edamame',\n",
       " 'eeche',\n",
       " 'eel',\n",
       " 'effervescently',\n",
       " 'efoli',\n",
       " 'egg',\n",
       " 'eggplant',\n",
       " 'eggrolls',\n",
       " 'eggs',\n",
       " 'eight',\n",
       " 'either',\n",
       " 'elderberry',\n",
       " 'elderflower',\n",
       " 'elegant',\n",
       " 'else',\n",
       " 'embrace',\n",
       " 'emerald',\n",
       " 'emilia',\n",
       " 'empanada',\n",
       " 'empanadas',\n",
       " 'enchilada',\n",
       " 'enchiladas',\n",
       " 'encounters',\n",
       " 'endive',\n",
       " 'energizing',\n",
       " 'energy',\n",
       " 'england',\n",
       " 'english',\n",
       " 'enhance',\n",
       " 'enhanced',\n",
       " 'enjoy',\n",
       " 'enjoyable',\n",
       " 'enjoying',\n",
       " 'enjoyment',\n",
       " 'enoki',\n",
       " 'enough',\n",
       " 'ensalada',\n",
       " 'ensaladas',\n",
       " 'ensenada',\n",
       " 'ensures',\n",
       " 'entr',\n",
       " 'entree',\n",
       " 'entrees',\n",
       " 'eola',\n",
       " 'epic',\n",
       " 'escarole',\n",
       " 'especial',\n",
       " 'especiales',\n",
       " 'especialidades',\n",
       " 'especially',\n",
       " 'espresso',\n",
       " 'essence',\n",
       " 'essential',\n",
       " 'essentials',\n",
       " 'estancia',\n",
       " 'estate',\n",
       " 'estates',\n",
       " 'etc',\n",
       " 'european',\n",
       " 'evan',\n",
       " 'eve',\n",
       " 'even',\n",
       " 'ever',\n",
       " 'every',\n",
       " 'everyday',\n",
       " 'everyone',\n",
       " 'everyones',\n",
       " 'everything',\n",
       " 'evoo',\n",
       " 'exactly',\n",
       " 'excellent',\n",
       " 'except',\n",
       " 'exception',\n",
       " 'exclusive',\n",
       " 'exclusively',\n",
       " 'exotic',\n",
       " 'experience',\n",
       " 'explosion',\n",
       " 'express',\n",
       " 'expresso',\n",
       " 'exquisite',\n",
       " 'exquisitely',\n",
       " 'extra',\n",
       " 'extras',\n",
       " 'extravaganzza',\n",
       " 'extreme',\n",
       " 'exuberant',\n",
       " 'eye',\n",
       " 'eyes',\n",
       " 'fabulous',\n",
       " 'fabulously',\n",
       " 'face',\n",
       " 'faced',\n",
       " 'fagioli',\n",
       " 'fajita',\n",
       " 'fajitas',\n",
       " 'falafel',\n",
       " 'fall',\n",
       " 'falls',\n",
       " 'fame',\n",
       " 'family',\n",
       " 'famous',\n",
       " 'fan',\n",
       " 'fancy',\n",
       " 'fans',\n",
       " 'fanta',\n",
       " 'far',\n",
       " 'fare',\n",
       " 'farm',\n",
       " 'farmer',\n",
       " 'farmers',\n",
       " 'farmhouse',\n",
       " 'farms',\n",
       " 'farmstead',\n",
       " 'fashion',\n",
       " 'fashioned',\n",
       " 'fat',\n",
       " 'fatty',\n",
       " 'fava',\n",
       " 'favorite',\n",
       " 'favorites',\n",
       " 'favourites',\n",
       " 'fbl',\n",
       " 'feast',\n",
       " 'feature',\n",
       " 'featured',\n",
       " 'features',\n",
       " 'featuring',\n",
       " 'fed',\n",
       " 'fee',\n",
       " 'feed',\n",
       " 'feel',\n",
       " 'fennel',\n",
       " 'fermented',\n",
       " 'fernet',\n",
       " 'feta',\n",
       " 'fettuccine',\n",
       " 'fettuccini',\n",
       " 'fettucine',\n",
       " 'fettucini',\n",
       " 'feudi',\n",
       " 'fiber',\n",
       " 'field',\n",
       " 'fiery',\n",
       " 'fiesta',\n",
       " 'fig',\n",
       " 'figs',\n",
       " 'filet',\n",
       " 'filete',\n",
       " 'filets',\n",
       " 'filled',\n",
       " 'fillet',\n",
       " 'fillets',\n",
       " 'filling',\n",
       " 'fillings',\n",
       " 'filo',\n",
       " 'filomena',\n",
       " 'fin',\n",
       " 'final',\n",
       " 'find',\n",
       " 'fine',\n",
       " 'finely',\n",
       " 'finest',\n",
       " 'finger',\n",
       " 'fingerling',\n",
       " 'fingers',\n",
       " 'finish',\n",
       " 'finished',\n",
       " 'fire',\n",
       " 'firecracker',\n",
       " 'fired',\n",
       " 'firehouse',\n",
       " 'firm',\n",
       " 'first',\n",
       " 'fish',\n",
       " 'fishermans',\n",
       " 'fit',\n",
       " 'fittingly',\n",
       " 'five',\n",
       " 'fladgate',\n",
       " 'flagship',\n",
       " 'flair',\n",
       " 'flake',\n",
       " 'flaked',\n",
       " 'flakes',\n",
       " 'flaky',\n",
       " 'flame',\n",
       " 'flames',\n",
       " 'flan',\n",
       " 'flank',\n",
       " 'flanks',\n",
       " 'flash',\n",
       " 'flat',\n",
       " 'flatbread',\n",
       " 'flatbreads',\n",
       " 'flautas',\n",
       " 'flavor',\n",
       " 'flavored',\n",
       " 'flavorful',\n",
       " 'flavors',\n",
       " 'flavours',\n",
       " 'float',\n",
       " 'floral',\n",
       " 'florentine',\n",
       " 'florets',\n",
       " 'flour',\n",
       " 'flourless',\n",
       " 'flower',\n",
       " 'flowers',\n",
       " 'fluffy',\n",
       " 'fly',\n",
       " 'flying',\n",
       " 'foam',\n",
       " 'focaccia',\n",
       " 'foccacia',\n",
       " 'focused',\n",
       " 'folded',\n",
       " 'folks',\n",
       " 'following',\n",
       " 'fonduta',\n",
       " 'fonseca',\n",
       " 'fontina',\n",
       " 'foo',\n",
       " 'food',\n",
       " 'foods',\n",
       " 'fool',\n",
       " 'foot',\n",
       " 'forest',\n",
       " 'forget',\n",
       " 'fork',\n",
       " 'formaggi',\n",
       " 'formed',\n",
       " 'formidable',\n",
       " 'formula',\n",
       " 'forno',\n",
       " 'fortified',\n",
       " 'fortune',\n",
       " 'found',\n",
       " 'founders',\n",
       " 'fountain',\n",
       " 'four',\n",
       " 'fragrance',\n",
       " 'fragrant',\n",
       " 'fraiche',\n",
       " 'franc',\n",
       " 'france',\n",
       " 'francisco',\n",
       " 'franco',\n",
       " 'frangelico',\n",
       " 'franks',\n",
       " 'free',\n",
       " 'french',\n",
       " 'fresca',\n",
       " 'fresco',\n",
       " 'fresh',\n",
       " 'freshest',\n",
       " 'freshly',\n",
       " 'freshness',\n",
       " 'fresno',\n",
       " 'friday',\n",
       " 'fried',\n",
       " 'friend',\n",
       " 'fries',\n",
       " 'frijoles',\n",
       " 'fris',\n",
       " 'frita',\n",
       " 'fritas',\n",
       " 'frites',\n",
       " 'frito',\n",
       " 'fritos',\n",
       " 'fritters',\n",
       " 'fritti',\n",
       " 'fritto',\n",
       " 'frizzante',\n",
       " 'frizzanti',\n",
       " 'frizzled',\n",
       " 'frog',\n",
       " 'frontega',\n",
       " 'frosted',\n",
       " 'frosting',\n",
       " 'frosty',\n",
       " 'frozen',\n",
       " 'fruit',\n",
       " 'fruits',\n",
       " 'fruity',\n",
       " 'fry',\n",
       " 'fudge',\n",
       " 'fuji',\n",
       " 'full',\n",
       " 'fully',\n",
       " 'fun',\n",
       " 'fundido',\n",
       " 'funghi',\n",
       " 'fungus',\n",
       " 'gai',\n",
       " 'gala',\n",
       " 'galanga',\n",
       " 'galangal',\n",
       " 'gallo',\n",
       " 'galore',\n",
       " 'gamberi',\n",
       " 'game',\n",
       " 'gan',\n",
       " 'ganache',\n",
       " 'garbanzo',\n",
       " 'garbanzos',\n",
       " 'garden',\n",
       " 'gardenburge',\n",
       " 'gardenburger',\n",
       " 'garlic',\n",
       " 'garnish',\n",
       " 'garnished',\n",
       " 'gastrique',\n",
       " 'gatherings',\n",
       " 'gau',\n",
       " 'gay',\n",
       " 'gelati',\n",
       " 'gelatiamo',\n",
       " ...]"
      ]
     },
     "execution_count": 100,
     "metadata": {},
     "output_type": "execute_result"
    }
   ],
   "source": [
    "vectorizer.get_feature_names()[500:]"
   ]
  },
  {
   "cell_type": "code",
   "execution_count": 21,
   "metadata": {
    "collapsed": false
   },
   "outputs": [
    {
     "data": {
      "text/plain": [
       "332"
      ]
     },
     "execution_count": 21,
     "metadata": {},
     "output_type": "execute_result"
    }
   ],
   "source": [
    "importlib.reload(fem)\n",
    "menu_obj = [fem.wordify_json_menu(menu['menus'], stopwords.words()) for menu in fs_menus_rated]\n",
    "[parsed_fs_menus, num_items, num_sections, num_menus] = zip(*menu_obj)\n",
    "parsed_fs_menus = list(parsed_fs_menus)\n",
    "len(parsed_fs_menus)"
   ]
  },
  {
   "cell_type": "markdown",
   "metadata": {},
   "source": [
    "## Locu menu parsing\n",
    "Each json is a list: first element is the name, second element is a json object of the menu\n",
    "Each menu is a list of sub_menus\n",
    "Each sub_menu has keys: menu_name, sections, currency_symbol"
   ]
  },
  {
   "cell_type": "code",
   "execution_count": 108,
   "metadata": {
    "collapsed": false
   },
   "outputs": [
    {
     "data": {
      "text/plain": [
       "245"
      ]
     },
     "execution_count": 108,
     "metadata": {},
     "output_type": "execute_result"
    }
   ],
   "source": [
    "# menu[0] has the restaurant name; get all restaurants whose name is in the foursquare dataframe\n",
    "locu_fs_menus = [menu for menu in locu_menus if menu[0] in fs_resto_df.index]\n",
    "len(locu_fs_menus)"
   ]
  },
  {
   "cell_type": "code",
   "execution_count": 109,
   "metadata": {
    "collapsed": false
   },
   "outputs": [
    {
     "data": {
      "text/plain": [
       "245"
      ]
     },
     "execution_count": 109,
     "metadata": {},
     "output_type": "execute_result"
    }
   ],
   "source": [
    "# get the foursquare ids of the locu restaurants\n",
    "def parse_ids(ids_in):\n",
    "    if type(ids_in) == str:\n",
    "        return ids_in\n",
    "    else:\n",
    "        return list(ids_in)[0]\n",
    "locu_fs_ids = [parse_ids(fs_resto_df.loc[ menu[0]]['id'] ) for menu in locu_fs_menus]\n",
    "len(locu_fs_ids)"
   ]
  },
  {
   "cell_type": "code",
   "execution_count": 112,
   "metadata": {
    "collapsed": false
   },
   "outputs": [
    {
     "data": {
      "text/plain": [
       "233"
      ]
     },
     "execution_count": 112,
     "metadata": {},
     "output_type": "execute_result"
    }
   ],
   "source": [
    "locu_menu_no_fs_menu = [menu for i, menu in enumerate(locu_fs_menus) if locu_fs_ids[i] not in fs_id]\n",
    "len(locu_menu_no_fs_menu)"
   ]
  },
  {
   "cell_type": "code",
   "execution_count": null,
   "metadata": {
    "collapsed": false
   },
   "outputs": [],
   "source": [
    "locu_fs_ids = [parse_ids(fs_resto_df.loc[ menu[0]]['id'] ) for menu in locu_menu_no_fs_menu]\n",
    "len(locu_fs_ids)"
   ]
  },
  {
   "cell_type": "code",
   "execution_count": null,
   "metadata": {
    "collapsed": false
   },
   "outputs": [],
   "source": [
    "locu_menu_has_fs_id = [menu for i, menu in enumerate(locu_menu_no_fs_menu) if locu_fs_ids[i] in fs_df.id.values]\n",
    "len(locu_menu_has_fs_id)"
   ]
  },
  {
   "cell_type": "code",
   "execution_count": null,
   "metadata": {
    "collapsed": false
   },
   "outputs": [],
   "source": [
    "importlib.reload(fem)\n",
    "menu_obj = [fem.wordify_json_menu(menu, stopwords.words()) for menu in locu_menu_no_fs_menu]\n",
    "[parsed_locu_menus, num_items, num_sections, num_menus] = zip(*menu_obj)\n",
    "parsed_locu_menus = list(parsed_locu_menus)\n",
    "len(parsed_locu_menus)"
   ]
  },
  {
   "cell_type": "markdown",
   "metadata": {},
   "source": [
    "### Bag of words"
   ]
  },
  {
   "cell_type": "code",
   "execution_count": 118,
   "metadata": {
    "collapsed": false
   },
   "outputs": [
    {
     "ename": "NameError",
     "evalue": "name 'parsed_locu_menus' is not defined",
     "output_type": "error",
     "traceback": [
      "\u001b[1;31m---------------------------------------------------------------------------\u001b[0m",
      "\u001b[1;31mNameError\u001b[0m                                 Traceback (most recent call last)",
      "\u001b[1;32m<ipython-input-118-69994ff1f7f8>\u001b[0m in \u001b[0;36m<module>\u001b[1;34m()\u001b[0m\n\u001b[1;32m----> 1\u001b[1;33m \u001b[0mcombined_menus\u001b[0m \u001b[1;33m=\u001b[0m \u001b[0mparsed_locu_menus\u001b[0m\u001b[1;33m\u001b[0m\u001b[0m\n\u001b[0m\u001b[0;32m      2\u001b[0m \u001b[0mcombined_menus\u001b[0m\u001b[1;33m.\u001b[0m\u001b[0mextend\u001b[0m\u001b[1;33m(\u001b[0m\u001b[0mparsed_fs_menus\u001b[0m\u001b[1;33m)\u001b[0m\u001b[1;33m\u001b[0m\u001b[0m\n\u001b[0;32m      3\u001b[0m \u001b[0mlen\u001b[0m\u001b[1;33m(\u001b[0m\u001b[0mcombined_menus\u001b[0m\u001b[1;33m)\u001b[0m\u001b[1;33m\u001b[0m\u001b[0m\n",
      "\u001b[1;31mNameError\u001b[0m: name 'parsed_locu_menus' is not defined"
     ]
    }
   ],
   "source": [
    "combined_menus = parsed_locu_menus\n",
    "combined_menus.extend(parsed_fs_menus)\n",
    "len(combined_menus)"
   ]
  },
  {
   "cell_type": "code",
   "execution_count": null,
   "metadata": {
    "collapsed": false
   },
   "outputs": [],
   "source": []
  },
  {
   "cell_type": "code",
   "execution_count": 116,
   "metadata": {
    "collapsed": false
   },
   "outputs": [],
   "source": [
    "from sklearn.feature_extraction.text import CountVectorizer\n",
    "menu_vectorizer = CountVectorizer(max_features=3000)"
   ]
  },
  {
   "cell_type": "code",
   "execution_count": 117,
   "metadata": {
    "collapsed": false
   },
   "outputs": [
    {
     "ename": "NameError",
     "evalue": "name 'combined_menus' is not defined",
     "output_type": "error",
     "traceback": [
      "\u001b[1;31m---------------------------------------------------------------------------\u001b[0m",
      "\u001b[1;31mNameError\u001b[0m                                 Traceback (most recent call last)",
      "\u001b[1;32m<ipython-input-117-6e2a5d376abb>\u001b[0m in \u001b[0;36m<module>\u001b[1;34m()\u001b[0m\n\u001b[1;32m----> 1\u001b[1;33m \u001b[0mmenu_features\u001b[0m \u001b[1;33m=\u001b[0m \u001b[0mmenu_vectorizer\u001b[0m\u001b[1;33m.\u001b[0m\u001b[0mfit_transform\u001b[0m\u001b[1;33m(\u001b[0m\u001b[0mcombined_menus\u001b[0m\u001b[1;33m)\u001b[0m\u001b[1;33m\u001b[0m\u001b[0m\n\u001b[0m\u001b[0;32m      2\u001b[0m \u001b[0mmenu_features\u001b[0m\u001b[1;33m.\u001b[0m\u001b[0mshape\u001b[0m\u001b[1;33m\u001b[0m\u001b[0m\n",
      "\u001b[1;31mNameError\u001b[0m: name 'combined_menus' is not defined"
     ]
    }
   ],
   "source": [
    "menu_features = menu_vectorizer.fit_transform(combined_menus)\n",
    "menu_features.shape"
   ]
  },
  {
   "cell_type": "code",
   "execution_count": 111,
   "metadata": {
    "collapsed": false
   },
   "outputs": [
    {
     "data": {
      "text/plain": [
       "332"
      ]
     },
     "execution_count": 111,
     "metadata": {},
     "output_type": "execute_result"
    }
   ],
   "source": [
    "fs_id = [menu['id'] for menu in fs_menus_rated]\n",
    "len(fs_id)"
   ]
  },
  {
   "cell_type": "code",
   "execution_count": 113,
   "metadata": {
    "collapsed": false
   },
   "outputs": [
    {
     "data": {
      "text/html": [
       "<div>\n",
       "<table border=\"1\" class=\"dataframe\">\n",
       "  <thead>\n",
       "    <tr style=\"text-align: right;\">\n",
       "      <th></th>\n",
       "      <th>categories</th>\n",
       "      <th>checkinsCount</th>\n",
       "      <th>id</th>\n",
       "      <th>phone</th>\n",
       "      <th>rating</th>\n",
       "      <th>tier</th>\n",
       "      <th>tipCount</th>\n",
       "      <th>usersCount</th>\n",
       "    </tr>\n",
       "    <tr>\n",
       "      <th>name</th>\n",
       "      <th></th>\n",
       "      <th></th>\n",
       "      <th></th>\n",
       "      <th></th>\n",
       "      <th></th>\n",
       "      <th></th>\n",
       "      <th></th>\n",
       "      <th></th>\n",
       "    </tr>\n",
       "  </thead>\n",
       "  <tbody>\n",
       "    <tr>\n",
       "      <th>Popeyes Louisiana Kitchen</th>\n",
       "      <td>Fried Chicken</td>\n",
       "      <td>470</td>\n",
       "      <td>4aeb5ad8f964a52050c121e3</td>\n",
       "      <td>2538749740</td>\n",
       "      <td>8.1</td>\n",
       "      <td>1</td>\n",
       "      <td>8</td>\n",
       "      <td>287</td>\n",
       "    </tr>\n",
       "    <tr>\n",
       "      <th>Taco Time</th>\n",
       "      <td>Tacos</td>\n",
       "      <td>342</td>\n",
       "      <td>4ba689a7f964a5203e5c39e3</td>\n",
       "      <td>2537351020</td>\n",
       "      <td>7.9</td>\n",
       "      <td>1</td>\n",
       "      <td>5</td>\n",
       "      <td>144</td>\n",
       "    </tr>\n",
       "  </tbody>\n",
       "</table>\n",
       "</div>"
      ],
      "text/plain": [
       "                              categories  checkinsCount  \\\n",
       "name                                                      \n",
       "Popeyes Louisiana Kitchen  Fried Chicken            470   \n",
       "Taco Time                          Tacos            342   \n",
       "\n",
       "                                                 id       phone  rating  tier  \\\n",
       "name                                                                            \n",
       "Popeyes Louisiana Kitchen  4aeb5ad8f964a52050c121e3  2538749740     8.1     1   \n",
       "Taco Time                  4ba689a7f964a5203e5c39e3  2537351020     7.9     1   \n",
       "\n",
       "                           tipCount  usersCount  \n",
       "name                                             \n",
       "Popeyes Louisiana Kitchen         8         287  \n",
       "Taco Time                         5         144  "
      ]
     },
     "execution_count": 113,
     "metadata": {},
     "output_type": "execute_result"
    }
   ],
   "source": [
    "fs_menu_df = fs_resto_df.query('id in @fs_id or id in @locu_fs_ids')\n",
    "fs_menu_df.head(2)"
   ]
  },
  {
   "cell_type": "code",
   "execution_count": 114,
   "metadata": {
    "collapsed": false
   },
   "outputs": [
    {
     "data": {
      "text/plain": [
       "(543, 8)"
      ]
     },
     "execution_count": 114,
     "metadata": {},
     "output_type": "execute_result"
    }
   ],
   "source": [
    "fs_menu_df.shape"
   ]
  },
  {
   "cell_type": "markdown",
   "metadata": {},
   "source": [
    "### Gradient boosted trees"
   ]
  },
  {
   "cell_type": "code",
   "execution_count": null,
   "metadata": {
    "collapsed": false
   },
   "outputs": [],
   "source": [
    "from sklearn.ensemble import GradientBoostingRegressor\n",
    "menu_boost_regressor = GradientBoostingRegressor(n_estimators=50, max_depth = 10, min_samples_leaf=2)"
   ]
  },
  {
   "cell_type": "code",
   "execution_count": null,
   "metadata": {
    "collapsed": false
   },
   "outputs": [],
   "source": [
    "menu_boost_regressor.fit(menu_features, fs_menu_df['rating'])\n",
    "menu_boost_regressor.score(menu_features.toarray(), fs_menu_df['rating'])"
   ]
  },
  {
   "cell_type": "code",
   "execution_count": null,
   "metadata": {
    "collapsed": false
   },
   "outputs": [],
   "source": [
    "importances = menu_boost_regressor.feature_importances_\n",
    "indices = np.argsort(importances)\n",
    "menu_feature_names = np.array(menu_vectorizer.get_feature_names() )\n",
    "list(sorted(zip(importances, menu_feature_names), reverse = True) )[:10]"
   ]
  },
  {
   "cell_type": "code",
   "execution_count": null,
   "metadata": {
    "collapsed": false
   },
   "outputs": [],
   "source": [
    "first_tree = menu_regressor.estimators_[0][0]\n",
    "from sklearn.tree import export_graphviz\n",
    "export_graphviz(first_tree.tree_, out_file='menu_tree.dot', feature_names = menu_feature_names)"
   ]
  },
  {
   "cell_type": "code",
   "execution_count": null,
   "metadata": {
    "collapsed": false
   },
   "outputs": [],
   "source": [
    "# seed is important\n",
    "seed_index = np.arange(2000)[menu_feature_names == 'seed']"
   ]
  },
  {
   "cell_type": "code",
   "execution_count": null,
   "metadata": {
    "collapsed": false
   },
   "outputs": [],
   "source": [
    "seed_feature = menu_features[:,seed_index].toarray()\n",
    "seed_feature = np.array([x[0] for x in seed_feature] )"
   ]
  },
  {
   "cell_type": "code",
   "execution_count": null,
   "metadata": {
    "collapsed": false
   },
   "outputs": [],
   "source": [
    "fs_menu_df['rating'].mean()"
   ]
  },
  {
   "cell_type": "code",
   "execution_count": null,
   "metadata": {
    "collapsed": false,
    "scrolled": true
   },
   "outputs": [],
   "source": [
    "fs_menu_df['rating'][seed_feature > 0].mean()"
   ]
  },
  {
   "cell_type": "code",
   "execution_count": null,
   "metadata": {
    "collapsed": false
   },
   "outputs": [],
   "source": [
    "fs_menu_df['rating'][seed_feature2 > 0][:5]"
   ]
  },
  {
   "cell_type": "code",
   "execution_count": null,
   "metadata": {
    "collapsed": true
   },
   "outputs": [],
   "source": [
    "# seed is important\n",
    "risotto_index = np.arange(2000)[menu_feature_names == 'risotto']"
   ]
  },
  {
   "cell_type": "code",
   "execution_count": null,
   "metadata": {
    "collapsed": false
   },
   "outputs": [],
   "source": [
    "risoto_feature = menu_features[:,risotto_index].toarray()\n",
    "risoto_feature = np.array([x[0] for x in risoto_feature] )"
   ]
  },
  {
   "cell_type": "code",
   "execution_count": null,
   "metadata": {
    "collapsed": false
   },
   "outputs": [],
   "source": [
    "fs_menu_df['rating'][risoto_feature>0][:5]"
   ]
  },
  {
   "cell_type": "markdown",
   "metadata": {},
   "source": [
    "### Elasticnet regression"
   ]
  },
  {
   "cell_type": "code",
   "execution_count": null,
   "metadata": {
    "collapsed": true
   },
   "outputs": [],
   "source": [
    "from sklearn.linear_model import ElasticNetCV\n",
    "menu_elastic_net = ElasticNetCV(cv = 2, normalize=True, max_iter=500, n_jobs=2)"
   ]
  },
  {
   "cell_type": "code",
   "execution_count": null,
   "metadata": {
    "collapsed": false
   },
   "outputs": [],
   "source": [
    "menu_elastic_net.fit(menu_features, fs_menu_df['rating'])"
   ]
  },
  {
   "cell_type": "code",
   "execution_count": null,
   "metadata": {
    "collapsed": false
   },
   "outputs": [],
   "source": [
    "menu_elastic_net.score(menu_features, fs_menu_df['rating'])"
   ]
  },
  {
   "cell_type": "code",
   "execution_count": null,
   "metadata": {
    "collapsed": false
   },
   "outputs": [],
   "source": [
    "best_coeff = np.argsort(np.abs(menu_elastic_net.coef_))[-25:]\n",
    "list(zip(menu_feature_names[best_coeff], menu_elastic_net.coef_[best_coeff]))"
   ]
  },
  {
   "cell_type": "markdown",
   "metadata": {},
   "source": [
    "### Get all keys in json"
   ]
  },
  {
   "cell_type": "code",
   "execution_count": null,
   "metadata": {
    "collapsed": false
   },
   "outputs": [],
   "source": [
    "def get_keys(json, json_keys = set()):\n",
    "    #pdb.set_trace()\n",
    "    if type(json) == dict:\n",
    "        for key in json.keys():\n",
    "            json_keys.add( key )\n",
    "            json_keys.update(get_keys(json[key]))\n",
    "    elif type(json) == list:\n",
    "        for element in json:\n",
    "            json_keys.update(get_keys(element))\n",
    "    return json_keys"
   ]
  },
  {
   "cell_type": "code",
   "execution_count": null,
   "metadata": {
    "collapsed": false
   },
   "outputs": [],
   "source": [
    "all_keys = get_keys(fs_menus_rated)\n",
    "all_keys"
   ]
  },
  {
   "cell_type": "code",
   "execution_count": null,
   "metadata": {
    "collapsed": true
   },
   "outputs": [],
   "source": []
  }
 ],
 "metadata": {
  "kernelspec": {
   "display_name": "Python 3",
   "language": "python",
   "name": "python3"
  },
  "language_info": {
   "codemirror_mode": {
    "name": "ipython",
    "version": 3
   },
   "file_extension": ".py",
   "mimetype": "text/x-python",
   "name": "python",
   "nbconvert_exporter": "python",
   "pygments_lexer": "ipython3",
   "version": "3.4.3"
  }
 },
 "nbformat": 4,
 "nbformat_minor": 0
}
