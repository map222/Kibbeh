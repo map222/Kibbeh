{
 "cells": [
  {
   "cell_type": "markdown",
   "metadata": {},
   "source": [
    "# To do:\n",
    "\n",
    "Structure data so that yelp and foursquare IDs are matched to menus\n",
    "\n",
    "Combine foursquare and yelp menus\n",
    "\n",
    "Get prices from Foursquare"
   ]
  },
  {
   "cell_type": "code",
   "execution_count": 1,
   "metadata": {
    "collapsed": false
   },
   "outputs": [],
   "source": [
    "import requests\n",
    "import os\n",
    "import importlib\n",
    "import pandas as pd\n",
    "import numpy as np\n",
    "%matplotlib inline\n",
    "import pdb\n",
    "import json\n",
    "import time\n",
    "from Kibbeh.src import feature_extract_resto\n",
    "from Kibbeh.src import API_io\n",
    "import re\n",
    "import matplotlib.pyplot as plt\n",
    "import ast"
   ]
  },
  {
   "cell_type": "code",
   "execution_count": 2,
   "metadata": {
    "collapsed": false
   },
   "outputs": [],
   "source": [
    "#working_dir = 'C:\\\\Users\\\\Chauncey\\\\Documents\\\\GitHub\\\\Kibbeh'\n",
    "working_dir = 'C:\\\\Users\\\\Me\\\\Documents\\\\GitHub\\\\Kibbeh'\n",
    "seattle_zips = pd.read_csv(working_dir + '\\\\seattle_zips.csv')['Zip'].values"
   ]
  },
  {
   "cell_type": "code",
   "execution_count": 3,
   "metadata": {
    "collapsed": false
   },
   "outputs": [
    {
     "data": {
      "text/plain": [
       "3081"
      ]
     },
     "execution_count": 3,
     "metadata": {},
     "output_type": "execute_result"
    }
   ],
   "source": [
    "# load foursquare restaurants and ratings\n",
    "with open('fs_restaurant_list.json', 'r') as json_file:\n",
    "    fs_top_restos = json.load( json_file)\n",
    "len(fs_top_restos)"
   ]
  },
  {
   "cell_type": "code",
   "execution_count": 4,
   "metadata": {
    "collapsed": false
   },
   "outputs": [
    {
     "data": {
      "text/plain": [
       "332"
      ]
     },
     "execution_count": 4,
     "metadata": {},
     "output_type": "execute_result"
    }
   ],
   "source": [
    "# load foursquare menus\n",
    "with open('fs_restaurant_menus.json', 'r') as json_file:\n",
    "    fs_menus_rated = json.load( json_file)\n",
    "len(fs_menus_rated)"
   ]
  },
  {
   "cell_type": "code",
   "execution_count": 5,
   "metadata": {
    "collapsed": false
   },
   "outputs": [
    {
     "data": {
      "text/plain": [
       "1000"
      ]
     },
     "execution_count": 5,
     "metadata": {},
     "output_type": "execute_result"
    }
   ],
   "source": [
    "# load yelp restaurants\n",
    "with open('yelp_restaurant_list.json', 'r') as json_file:\n",
    "    yelp_restos = json.load( json_file)\n",
    "len(yelp_restos)"
   ]
  },
  {
   "cell_type": "code",
   "execution_count": 6,
   "metadata": {
    "collapsed": false
   },
   "outputs": [
    {
     "data": {
      "text/plain": [
       "1564"
      ]
     },
     "execution_count": 6,
     "metadata": {},
     "output_type": "execute_result"
    }
   ],
   "source": [
    "# load from local json\n",
    "with open('locu_restaurant_list.json', 'r') as json_file:\n",
    "    locu_restos = json.load( json_file)\n",
    "len(locu_restos)"
   ]
  },
  {
   "cell_type": "code",
   "execution_count": 7,
   "metadata": {
    "collapsed": false
   },
   "outputs": [
    {
     "data": {
      "text/plain": [
       "399"
      ]
     },
     "execution_count": 7,
     "metadata": {},
     "output_type": "execute_result"
    }
   ],
   "source": [
    "# load\n",
    "with open('locu_menu_list.json', 'r') as json_file:\n",
    "    locu_menus = json.load( json_file)\n",
    "len(locu_menus)"
   ]
  },
  {
   "cell_type": "markdown",
   "metadata": {},
   "source": [
    "# Scrape Yelp data"
   ]
  },
  {
   "cell_type": "code",
   "execution_count": null,
   "metadata": {
    "collapsed": false
   },
   "outputs": [],
   "source": [
    "from yelpapi import YelpAPI\n",
    "with open(working_dir+ '\\\\yelp_api_key.txt', 'r') as api_file:\n",
    "    api_key =  api_file.read()\n",
    "    [CONSUMER_KEY, CONSUMER_SECRET, TOKEN, TOKEN_SECRET] = api_key.split('\\n')\n",
    "yelp_api = YelpAPI(CONSUMER_KEY, CONSUMER_SECRET, TOKEN, TOKEN_SECRET)"
   ]
  },
  {
   "cell_type": "code",
   "execution_count": null,
   "metadata": {
    "collapsed": false
   },
   "outputs": [],
   "source": [
    "yelp_restos = API_io.get_yelp_restaurants(yelp_api)\n",
    "len(yelp_restos)"
   ]
  },
  {
   "cell_type": "code",
   "execution_count": null,
   "metadata": {
    "collapsed": false
   },
   "outputs": [],
   "source": [
    "# save\n",
    "with open('yelp_restaurant_list.json', 'w') as json_file:\n",
    "    json.dump(yelp_restos, json_file)"
   ]
  },
  {
   "cell_type": "markdown",
   "metadata": {},
   "source": [
    "# Scrape Foursquare data\n",
    "### Top restaurants in each zip code"
   ]
  },
  {
   "cell_type": "code",
   "execution_count": null,
   "metadata": {
    "collapsed": true
   },
   "outputs": [],
   "source": [
    "import foursquare\n",
    "with open(working_dir+ '\\\\foursquare_api_key.txt', 'r') as api_file:\n",
    "    api_key =  api_file.read()\n",
    "    [FOURSQUARE_ID, FOURSQUARE_SECRET] = api_key.split('\\n')\n",
    "foursquare_client = foursquare.Foursquare(FOURSQUARE_ID, FOURSQUARE_SECRET)"
   ]
  },
  {
   "cell_type": "code",
   "execution_count": null,
   "metadata": {
    "collapsed": false
   },
   "outputs": [],
   "source": [
    "# get data from all seattle zip codes\n",
    "fs_top_restos = API_io.get_fs_top_restos_zip(foursquare_client, seattle_zips[:2])\n",
    "# this takes a while to run\n",
    "len(fs_top_restos)"
   ]
  },
  {
   "cell_type": "code",
   "execution_count": null,
   "metadata": {
    "collapsed": false
   },
   "outputs": [],
   "source": [
    "fs_top_restos = remove_duplicate_fs_restos(fs_top_restos)\n",
    "len(fs_top_restos)"
   ]
  },
  {
   "cell_type": "code",
   "execution_count": null,
   "metadata": {
    "collapsed": false
   },
   "outputs": [],
   "source": [
    "# save\n",
    "with open('fs_restaurant_list.json', 'w') as json_file:\n",
    "    json.dump(fs_top_restos, json_file)"
   ]
  },
  {
   "cell_type": "markdown",
   "metadata": {},
   "source": [
    "### Random restaurants in a latitude longitude grid\n",
    "Most of these do not have ratings or menus"
   ]
  },
  {
   "cell_type": "code",
   "execution_count": null,
   "metadata": {
    "collapsed": false
   },
   "outputs": [],
   "source": [
    "# not tested after offloading to API_io.py\n",
    "seattle_grid = [-122.38, -122.28, 47.55, 47.70]\n",
    "fs_ll_restos = API_io.get_fs_restos_by_ll(seattle_grid, foursquare_client, grid_step = 0.1)"
   ]
  },
  {
   "cell_type": "code",
   "execution_count": null,
   "metadata": {
    "collapsed": false
   },
   "outputs": [],
   "source": [
    "len(fs_ll_restos)"
   ]
  },
  {
   "cell_type": "markdown",
   "metadata": {},
   "source": [
    "### Get menus from foursquare"
   ]
  },
  {
   "cell_type": "code",
   "execution_count": null,
   "metadata": {
    "collapsed": false
   },
   "outputs": [],
   "source": [
    "# get foursquare venues that have both menu and rating\n",
    "# use set intersection to get intersection of keys\n",
    "fs_has_menu_rated = [x['venue'] for x in fs_top_restos if set(('menu', 'rating')) <= x['venue'].keys()]\n",
    "len(fs_has_menu_rated)"
   ]
  },
  {
   "cell_type": "code",
   "execution_count": null,
   "metadata": {
    "collapsed": false
   },
   "outputs": [],
   "source": [
    "fs_menus_rated = API_io.get_menus_fs(foursquare_client,fs_id_list[:10])\n",
    "len(fs_menus_rated) # there are less menus than you hope because some menus not availabe through API"
   ]
  },
  {
   "cell_type": "code",
   "execution_count": null,
   "metadata": {
    "collapsed": true
   },
   "outputs": [],
   "source": [
    "# save menus\n",
    "with open('fs_restaurant_menus.json', 'w') as json_file:\n",
    "    json.dump(fs_menus_rated, json_file)"
   ]
  },
  {
   "cell_type": "markdown",
   "metadata": {},
   "source": [
    "# Load OpenMenu data\n",
    "Denied on OpenMenu API request"
   ]
  },
  {
   "cell_type": "markdown",
   "metadata": {},
   "source": [
    "# Load Locu data\n",
    "### Set up api key and class"
   ]
  },
  {
   "cell_type": "code",
   "execution_count": null,
   "metadata": {
    "collapsed": false
   },
   "outputs": [],
   "source": [
    "from Kibbeh.src.locu_api import VenueApiClient, MenuItemApiClient\n",
    "with open(working_dir+ '\\\\locu_api_key.txt', 'r') as api_file:\n",
    "    api_key =  api_file.read()\n",
    "    [LOCU_KEY] = api_key.split('\\n')\n",
    "locu_venue_client = VenueApiClient(LOCU_KEY)"
   ]
  },
  {
   "cell_type": "markdown",
   "metadata": {},
   "source": [
    "### Get list of locu restaurants by zip code"
   ]
  },
  {
   "cell_type": "code",
   "execution_count": null,
   "metadata": {
    "collapsed": false
   },
   "outputs": [],
   "source": [
    "import itertools\n",
    "def get_locu_by_zip(venue_client, zip_list):\n",
    "    # a set of 25 restaurants with menus for each zip code in seattle\n",
    "    list_of_lists =  list(map(lambda x: venue_client.search(category=['restaurant'], has_menu=True, postal_code=x)['objects'],\n",
    "                              zip_list) )\n",
    "    return list(itertools.chain(*list_of_lists))\n",
    "\n",
    "#venues = venue_client.search(locality = 'Seattle', has_menu=True)"
   ]
  },
  {
   "cell_type": "code",
   "execution_count": null,
   "metadata": {
    "collapsed": false
   },
   "outputs": [],
   "source": [
    "locu_restos = get_locu_by_zip(venue_client, seattle_zips)\n",
    "len(locu_restos)"
   ]
  },
  {
   "cell_type": "code",
   "execution_count": null,
   "metadata": {
    "collapsed": true
   },
   "outputs": [],
   "source": [
    "# save\n",
    "with open('locu_restaurant_list.json', 'w') as json_file:\n",
    "    json.dump(locu_restos, json_file)"
   ]
  }
 ],
 "metadata": {
  "kernelspec": {
   "display_name": "Python 3",
   "language": "python",
   "name": "python3"
  },
  "language_info": {
   "codemirror_mode": {
    "name": "ipython",
    "version": 3
   },
   "file_extension": ".py",
   "mimetype": "text/x-python",
   "name": "python",
   "nbconvert_exporter": "python",
   "pygments_lexer": "ipython3",
   "version": "3.4.3"
  }
 },
 "nbformat": 4,
 "nbformat_minor": 0
}
