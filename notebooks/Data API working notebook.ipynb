{
 "cells": [
  {
   "cell_type": "markdown",
   "metadata": {},
   "source": [
    "# To do:\n",
    "\n",
    "Structure data so that yelp and foursquare IDs are matched to menus\n",
    "\n",
    "Combine foursquare and yelp menus\n",
    "\n",
    "Get prices from Foursquare"
   ]
  },
  {
   "cell_type": "code",
   "execution_count": 1,
   "metadata": {
    "collapsed": false
   },
   "outputs": [],
   "source": [
    "import requests\n",
    "import os\n",
    "import importlib\n",
    "import pandas as pd\n",
    "import numpy as np\n",
    "%matplotlib inline\n",
    "import pdb\n",
    "import json\n",
    "import time\n",
    "from Kibbeh.src import feature_extract_resto\n",
    "from Kibbeh.src import API_io\n",
    "import re\n",
    "import matplotlib.pyplot as plt\n",
    "import ast"
   ]
  },
  {
   "cell_type": "code",
   "execution_count": null,
   "metadata": {
    "collapsed": false
   },
   "outputs": [],
   "source": [
    "#working_dir = 'C:\\\\Users\\\\Chauncey\\\\Documents\\\\GitHub\\\\Kibbeh'\n",
    "working_dir = 'C:\\\\Users\\\\Me\\\\Documents\\\\GitHub\\\\Kibbeh'\n",
    "seattle_zips = pd.read_csv(working_dir + '\\\\seattle_zips.csv')['Zip'].values\n",
    "portland_zips = pd.read_csv(working_dir + '\\\\portland_zips.csv')['Zip'].values\n",
    "bay_area_zips = pd.read_csv(working_dir + '\\\\bay_area_zips.csv')['Zip'].values"
   ]
  },
  {
   "cell_type": "code",
   "execution_count": 3,
   "metadata": {
    "collapsed": false
   },
   "outputs": [
    {
     "data": {
      "text/plain": [
       "3081"
      ]
     },
     "execution_count": 3,
     "metadata": {},
     "output_type": "execute_result"
    }
   ],
   "source": [
    "# load foursquare restaurants and ratings\n",
    "with open('fs_restaurant_list.json', 'r') as json_file:\n",
    "    fs_top_restos = json.load( json_file)\n",
    "len(fs_top_restos)"
   ]
  },
  {
   "cell_type": "code",
   "execution_count": 4,
   "metadata": {
    "collapsed": false
   },
   "outputs": [
    {
     "data": {
      "text/plain": [
       "332"
      ]
     },
     "execution_count": 4,
     "metadata": {},
     "output_type": "execute_result"
    }
   ],
   "source": [
    "# load foursquare menus\n",
    "with open('fs_restaurant_menus.json', 'r') as json_file:\n",
    "    fs_menus_rated = json.load( json_file)\n",
    "len(fs_menus_rated)"
   ]
  },
  {
   "cell_type": "code",
   "execution_count": 5,
   "metadata": {
    "collapsed": false
   },
   "outputs": [
    {
     "data": {
      "text/plain": [
       "1000"
      ]
     },
     "execution_count": 5,
     "metadata": {},
     "output_type": "execute_result"
    }
   ],
   "source": [
    "# load yelp restaurants\n",
    "with open('yelp_restaurant_list.json', 'r') as json_file:\n",
    "    yelp_restos = json.load( json_file)\n",
    "len(yelp_restos)"
   ]
  },
  {
   "cell_type": "code",
   "execution_count": 6,
   "metadata": {
    "collapsed": false
   },
   "outputs": [
    {
     "data": {
      "text/plain": [
       "1564"
      ]
     },
     "execution_count": 6,
     "metadata": {},
     "output_type": "execute_result"
    }
   ],
   "source": [
    "# load from local json\n",
    "with open('locu_restaurant_list.json', 'r') as json_file:\n",
    "    locu_restos = json.load( json_file)\n",
    "len(locu_restos)"
   ]
  },
  {
   "cell_type": "code",
   "execution_count": 7,
   "metadata": {
    "collapsed": false
   },
   "outputs": [
    {
     "data": {
      "text/plain": [
       "399"
      ]
     },
     "execution_count": 7,
     "metadata": {},
     "output_type": "execute_result"
    }
   ],
   "source": [
    "# load\n",
    "with open('locu_menu_list.json', 'r') as json_file:\n",
    "    locu_menus = json.load( json_file)\n",
    "len(locu_menus)"
   ]
  },
  {
   "cell_type": "markdown",
   "metadata": {},
   "source": [
    "# Scrape Yelp data"
   ]
  },
  {
   "cell_type": "code",
   "execution_count": null,
   "metadata": {
    "collapsed": false
   },
   "outputs": [],
   "source": [
    "from yelpapi import YelpAPI\n",
    "with open(working_dir+ '\\\\yelp_api_key.txt', 'r') as api_file:\n",
    "    api_key =  api_file.read()\n",
    "    [CONSUMER_KEY, CONSUMER_SECRET, TOKEN, TOKEN_SECRET] = api_key.split('\\n')\n",
    "yelp_api = YelpAPI(CONSUMER_KEY, CONSUMER_SECRET, TOKEN, TOKEN_SECRET)"
   ]
  },
  {
   "cell_type": "code",
   "execution_count": null,
   "metadata": {
    "collapsed": false
   },
   "outputs": [],
   "source": [
    "yelp_restos = API_io.get_yelp_restaurants(yelp_api)\n",
    "len(yelp_restos)"
   ]
  },
  {
   "cell_type": "code",
   "execution_count": null,
   "metadata": {
    "collapsed": false
   },
   "outputs": [],
   "source": [
    "# save\n",
    "with open('yelp_restaurant_list.json', 'w') as json_file:\n",
    "    json.dump(yelp_restos, json_file)"
   ]
  },
  {
   "cell_type": "markdown",
   "metadata": {},
   "source": [
    "# Scrape Foursquare data\n",
    "### Top restaurants in each zip code"
   ]
  },
  {
   "cell_type": "code",
   "execution_count": 9,
   "metadata": {
    "collapsed": false
   },
   "outputs": [],
   "source": [
    "import foursquare\n",
    "with open(working_dir+ '\\\\foursquare_api_key.txt', 'r') as api_file:\n",
    "    api_key =  api_file.read()\n",
    "    [FOURSQUARE_ID, FOURSQUARE_SECRET] = api_key.split('\\n')\n",
    "foursquare_client = foursquare.Foursquare(FOURSQUARE_ID, FOURSQUARE_SECRET)"
   ]
  },
  {
   "cell_type": "code",
   "execution_count": 37,
   "metadata": {
    "collapsed": false
   },
   "outputs": [
    {
     "name": "stdout",
     "output_type": "stream",
     "text": [
      "Download data for 94025 zip code.\n",
      "Download data for 94028 zip code.\n",
      "Download data for 94027 zip code.\n",
      "Download data for 94030 zip code.\n",
      "Download data for 94553 zip code.\n",
      "Download data for 94037 zip code.\n",
      "Download data for 94038 zip code.\n",
      "Download data for 94044 zip code.\n",
      "Download data for 94060 zip code.\n",
      "Download data for 94061 zip code.\n",
      "Download data for 94541 zip code.\n",
      "Download data for 97701 zip code.\n",
      "Download data for 94002 zip code.\n",
      "Download data for 94011 zip code.\n",
      "Download data for 94005 zip code.\n",
      "Download data for 94010 zip code.\n",
      "Download data for 95002 zip code.\n",
      "Download data for 95008 zip code.\n",
      "Download data for 95013 zip code.\n",
      "Download data for 95014 zip code.\n",
      "Download data for 95020 zip code.\n",
      "Download data for 94022 zip code.\n",
      "Download data for 94024 zip code.\n",
      "Download data for 95030 zip code.\n",
      "Download data for 95032 zip code.\n",
      "Download data for 95035 zip code.\n",
      "Download data for 95037 zip code.\n",
      "Download data for 95140 zip code.\n",
      "Download data for 94040 zip code.\n",
      "Download data for 94041 zip code.\n",
      "Download data for 94043 zip code.\n",
      "Download data for 94301 zip code.\n",
      "Download data for 94304 zip code.\n",
      "Download data for 94306 zip code.\n",
      "Download data for 95117 zip code.\n",
      "Download data for 95118 zip code.\n",
      "Download data for 95119 zip code.\n",
      "Download data for 95120 zip code.\n",
      "Download data for 95121 zip code.\n",
      "Download data for 95122 zip code.\n",
      "Download data for 95123 zip code.\n",
      "Download data for 95124 zip code.\n",
      "Download data for 95125 zip code.\n",
      "Download data for 95148 zip code.\n",
      "Download data for 95126 zip code.\n",
      "Download data for 95127 zip code.\n",
      "Download data for 95128 zip code.\n",
      "Download data for 95129 zip code.\n",
      "Download data for 95130 zip code.\n",
      "Download data for 95131 zip code.\n"
     ]
    },
    {
     "data": {
      "text/plain": [
       "2334"
      ]
     },
     "execution_count": 37,
     "metadata": {},
     "output_type": "execute_result"
    }
   ],
   "source": [
    "# get data from all seattle zip codes\n",
    "# each request gets 250\n",
    "fs_top_restos2 = API_io.get_fs_top_restos_zip(foursquare_client, bay_area_zips[100:150])\n",
    "# this takes a while to run\n",
    "len(fs_top_restos2)"
   ]
  },
  {
   "cell_type": "code",
   "execution_count": 38,
   "metadata": {
    "collapsed": false
   },
   "outputs": [
    {
     "data": {
      "text/plain": [
       "7205"
      ]
     },
     "execution_count": 38,
     "metadata": {},
     "output_type": "execute_result"
    }
   ],
   "source": [
    "fs_top_restos.extend(fs_top_restos2)\n",
    "len(fs_top_restos)"
   ]
  },
  {
   "cell_type": "code",
   "execution_count": 39,
   "metadata": {
    "collapsed": false
   },
   "outputs": [],
   "source": [
    "# save\n",
    "with open('bay_area_restaurant_list_zips1-150.json', 'w') as json_file:\n",
    "    json.dump(fs_top_restos, json_file)"
   ]
  },
  {
   "cell_type": "markdown",
   "metadata": {},
   "source": [
    "### Random restaurants in a latitude longitude grid\n",
    "Most of these do not have ratings or menus"
   ]
  },
  {
   "cell_type": "code",
   "execution_count": null,
   "metadata": {
    "collapsed": false
   },
   "outputs": [],
   "source": [
    "# not tested after offloading to API_io.py\n",
    "seattle_grid = [-122.38, -122.28, 47.55, 47.70]\n",
    "fs_ll_restos = API_io.get_fs_restos_by_ll(seattle_grid, foursquare_client, grid_step = 0.1)"
   ]
  },
  {
   "cell_type": "code",
   "execution_count": null,
   "metadata": {
    "collapsed": false
   },
   "outputs": [],
   "source": [
    "len(fs_ll_restos)"
   ]
  },
  {
   "cell_type": "markdown",
   "metadata": {},
   "source": [
    "### Get menus from foursquare"
   ]
  },
  {
   "cell_type": "code",
   "execution_count": 40,
   "metadata": {
    "collapsed": false
   },
   "outputs": [
    {
     "data": {
      "text/plain": [
       "4591"
      ]
     },
     "execution_count": 40,
     "metadata": {},
     "output_type": "execute_result"
    }
   ],
   "source": [
    "# get foursquare venues that have both menu and rating\n",
    "# use set intersection to get intersection of keys\n",
    "fs_has_menu_rated = [x['venue'] for x in fs_top_restos if set(('menu', 'rating')) <= x['venue'].keys()]\n",
    "fs_id_list = [x['id'] for x in fs_has_menu_rated]\n",
    "len(fs_id_list)"
   ]
  },
  {
   "cell_type": "code",
   "execution_count": 41,
   "metadata": {
    "collapsed": false
   },
   "outputs": [
    {
     "ename": "KeyboardInterrupt",
     "evalue": "",
     "output_type": "error",
     "traceback": [
      "\u001b[1;31m---------------------------------------------------------------------------\u001b[0m",
      "\u001b[1;31mKeyboardInterrupt\u001b[0m                         Traceback (most recent call last)",
      "\u001b[1;32m<ipython-input-41-b4899d19aba5>\u001b[0m in \u001b[0;36m<module>\u001b[1;34m()\u001b[0m\n\u001b[1;32m----> 1\u001b[1;33m \u001b[0mfs_menus_rated\u001b[0m \u001b[1;33m=\u001b[0m \u001b[0mAPI_io\u001b[0m\u001b[1;33m.\u001b[0m\u001b[0mget_fs_menus\u001b[0m\u001b[1;33m(\u001b[0m\u001b[0mfoursquare_client\u001b[0m\u001b[1;33m,\u001b[0m\u001b[0mfs_id_list\u001b[0m\u001b[1;33m)\u001b[0m\u001b[1;33m\u001b[0m\u001b[0m\n\u001b[0m\u001b[0;32m      2\u001b[0m \u001b[0mlen\u001b[0m\u001b[1;33m(\u001b[0m\u001b[0mfs_menus_rated\u001b[0m\u001b[1;33m)\u001b[0m \u001b[1;31m# there are less menus than you hope because some menus not availabe through API\u001b[0m\u001b[1;33m\u001b[0m\u001b[0m\n",
      "\u001b[1;32mC:\\Users\\Me\\Documents\\GitHub\\Kibbeh\\src\\API_io.py\u001b[0m in \u001b[0;36mget_fs_menus\u001b[1;34m(foursquare_client, fs_id_list)\u001b[0m\n\u001b[0;32m     60\u001b[0m \u001b[1;33m\u001b[0m\u001b[0m\n\u001b[0;32m     61\u001b[0m         \u001b[1;31m# get a menu, and put the id in the dictionary\u001b[0m\u001b[1;33m\u001b[0m\u001b[1;33m\u001b[0m\u001b[0m\n\u001b[1;32m---> 62\u001b[1;33m         \u001b[0mtemp_menu\u001b[0m \u001b[1;33m=\u001b[0m \u001b[0mfoursquare_client\u001b[0m\u001b[1;33m.\u001b[0m\u001b[0mvenues\u001b[0m\u001b[1;33m.\u001b[0m\u001b[0mmenu\u001b[0m\u001b[1;33m(\u001b[0m \u001b[0mcur_fs_id\u001b[0m \u001b[1;33m)\u001b[0m\u001b[1;33m\u001b[0m\u001b[0m\n\u001b[0m\u001b[0;32m     63\u001b[0m         \u001b[0mtemp_menu\u001b[0m\u001b[1;33m[\u001b[0m\u001b[1;34m'menu'\u001b[0m\u001b[1;33m]\u001b[0m\u001b[1;33m[\u001b[0m\u001b[1;34m'id'\u001b[0m\u001b[1;33m]\u001b[0m \u001b[1;33m=\u001b[0m \u001b[0mcur_fs_id\u001b[0m\u001b[1;33m\u001b[0m\u001b[0m\n\u001b[0;32m     64\u001b[0m         \u001b[1;31m#pdb.set_trace()\u001b[0m\u001b[1;33m\u001b[0m\u001b[1;33m\u001b[0m\u001b[0m\n",
      "\u001b[1;32mC:\\Anaconda3\\lib\\site-packages\\foursquare\\__init__.py\u001b[0m in \u001b[0;36mmenu\u001b[1;34m(self, VENUE_ID, params, multi)\u001b[0m\n\u001b[0;32m    451\u001b[0m         \u001b[1;32mdef\u001b[0m \u001b[0mmenu\u001b[0m\u001b[1;33m(\u001b[0m\u001b[0mself\u001b[0m\u001b[1;33m,\u001b[0m \u001b[0mVENUE_ID\u001b[0m\u001b[1;33m,\u001b[0m \u001b[0mparams\u001b[0m\u001b[1;33m=\u001b[0m\u001b[1;33m{\u001b[0m\u001b[1;33m}\u001b[0m\u001b[1;33m,\u001b[0m \u001b[0mmulti\u001b[0m\u001b[1;33m=\u001b[0m\u001b[1;32mFalse\u001b[0m\u001b[1;33m)\u001b[0m\u001b[1;33m:\u001b[0m\u001b[1;33m\u001b[0m\u001b[0m\n\u001b[0;32m    452\u001b[0m             \u001b[1;34m\"\"\"https://developer.foursquare.com/docs/venues/menu\"\"\"\u001b[0m\u001b[1;33m\u001b[0m\u001b[0m\n\u001b[1;32m--> 453\u001b[1;33m             \u001b[1;32mreturn\u001b[0m \u001b[0mself\u001b[0m\u001b[1;33m.\u001b[0m\u001b[0mGET\u001b[0m\u001b[1;33m(\u001b[0m\u001b[1;34m'{VENUE_ID}/menu'\u001b[0m\u001b[1;33m.\u001b[0m\u001b[0mformat\u001b[0m\u001b[1;33m(\u001b[0m\u001b[0mVENUE_ID\u001b[0m\u001b[1;33m=\u001b[0m\u001b[0mVENUE_ID\u001b[0m\u001b[1;33m)\u001b[0m\u001b[1;33m,\u001b[0m \u001b[0mparams\u001b[0m\u001b[1;33m,\u001b[0m \u001b[0mmulti\u001b[0m\u001b[1;33m=\u001b[0m\u001b[0mmulti\u001b[0m\u001b[1;33m)\u001b[0m\u001b[1;33m\u001b[0m\u001b[0m\n\u001b[0m\u001b[0;32m    454\u001b[0m \u001b[1;33m\u001b[0m\u001b[0m\n\u001b[0;32m    455\u001b[0m         \u001b[1;32mdef\u001b[0m \u001b[0mphotos\u001b[0m\u001b[1;33m(\u001b[0m\u001b[0mself\u001b[0m\u001b[1;33m,\u001b[0m \u001b[0mVENUE_ID\u001b[0m\u001b[1;33m,\u001b[0m \u001b[0mparams\u001b[0m\u001b[1;33m,\u001b[0m \u001b[0mmulti\u001b[0m\u001b[1;33m=\u001b[0m\u001b[1;32mFalse\u001b[0m\u001b[1;33m)\u001b[0m\u001b[1;33m:\u001b[0m\u001b[1;33m\u001b[0m\u001b[0m\n",
      "\u001b[1;32mC:\\Anaconda3\\lib\\site-packages\\foursquare\\__init__.py\u001b[0m in \u001b[0;36mGET\u001b[1;34m(self, path, *args, **kwargs)\u001b[0m\n\u001b[0;32m    268\u001b[0m         \u001b[1;32mdef\u001b[0m \u001b[0mGET\u001b[0m\u001b[1;33m(\u001b[0m\u001b[0mself\u001b[0m\u001b[1;33m,\u001b[0m \u001b[0mpath\u001b[0m\u001b[1;33m=\u001b[0m\u001b[1;32mNone\u001b[0m\u001b[1;33m,\u001b[0m \u001b[1;33m*\u001b[0m\u001b[0margs\u001b[0m\u001b[1;33m,\u001b[0m \u001b[1;33m**\u001b[0m\u001b[0mkwargs\u001b[0m\u001b[1;33m)\u001b[0m\u001b[1;33m:\u001b[0m\u001b[1;33m\u001b[0m\u001b[0m\n\u001b[0;32m    269\u001b[0m             \u001b[1;34m\"\"\"Use the requester to get the data\"\"\"\u001b[0m\u001b[1;33m\u001b[0m\u001b[0m\n\u001b[1;32m--> 270\u001b[1;33m             \u001b[1;32mreturn\u001b[0m \u001b[0mself\u001b[0m\u001b[1;33m.\u001b[0m\u001b[0mrequester\u001b[0m\u001b[1;33m.\u001b[0m\u001b[0mGET\u001b[0m\u001b[1;33m(\u001b[0m\u001b[0mself\u001b[0m\u001b[1;33m.\u001b[0m\u001b[0m_expanded_path\u001b[0m\u001b[1;33m(\u001b[0m\u001b[0mpath\u001b[0m\u001b[1;33m)\u001b[0m\u001b[1;33m,\u001b[0m \u001b[1;33m*\u001b[0m\u001b[0margs\u001b[0m\u001b[1;33m,\u001b[0m \u001b[1;33m**\u001b[0m\u001b[0mkwargs\u001b[0m\u001b[1;33m)\u001b[0m\u001b[1;33m\u001b[0m\u001b[0m\n\u001b[0m\u001b[0;32m    271\u001b[0m \u001b[1;33m\u001b[0m\u001b[0m\n\u001b[0;32m    272\u001b[0m         \u001b[1;32mdef\u001b[0m \u001b[0mPOST\u001b[0m\u001b[1;33m(\u001b[0m\u001b[0mself\u001b[0m\u001b[1;33m,\u001b[0m \u001b[0mpath\u001b[0m\u001b[1;33m=\u001b[0m\u001b[1;32mNone\u001b[0m\u001b[1;33m,\u001b[0m \u001b[1;33m*\u001b[0m\u001b[0margs\u001b[0m\u001b[1;33m,\u001b[0m \u001b[1;33m**\u001b[0m\u001b[0mkwargs\u001b[0m\u001b[1;33m)\u001b[0m\u001b[1;33m:\u001b[0m\u001b[1;33m\u001b[0m\u001b[0m\n",
      "\u001b[1;32mC:\\Anaconda3\\lib\\site-packages\\foursquare\\__init__.py\u001b[0m in \u001b[0;36mGET\u001b[1;34m(self, path, params, **kwargs)\u001b[0m\n\u001b[0;32m    202\u001b[0m                 \u001b[0mpath\u001b[0m\u001b[1;33m=\u001b[0m\u001b[0mpath\u001b[0m\u001b[1;33m\u001b[0m\u001b[0m\n\u001b[0;32m    203\u001b[0m             )\n\u001b[1;32m--> 204\u001b[1;33m             \u001b[0mresult\u001b[0m \u001b[1;33m=\u001b[0m \u001b[0m_get\u001b[0m\u001b[1;33m(\u001b[0m\u001b[0murl\u001b[0m\u001b[1;33m,\u001b[0m \u001b[0mheaders\u001b[0m\u001b[1;33m=\u001b[0m\u001b[0mheaders\u001b[0m\u001b[1;33m,\u001b[0m \u001b[0mparams\u001b[0m\u001b[1;33m=\u001b[0m\u001b[0mparams\u001b[0m\u001b[1;33m)\u001b[0m\u001b[1;33m\u001b[0m\u001b[0m\n\u001b[0m\u001b[0;32m    205\u001b[0m             \u001b[0mself\u001b[0m\u001b[1;33m.\u001b[0m\u001b[0mrate_limit\u001b[0m \u001b[1;33m=\u001b[0m \u001b[0mresult\u001b[0m\u001b[1;33m[\u001b[0m\u001b[1;34m'headers'\u001b[0m\u001b[1;33m]\u001b[0m\u001b[1;33m[\u001b[0m\u001b[1;34m'X-RateLimit-Limit'\u001b[0m\u001b[1;33m]\u001b[0m\u001b[1;33m\u001b[0m\u001b[0m\n\u001b[0;32m    206\u001b[0m             \u001b[0mself\u001b[0m\u001b[1;33m.\u001b[0m\u001b[0mrate_remaining\u001b[0m \u001b[1;33m=\u001b[0m \u001b[0mresult\u001b[0m\u001b[1;33m[\u001b[0m\u001b[1;34m'headers'\u001b[0m\u001b[1;33m]\u001b[0m\u001b[1;33m[\u001b[0m\u001b[1;34m'X-RateLimit-Remaining'\u001b[0m\u001b[1;33m]\u001b[0m\u001b[1;33m\u001b[0m\u001b[0m\n",
      "\u001b[1;32mC:\\Anaconda3\\lib\\site-packages\\foursquare\\__init__.py\u001b[0m in \u001b[0;36m_get\u001b[1;34m(url, headers, params)\u001b[0m\n\u001b[0;32m    795\u001b[0m         \u001b[1;32mtry\u001b[0m\u001b[1;33m:\u001b[0m\u001b[1;33m\u001b[0m\u001b[0m\n\u001b[0;32m    796\u001b[0m             \u001b[1;32mtry\u001b[0m\u001b[1;33m:\u001b[0m\u001b[1;33m\u001b[0m\u001b[0m\n\u001b[1;32m--> 797\u001b[1;33m                 \u001b[0mresponse\u001b[0m \u001b[1;33m=\u001b[0m \u001b[0mrequests\u001b[0m\u001b[1;33m.\u001b[0m\u001b[0mget\u001b[0m\u001b[1;33m(\u001b[0m\u001b[0murl\u001b[0m\u001b[1;33m,\u001b[0m \u001b[0mheaders\u001b[0m\u001b[1;33m=\u001b[0m\u001b[0mheaders\u001b[0m\u001b[1;33m,\u001b[0m \u001b[0mparams\u001b[0m\u001b[1;33m=\u001b[0m\u001b[0mparam_string\u001b[0m\u001b[1;33m,\u001b[0m \u001b[0mverify\u001b[0m\u001b[1;33m=\u001b[0m\u001b[0mVERIFY_SSL\u001b[0m\u001b[1;33m)\u001b[0m\u001b[1;33m\u001b[0m\u001b[0m\n\u001b[0m\u001b[0;32m    798\u001b[0m                 \u001b[1;32mreturn\u001b[0m \u001b[0m_process_response\u001b[0m\u001b[1;33m(\u001b[0m\u001b[0mresponse\u001b[0m\u001b[1;33m)\u001b[0m\u001b[1;33m\u001b[0m\u001b[0m\n\u001b[0;32m    799\u001b[0m             \u001b[1;32mexcept\u001b[0m \u001b[0mrequests\u001b[0m\u001b[1;33m.\u001b[0m\u001b[0mexceptions\u001b[0m\u001b[1;33m.\u001b[0m\u001b[0mRequestException\u001b[0m \u001b[1;32mas\u001b[0m \u001b[0me\u001b[0m\u001b[1;33m:\u001b[0m\u001b[1;33m\u001b[0m\u001b[0m\n",
      "\u001b[1;32mC:\\Anaconda3\\lib\\site-packages\\requests\\api.py\u001b[0m in \u001b[0;36mget\u001b[1;34m(url, params, **kwargs)\u001b[0m\n\u001b[0;32m     65\u001b[0m \u001b[1;33m\u001b[0m\u001b[0m\n\u001b[0;32m     66\u001b[0m     \u001b[0mkwargs\u001b[0m\u001b[1;33m.\u001b[0m\u001b[0msetdefault\u001b[0m\u001b[1;33m(\u001b[0m\u001b[1;34m'allow_redirects'\u001b[0m\u001b[1;33m,\u001b[0m \u001b[1;32mTrue\u001b[0m\u001b[1;33m)\u001b[0m\u001b[1;33m\u001b[0m\u001b[0m\n\u001b[1;32m---> 67\u001b[1;33m     \u001b[1;32mreturn\u001b[0m \u001b[0mrequest\u001b[0m\u001b[1;33m(\u001b[0m\u001b[1;34m'get'\u001b[0m\u001b[1;33m,\u001b[0m \u001b[0murl\u001b[0m\u001b[1;33m,\u001b[0m \u001b[0mparams\u001b[0m\u001b[1;33m=\u001b[0m\u001b[0mparams\u001b[0m\u001b[1;33m,\u001b[0m \u001b[1;33m**\u001b[0m\u001b[0mkwargs\u001b[0m\u001b[1;33m)\u001b[0m\u001b[1;33m\u001b[0m\u001b[0m\n\u001b[0m\u001b[0;32m     68\u001b[0m \u001b[1;33m\u001b[0m\u001b[0m\n\u001b[0;32m     69\u001b[0m \u001b[1;33m\u001b[0m\u001b[0m\n",
      "\u001b[1;32mC:\\Anaconda3\\lib\\site-packages\\requests\\api.py\u001b[0m in \u001b[0;36mrequest\u001b[1;34m(method, url, **kwargs)\u001b[0m\n\u001b[0;32m     51\u001b[0m     \u001b[1;31m# cases, and look like a memory leak in others.\u001b[0m\u001b[1;33m\u001b[0m\u001b[1;33m\u001b[0m\u001b[0m\n\u001b[0;32m     52\u001b[0m     \u001b[1;32mwith\u001b[0m \u001b[0msessions\u001b[0m\u001b[1;33m.\u001b[0m\u001b[0mSession\u001b[0m\u001b[1;33m(\u001b[0m\u001b[1;33m)\u001b[0m \u001b[1;32mas\u001b[0m \u001b[0msession\u001b[0m\u001b[1;33m:\u001b[0m\u001b[1;33m\u001b[0m\u001b[0m\n\u001b[1;32m---> 53\u001b[1;33m         \u001b[1;32mreturn\u001b[0m \u001b[0msession\u001b[0m\u001b[1;33m.\u001b[0m\u001b[0mrequest\u001b[0m\u001b[1;33m(\u001b[0m\u001b[0mmethod\u001b[0m\u001b[1;33m=\u001b[0m\u001b[0mmethod\u001b[0m\u001b[1;33m,\u001b[0m \u001b[0murl\u001b[0m\u001b[1;33m=\u001b[0m\u001b[0murl\u001b[0m\u001b[1;33m,\u001b[0m \u001b[1;33m**\u001b[0m\u001b[0mkwargs\u001b[0m\u001b[1;33m)\u001b[0m\u001b[1;33m\u001b[0m\u001b[0m\n\u001b[0m\u001b[0;32m     54\u001b[0m \u001b[1;33m\u001b[0m\u001b[0m\n\u001b[0;32m     55\u001b[0m \u001b[1;33m\u001b[0m\u001b[0m\n",
      "\u001b[1;32mC:\\Anaconda3\\lib\\site-packages\\requests\\sessions.py\u001b[0m in \u001b[0;36mrequest\u001b[1;34m(self, method, url, params, data, headers, cookies, files, auth, timeout, allow_redirects, proxies, hooks, stream, verify, cert, json)\u001b[0m\n\u001b[0;32m    466\u001b[0m         }\n\u001b[0;32m    467\u001b[0m         \u001b[0msend_kwargs\u001b[0m\u001b[1;33m.\u001b[0m\u001b[0mupdate\u001b[0m\u001b[1;33m(\u001b[0m\u001b[0msettings\u001b[0m\u001b[1;33m)\u001b[0m\u001b[1;33m\u001b[0m\u001b[0m\n\u001b[1;32m--> 468\u001b[1;33m         \u001b[0mresp\u001b[0m \u001b[1;33m=\u001b[0m \u001b[0mself\u001b[0m\u001b[1;33m.\u001b[0m\u001b[0msend\u001b[0m\u001b[1;33m(\u001b[0m\u001b[0mprep\u001b[0m\u001b[1;33m,\u001b[0m \u001b[1;33m**\u001b[0m\u001b[0msend_kwargs\u001b[0m\u001b[1;33m)\u001b[0m\u001b[1;33m\u001b[0m\u001b[0m\n\u001b[0m\u001b[0;32m    469\u001b[0m \u001b[1;33m\u001b[0m\u001b[0m\n\u001b[0;32m    470\u001b[0m         \u001b[1;32mreturn\u001b[0m \u001b[0mresp\u001b[0m\u001b[1;33m\u001b[0m\u001b[0m\n",
      "\u001b[1;32mC:\\Anaconda3\\lib\\site-packages\\requests\\sessions.py\u001b[0m in \u001b[0;36msend\u001b[1;34m(self, request, **kwargs)\u001b[0m\n\u001b[0;32m    574\u001b[0m \u001b[1;33m\u001b[0m\u001b[0m\n\u001b[0;32m    575\u001b[0m         \u001b[1;31m# Send the request\u001b[0m\u001b[1;33m\u001b[0m\u001b[1;33m\u001b[0m\u001b[0m\n\u001b[1;32m--> 576\u001b[1;33m         \u001b[0mr\u001b[0m \u001b[1;33m=\u001b[0m \u001b[0madapter\u001b[0m\u001b[1;33m.\u001b[0m\u001b[0msend\u001b[0m\u001b[1;33m(\u001b[0m\u001b[0mrequest\u001b[0m\u001b[1;33m,\u001b[0m \u001b[1;33m**\u001b[0m\u001b[0mkwargs\u001b[0m\u001b[1;33m)\u001b[0m\u001b[1;33m\u001b[0m\u001b[0m\n\u001b[0m\u001b[0;32m    577\u001b[0m \u001b[1;33m\u001b[0m\u001b[0m\n\u001b[0;32m    578\u001b[0m         \u001b[1;31m# Total elapsed time of the request (approximately)\u001b[0m\u001b[1;33m\u001b[0m\u001b[1;33m\u001b[0m\u001b[0m\n",
      "\u001b[1;32mC:\\Anaconda3\\lib\\site-packages\\requests\\adapters.py\u001b[0m in \u001b[0;36msend\u001b[1;34m(self, request, stream, timeout, verify, cert, proxies)\u001b[0m\n\u001b[0;32m    374\u001b[0m                     \u001b[0mdecode_content\u001b[0m\u001b[1;33m=\u001b[0m\u001b[1;32mFalse\u001b[0m\u001b[1;33m,\u001b[0m\u001b[1;33m\u001b[0m\u001b[0m\n\u001b[0;32m    375\u001b[0m                     \u001b[0mretries\u001b[0m\u001b[1;33m=\u001b[0m\u001b[0mself\u001b[0m\u001b[1;33m.\u001b[0m\u001b[0mmax_retries\u001b[0m\u001b[1;33m,\u001b[0m\u001b[1;33m\u001b[0m\u001b[0m\n\u001b[1;32m--> 376\u001b[1;33m                     \u001b[0mtimeout\u001b[0m\u001b[1;33m=\u001b[0m\u001b[0mtimeout\u001b[0m\u001b[1;33m\u001b[0m\u001b[0m\n\u001b[0m\u001b[0;32m    377\u001b[0m                 )\n\u001b[0;32m    378\u001b[0m \u001b[1;33m\u001b[0m\u001b[0m\n",
      "\u001b[1;32mC:\\Anaconda3\\lib\\site-packages\\requests\\packages\\urllib3\\connectionpool.py\u001b[0m in \u001b[0;36murlopen\u001b[1;34m(self, method, url, body, headers, retries, redirect, assert_same_host, timeout, pool_timeout, release_conn, **response_kw)\u001b[0m\n\u001b[0;32m    557\u001b[0m             httplib_response = self._make_request(conn, method, url,\n\u001b[0;32m    558\u001b[0m                                                   \u001b[0mtimeout\u001b[0m\u001b[1;33m=\u001b[0m\u001b[0mtimeout_obj\u001b[0m\u001b[1;33m,\u001b[0m\u001b[1;33m\u001b[0m\u001b[0m\n\u001b[1;32m--> 559\u001b[1;33m                                                   body=body, headers=headers)\n\u001b[0m\u001b[0;32m    560\u001b[0m \u001b[1;33m\u001b[0m\u001b[0m\n\u001b[0;32m    561\u001b[0m             \u001b[1;31m# If we're going to release the connection in ``finally:``, then\u001b[0m\u001b[1;33m\u001b[0m\u001b[1;33m\u001b[0m\u001b[0m\n",
      "\u001b[1;32mC:\\Anaconda3\\lib\\site-packages\\requests\\packages\\urllib3\\connectionpool.py\u001b[0m in \u001b[0;36m_make_request\u001b[1;34m(self, conn, method, url, timeout, **httplib_request_kw)\u001b[0m\n\u001b[0;32m    343\u001b[0m         \u001b[1;31m# Trigger any extra validation we need to do.\u001b[0m\u001b[1;33m\u001b[0m\u001b[1;33m\u001b[0m\u001b[0m\n\u001b[0;32m    344\u001b[0m         \u001b[1;32mtry\u001b[0m\u001b[1;33m:\u001b[0m\u001b[1;33m\u001b[0m\u001b[0m\n\u001b[1;32m--> 345\u001b[1;33m             \u001b[0mself\u001b[0m\u001b[1;33m.\u001b[0m\u001b[0m_validate_conn\u001b[0m\u001b[1;33m(\u001b[0m\u001b[0mconn\u001b[0m\u001b[1;33m)\u001b[0m\u001b[1;33m\u001b[0m\u001b[0m\n\u001b[0m\u001b[0;32m    346\u001b[0m         \u001b[1;32mexcept\u001b[0m \u001b[1;33m(\u001b[0m\u001b[0mSocketTimeout\u001b[0m\u001b[1;33m,\u001b[0m \u001b[0mBaseSSLError\u001b[0m\u001b[1;33m)\u001b[0m \u001b[1;32mas\u001b[0m \u001b[0me\u001b[0m\u001b[1;33m:\u001b[0m\u001b[1;33m\u001b[0m\u001b[0m\n\u001b[0;32m    347\u001b[0m             \u001b[1;31m# Py2 raises this as a BaseSSLError, Py3 raises it as socket timeout.\u001b[0m\u001b[1;33m\u001b[0m\u001b[1;33m\u001b[0m\u001b[0m\n",
      "\u001b[1;32mC:\\Anaconda3\\lib\\site-packages\\requests\\packages\\urllib3\\connectionpool.py\u001b[0m in \u001b[0;36m_validate_conn\u001b[1;34m(self, conn)\u001b[0m\n\u001b[0;32m    782\u001b[0m         \u001b[1;31m# Force connect early to allow us to validate the connection.\u001b[0m\u001b[1;33m\u001b[0m\u001b[1;33m\u001b[0m\u001b[0m\n\u001b[0;32m    783\u001b[0m         \u001b[1;32mif\u001b[0m \u001b[1;32mnot\u001b[0m \u001b[0mgetattr\u001b[0m\u001b[1;33m(\u001b[0m\u001b[0mconn\u001b[0m\u001b[1;33m,\u001b[0m \u001b[1;34m'sock'\u001b[0m\u001b[1;33m,\u001b[0m \u001b[1;32mNone\u001b[0m\u001b[1;33m)\u001b[0m\u001b[1;33m:\u001b[0m  \u001b[1;31m# AppEngine might not have  `.sock`\u001b[0m\u001b[1;33m\u001b[0m\u001b[0m\n\u001b[1;32m--> 784\u001b[1;33m             \u001b[0mconn\u001b[0m\u001b[1;33m.\u001b[0m\u001b[0mconnect\u001b[0m\u001b[1;33m(\u001b[0m\u001b[1;33m)\u001b[0m\u001b[1;33m\u001b[0m\u001b[0m\n\u001b[0m\u001b[0;32m    785\u001b[0m \u001b[1;33m\u001b[0m\u001b[0m\n\u001b[0;32m    786\u001b[0m         \u001b[1;32mif\u001b[0m \u001b[1;32mnot\u001b[0m \u001b[0mconn\u001b[0m\u001b[1;33m.\u001b[0m\u001b[0mis_verified\u001b[0m\u001b[1;33m:\u001b[0m\u001b[1;33m\u001b[0m\u001b[0m\n",
      "\u001b[1;32mC:\\Anaconda3\\lib\\site-packages\\requests\\packages\\urllib3\\connection.py\u001b[0m in \u001b[0;36mconnect\u001b[1;34m(self)\u001b[0m\n\u001b[0;32m    215\u001b[0m     \u001b[1;32mdef\u001b[0m \u001b[0mconnect\u001b[0m\u001b[1;33m(\u001b[0m\u001b[0mself\u001b[0m\u001b[1;33m)\u001b[0m\u001b[1;33m:\u001b[0m\u001b[1;33m\u001b[0m\u001b[0m\n\u001b[0;32m    216\u001b[0m         \u001b[1;31m# Add certificate verification\u001b[0m\u001b[1;33m\u001b[0m\u001b[1;33m\u001b[0m\u001b[0m\n\u001b[1;32m--> 217\u001b[1;33m         \u001b[0mconn\u001b[0m \u001b[1;33m=\u001b[0m \u001b[0mself\u001b[0m\u001b[1;33m.\u001b[0m\u001b[0m_new_conn\u001b[0m\u001b[1;33m(\u001b[0m\u001b[1;33m)\u001b[0m\u001b[1;33m\u001b[0m\u001b[0m\n\u001b[0m\u001b[0;32m    218\u001b[0m \u001b[1;33m\u001b[0m\u001b[0m\n\u001b[0;32m    219\u001b[0m         \u001b[0mresolved_cert_reqs\u001b[0m \u001b[1;33m=\u001b[0m \u001b[0mresolve_cert_reqs\u001b[0m\u001b[1;33m(\u001b[0m\u001b[0mself\u001b[0m\u001b[1;33m.\u001b[0m\u001b[0mcert_reqs\u001b[0m\u001b[1;33m)\u001b[0m\u001b[1;33m\u001b[0m\u001b[0m\n",
      "\u001b[1;32mC:\\Anaconda3\\lib\\site-packages\\requests\\packages\\urllib3\\connection.py\u001b[0m in \u001b[0;36m_new_conn\u001b[1;34m(self)\u001b[0m\n\u001b[0;32m    135\u001b[0m         \u001b[1;32mtry\u001b[0m\u001b[1;33m:\u001b[0m\u001b[1;33m\u001b[0m\u001b[0m\n\u001b[0;32m    136\u001b[0m             conn = connection.create_connection(\n\u001b[1;32m--> 137\u001b[1;33m                 (self.host, self.port), self.timeout, **extra_kw)\n\u001b[0m\u001b[0;32m    138\u001b[0m \u001b[1;33m\u001b[0m\u001b[0m\n\u001b[0;32m    139\u001b[0m         \u001b[1;32mexcept\u001b[0m \u001b[0mSocketTimeout\u001b[0m \u001b[1;32mas\u001b[0m \u001b[0me\u001b[0m\u001b[1;33m:\u001b[0m\u001b[1;33m\u001b[0m\u001b[0m\n",
      "\u001b[1;32mC:\\Anaconda3\\lib\\site-packages\\requests\\packages\\urllib3\\util\\connection.py\u001b[0m in \u001b[0;36mcreate_connection\u001b[1;34m(address, timeout, source_address, socket_options)\u001b[0m\n\u001b[0;32m     79\u001b[0m             \u001b[1;32mif\u001b[0m \u001b[0msource_address\u001b[0m\u001b[1;33m:\u001b[0m\u001b[1;33m\u001b[0m\u001b[0m\n\u001b[0;32m     80\u001b[0m                 \u001b[0msock\u001b[0m\u001b[1;33m.\u001b[0m\u001b[0mbind\u001b[0m\u001b[1;33m(\u001b[0m\u001b[0msource_address\u001b[0m\u001b[1;33m)\u001b[0m\u001b[1;33m\u001b[0m\u001b[0m\n\u001b[1;32m---> 81\u001b[1;33m             \u001b[0msock\u001b[0m\u001b[1;33m.\u001b[0m\u001b[0mconnect\u001b[0m\u001b[1;33m(\u001b[0m\u001b[0msa\u001b[0m\u001b[1;33m)\u001b[0m\u001b[1;33m\u001b[0m\u001b[0m\n\u001b[0m\u001b[0;32m     82\u001b[0m             \u001b[1;32mreturn\u001b[0m \u001b[0msock\u001b[0m\u001b[1;33m\u001b[0m\u001b[0m\n\u001b[0;32m     83\u001b[0m \u001b[1;33m\u001b[0m\u001b[0m\n",
      "\u001b[1;31mKeyboardInterrupt\u001b[0m: "
     ]
    }
   ],
   "source": [
    "fs_menus_rated = API_io.get_fs_menus(foursquare_client,fs_id_list)\n",
    "len(fs_menus_rated) # there are less menus than you hope because some menus not availabe through API"
   ]
  },
  {
   "cell_type": "code",
   "execution_count": 30,
   "metadata": {
    "collapsed": true
   },
   "outputs": [],
   "source": [
    "# save menus\n",
    "with open('portland_restaurant_menus.json', 'w') as json_file:\n",
    "    json.dump(fs_menus_rated, json_file)"
   ]
  },
  {
   "cell_type": "markdown",
   "metadata": {},
   "source": [
    "# Load OpenMenu data\n",
    "Denied on OpenMenu API request"
   ]
  },
  {
   "cell_type": "markdown",
   "metadata": {},
   "source": [
    "# Load Locu data\n",
    "### Set up api key and class"
   ]
  },
  {
   "cell_type": "code",
   "execution_count": null,
   "metadata": {
    "collapsed": false
   },
   "outputs": [],
   "source": [
    "from Kibbeh.src.locu_api import VenueApiClient, MenuItemApiClient\n",
    "with open(working_dir+ '\\\\locu_api_key.txt', 'r') as api_file:\n",
    "    api_key =  api_file.read()\n",
    "    [LOCU_KEY] = api_key.split('\\n')\n",
    "locu_venue_client = VenueApiClient(LOCU_KEY)"
   ]
  },
  {
   "cell_type": "markdown",
   "metadata": {},
   "source": [
    "### Get list of locu restaurants by zip code"
   ]
  },
  {
   "cell_type": "code",
   "execution_count": null,
   "metadata": {
    "collapsed": false
   },
   "outputs": [],
   "source": [
    "import itertools\n",
    "def get_locu_by_zip(venue_client, zip_list):\n",
    "    # a set of 25 restaurants with menus for each zip code in seattle\n",
    "    list_of_lists =  list(map(lambda x: venue_client.search(category=['restaurant'], has_menu=True, postal_code=x)['objects'],\n",
    "                              zip_list) )\n",
    "    return list(itertools.chain(*list_of_lists))\n",
    "\n",
    "#venues = venue_client.search(locality = 'Seattle', has_menu=True)"
   ]
  },
  {
   "cell_type": "code",
   "execution_count": null,
   "metadata": {
    "collapsed": false
   },
   "outputs": [],
   "source": [
    "locu_restos = get_locu_by_zip(venue_client, seattle_zips)\n",
    "len(locu_restos)"
   ]
  },
  {
   "cell_type": "code",
   "execution_count": null,
   "metadata": {
    "collapsed": true
   },
   "outputs": [],
   "source": [
    "# save\n",
    "with open('locu_restaurant_list.json', 'w') as json_file:\n",
    "    json.dump(locu_restos, json_file)"
   ]
  },
  {
   "cell_type": "markdown",
   "metadata": {},
   "source": [
    "# Scrape menus for restaurants not on Foursquare"
   ]
  },
  {
   "cell_type": "code",
   "execution_count": 10,
   "metadata": {
    "collapsed": false
   },
   "outputs": [
    {
     "data": {
      "text/plain": [
       "2289"
      ]
     },
     "execution_count": 10,
     "metadata": {},
     "output_type": "execute_result"
    }
   ],
   "source": [
    "fs_restos_rated = [x for x in fs_top_restos if 'rating' in x['venue'].keys()]\n",
    "len(fs_restos_rated)"
   ]
  },
  {
   "cell_type": "code",
   "execution_count": 38,
   "metadata": {
    "collapsed": false
   },
   "outputs": [],
   "source": [
    "importlib.reload(feature_extract_resto)\n",
    "fs_resto_df = feature_extract_resto.feature_extract_fs_list(fs_restos_rated)\n",
    "fs_resto_df.drop_duplicates(inplace=True)"
   ]
  },
  {
   "cell_type": "code",
   "execution_count": 14,
   "metadata": {
    "collapsed": false
   },
   "outputs": [
    {
     "data": {
      "text/html": [
       "<div>\n",
       "<table border=\"1\" class=\"dataframe\">\n",
       "  <thead>\n",
       "    <tr style=\"text-align: right;\">\n",
       "      <th></th>\n",
       "      <th>categories</th>\n",
       "      <th>checkinsCount</th>\n",
       "      <th>id</th>\n",
       "      <th>phone</th>\n",
       "      <th>rating</th>\n",
       "      <th>tier</th>\n",
       "      <th>tipCount</th>\n",
       "      <th>usersCount</th>\n",
       "    </tr>\n",
       "    <tr>\n",
       "      <th>name</th>\n",
       "      <th></th>\n",
       "      <th></th>\n",
       "      <th></th>\n",
       "      <th></th>\n",
       "      <th></th>\n",
       "      <th></th>\n",
       "      <th></th>\n",
       "      <th></th>\n",
       "    </tr>\n",
       "  </thead>\n",
       "  <tbody>\n",
       "    <tr>\n",
       "      <th>John Howie Steak</th>\n",
       "      <td>Steakhouse</td>\n",
       "      <td>9201</td>\n",
       "      <td>4aa98a52f964a5202b5420e3</td>\n",
       "      <td>4254400880</td>\n",
       "      <td>9.4</td>\n",
       "      <td>4</td>\n",
       "      <td>110</td>\n",
       "      <td>4241</td>\n",
       "    </tr>\n",
       "    <tr>\n",
       "      <th>Kedai Makan</th>\n",
       "      <td>Malaysian</td>\n",
       "      <td>3871</td>\n",
       "      <td>51020084e4b0fb39a60c00bf</td>\n",
       "      <td>NaN</td>\n",
       "      <td>9.4</td>\n",
       "      <td>1</td>\n",
       "      <td>61</td>\n",
       "      <td>1381</td>\n",
       "    </tr>\n",
       "    <tr>\n",
       "      <th>The Walrus and the Carpenter</th>\n",
       "      <td>Seafood</td>\n",
       "      <td>5948</td>\n",
       "      <td>4c60a06213791b8d151f50af</td>\n",
       "      <td>2063959227</td>\n",
       "      <td>9.4</td>\n",
       "      <td>3</td>\n",
       "      <td>168</td>\n",
       "      <td>4332</td>\n",
       "    </tr>\n",
       "    <tr>\n",
       "      <th>Canlis</th>\n",
       "      <td>American</td>\n",
       "      <td>3861</td>\n",
       "      <td>44fdc137f964a52097381fe3</td>\n",
       "      <td>2062833313</td>\n",
       "      <td>9.4</td>\n",
       "      <td>4</td>\n",
       "      <td>90</td>\n",
       "      <td>2672</td>\n",
       "    </tr>\n",
       "    <tr>\n",
       "      <th>Mammoth</th>\n",
       "      <td>Sandwiches</td>\n",
       "      <td>665</td>\n",
       "      <td>5499f417498ef6258913ed4e</td>\n",
       "      <td>2069204126</td>\n",
       "      <td>9.4</td>\n",
       "      <td>1</td>\n",
       "      <td>15</td>\n",
       "      <td>392</td>\n",
       "    </tr>\n",
       "    <tr>\n",
       "      <th>Buddha Ruksa</th>\n",
       "      <td>Asian</td>\n",
       "      <td>2628</td>\n",
       "      <td>466ed01ef964a520ba471fe3</td>\n",
       "      <td>2069377676</td>\n",
       "      <td>9.5</td>\n",
       "      <td>2</td>\n",
       "      <td>46</td>\n",
       "      <td>1180</td>\n",
       "    </tr>\n",
       "    <tr>\n",
       "      <th>DERU Market</th>\n",
       "      <td>Sandwiches</td>\n",
       "      <td>819</td>\n",
       "      <td>4e28aeed81dcff8f987ebebb</td>\n",
       "      <td>4252980268</td>\n",
       "      <td>9.5</td>\n",
       "      <td>2</td>\n",
       "      <td>25</td>\n",
       "      <td>354</td>\n",
       "    </tr>\n",
       "    <tr>\n",
       "      <th>Bakery Nouveau</th>\n",
       "      <td>Bakery</td>\n",
       "      <td>3737</td>\n",
       "      <td>51755180e4b01f6b164ed9b2</td>\n",
       "      <td>2068586957</td>\n",
       "      <td>9.5</td>\n",
       "      <td>2</td>\n",
       "      <td>52</td>\n",
       "      <td>1498</td>\n",
       "    </tr>\n",
       "    <tr>\n",
       "      <th>Spinasse</th>\n",
       "      <td>Italian</td>\n",
       "      <td>3062</td>\n",
       "      <td>49e0420af964a5204b611fe3</td>\n",
       "      <td>2062517673</td>\n",
       "      <td>9.5</td>\n",
       "      <td>3</td>\n",
       "      <td>67</td>\n",
       "      <td>1992</td>\n",
       "    </tr>\n",
       "    <tr>\n",
       "      <th>Bakery Nouveau</th>\n",
       "      <td>Bakery</td>\n",
       "      <td>6159</td>\n",
       "      <td>49ba3a34f964a5205f531fe3</td>\n",
       "      <td>2069230534</td>\n",
       "      <td>9.6</td>\n",
       "      <td>2</td>\n",
       "      <td>102</td>\n",
       "      <td>2643</td>\n",
       "    </tr>\n",
       "  </tbody>\n",
       "</table>\n",
       "</div>"
      ],
      "text/plain": [
       "                              categories  checkinsCount  \\\n",
       "name                                                      \n",
       "John Howie Steak              Steakhouse           9201   \n",
       "Kedai Makan                    Malaysian           3871   \n",
       "The Walrus and the Carpenter     Seafood           5948   \n",
       "Canlis                          American           3861   \n",
       "Mammoth                       Sandwiches            665   \n",
       "Buddha Ruksa                       Asian           2628   \n",
       "DERU Market                   Sandwiches            819   \n",
       "Bakery Nouveau                    Bakery           3737   \n",
       "Spinasse                         Italian           3062   \n",
       "Bakery Nouveau                    Bakery           6159   \n",
       "\n",
       "                                                    id       phone  rating  \\\n",
       "name                                                                         \n",
       "John Howie Steak              4aa98a52f964a5202b5420e3  4254400880     9.4   \n",
       "Kedai Makan                   51020084e4b0fb39a60c00bf         NaN     9.4   \n",
       "The Walrus and the Carpenter  4c60a06213791b8d151f50af  2063959227     9.4   \n",
       "Canlis                        44fdc137f964a52097381fe3  2062833313     9.4   \n",
       "Mammoth                       5499f417498ef6258913ed4e  2069204126     9.4   \n",
       "Buddha Ruksa                  466ed01ef964a520ba471fe3  2069377676     9.5   \n",
       "DERU Market                   4e28aeed81dcff8f987ebebb  4252980268     9.5   \n",
       "Bakery Nouveau                51755180e4b01f6b164ed9b2  2068586957     9.5   \n",
       "Spinasse                      49e0420af964a5204b611fe3  2062517673     9.5   \n",
       "Bakery Nouveau                49ba3a34f964a5205f531fe3  2069230534     9.6   \n",
       "\n",
       "                              tier  tipCount  usersCount  \n",
       "name                                                      \n",
       "John Howie Steak                 4       110        4241  \n",
       "Kedai Makan                      1        61        1381  \n",
       "The Walrus and the Carpenter     3       168        4332  \n",
       "Canlis                           4        90        2672  \n",
       "Mammoth                          1        15         392  \n",
       "Buddha Ruksa                     2        46        1180  \n",
       "DERU Market                      2        25         354  \n",
       "Bakery Nouveau                   2        52        1498  \n",
       "Spinasse                         3        67        1992  \n",
       "Bakery Nouveau                   2       102        2643  "
      ]
     },
     "execution_count": 14,
     "metadata": {},
     "output_type": "execute_result"
    }
   ],
   "source": [
    "fs_resto_df.sort('rating').tail(10)"
   ]
  },
  {
   "cell_type": "code",
   "execution_count": 40,
   "metadata": {
    "collapsed": false
   },
   "outputs": [],
   "source": [
    "from bs4 import BeautifulSoup"
   ]
  },
  {
   "cell_type": "code",
   "execution_count": 204,
   "metadata": {
    "collapsed": false
   },
   "outputs": [
    {
     "data": {
      "text/plain": [
       "categories                            BBQ\n",
       "checkinsCount                         771\n",
       "id               4b959d1bf964a52030ac34e3\n",
       "phone                          2538049600\n",
       "rating                                7.9\n",
       "tier                                    2\n",
       "tipCount                               14\n",
       "usersCount                            467\n",
       "Name: Longhorn Barbecue, dtype: object"
      ]
     },
     "execution_count": 204,
     "metadata": {},
     "output_type": "execute_result"
    }
   ],
   "source": [
    "fs_resto_df.loc['Longhorn Barbecue']"
   ]
  },
  {
   "cell_type": "code",
   "execution_count": 257,
   "metadata": {
    "collapsed": false
   },
   "outputs": [
    {
     "data": {
      "text/plain": [
       "[{'reasons': {'count': 0,\n",
       "   'items': [{'reasonName': 'globalInteractionReason',\n",
       "     'summary': 'This spot is popular',\n",
       "     'type': 'general'}]},\n",
       "  'referralId': 'e-3-4b959d1bf964a52030ac34e3-9',\n",
       "  'tips': [{'canonicalUrl': 'https://foursquare.com/item/4c142502a9c220a1de1e579d',\n",
       "    'createdAt': 1276388610,\n",
       "    'id': '4c142502a9c220a1de1e579d',\n",
       "    'likes': {'count': 4, 'groups': [], 'summary': '4 likes'},\n",
       "    'logView': True,\n",
       "    'text': 'Have pulled pork sandwich with some cole slaw on top',\n",
       "    'todo': {'count': 0},\n",
       "    'type': 'user',\n",
       "    'user': {'firstName': 'Carl',\n",
       "     'gender': 'male',\n",
       "     'id': '1598189',\n",
       "     'lastName': 'Holzboog',\n",
       "     'photo': {'prefix': 'https://irs0.4sqi.net/img/user/',\n",
       "      'suffix': '/4ECB3IVEXAZC1JG4.jpg'}}}],\n",
       "  'venue': {'allowMenuUrlEdit': True,\n",
       "   'categories': [{'icon': {'prefix': 'https://ss3.4sqi.net/img/categories_v2/food/bbqalt_',\n",
       "      'suffix': '.png'},\n",
       "     'id': '4bf58dd8d48988d1df931735',\n",
       "     'name': 'BBQ Joint',\n",
       "     'pluralName': 'BBQ Joints',\n",
       "     'primary': True,\n",
       "     'shortName': 'BBQ'}],\n",
       "   'contact': {'formattedPhone': '(253) 804-9600',\n",
       "    'phone': '2538049600',\n",
       "    'twitter': 'longhornbbq'},\n",
       "   'hereNow': {'count': 0, 'groups': [], 'summary': 'Nobody here'},\n",
       "   'hours': {'isLocalHoliday': False,\n",
       "    'isOpen': True,\n",
       "    'status': 'Open until 9:00 PM'},\n",
       "   'id': '4b959d1bf964a52030ac34e3',\n",
       "   'location': {'address': '635 C St SW',\n",
       "    'cc': 'US',\n",
       "    'city': 'Auburn',\n",
       "    'country': 'United States',\n",
       "    'formattedAddress': ['635 C St SW', 'Auburn, WA 98001', 'United States'],\n",
       "    'lat': 47.30114443788369,\n",
       "    'lng': -122.23316870322488,\n",
       "    'postalCode': '98001',\n",
       "    'state': 'WA'},\n",
       "   'name': 'Longhorn Barbecue',\n",
       "   'photos': {'count': 0, 'groups': []},\n",
       "   'price': {'currency': '$', 'message': 'Moderate', 'tier': 2},\n",
       "   'rating': 7.9,\n",
       "   'ratingColor': 'C5DE35',\n",
       "   'ratingSignals': 37,\n",
       "   'stats': {'checkinsCount': 771, 'tipCount': 14, 'usersCount': 467},\n",
       "   'storeId': '',\n",
       "   'url': 'http://www.longhornbarbecue.com',\n",
       "   'venuePage': {'id': '33208020'},\n",
       "   'verified': True}}]"
      ]
     },
     "execution_count": 257,
     "metadata": {},
     "output_type": "execute_result"
    }
   ],
   "source": [
    "[x for x in fs_restos_rated if x['venue']['id'] == \n",
    "'4b959d1bf964a52030ac34e3']"
   ]
  },
  {
   "cell_type": "code",
   "execution_count": 247,
   "metadata": {
    "collapsed": true
   },
   "outputs": [],
   "source": [
    "new_menus"
   ]
  },
  {
   "cell_type": "code",
   "execution_count": 263,
   "metadata": {
    "collapsed": false
   },
   "outputs": [
    {
     "name": "stdout",
     "output_type": "stream",
     "text": [
      "> <ipython-input-262-908764db2cb4>(13)get_menu()\n",
      "-> resto_homepage = requests.get(resto_url)\n",
      "(Pdb) n\n",
      "> <ipython-input-262-908764db2cb4>(14)get_menu()\n",
      "-> resto_home_soup = BeautifulSoup(resto_homepage.text)\n",
      "(Pdb) n\n"
     ]
    },
    {
     "name": "stderr",
     "output_type": "stream",
     "text": [
      "C:\\Users\\Chauncey\\Anaconda3\\lib\\site-packages\\bs4\\__init__.py:166: UserWarning: No parser was explicitly specified, so I'm using the best available HTML parser for this system (\"lxml\"). This usually isn't a problem, but if you run this code on another system, or in a different virtual environment, it may use a different parser and behave differently.\n",
      "\n",
      "To get rid of this warning, change this:\n",
      "\n",
      " BeautifulSoup([your markup])\n",
      "\n",
      "to this:\n",
      "\n",
      " BeautifulSoup([your markup], \"lxml\")\n",
      "\n",
      "  markup_type=markup_type))\n"
     ]
    },
    {
     "name": "stdout",
     "output_type": "stream",
     "text": [
      "> <ipython-input-262-908764db2cb4>(16)get_menu()\n",
      "-> resto_url, resto_home_soup = check_redirect(resto_url, resto_home_soup)\n",
      "(Pdb) n\n",
      "> <ipython-input-262-908764db2cb4>(19)get_menu()\n",
      "-> menu_regex = re.compile('[mM]enu|[dD]inner')\n",
      "(Pdb) n\n",
      "> <ipython-input-262-908764db2cb4>(20)get_menu()\n",
      "-> menu_elements = resto_home_soup.find_all('a', text = menu_regex)\n",
      "(Pdb) n\n",
      "> <ipython-input-262-908764db2cb4>(22)get_menu()\n",
      "-> menu_link = menu_elements[0].get('href') # check whether link is full or short\n",
      "(Pdb) n\n",
      "> <ipython-input-262-908764db2cb4>(23)get_menu()\n",
      "-> if len(menu_link) > 15:\n",
      "(Pdb) n\n",
      "> <ipython-input-262-908764db2cb4>(26)get_menu()\n",
      "-> menu_url = resto_url + '/' + menu_link\n",
      "(Pdb) menu_url\n",
      "*** NameError: name 'menu_url' is not defined\n",
      "(Pdb) menu_link\n",
      "'Menu'\n",
      "(Pdb) menu_link\n",
      "'Menu'\n",
      "(Pdb) n\n",
      "> <ipython-input-262-908764db2cb4>(28)get_menu()\n",
      "-> menu_html = requests.get(menu_url)\n",
      "(Pdb) menu_url\n",
      "'http://senor-taco.com/Menu'\n",
      "(Pdb) n\n",
      "> <ipython-input-262-908764db2cb4>(29)get_menu()\n",
      "-> menu_soup = BeautifulSoup(menu_html.text)\n",
      "(Pdb) menu_html\n",
      "<Response [200]>\n",
      "(Pdb) c\n",
      "> <ipython-input-262-908764db2cb4>(13)get_menu()\n",
      "-> resto_homepage = requests.get(resto_url)\n",
      "(Pdb) c\n"
     ]
    },
    {
     "ename": "IndexError",
     "evalue": "list index out of range",
     "output_type": "error",
     "traceback": [
      "\u001b[1;31m---------------------------------------------------------------------------\u001b[0m",
      "\u001b[1;31mIndexError\u001b[0m                                Traceback (most recent call last)",
      "\u001b[1;32m<ipython-input-263-b82817e93b4e>\u001b[0m in \u001b[0;36m<module>\u001b[1;34m()\u001b[0m\n\u001b[1;32m----> 1\u001b[1;33m \u001b[0mnew_menus\u001b[0m \u001b[1;33m=\u001b[0m \u001b[0mget_menus_for_list\u001b[0m\u001b[1;33m(\u001b[0m\u001b[0mfs_restos_rated\u001b[0m \u001b[1;33m)\u001b[0m\u001b[1;33m\u001b[0m\u001b[0m\n\u001b[0m",
      "\u001b[1;32m<ipython-input-210-30c9652d97d8>\u001b[0m in \u001b[0;36mget_menus_for_list\u001b[1;34m(foursquare_restos)\u001b[0m\n\u001b[0;32m      4\u001b[0m         \u001b[1;32mif\u001b[0m \u001b[1;34m'hasMenu'\u001b[0m \u001b[1;32mnot\u001b[0m \u001b[1;32min\u001b[0m \u001b[0mcur_resto\u001b[0m\u001b[1;33m[\u001b[0m\u001b[1;34m'venue'\u001b[0m\u001b[1;33m]\u001b[0m \u001b[1;32mand\u001b[0m \u001b[1;34m'url'\u001b[0m \u001b[1;32min\u001b[0m \u001b[0mcur_resto\u001b[0m\u001b[1;33m[\u001b[0m\u001b[1;34m'venue'\u001b[0m\u001b[1;33m]\u001b[0m\u001b[1;33m:\u001b[0m\u001b[1;33m\u001b[0m\u001b[0m\n\u001b[0;32m      5\u001b[0m             new_menus.append({'id':cur_resto['venue']['id'],\n\u001b[1;32m----> 6\u001b[1;33m                               'menus':get_menu(cur_resto['venue']['url']) })\n\u001b[0m",
      "\u001b[1;32m<ipython-input-262-908764db2cb4>\u001b[0m in \u001b[0;36mget_menu\u001b[1;34m(resto_url)\u001b[0m\n\u001b[0;32m     11\u001b[0m     \u001b[0mpdb\u001b[0m\u001b[1;33m.\u001b[0m\u001b[0mset_trace\u001b[0m\u001b[1;33m(\u001b[0m\u001b[1;33m)\u001b[0m\u001b[1;33m\u001b[0m\u001b[0m\n\u001b[0;32m     12\u001b[0m \u001b[1;33m\u001b[0m\u001b[0m\n\u001b[1;32m---> 13\u001b[1;33m     \u001b[0mresto_homepage\u001b[0m \u001b[1;33m=\u001b[0m \u001b[0mrequests\u001b[0m\u001b[1;33m.\u001b[0m\u001b[0mget\u001b[0m\u001b[1;33m(\u001b[0m\u001b[0mresto_url\u001b[0m\u001b[1;33m)\u001b[0m\u001b[1;33m\u001b[0m\u001b[0m\n\u001b[0m\u001b[0;32m     14\u001b[0m     \u001b[0mresto_home_soup\u001b[0m \u001b[1;33m=\u001b[0m \u001b[0mBeautifulSoup\u001b[0m\u001b[1;33m(\u001b[0m\u001b[0mresto_homepage\u001b[0m\u001b[1;33m.\u001b[0m\u001b[0mtext\u001b[0m\u001b[1;33m)\u001b[0m\u001b[1;33m\u001b[0m\u001b[0m\n\u001b[0;32m     15\u001b[0m \u001b[1;33m\u001b[0m\u001b[0m\n",
      "\u001b[1;31mIndexError\u001b[0m: list index out of range"
     ]
    }
   ],
   "source": [
    "new_menus = get_menus_for_list(fs_restos_rated )"
   ]
  },
  {
   "cell_type": "code",
   "execution_count": 210,
   "metadata": {
    "collapsed": false
   },
   "outputs": [],
   "source": [
    "def get_menus_for_list(foursquare_restos):\n",
    "    new_menus = []\n",
    "    for cur_resto in foursquare_restos:\n",
    "        if 'hasMenu' not in cur_resto['venue'] and 'url' in cur_resto['venue']:\n",
    "            new_menus.append({'id':cur_resto['venue']['id'],\n",
    "                              'menus':get_menu(cur_resto['venue']['url']) })"
   ]
  },
  {
   "cell_type": "code",
   "execution_count": 262,
   "metadata": {
    "collapsed": false
   },
   "outputs": [],
   "source": [
    "def check_redirect(original_url, original_soup):\n",
    "    redirect_meta = original_soup.find(\"meta\",attrs={\"http-equiv\":re.compile('refresh', flags=re.IGNORECASE)})\n",
    "    if redirect_meta:\n",
    "        wait,text=redirect_meta[\"content\"].split(';')\n",
    "        new_url=text[text.lower().find('url') + 4:]\n",
    "        new_html = requests.get(new_url)\n",
    "        return new_url, BeautifulSoup(new_html.text)\n",
    "    return original_url, original_soup\n",
    "\n",
    "def get_menu(resto_url):\n",
    "    pdb.set_trace()\n",
    "    \n",
    "    resto_homepage = requests.get(resto_url)\n",
    "    resto_home_soup = BeautifulSoup(resto_homepage.text)\n",
    "    \n",
    "    resto_url, resto_home_soup = check_redirect(resto_url, resto_home_soup)\n",
    "    #resto_url = check_url(resto_url)\n",
    "    \n",
    "    menu_regex = re.compile('[mM]enu|[dD]inner') \n",
    "    menu_elements = resto_home_soup.find_all('a', text = menu_regex)\n",
    "    \n",
    "    menu_link = menu_elements[0].get('href') # check whether link is full or short\n",
    "    if len(menu_link) > 15:\n",
    "        menu_url = menu_link\n",
    "    else:\n",
    "        menu_url = resto_url + '/' + menu_link\n",
    "    \n",
    "    menu_html = requests.get(menu_url)\n",
    "    menu_soup = BeautifulSoup(menu_html.text)\n",
    "    \n",
    "    # get rid of JavaScript\n",
    "    script_var = menu_soup.find_all('script')\n",
    "    for script in script_var:\n",
    "        script.decompose()\n",
    "        \n",
    "    menu_text = ' '.join(list(menu_soup.stripped_strings))\n",
    "    return menu_text"
   ]
  },
  {
   "cell_type": "code",
   "execution_count": null,
   "metadata": {
    "collapsed": true
   },
   "outputs": [],
   "source": []
  }
 ],
 "metadata": {
  "kernelspec": {
   "display_name": "Python 3",
   "language": "python",
   "name": "python3"
  },
  "language_info": {
   "codemirror_mode": {
    "name": "ipython",
    "version": 3
   },
   "file_extension": ".py",
   "mimetype": "text/x-python",
   "name": "python",
   "nbconvert_exporter": "python",
   "pygments_lexer": "ipython3",
   "version": "3.4.3"
  }
 },
 "nbformat": 4,
 "nbformat_minor": 0
}
