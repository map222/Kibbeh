{
 "cells": [
  {
   "cell_type": "code",
   "execution_count": 1,
   "metadata": {
    "collapsed": true
   },
   "outputs": [],
   "source": [
    "import pandas as pd\n",
    "import json\n",
    "import Kibbeh.src.feature_calc as feature_calc"
   ]
  },
  {
   "cell_type": "code",
   "execution_count": 2,
   "metadata": {
    "collapsed": false
   },
   "outputs": [],
   "source": [
    "working_dir = 'C:\\\\Users\\\\Chauncey\\\\Documents\\\\GitHub\\\\Kibbeh\\\\tests\\\\'\n",
    "#working_dir = 'C:\\\\Users\\\\Me\\\\Documents\\\\GitHub\\\\Kibbeh'\n",
    "#seattle_zips = pd.read_csv(working_dir + '\\\\seattle_zips.csv')['Zip'].values"
   ]
  },
  {
   "cell_type": "markdown",
   "metadata": {},
   "source": [
    "# Yelp test setup"
   ]
  },
  {
   "cell_type": "code",
   "execution_count": 3,
   "metadata": {
    "collapsed": false
   },
   "outputs": [],
   "source": [
    "# load\n",
    "with open(working_dir + 'test_data\\\\yelp_restaurant_test.json', 'r') as json_file:\n",
    "    yelp_restos = json.load( json_file)"
   ]
  },
  {
   "cell_type": "code",
   "execution_count": 4,
   "metadata": {
    "collapsed": false
   },
   "outputs": [
    {
     "data": {
      "text/html": [
       "<div>\n",
       "<table border=\"1\" class=\"dataframe\">\n",
       "  <thead>\n",
       "    <tr style=\"text-align: right;\">\n",
       "      <th></th>\n",
       "      <th>categories</th>\n",
       "      <th>id</th>\n",
       "      <th>phone</th>\n",
       "      <th>rating</th>\n",
       "      <th>review_count</th>\n",
       "    </tr>\n",
       "    <tr>\n",
       "      <th>name</th>\n",
       "      <th></th>\n",
       "      <th></th>\n",
       "      <th></th>\n",
       "      <th></th>\n",
       "      <th></th>\n",
       "    </tr>\n",
       "  </thead>\n",
       "  <tbody>\n",
       "    <tr>\n",
       "      <th>Piroshky Piroshky</th>\n",
       "      <td>[Bakeries, Russian]</td>\n",
       "      <td>piroshky-piroshky-seattle</td>\n",
       "      <td>2064416068</td>\n",
       "      <td>4.5</td>\n",
       "      <td>3235</td>\n",
       "    </tr>\n",
       "    <tr>\n",
       "      <th>Paseo</th>\n",
       "      <td>[Caribbean, Cuban, Sandwiches]</td>\n",
       "      <td>paseo-seattle-3</td>\n",
       "      <td>2065457440</td>\n",
       "      <td>4.5</td>\n",
       "      <td>4099</td>\n",
       "    </tr>\n",
       "    <tr>\n",
       "      <th>Umma's Lunch Box</th>\n",
       "      <td>[Korean, Buffets]</td>\n",
       "      <td>ummas-lunch-box-seattle</td>\n",
       "      <td>2068543166</td>\n",
       "      <td>4.5</td>\n",
       "      <td>184</td>\n",
       "    </tr>\n",
       "  </tbody>\n",
       "</table>\n",
       "</div>"
      ],
      "text/plain": [
       "                                       categories                         id  \\\n",
       "name                                                                           \n",
       "Piroshky Piroshky             [Bakeries, Russian]  piroshky-piroshky-seattle   \n",
       "Paseo              [Caribbean, Cuban, Sandwiches]            paseo-seattle-3   \n",
       "Umma's Lunch Box                [Korean, Buffets]    ummas-lunch-box-seattle   \n",
       "\n",
       "                        phone  rating  review_count  \n",
       "name                                                 \n",
       "Piroshky Piroshky  2064416068     4.5          3235  \n",
       "Paseo              2065457440     4.5          4099  \n",
       "Umma's Lunch Box   2068543166     4.5           184  "
      ]
     },
     "execution_count": 4,
     "metadata": {},
     "output_type": "execute_result"
    }
   ],
   "source": [
    "yelp_df = feature_calc.feature_extract_yelp_list(yelp_restos)\n",
    "yelp_df.head(3)"
   ]
  },
  {
   "cell_type": "code",
   "execution_count": 76,
   "metadata": {
    "collapsed": true
   },
   "outputs": [],
   "source": [
    "yelp_df.to_csv('yelp_test_df.csv', encoding='utf-8', sep=';')"
   ]
  },
  {
   "cell_type": "code",
   "execution_count": 77,
   "metadata": {
    "collapsed": false
   },
   "outputs": [],
   "source": [
    "with open(working_dir + 'test_data\\\\yelp_test_df.csv', 'r', encoding='utf8') as csv_file:\n",
    "    test_df = pd.read_csv(csv_file, sep=';', index_col='name', dtype={'phone':str})\n",
    "    test_df['categories'] = test_df['categories'].apply(ast.literal_eval )"
   ]
  },
  {
   "cell_type": "code",
   "execution_count": 19,
   "metadata": {
    "collapsed": false
   },
   "outputs": [
    {
     "data": {
      "text/html": [
       "<div>\n",
       "<table border=\"1\" class=\"dataframe\">\n",
       "  <thead>\n",
       "    <tr style=\"text-align: right;\">\n",
       "      <th></th>\n",
       "      <th>categories</th>\n",
       "      <th>id</th>\n",
       "      <th>phone</th>\n",
       "      <th>rating</th>\n",
       "      <th>review_count</th>\n",
       "    </tr>\n",
       "    <tr>\n",
       "      <th>name</th>\n",
       "      <th></th>\n",
       "      <th></th>\n",
       "      <th></th>\n",
       "      <th></th>\n",
       "      <th></th>\n",
       "    </tr>\n",
       "  </thead>\n",
       "  <tbody>\n",
       "    <tr>\n",
       "      <th>Piroshky Piroshky</th>\n",
       "      <td>[Bakeries, Russian]</td>\n",
       "      <td>piroshky-piroshky-seattle</td>\n",
       "      <td>2064416068</td>\n",
       "      <td>4.5</td>\n",
       "      <td>3235</td>\n",
       "    </tr>\n",
       "  </tbody>\n",
       "</table>\n",
       "</div>"
      ],
      "text/plain": [
       "                            categories                         id       phone  \\\n",
       "name                                                                            \n",
       "Piroshky Piroshky  [Bakeries, Russian]  piroshky-piroshky-seattle  2064416068   \n",
       "\n",
       "                   rating  review_count  \n",
       "name                                     \n",
       "Piroshky Piroshky     4.5          3235  "
      ]
     },
     "execution_count": 19,
     "metadata": {},
     "output_type": "execute_result"
    }
   ],
   "source": [
    "feature_calc.feature_extract_yelp_json(yelp_restos[0])"
   ]
  },
  {
   "cell_type": "code",
   "execution_count": 78,
   "metadata": {
    "collapsed": false
   },
   "outputs": [
    {
     "data": {
      "text/plain": [
       "True"
      ]
     },
     "execution_count": 78,
     "metadata": {},
     "output_type": "execute_result"
    }
   ],
   "source": [
    "yelp_df.head(1).equals( feature_calc.feature_extract_yelp_json(yelp_restos[0]) )"
   ]
  },
  {
   "cell_type": "code",
   "execution_count": 79,
   "metadata": {
    "collapsed": false
   },
   "outputs": [
    {
     "data": {
      "text/plain": [
       "True"
      ]
     },
     "execution_count": 79,
     "metadata": {},
     "output_type": "execute_result"
    }
   ],
   "source": [
    "test_df.head(1).equals( feature_calc.feature_extract_yelp_json(yelp_restos[0]) )"
   ]
  },
  {
   "cell_type": "code",
   "execution_count": null,
   "metadata": {
    "collapsed": true
   },
   "outputs": [],
   "source": []
  }
 ],
 "metadata": {
  "kernelspec": {
   "display_name": "Python 3",
   "language": "python",
   "name": "python3"
  },
  "language_info": {
   "codemirror_mode": {
    "name": "ipython",
    "version": 3
   },
   "file_extension": ".py",
   "mimetype": "text/x-python",
   "name": "python",
   "nbconvert_exporter": "python",
   "pygments_lexer": "ipython3",
   "version": "3.4.4"
  }
 },
 "nbformat": 4,
 "nbformat_minor": 0
}
