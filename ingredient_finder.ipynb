{
  "nbformat": 4,
  "nbformat_minor": 0,
  "metadata": {
    "colab": {
      "provenance": [],
      "include_colab_link": true
    },
    "kernelspec": {
      "name": "python3",
      "display_name": "Python 3"
    },
    "widgets": {
      "application/vnd.jupyter.widget-state+json": {
        "deac5c6c2a5648d8bd289a0c5a61a1b5": {
          "model_module": "@jupyter-widgets/controls",
          "model_name": "VBoxModel",
          "model_module_version": "1.5.0",
          "state": {
            "_dom_classes": [],
            "_model_module": "@jupyter-widgets/controls",
            "_model_module_version": "1.5.0",
            "_model_name": "VBoxModel",
            "_view_count": null,
            "_view_module": "@jupyter-widgets/controls",
            "_view_module_version": "1.5.0",
            "_view_name": "VBoxView",
            "box_style": "",
            "children": [
              "IPY_MODEL_b295c363123b4b5685b590b73ef070ed",
              "IPY_MODEL_e5d805cc5cae44ecbef162d93c045572",
              "IPY_MODEL_7915ba249dee4440a850daa4178b88da",
              "IPY_MODEL_fff650d534fa4b7f88a2e24535b9fe5e",
              "IPY_MODEL_a5e866ebcdd440c8a31a7d8fa139f1e6"
            ],
            "layout": "IPY_MODEL_c07180e8031a46099b0f7aa424b529a3"
          }
        },
        "b295c363123b4b5685b590b73ef070ed": {
          "model_module": "@jupyter-widgets/controls",
          "model_name": "HTMLModel",
          "model_module_version": "1.5.0",
          "state": {
            "_dom_classes": [],
            "_model_module": "@jupyter-widgets/controls",
            "_model_module_version": "1.5.0",
            "_model_name": "HTMLModel",
            "_view_count": null,
            "_view_module": "@jupyter-widgets/controls",
            "_view_module_version": "1.5.0",
            "_view_name": "HTMLView",
            "description": "",
            "description_tooltip": null,
            "layout": "IPY_MODEL_681880b828d04c039cf30db33c5566dc",
            "placeholder": "​",
            "style": "IPY_MODEL_b080419850224bf982c8239460a767c9",
            "value": "<center> <img\nsrc=https://huggingface.co/front/assets/huggingface_logo-noborder.svg\nalt='Hugging Face'> <br> Copy a token from <a\nhref=\"https://huggingface.co/settings/tokens\" target=\"_blank\">your Hugging Face\ntokens page</a> and paste it below. <br> Immediately click login after copying\nyour token or it might be stored in plain text in this notebook file. </center>"
          }
        },
        "e5d805cc5cae44ecbef162d93c045572": {
          "model_module": "@jupyter-widgets/controls",
          "model_name": "PasswordModel",
          "model_module_version": "1.5.0",
          "state": {
            "_dom_classes": [],
            "_model_module": "@jupyter-widgets/controls",
            "_model_module_version": "1.5.0",
            "_model_name": "PasswordModel",
            "_view_count": null,
            "_view_module": "@jupyter-widgets/controls",
            "_view_module_version": "1.5.0",
            "_view_name": "PasswordView",
            "continuous_update": true,
            "description": "Token:",
            "description_tooltip": null,
            "disabled": false,
            "layout": "IPY_MODEL_560b978a6850433c8d5309474d929ab3",
            "placeholder": "​",
            "style": "IPY_MODEL_52eb7e442ba2429facbad4e8fbca5167",
            "value": ""
          }
        },
        "7915ba249dee4440a850daa4178b88da": {
          "model_module": "@jupyter-widgets/controls",
          "model_name": "CheckboxModel",
          "model_module_version": "1.5.0",
          "state": {
            "_dom_classes": [],
            "_model_module": "@jupyter-widgets/controls",
            "_model_module_version": "1.5.0",
            "_model_name": "CheckboxModel",
            "_view_count": null,
            "_view_module": "@jupyter-widgets/controls",
            "_view_module_version": "1.5.0",
            "_view_name": "CheckboxView",
            "description": "Add token as git credential?",
            "description_tooltip": null,
            "disabled": false,
            "indent": true,
            "layout": "IPY_MODEL_7225477e201640a0b6aa8ba130466b59",
            "style": "IPY_MODEL_2888d4c72fc84950922db85a6beb4480",
            "value": false
          }
        },
        "fff650d534fa4b7f88a2e24535b9fe5e": {
          "model_module": "@jupyter-widgets/controls",
          "model_name": "ButtonModel",
          "model_module_version": "1.5.0",
          "state": {
            "_dom_classes": [],
            "_model_module": "@jupyter-widgets/controls",
            "_model_module_version": "1.5.0",
            "_model_name": "ButtonModel",
            "_view_count": null,
            "_view_module": "@jupyter-widgets/controls",
            "_view_module_version": "1.5.0",
            "_view_name": "ButtonView",
            "button_style": "",
            "description": "Login",
            "disabled": false,
            "icon": "",
            "layout": "IPY_MODEL_e3c0c02ee87c4622a36d51c6b529801d",
            "style": "IPY_MODEL_3ef3fe7e1c78481bbec16dbd3cb61342",
            "tooltip": ""
          }
        },
        "a5e866ebcdd440c8a31a7d8fa139f1e6": {
          "model_module": "@jupyter-widgets/controls",
          "model_name": "HTMLModel",
          "model_module_version": "1.5.0",
          "state": {
            "_dom_classes": [],
            "_model_module": "@jupyter-widgets/controls",
            "_model_module_version": "1.5.0",
            "_model_name": "HTMLModel",
            "_view_count": null,
            "_view_module": "@jupyter-widgets/controls",
            "_view_module_version": "1.5.0",
            "_view_name": "HTMLView",
            "description": "",
            "description_tooltip": null,
            "layout": "IPY_MODEL_f413612187d7443dab635a5d22200b01",
            "placeholder": "​",
            "style": "IPY_MODEL_42f602ac8ed74b288efe879b455eb687",
            "value": "\n<b>Pro Tip:</b> If you don't already have one, you can create a dedicated\n'notebooks' token with 'write' access, that you can then easily reuse for all\nnotebooks. </center>"
          }
        },
        "c07180e8031a46099b0f7aa424b529a3": {
          "model_module": "@jupyter-widgets/base",
          "model_name": "LayoutModel",
          "model_module_version": "1.2.0",
          "state": {
            "_model_module": "@jupyter-widgets/base",
            "_model_module_version": "1.2.0",
            "_model_name": "LayoutModel",
            "_view_count": null,
            "_view_module": "@jupyter-widgets/base",
            "_view_module_version": "1.2.0",
            "_view_name": "LayoutView",
            "align_content": null,
            "align_items": "center",
            "align_self": null,
            "border": null,
            "bottom": null,
            "display": "flex",
            "flex": null,
            "flex_flow": "column",
            "grid_area": null,
            "grid_auto_columns": null,
            "grid_auto_flow": null,
            "grid_auto_rows": null,
            "grid_column": null,
            "grid_gap": null,
            "grid_row": null,
            "grid_template_areas": null,
            "grid_template_columns": null,
            "grid_template_rows": null,
            "height": null,
            "justify_content": null,
            "justify_items": null,
            "left": null,
            "margin": null,
            "max_height": null,
            "max_width": null,
            "min_height": null,
            "min_width": null,
            "object_fit": null,
            "object_position": null,
            "order": null,
            "overflow": null,
            "overflow_x": null,
            "overflow_y": null,
            "padding": null,
            "right": null,
            "top": null,
            "visibility": null,
            "width": "50%"
          }
        },
        "681880b828d04c039cf30db33c5566dc": {
          "model_module": "@jupyter-widgets/base",
          "model_name": "LayoutModel",
          "model_module_version": "1.2.0",
          "state": {
            "_model_module": "@jupyter-widgets/base",
            "_model_module_version": "1.2.0",
            "_model_name": "LayoutModel",
            "_view_count": null,
            "_view_module": "@jupyter-widgets/base",
            "_view_module_version": "1.2.0",
            "_view_name": "LayoutView",
            "align_content": null,
            "align_items": null,
            "align_self": null,
            "border": null,
            "bottom": null,
            "display": null,
            "flex": null,
            "flex_flow": null,
            "grid_area": null,
            "grid_auto_columns": null,
            "grid_auto_flow": null,
            "grid_auto_rows": null,
            "grid_column": null,
            "grid_gap": null,
            "grid_row": null,
            "grid_template_areas": null,
            "grid_template_columns": null,
            "grid_template_rows": null,
            "height": null,
            "justify_content": null,
            "justify_items": null,
            "left": null,
            "margin": null,
            "max_height": null,
            "max_width": null,
            "min_height": null,
            "min_width": null,
            "object_fit": null,
            "object_position": null,
            "order": null,
            "overflow": null,
            "overflow_x": null,
            "overflow_y": null,
            "padding": null,
            "right": null,
            "top": null,
            "visibility": null,
            "width": null
          }
        },
        "b080419850224bf982c8239460a767c9": {
          "model_module": "@jupyter-widgets/controls",
          "model_name": "DescriptionStyleModel",
          "model_module_version": "1.5.0",
          "state": {
            "_model_module": "@jupyter-widgets/controls",
            "_model_module_version": "1.5.0",
            "_model_name": "DescriptionStyleModel",
            "_view_count": null,
            "_view_module": "@jupyter-widgets/base",
            "_view_module_version": "1.2.0",
            "_view_name": "StyleView",
            "description_width": ""
          }
        },
        "560b978a6850433c8d5309474d929ab3": {
          "model_module": "@jupyter-widgets/base",
          "model_name": "LayoutModel",
          "model_module_version": "1.2.0",
          "state": {
            "_model_module": "@jupyter-widgets/base",
            "_model_module_version": "1.2.0",
            "_model_name": "LayoutModel",
            "_view_count": null,
            "_view_module": "@jupyter-widgets/base",
            "_view_module_version": "1.2.0",
            "_view_name": "LayoutView",
            "align_content": null,
            "align_items": null,
            "align_self": null,
            "border": null,
            "bottom": null,
            "display": null,
            "flex": null,
            "flex_flow": null,
            "grid_area": null,
            "grid_auto_columns": null,
            "grid_auto_flow": null,
            "grid_auto_rows": null,
            "grid_column": null,
            "grid_gap": null,
            "grid_row": null,
            "grid_template_areas": null,
            "grid_template_columns": null,
            "grid_template_rows": null,
            "height": null,
            "justify_content": null,
            "justify_items": null,
            "left": null,
            "margin": null,
            "max_height": null,
            "max_width": null,
            "min_height": null,
            "min_width": null,
            "object_fit": null,
            "object_position": null,
            "order": null,
            "overflow": null,
            "overflow_x": null,
            "overflow_y": null,
            "padding": null,
            "right": null,
            "top": null,
            "visibility": null,
            "width": null
          }
        },
        "52eb7e442ba2429facbad4e8fbca5167": {
          "model_module": "@jupyter-widgets/controls",
          "model_name": "DescriptionStyleModel",
          "model_module_version": "1.5.0",
          "state": {
            "_model_module": "@jupyter-widgets/controls",
            "_model_module_version": "1.5.0",
            "_model_name": "DescriptionStyleModel",
            "_view_count": null,
            "_view_module": "@jupyter-widgets/base",
            "_view_module_version": "1.2.0",
            "_view_name": "StyleView",
            "description_width": ""
          }
        },
        "7225477e201640a0b6aa8ba130466b59": {
          "model_module": "@jupyter-widgets/base",
          "model_name": "LayoutModel",
          "model_module_version": "1.2.0",
          "state": {
            "_model_module": "@jupyter-widgets/base",
            "_model_module_version": "1.2.0",
            "_model_name": "LayoutModel",
            "_view_count": null,
            "_view_module": "@jupyter-widgets/base",
            "_view_module_version": "1.2.0",
            "_view_name": "LayoutView",
            "align_content": null,
            "align_items": null,
            "align_self": null,
            "border": null,
            "bottom": null,
            "display": null,
            "flex": null,
            "flex_flow": null,
            "grid_area": null,
            "grid_auto_columns": null,
            "grid_auto_flow": null,
            "grid_auto_rows": null,
            "grid_column": null,
            "grid_gap": null,
            "grid_row": null,
            "grid_template_areas": null,
            "grid_template_columns": null,
            "grid_template_rows": null,
            "height": null,
            "justify_content": null,
            "justify_items": null,
            "left": null,
            "margin": null,
            "max_height": null,
            "max_width": null,
            "min_height": null,
            "min_width": null,
            "object_fit": null,
            "object_position": null,
            "order": null,
            "overflow": null,
            "overflow_x": null,
            "overflow_y": null,
            "padding": null,
            "right": null,
            "top": null,
            "visibility": null,
            "width": null
          }
        },
        "2888d4c72fc84950922db85a6beb4480": {
          "model_module": "@jupyter-widgets/controls",
          "model_name": "DescriptionStyleModel",
          "model_module_version": "1.5.0",
          "state": {
            "_model_module": "@jupyter-widgets/controls",
            "_model_module_version": "1.5.0",
            "_model_name": "DescriptionStyleModel",
            "_view_count": null,
            "_view_module": "@jupyter-widgets/base",
            "_view_module_version": "1.2.0",
            "_view_name": "StyleView",
            "description_width": ""
          }
        },
        "e3c0c02ee87c4622a36d51c6b529801d": {
          "model_module": "@jupyter-widgets/base",
          "model_name": "LayoutModel",
          "model_module_version": "1.2.0",
          "state": {
            "_model_module": "@jupyter-widgets/base",
            "_model_module_version": "1.2.0",
            "_model_name": "LayoutModel",
            "_view_count": null,
            "_view_module": "@jupyter-widgets/base",
            "_view_module_version": "1.2.0",
            "_view_name": "LayoutView",
            "align_content": null,
            "align_items": null,
            "align_self": null,
            "border": null,
            "bottom": null,
            "display": null,
            "flex": null,
            "flex_flow": null,
            "grid_area": null,
            "grid_auto_columns": null,
            "grid_auto_flow": null,
            "grid_auto_rows": null,
            "grid_column": null,
            "grid_gap": null,
            "grid_row": null,
            "grid_template_areas": null,
            "grid_template_columns": null,
            "grid_template_rows": null,
            "height": null,
            "justify_content": null,
            "justify_items": null,
            "left": null,
            "margin": null,
            "max_height": null,
            "max_width": null,
            "min_height": null,
            "min_width": null,
            "object_fit": null,
            "object_position": null,
            "order": null,
            "overflow": null,
            "overflow_x": null,
            "overflow_y": null,
            "padding": null,
            "right": null,
            "top": null,
            "visibility": null,
            "width": null
          }
        },
        "3ef3fe7e1c78481bbec16dbd3cb61342": {
          "model_module": "@jupyter-widgets/controls",
          "model_name": "ButtonStyleModel",
          "model_module_version": "1.5.0",
          "state": {
            "_model_module": "@jupyter-widgets/controls",
            "_model_module_version": "1.5.0",
            "_model_name": "ButtonStyleModel",
            "_view_count": null,
            "_view_module": "@jupyter-widgets/base",
            "_view_module_version": "1.2.0",
            "_view_name": "StyleView",
            "button_color": null,
            "font_weight": ""
          }
        },
        "f413612187d7443dab635a5d22200b01": {
          "model_module": "@jupyter-widgets/base",
          "model_name": "LayoutModel",
          "model_module_version": "1.2.0",
          "state": {
            "_model_module": "@jupyter-widgets/base",
            "_model_module_version": "1.2.0",
            "_model_name": "LayoutModel",
            "_view_count": null,
            "_view_module": "@jupyter-widgets/base",
            "_view_module_version": "1.2.0",
            "_view_name": "LayoutView",
            "align_content": null,
            "align_items": null,
            "align_self": null,
            "border": null,
            "bottom": null,
            "display": null,
            "flex": null,
            "flex_flow": null,
            "grid_area": null,
            "grid_auto_columns": null,
            "grid_auto_flow": null,
            "grid_auto_rows": null,
            "grid_column": null,
            "grid_gap": null,
            "grid_row": null,
            "grid_template_areas": null,
            "grid_template_columns": null,
            "grid_template_rows": null,
            "height": null,
            "justify_content": null,
            "justify_items": null,
            "left": null,
            "margin": null,
            "max_height": null,
            "max_width": null,
            "min_height": null,
            "min_width": null,
            "object_fit": null,
            "object_position": null,
            "order": null,
            "overflow": null,
            "overflow_x": null,
            "overflow_y": null,
            "padding": null,
            "right": null,
            "top": null,
            "visibility": null,
            "width": null
          }
        },
        "42f602ac8ed74b288efe879b455eb687": {
          "model_module": "@jupyter-widgets/controls",
          "model_name": "DescriptionStyleModel",
          "model_module_version": "1.5.0",
          "state": {
            "_model_module": "@jupyter-widgets/controls",
            "_model_module_version": "1.5.0",
            "_model_name": "DescriptionStyleModel",
            "_view_count": null,
            "_view_module": "@jupyter-widgets/base",
            "_view_module_version": "1.2.0",
            "_view_name": "StyleView",
            "description_width": ""
          }
        }
      }
    }
  },
  "cells": [
    {
      "cell_type": "markdown",
      "metadata": {
        "id": "view-in-github",
        "colab_type": "text"
      },
      "source": [
        "<a href=\"https://colab.research.google.com/github/map222/Kibbeh/blob/deploy_space/ingredient_finder.ipynb\" target=\"_parent\"><img src=\"https://colab.research.google.com/assets/colab-badge.svg\" alt=\"Open In Colab\"/></a>"
      ]
    },
    {
      "cell_type": "markdown",
      "metadata": {
        "id": "EHbiJCs7QAr_"
      },
      "source": [
        "# Ingredient recommender\n",
        "One of my best recipes is mashed potatoes with parsnip; the potatoes provide familiarity, but the parsnip provides a little spice, and makes the dish more memorable. Often when cooking, we want to spice up our recipes with new ingredients. Being better at ML than cooking, I created an ingredient recommender that given an ingredient will suggest something similar to it, but that doesn't occur with it often. This project has two parts:\n",
        "1. This training notebook where I develop the model\n",
        "2. A hugging face deployment that allows anyone to input an ingredient, and get back similar ingredients, as well as \"spicy\" ingredients."
      ]
    },
    {
      "cell_type": "markdown",
      "metadata": {
        "id": "Ia_5KpAyw-mS"
      },
      "source": [
        "# Setup:\n",
        "### Note to self:\n",
        "This notebook may not auto-save. To save, you need to go to File menu, then save to github. You can either push directly to master, or create a branch"
      ]
    },
    {
      "cell_type": "markdown",
      "source": [
        "### Google drive\n",
        "First, mount files from Google drive (to copy the file to your share folder, click [this link](https://drive.google.com/drive/folders/1fh5C0Wlda0QMzBXqOj6znhS8SlsCZm9O?usp=sharing)):"
      ],
      "metadata": {
        "id": "3JyKTcF3N9Is"
      }
    },
    {
      "cell_type": "code",
      "metadata": {
        "id": "yvbKPK8EcHTc",
        "outputId": "8af36a0a-d5a1-4809-d2c5-6087a0443f71",
        "colab": {
          "base_uri": "https://localhost:8080/"
        }
      },
      "source": [
        "from google.colab import drive\n",
        "drive.mount('/content/gdrive')"
      ],
      "execution_count": 1,
      "outputs": [
        {
          "output_type": "stream",
          "name": "stdout",
          "text": [
            "Mounted at /content/gdrive\n"
          ]
        }
      ]
    },
    {
      "cell_type": "code",
      "metadata": {
        "id": "WPnJGsVm8bsz"
      },
      "source": [
        "folder_loc = r'/content/gdrive/My Drive/Colab Notebooks/data/recipes/'"
      ],
      "execution_count": 2,
      "outputs": []
    },
    {
      "cell_type": "markdown",
      "source": [
        "### Hugging Face"
      ],
      "metadata": {
        "id": "Kale8cKwODL6"
      }
    },
    {
      "cell_type": "code",
      "source": [
        "!pip install huggingface_hub"
      ],
      "metadata": {
        "id": "OxxnA5RpDMOC"
      },
      "execution_count": null,
      "outputs": []
    },
    {
      "cell_type": "code",
      "source": [
        "from huggingface_hub import notebook_login\n",
        "notebook_login()"
      ],
      "metadata": {
        "colab": {
          "base_uri": "https://localhost:8080/",
          "height": 331,
          "referenced_widgets": [
            "deac5c6c2a5648d8bd289a0c5a61a1b5",
            "b295c363123b4b5685b590b73ef070ed",
            "e5d805cc5cae44ecbef162d93c045572",
            "7915ba249dee4440a850daa4178b88da",
            "fff650d534fa4b7f88a2e24535b9fe5e",
            "a5e866ebcdd440c8a31a7d8fa139f1e6",
            "c07180e8031a46099b0f7aa424b529a3",
            "681880b828d04c039cf30db33c5566dc",
            "b080419850224bf982c8239460a767c9",
            "560b978a6850433c8d5309474d929ab3",
            "52eb7e442ba2429facbad4e8fbca5167",
            "7225477e201640a0b6aa8ba130466b59",
            "2888d4c72fc84950922db85a6beb4480",
            "e3c0c02ee87c4622a36d51c6b529801d",
            "3ef3fe7e1c78481bbec16dbd3cb61342",
            "f413612187d7443dab635a5d22200b01",
            "42f602ac8ed74b288efe879b455eb687"
          ]
        },
        "id": "Z71Sy3vdOEYD",
        "outputId": "972afa14-ad0c-4c50-ca51-193ffc59071e"
      },
      "execution_count": 4,
      "outputs": [
        {
          "output_type": "stream",
          "name": "stdout",
          "text": [
            "Token is valid.\n",
            "Your token has been saved to /root/.cache/huggingface/token\n",
            "Login successful\n"
          ]
        }
      ]
    },
    {
      "cell_type": "markdown",
      "metadata": {
        "id": "jQ3-HTchbp2d"
      },
      "source": [
        "### Imports"
      ]
    },
    {
      "cell_type": "code",
      "metadata": {
        "id": "5ZJ136Hzi9fG"
      },
      "source": [
        "import pandas as pd\n",
        "import numpy as np\n",
        "from gensim.models import KeyedVectors, Word2Vec\n",
        "import warnings\n",
        "warnings.filterwarnings('ignore')\n",
        "from collections import defaultdict, Counter\n",
        "import json"
      ],
      "execution_count": 5,
      "outputs": []
    },
    {
      "cell_type": "code",
      "metadata": {
        "id": "gpF3-bncBIwn"
      },
      "source": [
        "import matplotlib\n",
        "import matplotlib.pyplot as plt\n",
        "import seaborn as sns\n",
        "%matplotlib inline\n",
        "from ast import literal_eval\n",
        "fs = 22\n",
        "font = {'family' : 'normal',\n",
        "        'weight' : 'normal',\n",
        "        'size'   : fs}\n",
        "\n",
        "matplotlib.rc('font', **font)\n",
        "plt.rc('xtick', labelsize=fs-6)\n",
        "plt.rc('ytick', labelsize=fs-6)"
      ],
      "execution_count": 6,
      "outputs": []
    },
    {
      "cell_type": "markdown",
      "source": [
        "## Load recipes\n",
        "I downloaded a set of over [2M recipes from Kaggle](https://www.kaggle.com/code/paultimothymooney/explore-recipe-nlg-dataset). The dataset has titles for the recipes, as well as pre-processed named entity recognition (NER)."
      ],
      "metadata": {
        "id": "uiJE1D_oiRRE"
      }
    },
    {
      "cell_type": "code",
      "source": [
        "test = pd.read_csv(folder_loc + 'RecipeNLG_dataset.csv', nrows = 5, sep = ',', index_col = 0)"
      ],
      "metadata": {
        "id": "PSTe0S4ugJxt"
      },
      "execution_count": 7,
      "outputs": []
    },
    {
      "cell_type": "code",
      "source": [
        "test.head()"
      ],
      "metadata": {
        "colab": {
          "base_uri": "https://localhost:8080/",
          "height": 319
        },
        "id": "PX3lvfYSgYsB",
        "outputId": "1498974e-8c59-4428-aa20-e0b88f15315d"
      },
      "execution_count": 8,
      "outputs": [
        {
          "output_type": "execute_result",
          "data": {
            "text/plain": [
              "                   title                                        ingredients  \\\n",
              "0    No-Bake Nut Cookies  [\"1 c. firmly packed brown sugar\", \"1/2 c. eva...   \n",
              "1  Jewell Ball'S Chicken  [\"1 small jar chipped beef, cut up\", \"4 boned ...   \n",
              "2            Creamy Corn  [\"2 (16 oz.) pkg. frozen corn\", \"1 (8 oz.) pkg...   \n",
              "3          Chicken Funny  [\"1 large whole chicken\", \"2 (10 1/2 oz.) cans...   \n",
              "4   Reeses Cups(Candy)    [\"1 c. peanut butter\", \"3/4 c. graham cracker ...   \n",
              "\n",
              "                                          directions  \\\n",
              "0  [\"In a heavy 2-quart saucepan, mix brown sugar...   \n",
              "1  [\"Place chipped beef on bottom of baking dish....   \n",
              "2  [\"In a slow cooker, combine all ingredients. C...   \n",
              "3  [\"Boil and debone chicken.\", \"Put bite size pi...   \n",
              "4  [\"Combine first four ingredients and press in ...   \n",
              "\n",
              "                                              link    source  \\\n",
              "0   www.cookbooks.com/Recipe-Details.aspx?id=44874  Gathered   \n",
              "1  www.cookbooks.com/Recipe-Details.aspx?id=699419  Gathered   \n",
              "2   www.cookbooks.com/Recipe-Details.aspx?id=10570  Gathered   \n",
              "3  www.cookbooks.com/Recipe-Details.aspx?id=897570  Gathered   \n",
              "4  www.cookbooks.com/Recipe-Details.aspx?id=659239  Gathered   \n",
              "\n",
              "                                                 NER  \n",
              "0  [\"brown sugar\", \"milk\", \"vanilla\", \"nuts\", \"bu...  \n",
              "1  [\"beef\", \"chicken breasts\", \"cream of mushroom...  \n",
              "2  [\"frozen corn\", \"cream cheese\", \"butter\", \"gar...  \n",
              "3  [\"chicken\", \"chicken gravy\", \"cream of mushroo...  \n",
              "4  [\"peanut butter\", \"graham cracker crumbs\", \"bu...  "
            ],
            "text/html": [
              "\n",
              "  <div id=\"df-c36ab969-e7c1-4187-bbaf-2828f567a9e9\">\n",
              "    <div class=\"colab-df-container\">\n",
              "      <div>\n",
              "<style scoped>\n",
              "    .dataframe tbody tr th:only-of-type {\n",
              "        vertical-align: middle;\n",
              "    }\n",
              "\n",
              "    .dataframe tbody tr th {\n",
              "        vertical-align: top;\n",
              "    }\n",
              "\n",
              "    .dataframe thead th {\n",
              "        text-align: right;\n",
              "    }\n",
              "</style>\n",
              "<table border=\"1\" class=\"dataframe\">\n",
              "  <thead>\n",
              "    <tr style=\"text-align: right;\">\n",
              "      <th></th>\n",
              "      <th>title</th>\n",
              "      <th>ingredients</th>\n",
              "      <th>directions</th>\n",
              "      <th>link</th>\n",
              "      <th>source</th>\n",
              "      <th>NER</th>\n",
              "    </tr>\n",
              "  </thead>\n",
              "  <tbody>\n",
              "    <tr>\n",
              "      <th>0</th>\n",
              "      <td>No-Bake Nut Cookies</td>\n",
              "      <td>[\"1 c. firmly packed brown sugar\", \"1/2 c. eva...</td>\n",
              "      <td>[\"In a heavy 2-quart saucepan, mix brown sugar...</td>\n",
              "      <td>www.cookbooks.com/Recipe-Details.aspx?id=44874</td>\n",
              "      <td>Gathered</td>\n",
              "      <td>[\"brown sugar\", \"milk\", \"vanilla\", \"nuts\", \"bu...</td>\n",
              "    </tr>\n",
              "    <tr>\n",
              "      <th>1</th>\n",
              "      <td>Jewell Ball'S Chicken</td>\n",
              "      <td>[\"1 small jar chipped beef, cut up\", \"4 boned ...</td>\n",
              "      <td>[\"Place chipped beef on bottom of baking dish....</td>\n",
              "      <td>www.cookbooks.com/Recipe-Details.aspx?id=699419</td>\n",
              "      <td>Gathered</td>\n",
              "      <td>[\"beef\", \"chicken breasts\", \"cream of mushroom...</td>\n",
              "    </tr>\n",
              "    <tr>\n",
              "      <th>2</th>\n",
              "      <td>Creamy Corn</td>\n",
              "      <td>[\"2 (16 oz.) pkg. frozen corn\", \"1 (8 oz.) pkg...</td>\n",
              "      <td>[\"In a slow cooker, combine all ingredients. C...</td>\n",
              "      <td>www.cookbooks.com/Recipe-Details.aspx?id=10570</td>\n",
              "      <td>Gathered</td>\n",
              "      <td>[\"frozen corn\", \"cream cheese\", \"butter\", \"gar...</td>\n",
              "    </tr>\n",
              "    <tr>\n",
              "      <th>3</th>\n",
              "      <td>Chicken Funny</td>\n",
              "      <td>[\"1 large whole chicken\", \"2 (10 1/2 oz.) cans...</td>\n",
              "      <td>[\"Boil and debone chicken.\", \"Put bite size pi...</td>\n",
              "      <td>www.cookbooks.com/Recipe-Details.aspx?id=897570</td>\n",
              "      <td>Gathered</td>\n",
              "      <td>[\"chicken\", \"chicken gravy\", \"cream of mushroo...</td>\n",
              "    </tr>\n",
              "    <tr>\n",
              "      <th>4</th>\n",
              "      <td>Reeses Cups(Candy)</td>\n",
              "      <td>[\"1 c. peanut butter\", \"3/4 c. graham cracker ...</td>\n",
              "      <td>[\"Combine first four ingredients and press in ...</td>\n",
              "      <td>www.cookbooks.com/Recipe-Details.aspx?id=659239</td>\n",
              "      <td>Gathered</td>\n",
              "      <td>[\"peanut butter\", \"graham cracker crumbs\", \"bu...</td>\n",
              "    </tr>\n",
              "  </tbody>\n",
              "</table>\n",
              "</div>\n",
              "      <button class=\"colab-df-convert\" onclick=\"convertToInteractive('df-c36ab969-e7c1-4187-bbaf-2828f567a9e9')\"\n",
              "              title=\"Convert this dataframe to an interactive table.\"\n",
              "              style=\"display:none;\">\n",
              "        \n",
              "  <svg xmlns=\"http://www.w3.org/2000/svg\" height=\"24px\"viewBox=\"0 0 24 24\"\n",
              "       width=\"24px\">\n",
              "    <path d=\"M0 0h24v24H0V0z\" fill=\"none\"/>\n",
              "    <path d=\"M18.56 5.44l.94 2.06.94-2.06 2.06-.94-2.06-.94-.94-2.06-.94 2.06-2.06.94zm-11 1L8.5 8.5l.94-2.06 2.06-.94-2.06-.94L8.5 2.5l-.94 2.06-2.06.94zm10 10l.94 2.06.94-2.06 2.06-.94-2.06-.94-.94-2.06-.94 2.06-2.06.94z\"/><path d=\"M17.41 7.96l-1.37-1.37c-.4-.4-.92-.59-1.43-.59-.52 0-1.04.2-1.43.59L10.3 9.45l-7.72 7.72c-.78.78-.78 2.05 0 2.83L4 21.41c.39.39.9.59 1.41.59.51 0 1.02-.2 1.41-.59l7.78-7.78 2.81-2.81c.8-.78.8-2.07 0-2.86zM5.41 20L4 18.59l7.72-7.72 1.47 1.35L5.41 20z\"/>\n",
              "  </svg>\n",
              "      </button>\n",
              "      \n",
              "  <style>\n",
              "    .colab-df-container {\n",
              "      display:flex;\n",
              "      flex-wrap:wrap;\n",
              "      gap: 12px;\n",
              "    }\n",
              "\n",
              "    .colab-df-convert {\n",
              "      background-color: #E8F0FE;\n",
              "      border: none;\n",
              "      border-radius: 50%;\n",
              "      cursor: pointer;\n",
              "      display: none;\n",
              "      fill: #1967D2;\n",
              "      height: 32px;\n",
              "      padding: 0 0 0 0;\n",
              "      width: 32px;\n",
              "    }\n",
              "\n",
              "    .colab-df-convert:hover {\n",
              "      background-color: #E2EBFA;\n",
              "      box-shadow: 0px 1px 2px rgba(60, 64, 67, 0.3), 0px 1px 3px 1px rgba(60, 64, 67, 0.15);\n",
              "      fill: #174EA6;\n",
              "    }\n",
              "\n",
              "    [theme=dark] .colab-df-convert {\n",
              "      background-color: #3B4455;\n",
              "      fill: #D2E3FC;\n",
              "    }\n",
              "\n",
              "    [theme=dark] .colab-df-convert:hover {\n",
              "      background-color: #434B5C;\n",
              "      box-shadow: 0px 1px 3px 1px rgba(0, 0, 0, 0.15);\n",
              "      filter: drop-shadow(0px 1px 2px rgba(0, 0, 0, 0.3));\n",
              "      fill: #FFFFFF;\n",
              "    }\n",
              "  </style>\n",
              "\n",
              "      <script>\n",
              "        const buttonEl =\n",
              "          document.querySelector('#df-c36ab969-e7c1-4187-bbaf-2828f567a9e9 button.colab-df-convert');\n",
              "        buttonEl.style.display =\n",
              "          google.colab.kernel.accessAllowed ? 'block' : 'none';\n",
              "\n",
              "        async function convertToInteractive(key) {\n",
              "          const element = document.querySelector('#df-c36ab969-e7c1-4187-bbaf-2828f567a9e9');\n",
              "          const dataTable =\n",
              "            await google.colab.kernel.invokeFunction('convertToInteractive',\n",
              "                                                     [key], {});\n",
              "          if (!dataTable) return;\n",
              "\n",
              "          const docLinkHtml = 'Like what you see? Visit the ' +\n",
              "            '<a target=\"_blank\" href=https://colab.research.google.com/notebooks/data_table.ipynb>data table notebook</a>'\n",
              "            + ' to learn more about interactive tables.';\n",
              "          element.innerHTML = '';\n",
              "          dataTable['output_type'] = 'display_data';\n",
              "          await google.colab.output.renderOutput(dataTable, element);\n",
              "          const docLink = document.createElement('div');\n",
              "          docLink.innerHTML = docLinkHtml;\n",
              "          element.appendChild(docLink);\n",
              "        }\n",
              "      </script>\n",
              "    </div>\n",
              "  </div>\n",
              "  "
            ]
          },
          "metadata": {},
          "execution_count": 8
        }
      ]
    },
    {
      "cell_type": "code",
      "source": [
        "%%time\n",
        "\n",
        "recipes_pdf = pd.read_csv(folder_loc + 'RecipeNLG_dataset.csv', sep = ',',usecols = ['title', 'NER'], converters={\"NER\": literal_eval})"
      ],
      "metadata": {
        "id": "WviWIaHTgj05",
        "colab": {
          "base_uri": "https://localhost:8080/"
        },
        "outputId": "d07b96c6-607e-4f56-fc13-44437db82ebd"
      },
      "execution_count": 9,
      "outputs": [
        {
          "output_type": "stream",
          "name": "stdout",
          "text": [
            "CPU times: user 1min 20s, sys: 3.84 s, total: 1min 24s\n",
            "Wall time: 3min 8s\n"
          ]
        }
      ]
    },
    {
      "cell_type": "code",
      "source": [
        "recipes_pdf.info()"
      ],
      "metadata": {
        "colab": {
          "base_uri": "https://localhost:8080/"
        },
        "id": "2MTmiMUCgtRc",
        "outputId": "43ec0621-9e54-4989-ceac-f15575f30629"
      },
      "execution_count": 10,
      "outputs": [
        {
          "output_type": "stream",
          "name": "stdout",
          "text": [
            "<class 'pandas.core.frame.DataFrame'>\n",
            "RangeIndex: 2231142 entries, 0 to 2231141\n",
            "Data columns (total 2 columns):\n",
            " #   Column  Dtype \n",
            "---  ------  ----- \n",
            " 0   title   object\n",
            " 1   NER     object\n",
            "dtypes: object(2)\n",
            "memory usage: 34.0+ MB\n"
          ]
        }
      ]
    },
    {
      "cell_type": "markdown",
      "source": [
        "# Pre-processing\n",
        "As in any NLP application, we need to do some pre-processing. As I am focusing on the embedding aspect of this project, I only did some light stemming (removing plurals), and deduplication of recipes that had the same ingredients."
      ],
      "metadata": {
        "id": "hA1Pf_pIcX9l"
      }
    },
    {
      "cell_type": "markdown",
      "source": [
        "### Stemming\n",
        "First, remove trailing `s`s to reduce token count"
      ],
      "metadata": {
        "id": "-kaHo8uHcl9N"
      }
    },
    {
      "cell_type": "code",
      "source": [
        "def pre_process(token_list):\n",
        "  return [word.rstrip('s').lower() for word in token_list]\n",
        "recipes_pdf['NER'] = recipes_pdf['NER'].apply(pre_process)"
      ],
      "metadata": {
        "id": "vQCg21AfcXrl"
      },
      "execution_count": 11,
      "outputs": []
    },
    {
      "cell_type": "code",
      "source": [
        "recipes_pdf['NER'].head()"
      ],
      "metadata": {
        "colab": {
          "base_uri": "https://localhost:8080/"
        },
        "id": "NX3gWfSTdFZn",
        "outputId": "1cbaefc2-c737-449f-e222-574d493d370e"
      },
      "execution_count": 12,
      "outputs": [
        {
          "output_type": "execute_result",
          "data": {
            "text/plain": [
              "0    [brown sugar, milk, vanilla, nut, butter, bite...\n",
              "1    [beef, chicken breast, cream of mushroom soup,...\n",
              "2    [frozen corn, cream cheese, butter, garlic pow...\n",
              "3    [chicken, chicken gravy, cream of mushroom sou...\n",
              "4    [peanut butter, graham cracker crumb, butter, ...\n",
              "Name: NER, dtype: object"
            ]
          },
          "metadata": {},
          "execution_count": 12
        }
      ]
    },
    {
      "cell_type": "markdown",
      "source": [
        "## Remove duplicate recipes\n",
        "There are many duplicate recipes. We can see that at first by looking at recipe names. Below are the 2000th most common recipe titles, and we can see even this low in the rankings there are many duplicates."
      ],
      "metadata": {
        "id": "CajDVGINMH4k"
      }
    },
    {
      "cell_type": "code",
      "source": [
        "recipes_pdf['title'].value_counts().head(2000).tail()"
      ],
      "metadata": {
        "colab": {
          "base_uri": "https://localhost:8080/"
        },
        "id": "dZIjHi_Edqky",
        "outputId": "2db490ce-c183-4e1f-b7e1-e5828d7bb0cc"
      },
      "execution_count": 13,
      "outputs": [
        {
          "output_type": "execute_result",
          "data": {
            "text/plain": [
              "Tuna Ball                   59\n",
              "Easy Coconut Cake           59\n",
              "Lemon Poppy Seed Muffins    59\n",
              "Tomato Pudding              59\n",
              "Mrs. Field'S Cookies        59\n",
              "Name: title, dtype: int64"
            ]
          },
          "metadata": {},
          "execution_count": 13
        }
      ]
    },
    {
      "cell_type": "markdown",
      "source": [
        "### Janky way to remove duplicates\n",
        "One way to remove duplicate recipes would be to find all recipes with the same set of ingredients. This would involve tokenizing stuff. My lazy way to do this is to just concatenate all the character together, and use pandas `drop_duplicates`."
      ],
      "metadata": {
        "id": "EiY_6RvqMS50"
      }
    },
    {
      "cell_type": "code",
      "source": [
        "recipes_pdf['sorted_char'] = recipes_pdf['NER'].apply(lambda row: ''.join(sorted(''.join(row).replace(' ', ''))))\n"
      ],
      "metadata": {
        "id": "ahYChmD_duE4"
      },
      "execution_count": 14,
      "outputs": []
    },
    {
      "cell_type": "code",
      "source": [
        "recipes_pdf['sorted_char'].value_counts().head()"
      ],
      "metadata": {
        "colab": {
          "base_uri": "https://localhost:8080/"
        },
        "id": "hwjEATUff7nV",
        "outputId": "e4551328-51e1-42ab-9bde-178533976f7d"
      },
      "execution_count": 15,
      "outputs": [
        {
          "output_type": "execute_result",
          "data": {
            "text/plain": [
              "                                                  574\n",
              "aaaaabbdeeefggggiiikklllllmnnooprrrrsstttuuuvw    449\n",
              "aefggiklllmorstu                                  336\n",
              "aaegrrstuw                                        311\n",
              "aaabbdeeefggggiikklllmnooprrrrsstttuuuw           307\n",
              "Name: sorted_char, dtype: int64"
            ]
          },
          "metadata": {},
          "execution_count": 15
        }
      ]
    },
    {
      "cell_type": "code",
      "source": [
        "recipes_pdf.loc[recipes_pdf['sorted_char'] == 'aaabbdeeefggggiikklllmnooprrrrsstttuuuw'].head()"
      ],
      "metadata": {
        "colab": {
          "base_uri": "https://localhost:8080/",
          "height": 206
        },
        "id": "7ARyFoN_gIf5",
        "outputId": "72948b85-ba59-43ab-ee90-af14605e0622"
      },
      "execution_count": 16,
      "outputs": [
        {
          "output_type": "execute_result",
          "data": {
            "text/plain": [
              "                   title                                                NER  \\\n",
              "175       Mom'S Pancakes  [flour, baking powder, salt, sugar, egg, milk,...   \n",
              "6031   Homemade Pancakes  [flour, salt, sugar, egg, baking powder, milk,...   \n",
              "7300      Plain Biscuits  [flour, baking powder, sugar, salt, butter, mi...   \n",
              "11873         Picklelets  [egg, milk, baking powder, butter, sugar, flou...   \n",
              "18121           Pancakes  [baking powder, flour, sugar, salt, milk, egg,...   \n",
              "\n",
              "                                   sorted_char  \n",
              "175    aaabbdeeefggggiikklllmnooprrrrsstttuuuw  \n",
              "6031   aaabbdeeefggggiikklllmnooprrrrsstttuuuw  \n",
              "7300   aaabbdeeefggggiikklllmnooprrrrsstttuuuw  \n",
              "11873  aaabbdeeefggggiikklllmnooprrrrsstttuuuw  \n",
              "18121  aaabbdeeefggggiikklllmnooprrrrsstttuuuw  "
            ],
            "text/html": [
              "\n",
              "  <div id=\"df-91fc32d5-6b89-407d-8f7e-4c8053c35c19\">\n",
              "    <div class=\"colab-df-container\">\n",
              "      <div>\n",
              "<style scoped>\n",
              "    .dataframe tbody tr th:only-of-type {\n",
              "        vertical-align: middle;\n",
              "    }\n",
              "\n",
              "    .dataframe tbody tr th {\n",
              "        vertical-align: top;\n",
              "    }\n",
              "\n",
              "    .dataframe thead th {\n",
              "        text-align: right;\n",
              "    }\n",
              "</style>\n",
              "<table border=\"1\" class=\"dataframe\">\n",
              "  <thead>\n",
              "    <tr style=\"text-align: right;\">\n",
              "      <th></th>\n",
              "      <th>title</th>\n",
              "      <th>NER</th>\n",
              "      <th>sorted_char</th>\n",
              "    </tr>\n",
              "  </thead>\n",
              "  <tbody>\n",
              "    <tr>\n",
              "      <th>175</th>\n",
              "      <td>Mom'S Pancakes</td>\n",
              "      <td>[flour, baking powder, salt, sugar, egg, milk,...</td>\n",
              "      <td>aaabbdeeefggggiikklllmnooprrrrsstttuuuw</td>\n",
              "    </tr>\n",
              "    <tr>\n",
              "      <th>6031</th>\n",
              "      <td>Homemade Pancakes</td>\n",
              "      <td>[flour, salt, sugar, egg, baking powder, milk,...</td>\n",
              "      <td>aaabbdeeefggggiikklllmnooprrrrsstttuuuw</td>\n",
              "    </tr>\n",
              "    <tr>\n",
              "      <th>7300</th>\n",
              "      <td>Plain Biscuits</td>\n",
              "      <td>[flour, baking powder, sugar, salt, butter, mi...</td>\n",
              "      <td>aaabbdeeefggggiikklllmnooprrrrsstttuuuw</td>\n",
              "    </tr>\n",
              "    <tr>\n",
              "      <th>11873</th>\n",
              "      <td>Picklelets</td>\n",
              "      <td>[egg, milk, baking powder, butter, sugar, flou...</td>\n",
              "      <td>aaabbdeeefggggiikklllmnooprrrrsstttuuuw</td>\n",
              "    </tr>\n",
              "    <tr>\n",
              "      <th>18121</th>\n",
              "      <td>Pancakes</td>\n",
              "      <td>[baking powder, flour, sugar, salt, milk, egg,...</td>\n",
              "      <td>aaabbdeeefggggiikklllmnooprrrrsstttuuuw</td>\n",
              "    </tr>\n",
              "  </tbody>\n",
              "</table>\n",
              "</div>\n",
              "      <button class=\"colab-df-convert\" onclick=\"convertToInteractive('df-91fc32d5-6b89-407d-8f7e-4c8053c35c19')\"\n",
              "              title=\"Convert this dataframe to an interactive table.\"\n",
              "              style=\"display:none;\">\n",
              "        \n",
              "  <svg xmlns=\"http://www.w3.org/2000/svg\" height=\"24px\"viewBox=\"0 0 24 24\"\n",
              "       width=\"24px\">\n",
              "    <path d=\"M0 0h24v24H0V0z\" fill=\"none\"/>\n",
              "    <path d=\"M18.56 5.44l.94 2.06.94-2.06 2.06-.94-2.06-.94-.94-2.06-.94 2.06-2.06.94zm-11 1L8.5 8.5l.94-2.06 2.06-.94-2.06-.94L8.5 2.5l-.94 2.06-2.06.94zm10 10l.94 2.06.94-2.06 2.06-.94-2.06-.94-.94-2.06-.94 2.06-2.06.94z\"/><path d=\"M17.41 7.96l-1.37-1.37c-.4-.4-.92-.59-1.43-.59-.52 0-1.04.2-1.43.59L10.3 9.45l-7.72 7.72c-.78.78-.78 2.05 0 2.83L4 21.41c.39.39.9.59 1.41.59.51 0 1.02-.2 1.41-.59l7.78-7.78 2.81-2.81c.8-.78.8-2.07 0-2.86zM5.41 20L4 18.59l7.72-7.72 1.47 1.35L5.41 20z\"/>\n",
              "  </svg>\n",
              "      </button>\n",
              "      \n",
              "  <style>\n",
              "    .colab-df-container {\n",
              "      display:flex;\n",
              "      flex-wrap:wrap;\n",
              "      gap: 12px;\n",
              "    }\n",
              "\n",
              "    .colab-df-convert {\n",
              "      background-color: #E8F0FE;\n",
              "      border: none;\n",
              "      border-radius: 50%;\n",
              "      cursor: pointer;\n",
              "      display: none;\n",
              "      fill: #1967D2;\n",
              "      height: 32px;\n",
              "      padding: 0 0 0 0;\n",
              "      width: 32px;\n",
              "    }\n",
              "\n",
              "    .colab-df-convert:hover {\n",
              "      background-color: #E2EBFA;\n",
              "      box-shadow: 0px 1px 2px rgba(60, 64, 67, 0.3), 0px 1px 3px 1px rgba(60, 64, 67, 0.15);\n",
              "      fill: #174EA6;\n",
              "    }\n",
              "\n",
              "    [theme=dark] .colab-df-convert {\n",
              "      background-color: #3B4455;\n",
              "      fill: #D2E3FC;\n",
              "    }\n",
              "\n",
              "    [theme=dark] .colab-df-convert:hover {\n",
              "      background-color: #434B5C;\n",
              "      box-shadow: 0px 1px 3px 1px rgba(0, 0, 0, 0.15);\n",
              "      filter: drop-shadow(0px 1px 2px rgba(0, 0, 0, 0.3));\n",
              "      fill: #FFFFFF;\n",
              "    }\n",
              "  </style>\n",
              "\n",
              "      <script>\n",
              "        const buttonEl =\n",
              "          document.querySelector('#df-91fc32d5-6b89-407d-8f7e-4c8053c35c19 button.colab-df-convert');\n",
              "        buttonEl.style.display =\n",
              "          google.colab.kernel.accessAllowed ? 'block' : 'none';\n",
              "\n",
              "        async function convertToInteractive(key) {\n",
              "          const element = document.querySelector('#df-91fc32d5-6b89-407d-8f7e-4c8053c35c19');\n",
              "          const dataTable =\n",
              "            await google.colab.kernel.invokeFunction('convertToInteractive',\n",
              "                                                     [key], {});\n",
              "          if (!dataTable) return;\n",
              "\n",
              "          const docLinkHtml = 'Like what you see? Visit the ' +\n",
              "            '<a target=\"_blank\" href=https://colab.research.google.com/notebooks/data_table.ipynb>data table notebook</a>'\n",
              "            + ' to learn more about interactive tables.';\n",
              "          element.innerHTML = '';\n",
              "          dataTable['output_type'] = 'display_data';\n",
              "          await google.colab.output.renderOutput(dataTable, element);\n",
              "          const docLink = document.createElement('div');\n",
              "          docLink.innerHTML = docLinkHtml;\n",
              "          element.appendChild(docLink);\n",
              "        }\n",
              "      </script>\n",
              "    </div>\n",
              "  </div>\n",
              "  "
            ]
          },
          "metadata": {},
          "execution_count": 16
        }
      ]
    },
    {
      "cell_type": "code",
      "source": [
        "recipes_pdf = recipes_pdf.drop_duplicates(subset = 'sorted_char')\n",
        "recipes_pdf.shape"
      ],
      "metadata": {
        "colab": {
          "base_uri": "https://localhost:8080/"
        },
        "id": "9-K_6byRgbxc",
        "outputId": "ce645a8b-c50b-4b74-9480-7082e40a3be8"
      },
      "execution_count": 17,
      "outputs": [
        {
          "output_type": "execute_result",
          "data": {
            "text/plain": [
              "(1976599, 3)"
            ]
          },
          "metadata": {},
          "execution_count": 17
        }
      ]
    },
    {
      "cell_type": "markdown",
      "source": [
        "Removed 20k recipes"
      ],
      "metadata": {
        "id": "IPwBL1nMgkiM"
      }
    },
    {
      "cell_type": "markdown",
      "source": [
        "#### Get ingredient counts, for understanding how common an ingredient is"
      ],
      "metadata": {
        "id": "tUrNCijqMjIc"
      }
    },
    {
      "cell_type": "code",
      "source": [
        "ingredient_count = Counter([token for row in recipes_pdf['NER'].values for token in row])"
      ],
      "metadata": {
        "id": "_w3fp5RYlOsa"
      },
      "execution_count": 18,
      "outputs": []
    },
    {
      "cell_type": "markdown",
      "source": [
        "# Modeling\n",
        "To build a model for ingredients, I wanted a way to embed ingredients in space. The first thing that came to mind was to use Word2Vec, as it does just that. Here I train embeddings with different numbers of dimensions, ranging from 16-100. This is doable on a Google Colab CPU in about 3 minutes per model, for 2M recipes"
      ],
      "metadata": {
        "id": "fMs_iM85ZJQ9"
      }
    },
    {
      "cell_type": "markdown",
      "source": [
        "### Train embeddings with different number of dimensions"
      ],
      "metadata": {
        "id": "PUPmjZumM30Q"
      }
    },
    {
      "cell_type": "code",
      "metadata": {
        "id": "rmkwu3QyqXpI",
        "outputId": "82eac4ff-f022-4668-aa9f-bc428935a46e",
        "colab": {
          "base_uri": "https://localhost:8080/"
        }
      },
      "source": [
        "%%time\n",
        "recipe_w2v_100 = Word2Vec(recipes_pdf['NER'], min_count=10)\n",
        "recipe_w2v_50 = Word2Vec(recipes_pdf['NER'], size=50, min_count=10)\n",
        "recipe_w2v_25 = Word2Vec(recipes_pdf['NER'], size=25, min_count=10)\n",
        "recipe_w2v_16 = Word2Vec(recipes_pdf['NER'], size=16, min_count=10)"
      ],
      "execution_count": 59,
      "outputs": [
        {
          "output_type": "stream",
          "name": "stdout",
          "text": [
            "CPU times: user 6min 36s, sys: 2.27 s, total: 6min 38s\n",
            "Wall time: 4min 17s\n"
          ]
        }
      ]
    },
    {
      "cell_type": "markdown",
      "source": [
        "We have about 20k ingredients after training"
      ],
      "metadata": {
        "id": "dnO5UGgUZiao"
      }
    },
    {
      "cell_type": "code",
      "metadata": {
        "id": "XzdzwhgqtO08",
        "colab": {
          "base_uri": "https://localhost:8080/"
        },
        "outputId": "a622a248-fff3-4d68-87e5-48d5aa18005f"
      },
      "source": [
        "# number of ingredients\n",
        "len(recipe_w2v_16.wv.vocab)"
      ],
      "execution_count": 21,
      "outputs": [
        {
          "output_type": "execute_result",
          "data": {
            "text/plain": [
              "18877"
            ]
          },
          "metadata": {},
          "execution_count": 21
        }
      ]
    },
    {
      "cell_type": "markdown",
      "source": [
        "## Lower-dimensional embeddings look better on the surface than high-dimensions\n",
        "When I initially trained these ingredient-embeddings, I found some surprising results, like `bone` showing up in the most similar ingredients for `carrot`. While this is somewhat understandable since people make lots of soups, this would make for some surprising ingredient replacements.\n",
        "\n",
        "One hypothesis I had for this was that the default number of embeddings dimensions is too high. Anthropic AI has an [interesting paper about how embeddings are able to represent more features than there are dimensions](https://transformer-circuits.pub/2022/toy_model/index.html#motivation) by using \"superposition.\" The default number of dimensions for GenSim is 100, which implies it could encode hundreds of dimensions in flavor space. So I tested reducing the number of dimensions of the embeddings, and lo and behold it seemed to fix the `carrot-bone` similarity problem. Below are examples of this for carrots and apples. "
      ],
      "metadata": {
        "id": "u4p7pcx4MnkA"
      }
    },
    {
      "cell_type": "markdown",
      "source": [
        "### Carrots\n",
        "With the default number of dimensions (100), the most similar ingredients  to `carrot` are `carrot` variants, but `bone` and `beef bone` show up in the top 10."
      ],
      "metadata": {
        "id": "0ET22zeINwqj"
      }
    },
    {
      "cell_type": "code",
      "source": [
        "recipe_w2v.most_similar('carrot')"
      ],
      "metadata": {
        "colab": {
          "base_uri": "https://localhost:8080/"
        },
        "id": "dBsNhqYfJzue",
        "outputId": "d1dc4a54-4f40-4447-ec02-dce3def8ebc6"
      },
      "execution_count": null,
      "outputs": [
        {
          "output_type": "execute_result",
          "data": {
            "text/plain": [
              "[('baby carrot', 0.8065677881240845),\n",
              " ('fresh carrot', 0.6772737503051758),\n",
              " ('peeled carrot', 0.6647123694419861),\n",
              " ('fresh baby carrot', 0.5763121843338013),\n",
              " ('grated carrot', 0.5363171696662903),\n",
              " ('beef bone', 0.5336546897888184),\n",
              " ('bone', 0.522489070892334),\n",
              " ('pearl barley', 0.4999176263809204),\n",
              " ('barley', 0.4961257576942444),\n",
              " ('only', 0.48451071977615356)]"
            ]
          },
          "metadata": {},
          "execution_count": 55
        }
      ]
    },
    {
      "cell_type": "markdown",
      "source": [
        "25 dimensions pushes `bone` out of the top 10, but still surprisingly high."
      ],
      "metadata": {
        "id": "BpRtQJ9EO9Cu"
      }
    },
    {
      "cell_type": "code",
      "source": [
        "recipe_w2v_25.most_similar('carrot' , topn=15)"
      ],
      "metadata": {
        "colab": {
          "base_uri": "https://localhost:8080/"
        },
        "id": "_CBvzJbBKnQg",
        "outputId": "83b4adf5-665d-46bb-b5e2-bd0a0bc0e1c8"
      },
      "execution_count": null,
      "outputs": [
        {
          "output_type": "execute_result",
          "data": {
            "text/plain": [
              "[('baby carrot', 0.8326777219772339),\n",
              " ('fresh carrot', 0.7855518460273743),\n",
              " ('white turnip', 0.7434546947479248),\n",
              " ('pearl barley', 0.7420206665992737),\n",
              " ('parsley root', 0.7365614175796509),\n",
              " ('turnip', 0.7275972962379456),\n",
              " ('barley', 0.7271861433982849),\n",
              " ('sweet potato', 0.7265936136245728),\n",
              " ('swede', 0.7255061864852905),\n",
              " ('green lentil', 0.7225844860076904),\n",
              " ('parsnip', 0.7192715406417847),\n",
              " ('bone', 0.715190589427948),\n",
              " ('chunk', 0.7009220123291016),\n",
              " ('stalks of celery', 0.6996918320655823),\n",
              " ('lentil', 0.6953086256980896)]"
            ]
          },
          "metadata": {},
          "execution_count": 77
        }
      ]
    },
    {
      "cell_type": "markdown",
      "source": [
        "16 dimensions gets it out of the top 20"
      ],
      "metadata": {
        "id": "5Cw93AbUQlZ5"
      }
    },
    {
      "cell_type": "code",
      "source": [
        "recipe_w2v_16.most_similar('carrot' , topn=20)"
      ],
      "metadata": {
        "colab": {
          "base_uri": "https://localhost:8080/"
        },
        "id": "5QscCb3LQb0Q",
        "outputId": "757fbb01-e20d-4deb-c08e-12e2ad6de921"
      },
      "execution_count": null,
      "outputs": [
        {
          "output_type": "execute_result",
          "data": {
            "text/plain": [
              "[('stalks celery', 0.8890523910522461),\n",
              " ('baby carrot', 0.8877623081207275),\n",
              " ('celery', 0.8522034287452698),\n",
              " ('pearl barley', 0.8518322706222534),\n",
              " ('barley', 0.8432409167289734),\n",
              " ('stalks of celery', 0.8340665698051453),\n",
              " ('celery stalk', 0.8294845223426819),\n",
              " ('lentil', 0.8264703154563904),\n",
              " ('stalk celery', 0.8254605531692505),\n",
              " ('green bean', 0.8253151178359985),\n",
              " ('green lentil', 0.8252203464508057),\n",
              " ('parsnip', 0.8249714374542236),\n",
              " ('dried lentil', 0.817329466342926),\n",
              " ('white cabbage', 0.8002745509147644),\n",
              " ('turnip', 0.7969602346420288),\n",
              " ('potato', 0.7907851338386536),\n",
              " ('fresh carrot', 0.7867233753204346),\n",
              " ('chunk', 0.7820314168930054),\n",
              " ('fresh green bean', 0.7777174711227417),\n",
              " ('white turnip', 0.7760671377182007)]"
            ]
          },
          "metadata": {},
          "execution_count": 76
        }
      ]
    },
    {
      "cell_type": "markdown",
      "source": [
        "### Barley\n",
        "We can see a similar situation with barley: with a large number of dimensions, meat bones are 4/20 most similar ingredients. However, if we reduce the number of dimensions to 16, we find that 2/20 are meat."
      ],
      "metadata": {
        "id": "PIKQd9WTQndI"
      }
    },
    {
      "cell_type": "code",
      "source": [
        "recipe_w2v_100.most_similar('barley', topn=20)"
      ],
      "metadata": {
        "colab": {
          "base_uri": "https://localhost:8080/"
        },
        "id": "XLujI4DEQpeS",
        "outputId": "a2cfa6cd-2654-4407-f3d7-c6cb483f745f"
      },
      "execution_count": 79,
      "outputs": [
        {
          "output_type": "execute_result",
          "data": {
            "text/plain": [
              "[('pearl barley', 0.9185601472854614),\n",
              " ('dried lentil', 0.7291703820228577),\n",
              " ('lentil', 0.7216474413871765),\n",
              " ('dry lentil', 0.6877376437187195),\n",
              " ('long grain brown rice', 0.6726171970367432),\n",
              " ('green lentil', 0.669456422328949),\n",
              " ('quick-cooking barley', 0.6392723321914673),\n",
              " ('brown lentil', 0.6360408067703247),\n",
              " ('frozen green bean', 0.6338297128677368),\n",
              " ('green split pea', 0.6311508417129517),\n",
              " ('ham bone', 0.628990888595581),\n",
              " ('beef soup bone', 0.6211417317390442),\n",
              " ('brown rice', 0.6149815320968628),\n",
              " ('alphabet pasta', 0.6042261719703674),\n",
              " ('cooking barley', 0.5910148024559021),\n",
              " ('frozen lima bean', 0.5896640419960022),\n",
              " ('beef bone', 0.5829190015792847),\n",
              " ('white bean', 0.5824376344680786),\n",
              " ('bone', 0.5795758962631226),\n",
              " ('vegetable bouillon', 0.5782933235168457)]"
            ]
          },
          "metadata": {},
          "execution_count": 79
        }
      ]
    },
    {
      "cell_type": "code",
      "source": [
        "recipe_w2v_16.most_similar('barley', topn=20)"
      ],
      "metadata": {
        "colab": {
          "base_uri": "https://localhost:8080/"
        },
        "id": "GgdXRieRQsj2",
        "outputId": "d68b74fe-d882-4eb0-d11b-8de2c1ba4f6e"
      },
      "execution_count": 80,
      "outputs": [
        {
          "output_type": "execute_result",
          "data": {
            "text/plain": [
              "[('pearl barley', 0.9637734889984131),\n",
              " ('dried lentil', 0.925638735294342),\n",
              " ('lentil', 0.9177876710891724),\n",
              " ('dry lentil', 0.8902276754379272),\n",
              " ('brown lentil', 0.8776227235794067),\n",
              " ('green lentil', 0.8661330938339233),\n",
              " ('quick-cooking barley', 0.8623511791229248),\n",
              " ('carrot', 0.8284534215927124),\n",
              " ('lamb stew meat', 0.8240671753883362),\n",
              " ('long grain brown rice', 0.8050515651702881),\n",
              " ('stalks celery', 0.7979966402053833),\n",
              " ('dried great northern bean', 0.7950857281684875),\n",
              " ('yellow pea', 0.7908360362052917),\n",
              " ('white bean', 0.7860153913497925),\n",
              " ('split pea', 0.7850393056869507),\n",
              " ('chunk', 0.7847321033477783),\n",
              " ('green split pea', 0.7832866907119751),\n",
              " ('lamb shank', 0.7812250256538391),\n",
              " ('bulgur', 0.7739902138710022),\n",
              " ('stalks of celery', 0.771740734577179)]"
            ]
          },
          "metadata": {},
          "execution_count": 80
        }
      ]
    },
    {
      "cell_type": "markdown",
      "source": [
        "# Finding new ingredients\n",
        "Find ingredients that are similar in embedding space, but not used together commonly"
      ],
      "metadata": {
        "id": "kuyE4dh3KfA-"
      }
    },
    {
      "cell_type": "code",
      "source": [
        "def calc_cooccurrence(ingredient: str,\n",
        "                      candidates,\n",
        "                      recipes):\n",
        "  ''' Calc how often the top ingredient co-occurs with the candidates\n",
        "    - also removes candidates that are re-phrase of ingredient (e.g. \"beef\" and \"ground beef\")\n",
        "    ingredient: str name of an ingredient (\"apple\")\n",
        "    candidates: potential other ingredients (\"orange\")\n",
        "    recipes: iterable of possible ingredients\n",
        "  '''\n",
        "\n",
        "\n",
        "  co_count = {}\n",
        "  for candidate in candidates:\n",
        "    co_count[candidate] = sum([candidate in recipe and ingredient in recipe for recipe in recipes])\n",
        "  return co_count"
      ],
      "metadata": {
        "id": "pi8SnRmcmjn6"
      },
      "execution_count": 22,
      "outputs": []
    },
    {
      "cell_type": "code",
      "source": [
        "def get_fusion_ingredients(ingredient: str,\n",
        "                           recipe_model, #gensim model\n",
        "                           recipes, #iterable of recipes\n",
        "                           ingredient_count: dict,\n",
        "                           max_candidates = 20,\n",
        "                           min_occurence_factor = 100 # minimum number of recipes an ingredient has to be in\n",
        "                           ):\n",
        "\n",
        "  ingredient_recipes = recipes.loc[recipes.apply(lambda row: ingredient in row)]\n",
        "\n",
        "  ingredient_candidates = recipe_model.most_similar(ingredient, topn=50) # get top similar ingredients\n",
        "  candidate_names = list(zip(*ingredient_candidates))[0]\n",
        "  pruned_candidates = [candidate for candidate in candidate_names if ingredient not in candidate][:max_candidates] # clean up candidates to remove duplicates (e.g. \"gala apple\")\n",
        "  cooccurrence_counts = calc_cooccurrence(ingredient, candidate_names, ingredient_recipes) # get counts for normalization\n",
        "  # final score for sorting: similarity / how often co-occur / total occurences\n",
        "  min_occurences = max(cooccurrence_counts.values()) / min_occurence_factor\n",
        "  print(min_occurences)\n",
        "  freq_norm_candidates = {candidate[0]: candidate[1] / (cooccurrence_counts[candidate[0]]+1) / ingredient_count[candidate[0]] for candidate in ingredient_candidates if candidate[0] in pruned_candidates and cooccurrence_counts[candidate[0]] > min_occurences}\n",
        "  top_candidates = sorted([(k,v) for k,v in freq_norm_candidates.items()], key=lambda x: x[1])[-5:]\n",
        "  return top_candidates, cooccurrence_counts, ingredient_candidates # return multiple for debugging"
      ],
      "metadata": {
        "id": "JF02W45ijWVn"
      },
      "execution_count": 23,
      "outputs": []
    },
    {
      "cell_type": "code",
      "source": [
        "%%time\n",
        "get_fusion_ingredients('orange', recipe_w2v_25, recipes_pdf['NER'], ingredient_count)"
      ],
      "metadata": {
        "colab": {
          "base_uri": "https://localhost:8080/"
        },
        "id": "2GH5mhtvk4nA",
        "outputId": "a19dc08b-e52f-4442-cbac-09bfbb97b5ce"
      },
      "execution_count": null,
      "outputs": [
        {
          "output_type": "stream",
          "name": "stdout",
          "text": [
            "37.84\n",
            "CPU times: user 2.8 s, sys: 122 ms, total: 2.92 s\n",
            "Wall time: 3.18 s\n"
          ]
        },
        {
          "output_type": "execute_result",
          "data": {
            "text/plain": [
              "([('tangerine', 1.4669418242644563e-05),\n",
              "  ('red grapefruit', 1.9075492737998423e-05),\n",
              "  ('plum', 2.4063287866286987e-05),\n",
              "  ('clementine', 3.4001893315020326e-05),\n",
              "  ('kumquat', 3.4480510623283614e-05)],\n",
              " {'tangerine': 96,\n",
              "  'clementine': 56,\n",
              "  'kumquat': 60,\n",
              "  'grapefruit': 178,\n",
              "  'red grapefruit': 119,\n",
              "  'fresh squeezed orange juice': 58,\n",
              "  'pear': 224,\n",
              "  'pink grapefruit': 152,\n",
              "  'tangerine juice': 16,\n",
              "  'pomegranate': 90,\n",
              "  'pomegranate aril': 11,\n",
              "  'carrot juice': 14,\n",
              "  'orange slice': 113,\n",
              "  'pomegranate juice': 108,\n",
              "  'firm pear': 9,\n",
              "  'green apple': 99,\n",
              "  'orange juice': 3784,\n",
              "  'cranberrie': 1693,\n",
              "  'valencia': 3,\n",
              "  'fresh orange': 9,\n",
              "  'freshly squeezed orange juice': 222,\n",
              "  'pomegranate seed': 123,\n",
              "  'persimmon': 15,\n",
              "  'plum': 46,\n",
              "  'bosc pear': 6,\n",
              "  'cranberry juice': 269,\n",
              "  'valencia orange': 5,\n",
              "  'red plum': 6,\n",
              "  'fresh juice': 4,\n",
              "  'pear nectar': 0,\n",
              "  'purple': 16,\n",
              "  'grape juice': 76,\n",
              "  'orange blossom honey': 27,\n",
              "  'mandarin': 10,\n",
              "  'fresh-squeezed orange juice': 5,\n",
              "  'white grape juice': 33,\n",
              "  'freshly-squeezed orange juice': 0,\n",
              "  'orange rind strip': 3,\n",
              "  'asian pear': 12,\n",
              "  'black grape': 14,\n",
              "  'fig': 61,\n",
              "  'orange juice fresh': 8,\n",
              "  'firm': 14,\n",
              "  'orange section': 23,\n",
              "  'apricot': 245,\n",
              "  'grape': 429,\n",
              "  'golden': 6,\n",
              "  'gala apple': 10,\n",
              "  'bartlett': 35,\n",
              "  'pear juice': 3},\n",
              " [('tangerine', 0.9092545509338379),\n",
              "  ('clementine', 0.8779628872871399),\n",
              "  ('kumquat', 0.8497377038002014),\n",
              "  ('grapefruit', 0.8225606083869934),\n",
              "  ('red grapefruit', 0.8126159906387329),\n",
              "  ('fresh squeezed orange juice', 0.7974966764450073),\n",
              "  ('pear', 0.79206782579422),\n",
              "  ('pink grapefruit', 0.7875085473060608),\n",
              "  ('tangerine juice', 0.7840539216995239),\n",
              "  ('pomegranate', 0.7835109829902649),\n",
              "  ('pomegranate aril', 0.7797521352767944),\n",
              "  ('carrot juice', 0.7795317769050598),\n",
              "  ('orange slice', 0.7749267816543579),\n",
              "  ('pomegranate juice', 0.772537887096405),\n",
              "  ('firm pear', 0.7696105241775513),\n",
              "  ('green apple', 0.7670159339904785),\n",
              "  ('orange juice', 0.7576022744178772),\n",
              "  ('cranberrie', 0.7548837661743164),\n",
              "  ('valencia', 0.7544904351234436),\n",
              "  ('fresh orange', 0.7510762214660645),\n",
              "  ('freshly squeezed orange juice', 0.7487016916275024),\n",
              "  ('pomegranate seed', 0.7484813928604126),\n",
              "  ('persimmon', 0.7465596795082092),\n",
              "  ('plum', 0.7396573424339294),\n",
              "  ('bosc pear', 0.7386593818664551),\n",
              "  ('cranberry juice', 0.733825147151947),\n",
              "  ('valencia orange', 0.7331854104995728),\n",
              "  ('red plum', 0.7323850393295288),\n",
              "  ('fresh juice', 0.7321370840072632),\n",
              "  ('pear nectar', 0.731795072555542),\n",
              "  ('purple', 0.7284356951713562),\n",
              "  ('grape juice', 0.7270456552505493),\n",
              "  ('orange blossom honey', 0.7229253053665161),\n",
              "  ('mandarin', 0.7227696180343628),\n",
              "  ('fresh-squeezed orange juice', 0.7200968861579895),\n",
              "  ('white grape juice', 0.7192829251289368),\n",
              "  ('freshly-squeezed orange juice', 0.7178441286087036),\n",
              "  ('orange rind strip', 0.7175629734992981),\n",
              "  ('asian pear', 0.7150248885154724),\n",
              "  ('black grape', 0.7108983397483826),\n",
              "  ('fig', 0.7101004719734192),\n",
              "  ('orange juice fresh', 0.7093366980552673),\n",
              "  ('firm', 0.7071822285652161),\n",
              "  ('orange section', 0.7071002721786499),\n",
              "  ('apricot', 0.7058442234992981),\n",
              "  ('grape', 0.705044686794281),\n",
              "  ('golden', 0.7031469941139221),\n",
              "  ('gala apple', 0.7028553485870361),\n",
              "  ('bartlett', 0.7023744583129883),\n",
              "  ('pear juice', 0.6958560943603516)])"
            ]
          },
          "metadata": {},
          "execution_count": 60
        }
      ]
    },
    {
      "cell_type": "markdown",
      "source": [
        "# Save outputs"
      ],
      "metadata": {
        "id": "ahfPoYn1EMHE"
      }
    },
    {
      "cell_type": "markdown",
      "source": [
        "## To drive"
      ],
      "metadata": {
        "id": "8qF7f16UEO-9"
      }
    },
    {
      "cell_type": "code",
      "source": [
        "recipe_w2v_file = 'recipe_w2v.gensim'\n",
        "recipe_w2v.save(folder_loc + recipe_w2v_file)"
      ],
      "metadata": {
        "id": "WfAQsnngENVs"
      },
      "execution_count": null,
      "outputs": []
    },
    {
      "cell_type": "code",
      "source": [
        "recipe_w2v_file_50 = 'recipe_w2v_50.gensim'\n",
        "recipe_w2v_50.save(folder_loc + recipe_w2v_file_50)"
      ],
      "metadata": {
        "id": "0nny5KtsJOfs"
      },
      "execution_count": null,
      "outputs": []
    },
    {
      "cell_type": "code",
      "source": [
        "recipe_w2v_file_25 = 'recipe_w2v_25.gensim'\n",
        "recipe_w2v_25.save(folder_loc + recipe_w2v_file_25)"
      ],
      "metadata": {
        "id": "FiGNXyiSKWFB"
      },
      "execution_count": null,
      "outputs": []
    },
    {
      "cell_type": "code",
      "source": [
        "recipe_w2v_file_16 = 'recipe_w2v_16.gensim'\n",
        "recipe_w2v_16.save(folder_loc + recipe_w2v_file_16)"
      ],
      "metadata": {
        "id": "GPQjlQ3gUEnG"
      },
      "execution_count": null,
      "outputs": []
    },
    {
      "cell_type": "code",
      "source": [
        "ingredient_file = 'ingredient_count.json'\n",
        "with open(folder_loc + ingredient_file, 'w') as ingredient_stream:\n",
        "  json.dump(ingredient_count, ingredient_stream)"
      ],
      "metadata": {
        "id": "jhTIVNrdFX5u"
      },
      "execution_count": null,
      "outputs": []
    },
    {
      "cell_type": "code",
      "source": [
        "NER_tsv = 'recipe_NER.tsv'\n",
        "recipes_pdf['NER'].to_csv(folder_loc + NER_tsv, sep='\\t')"
      ],
      "metadata": {
        "colab": {
          "base_uri": "https://localhost:8080/",
          "height": 242
        },
        "id": "madnsrJ4FYt4",
        "outputId": "6ba21b2e-4727-4663-e798-e0dde0742e30"
      },
      "execution_count": null,
      "outputs": [
        {
          "output_type": "error",
          "ename": "KeyboardInterrupt",
          "evalue": "ignored",
          "traceback": [
            "\u001b[0;31m---------------------------------------------------------------------------\u001b[0m",
            "\u001b[0;31mKeyboardInterrupt\u001b[0m                         Traceback (most recent call last)",
            "\u001b[0;32m<ipython-input-126-38e521472095>\u001b[0m in \u001b[0;36m<module>\u001b[0;34m\u001b[0m\n\u001b[1;32m      1\u001b[0m \u001b[0mNER_tsv\u001b[0m \u001b[0;34m=\u001b[0m \u001b[0;34m'recipe_NER.tsv'\u001b[0m\u001b[0;34m\u001b[0m\u001b[0;34m\u001b[0m\u001b[0m\n\u001b[0;32m----> 2\u001b[0;31m \u001b[0mrecipes_pdf\u001b[0m\u001b[0;34m[\u001b[0m\u001b[0;34m'NER'\u001b[0m\u001b[0;34m]\u001b[0m\u001b[0;34m.\u001b[0m\u001b[0mto_csv\u001b[0m\u001b[0;34m(\u001b[0m\u001b[0mfolder_loc\u001b[0m \u001b[0;34m+\u001b[0m \u001b[0mNER_tsv\u001b[0m\u001b[0;34m,\u001b[0m \u001b[0msep\u001b[0m\u001b[0;34m=\u001b[0m\u001b[0;34m'\\t'\u001b[0m\u001b[0;34m)\u001b[0m\u001b[0;34m\u001b[0m\u001b[0;34m\u001b[0m\u001b[0m\n\u001b[0m",
            "\u001b[0;32m/usr/local/lib/python3.7/dist-packages/pandas/core/generic.py\u001b[0m in \u001b[0;36mto_csv\u001b[0;34m(self, path_or_buf, sep, na_rep, float_format, columns, header, index, index_label, mode, encoding, compression, quoting, quotechar, line_terminator, chunksize, date_format, doublequote, escapechar, decimal, errors, storage_options)\u001b[0m\n\u001b[1;32m   3480\u001b[0m             \u001b[0mdoublequote\u001b[0m\u001b[0;34m=\u001b[0m\u001b[0mdoublequote\u001b[0m\u001b[0;34m,\u001b[0m\u001b[0;34m\u001b[0m\u001b[0;34m\u001b[0m\u001b[0m\n\u001b[1;32m   3481\u001b[0m             \u001b[0mescapechar\u001b[0m\u001b[0;34m=\u001b[0m\u001b[0mescapechar\u001b[0m\u001b[0;34m,\u001b[0m\u001b[0;34m\u001b[0m\u001b[0;34m\u001b[0m\u001b[0m\n\u001b[0;32m-> 3482\u001b[0;31m             \u001b[0mstorage_options\u001b[0m\u001b[0;34m=\u001b[0m\u001b[0mstorage_options\u001b[0m\u001b[0;34m,\u001b[0m\u001b[0;34m\u001b[0m\u001b[0;34m\u001b[0m\u001b[0m\n\u001b[0m\u001b[1;32m   3483\u001b[0m         )\n\u001b[1;32m   3484\u001b[0m \u001b[0;34m\u001b[0m\u001b[0m\n",
            "\u001b[0;32m/usr/local/lib/python3.7/dist-packages/pandas/io/formats/format.py\u001b[0m in \u001b[0;36mto_csv\u001b[0;34m(self, path_or_buf, encoding, sep, columns, index_label, mode, compression, quoting, quotechar, line_terminator, chunksize, date_format, doublequote, escapechar, errors, storage_options)\u001b[0m\n\u001b[1;32m   1103\u001b[0m             \u001b[0mformatter\u001b[0m\u001b[0;34m=\u001b[0m\u001b[0mself\u001b[0m\u001b[0;34m.\u001b[0m\u001b[0mfmt\u001b[0m\u001b[0;34m,\u001b[0m\u001b[0;34m\u001b[0m\u001b[0;34m\u001b[0m\u001b[0m\n\u001b[1;32m   1104\u001b[0m         )\n\u001b[0;32m-> 1105\u001b[0;31m         \u001b[0mcsv_formatter\u001b[0m\u001b[0;34m.\u001b[0m\u001b[0msave\u001b[0m\u001b[0;34m(\u001b[0m\u001b[0;34m)\u001b[0m\u001b[0;34m\u001b[0m\u001b[0;34m\u001b[0m\u001b[0m\n\u001b[0m\u001b[1;32m   1106\u001b[0m \u001b[0;34m\u001b[0m\u001b[0m\n\u001b[1;32m   1107\u001b[0m         \u001b[0;32mif\u001b[0m \u001b[0mcreated_buffer\u001b[0m\u001b[0;34m:\u001b[0m\u001b[0;34m\u001b[0m\u001b[0;34m\u001b[0m\u001b[0m\n",
            "\u001b[0;32m/usr/local/lib/python3.7/dist-packages/pandas/io/formats/csvs.py\u001b[0m in \u001b[0;36msave\u001b[0;34m(self)\u001b[0m\n\u001b[1;32m    255\u001b[0m             )\n\u001b[1;32m    256\u001b[0m \u001b[0;34m\u001b[0m\u001b[0m\n\u001b[0;32m--> 257\u001b[0;31m             \u001b[0mself\u001b[0m\u001b[0;34m.\u001b[0m\u001b[0m_save\u001b[0m\u001b[0;34m(\u001b[0m\u001b[0;34m)\u001b[0m\u001b[0;34m\u001b[0m\u001b[0;34m\u001b[0m\u001b[0m\n\u001b[0m\u001b[1;32m    258\u001b[0m \u001b[0;34m\u001b[0m\u001b[0m\n\u001b[1;32m    259\u001b[0m     \u001b[0;32mdef\u001b[0m \u001b[0m_save\u001b[0m\u001b[0;34m(\u001b[0m\u001b[0mself\u001b[0m\u001b[0;34m)\u001b[0m \u001b[0;34m->\u001b[0m \u001b[0;32mNone\u001b[0m\u001b[0;34m:\u001b[0m\u001b[0;34m\u001b[0m\u001b[0;34m\u001b[0m\u001b[0m\n",
            "\u001b[0;32m/usr/local/lib/python3.7/dist-packages/pandas/io/formats/csvs.py\u001b[0m in \u001b[0;36m_save\u001b[0;34m(self)\u001b[0m\n\u001b[1;32m    260\u001b[0m         \u001b[0;32mif\u001b[0m \u001b[0mself\u001b[0m\u001b[0;34m.\u001b[0m\u001b[0m_need_to_save_header\u001b[0m\u001b[0;34m:\u001b[0m\u001b[0;34m\u001b[0m\u001b[0;34m\u001b[0m\u001b[0m\n\u001b[1;32m    261\u001b[0m             \u001b[0mself\u001b[0m\u001b[0;34m.\u001b[0m\u001b[0m_save_header\u001b[0m\u001b[0;34m(\u001b[0m\u001b[0;34m)\u001b[0m\u001b[0;34m\u001b[0m\u001b[0;34m\u001b[0m\u001b[0m\n\u001b[0;32m--> 262\u001b[0;31m         \u001b[0mself\u001b[0m\u001b[0;34m.\u001b[0m\u001b[0m_save_body\u001b[0m\u001b[0;34m(\u001b[0m\u001b[0;34m)\u001b[0m\u001b[0;34m\u001b[0m\u001b[0;34m\u001b[0m\u001b[0m\n\u001b[0m\u001b[1;32m    263\u001b[0m \u001b[0;34m\u001b[0m\u001b[0m\n\u001b[1;32m    264\u001b[0m     \u001b[0;32mdef\u001b[0m \u001b[0m_save_header\u001b[0m\u001b[0;34m(\u001b[0m\u001b[0mself\u001b[0m\u001b[0;34m)\u001b[0m \u001b[0;34m->\u001b[0m \u001b[0;32mNone\u001b[0m\u001b[0;34m:\u001b[0m\u001b[0;34m\u001b[0m\u001b[0;34m\u001b[0m\u001b[0m\n",
            "\u001b[0;32m/usr/local/lib/python3.7/dist-packages/pandas/io/formats/csvs.py\u001b[0m in \u001b[0;36m_save_body\u001b[0;34m(self)\u001b[0m\n\u001b[1;32m    298\u001b[0m             \u001b[0;32mif\u001b[0m \u001b[0mstart_i\u001b[0m \u001b[0;34m>=\u001b[0m \u001b[0mend_i\u001b[0m\u001b[0;34m:\u001b[0m\u001b[0;34m\u001b[0m\u001b[0;34m\u001b[0m\u001b[0m\n\u001b[1;32m    299\u001b[0m                 \u001b[0;32mbreak\u001b[0m\u001b[0;34m\u001b[0m\u001b[0;34m\u001b[0m\u001b[0m\n\u001b[0;32m--> 300\u001b[0;31m             \u001b[0mself\u001b[0m\u001b[0;34m.\u001b[0m\u001b[0m_save_chunk\u001b[0m\u001b[0;34m(\u001b[0m\u001b[0mstart_i\u001b[0m\u001b[0;34m,\u001b[0m \u001b[0mend_i\u001b[0m\u001b[0;34m)\u001b[0m\u001b[0;34m\u001b[0m\u001b[0;34m\u001b[0m\u001b[0m\n\u001b[0m\u001b[1;32m    301\u001b[0m \u001b[0;34m\u001b[0m\u001b[0m\n\u001b[1;32m    302\u001b[0m     \u001b[0;32mdef\u001b[0m \u001b[0m_save_chunk\u001b[0m\u001b[0;34m(\u001b[0m\u001b[0mself\u001b[0m\u001b[0;34m,\u001b[0m \u001b[0mstart_i\u001b[0m\u001b[0;34m:\u001b[0m \u001b[0mint\u001b[0m\u001b[0;34m,\u001b[0m \u001b[0mend_i\u001b[0m\u001b[0;34m:\u001b[0m \u001b[0mint\u001b[0m\u001b[0;34m)\u001b[0m \u001b[0;34m->\u001b[0m \u001b[0;32mNone\u001b[0m\u001b[0;34m:\u001b[0m\u001b[0;34m\u001b[0m\u001b[0;34m\u001b[0m\u001b[0m\n",
            "\u001b[0;32m/usr/local/lib/python3.7/dist-packages/pandas/io/formats/csvs.py\u001b[0m in \u001b[0;36m_save_chunk\u001b[0;34m(self, start_i, end_i)\u001b[0m\n\u001b[1;32m    314\u001b[0m             \u001b[0mself\u001b[0m\u001b[0;34m.\u001b[0m\u001b[0mnlevels\u001b[0m\u001b[0;34m,\u001b[0m\u001b[0;34m\u001b[0m\u001b[0;34m\u001b[0m\u001b[0m\n\u001b[1;32m    315\u001b[0m             \u001b[0mself\u001b[0m\u001b[0;34m.\u001b[0m\u001b[0mcols\u001b[0m\u001b[0;34m,\u001b[0m\u001b[0;34m\u001b[0m\u001b[0;34m\u001b[0m\u001b[0m\n\u001b[0;32m--> 316\u001b[0;31m             \u001b[0mself\u001b[0m\u001b[0;34m.\u001b[0m\u001b[0mwriter\u001b[0m\u001b[0;34m,\u001b[0m\u001b[0;34m\u001b[0m\u001b[0;34m\u001b[0m\u001b[0m\n\u001b[0m\u001b[1;32m    317\u001b[0m         )\n",
            "\u001b[0;32m/usr/local/lib/python3.7/dist-packages/pandas/_libs/writers.pyx\u001b[0m in \u001b[0;36mpandas._libs.writers.write_csv_rows\u001b[0;34m()\u001b[0m\n",
            "\u001b[0;31mKeyboardInterrupt\u001b[0m: "
          ]
        }
      ]
    },
    {
      "cell_type": "markdown",
      "source": [
        "## To huggingface"
      ],
      "metadata": {
        "id": "FO6f-4GXEP6P"
      }
    },
    {
      "cell_type": "code",
      "source": [
        "from huggingface_hub import HfApi\n",
        "api = HfApi()"
      ],
      "metadata": {
        "id": "TNzDQQPWFIRX"
      },
      "execution_count": null,
      "outputs": []
    },
    {
      "cell_type": "code",
      "source": [
        "api.upload_file(\n",
        "    path_or_fileobj=folder_loc + recipe_w2v_file,\n",
        "    path_in_repo=recipe_w2v_file,\n",
        "    repo_id=\"map222/recipe-spice\",\n",
        "    repo_type=\"space\",\n",
        ")"
      ],
      "metadata": {
        "id": "gDuQJ58Qpvrl"
      },
      "execution_count": null,
      "outputs": []
    },
    {
      "cell_type": "code",
      "source": [
        "api.upload_file(\n",
        "    path_or_fileobj=folder_loc + ingredient_file,\n",
        "    path_in_repo=ingredient_file,\n",
        "    repo_id=\"map222/recipe-spice\",\n",
        "    repo_type=\"space\",\n",
        ")"
      ],
      "metadata": {
        "id": "fAyldi__Gaav"
      },
      "execution_count": null,
      "outputs": []
    },
    {
      "cell_type": "code",
      "source": [
        "api.upload_file(\n",
        "    path_or_fileobj=folder_loc + NER_tsv,\n",
        "    path_in_repo=NER_tsv,\n",
        "    repo_id=\"map222/recipe-spice\",\n",
        "    repo_type=\"space\",\n",
        ")"
      ],
      "metadata": {
        "id": "M3sgpPxbGtuj"
      },
      "execution_count": null,
      "outputs": []
    },
    {
      "cell_type": "code",
      "source": [],
      "metadata": {
        "id": "0SGr4qJTGzct"
      },
      "execution_count": null,
      "outputs": []
    },
    {
      "cell_type": "markdown",
      "source": [
        "# Some cleaning that seems too finnicky"
      ],
      "metadata": {
        "id": "PFOaGcUpSjjR"
      }
    },
    {
      "cell_type": "code",
      "source": [
        "def get_w2v_duplicate_map(ingredient_embedding, ingredient_count_local):\n",
        "  top_ingredients = list(zip(*ingredient_count_local.most_common(100)))[0]\n",
        "  ingredient_map = {}\n",
        "  for top_ingredient in top_ingredients:\n",
        "    similar_ingredients = list(zip(*ingredient_embedding.most_similar(top_ingredient, topn=20)))[0]\n",
        "    ingredient_map[top_ingredient] = [ingredient for ingredient in similar_ingredients if top_ingredient in ingredient.split(' ')]\n",
        "  return ingredient_map"
      ],
      "metadata": {
        "id": "wVomSNkCQ4ig"
      },
      "execution_count": 24,
      "outputs": []
    },
    {
      "cell_type": "code",
      "source": [
        "test = get_w2v_duplicate_map(recipe_w2v_16, ingredient_count)"
      ],
      "metadata": {
        "id": "IdG-VY8bR9Hs"
      },
      "execution_count": 25,
      "outputs": []
    },
    {
      "cell_type": "code",
      "source": [
        "test"
      ],
      "metadata": {
        "colab": {
          "base_uri": "https://localhost:8080/"
        },
        "id": "yEBpuelfSE_X",
        "outputId": "5eaaf9d9-6dda-4966-92cb-75a58c75ac93"
      },
      "execution_count": 27,
      "outputs": [
        {
          "output_type": "execute_result",
          "data": {
            "text/plain": [
              "{'salt': ['coarse salt', 'kosher salt'],\n",
              " 'sugar': ['white sugar',\n",
              "  'granulated sugar',\n",
              "  'cane sugar',\n",
              "  'turbinado sugar',\n",
              "  'light brown sugar',\n",
              "  'demerara sugar',\n",
              "  'brown sugar',\n",
              "  'muscovado sugar',\n",
              "  'powdered sugar'],\n",
              " 'egg': ['egg white', 'egg substitute'],\n",
              " 'butter': ['unsalted butter',\n",
              "  'sweet butter',\n",
              "  'cold butter',\n",
              "  'light butter',\n",
              "  'sweet cream butter'],\n",
              " 'onion': ['yellow onion',\n",
              "  'white onion',\n",
              "  'spanish onion',\n",
              "  'sweet onion',\n",
              "  'brown onion',\n",
              "  'cooking onion',\n",
              "  'vidalia onion',\n",
              "  'white pearl onion',\n",
              "  'sweet yellow onion'],\n",
              " 'flour': ['all-purpose flour', 'white flour', 'pastry flour'],\n",
              " 'garlic': ['clove garlic',\n",
              "  'cloves garlic',\n",
              "  'fresh garlic',\n",
              "  'clove of garlic'],\n",
              " 'water': ['boiling water', 'hot water', 'cold water'],\n",
              " 'milk': ['low-fat milk',\n",
              "  'hot milk',\n",
              "  'sweet milk',\n",
              "  'nonfat milk',\n",
              "  'warm milk'],\n",
              " 'vanilla': ['vanilla extract'],\n",
              " 'olive oil': [],\n",
              " 'pepper': ['black pepper',\n",
              "  'ground pepper',\n",
              "  'ground black pepper',\n",
              "  'lemon pepper',\n",
              "  'fresh ground pepper',\n",
              "  'garlic pepper',\n",
              "  'cracked pepper'],\n",
              " 'tomatoe': ['fresh tomatoe', 'roma tomatoe'],\n",
              " 'brown sugar': [],\n",
              " 'lemon juice': [],\n",
              " 'baking powder': [],\n",
              " 'carrot': ['baby carrot', 'fresh carrot', 'peeled carrot'],\n",
              " 'cinnamon': ['ground cinnamon', 'cinnamon ground', 'powdered cinnamon'],\n",
              " 'celery': ['stalks celery',\n",
              "  'stalk celery',\n",
              "  'celery stalk',\n",
              "  'stalks of celery'],\n",
              " 'chicken': ['chicken breast',\n",
              "  'chicken thigh',\n",
              "  'roasting chicken',\n",
              "  'chicken breast halve',\n",
              "  'chicken quarter',\n",
              "  'whole chicken',\n",
              "  'chicken broth',\n",
              "  'chicken meat',\n",
              "  'boneless chicken',\n",
              "  'chicken piece',\n",
              "  'fryer chicken'],\n",
              " 'sour cream': [],\n",
              " 'parsley': ['fresh parsley', 'flat leaf parsley', 'italian parsley'],\n",
              " 'baking soda': [],\n",
              " 'cream cheese': [],\n",
              " 'cheddar cheese': [],\n",
              " 'vegetable oil': [],\n",
              " 'margarine': ['light margarine', 'corn oil margarine'],\n",
              " 'parmesan cheese': [],\n",
              " 'mayonnaise': ['light mayonnaise',\n",
              "  'low-fat mayonnaise',\n",
              "  'canola mayonnaise',\n",
              "  'regular mayonnaise',\n",
              "  'olive oil mayonnaise',\n",
              "  'nonfat mayonnaise',\n",
              "  'soy mayonnaise'],\n",
              " 'green onion': [],\n",
              " 'kosher salt': [],\n",
              " 'oil': ['cooking oil',\n",
              "  'salad oil',\n",
              "  'corn oil',\n",
              "  'vegetable oil',\n",
              "  'wesson oil',\n",
              "  'sunflower oil',\n",
              "  'crisco oil',\n",
              "  'canola oil',\n",
              "  'hot oil',\n",
              "  'safflower oil',\n",
              "  'peanut oil',\n",
              "  'coconut oil',\n",
              "  'light olive oil'],\n",
              " 'soy sauce': [],\n",
              " 'black pepper': [],\n",
              " 'potatoe': ['white potatoe',\n",
              "  'red potatoe',\n",
              "  'boiling potatoe',\n",
              "  'new potatoe',\n",
              "  'starchy potatoe',\n",
              "  'yellow potatoe',\n",
              "  'gold potatoe',\n",
              "  'russet potatoe',\n",
              "  'baking potatoe'],\n",
              " 'honey': ['liquid honey', 'runny honey', 'clear honey'],\n",
              " 'thyme': ['fresh thyme', 'dried leaf thyme', 'ground thyme'],\n",
              " 'pecan': ['pecan halve', 'pecan piece', 'ground pecan'],\n",
              " 'mushroom': ['fresh mushroom',\n",
              "  'button mushroom',\n",
              "  'weight mushroom',\n",
              "  'mixed mushroom',\n",
              "  'brown mushroom',\n",
              "  'fresh button mushroom',\n",
              "  'white mushroom',\n",
              "  'fresh white mushroom',\n",
              "  'baby portabella mushroom',\n",
              "  'bella mushroom',\n",
              "  'baby portobello mushroom',\n",
              "  'mushroom piece',\n",
              "  'white button mushroom'],\n",
              " 'green pepper': [],\n",
              " 'lemon': ['lemon juiced',\n",
              "  'lemon juice',\n",
              "  'lemon juice fresh',\n",
              "  'freshly squeezed lemon juice',\n",
              "  'fresh squeezed lemon juice',\n",
              "  'fresh lemon',\n",
              "  'lemon zest',\n",
              "  'lemon juice freshly squeezed',\n",
              "  'lemon thyme',\n",
              "  'lemon peel',\n",
              "  'lemon slice',\n",
              "  'lemon wedge',\n",
              "  'lemon rind',\n",
              "  'lemon zested',\n",
              "  'preserved lemon'],\n",
              " 'chicken broth': [],\n",
              " 'oregano': ['ground oregano',\n",
              "  'oregano dried',\n",
              "  'oregano flake',\n",
              "  'oregano ground',\n",
              "  'fresh oregano'],\n",
              " 'bacon': ['lean bacon',\n",
              "  'bacon strip',\n",
              "  'pepper bacon',\n",
              "  'hickory smoked bacon',\n",
              "  'bacon fat',\n",
              "  'weight bacon'],\n",
              " 'red pepper': [],\n",
              " 'unsalted butter': [],\n",
              " 'mustard': ['dijon mustard',\n",
              "  'brown mustard',\n",
              "  'dry mustard',\n",
              "  'grainy mustard',\n",
              "  'stone ground mustard',\n",
              "  'whole grain mustard',\n",
              "  'stone-ground mustard',\n",
              "  'grain mustard',\n",
              "  'whole-grain mustard',\n",
              "  'ground mustard',\n",
              "  'powdered mustard',\n",
              "  'yellow mustard',\n",
              "  'hot mustard',\n",
              "  'whole grain dijon mustard'],\n",
              " 'ground beef': [],\n",
              " 'worcestershire sauce': [],\n",
              " 'nut': ['nut meat', 'pine nut', 'ground nut'],\n",
              " 'pineapple': ['pineapple tidbit',\n",
              "  'fresh pineapple',\n",
              "  'pineapple bit',\n",
              "  'pineapple chunk',\n",
              "  'pineapple ring'],\n",
              " 'paprika': ['sweet paprika',\n",
              "  'ground paprika',\n",
              "  'hot paprika',\n",
              "  'sweet hungarian paprika'],\n",
              " 'cornstarch': [],\n",
              " 'chicken breast': [],\n",
              " 'ground cinnamon': [],\n",
              " 'red onion': [],\n",
              " 'vinegar': ['white vinegar',\n",
              "  'cider vinegar',\n",
              "  'apple vinegar',\n",
              "  'malt vinegar',\n",
              "  'distilled vinegar',\n",
              "  'red vinegar',\n",
              "  'distilled white vinegar',\n",
              "  'dark vinegar',\n",
              "  'apple cider vinegar',\n",
              "  'wine vinegar',\n",
              "  'white distilled vinegar',\n",
              "  'brown vinegar',\n",
              "  'white wine vinegar',\n",
              "  'tarragon vinegar',\n",
              "  'red wine vinegar',\n",
              "  'white cider vinegar',\n",
              "  'pickling vinegar',\n",
              "  'vinegar white',\n",
              "  'salad vinegar'],\n",
              " 'basil': ['dried basil',\n",
              "  'sweet basil',\n",
              "  'leaf basil',\n",
              "  'fresh basil',\n",
              "  'dried leaf basil'],\n",
              " 'nutmeg': ['ground nutmeg', 'nutmeg ground'],\n",
              " 'powdered sugar': [],\n",
              " 'walnut': ['walnut piece', 'walnut halve', 'black walnut', 'ground walnut'],\n",
              " 'rice': ['white rice',\n",
              "  'long grain rice',\n",
              "  'regular rice',\n",
              "  'long grain white rice',\n",
              "  \"uncle ben's rice\",\n",
              "  'instant rice',\n",
              "  'long-grain rice',\n",
              "  'grain rice',\n",
              "  'jasmine rice',\n",
              "  'steamed rice',\n",
              "  'cold cooked rice',\n",
              "  'long-grain white rice',\n",
              "  'grain white rice',\n",
              "  'hot cooked rice',\n",
              "  'cooking rice'],\n",
              " 'heavy cream': [],\n",
              " 'chili powder': [],\n",
              " 'clove garlic': [],\n",
              " 'egg yolk': [],\n",
              " 'cheese': ['cheddar cheese',\n",
              "  'shredded monterey jack cheese',\n",
              "  'muenster cheese',\n",
              "  'shredded white cheddar cheese',\n",
              "  'shredded sharp cheddar cheese',\n",
              "  'pepper cheese',\n",
              "  'jack cheese',\n",
              "  'gouda cheese',\n",
              "  'colby cheese',\n",
              "  'white cheese',\n",
              "  'shredded cheese',\n",
              "  'mozzarella cheese',\n",
              "  'parmesan cheese',\n",
              "  'cheese sauce'],\n",
              " 'raisin': ['dark raisin',\n",
              "  'golden raisin',\n",
              "  'seeded raisin',\n",
              "  'white raisin',\n",
              "  'light raisin',\n",
              "  'seedless raisin',\n",
              "  'golden brown raisin'],\n",
              " 'apple': ['tart apple',\n",
              "  'granny smith apple',\n",
              "  'golden delicious apple',\n",
              "  'sweet apple',\n",
              "  'green apple',\n",
              "  'cooking apple',\n",
              "  'gala apple',\n",
              "  'apple juice',\n",
              "  'braeburn apple',\n",
              "  'apple juice concentrate',\n",
              "  'dried apple',\n",
              "  'red apple'],\n",
              " 'all-purpose': ['all-purpose flour'],\n",
              " 'ginger': ['ginger root',\n",
              "  'fresh ginger',\n",
              "  'fresh ginger root',\n",
              "  'ginger grated',\n",
              "  'ginger powder',\n",
              "  'ginger fresh',\n",
              "  'powdered ginger',\n",
              "  'freshly grated ginger',\n",
              "  'grated ginger',\n",
              "  'ginger freshly'],\n",
              " 'almond': ['blanched slivered almond',\n",
              "  'slivered almond',\n",
              "  'blanched almond',\n",
              "  'toasted almond',\n",
              "  'natural almond',\n",
              "  'ground almond',\n",
              "  'whole almond',\n",
              "  'slivered blanched almond'],\n",
              " 'white wine': [],\n",
              " 'tomato sauce': [],\n",
              " '¼': [],\n",
              " 'mozzarella cheese': [],\n",
              " 'white sugar': [],\n",
              " 'orange juice': [],\n",
              " 'buttermilk': ['low-fat buttermilk', 'nonfat buttermilk'],\n",
              " 'banana': ['very ripe banana',\n",
              "  'overripe banana',\n",
              "  'mashed ripe banana',\n",
              "  'mashed banana'],\n",
              " 'bread': ['white bread',\n",
              "  'italian bread',\n",
              "  'whole wheat bread',\n",
              "  'white sandwich bread',\n",
              "  'bread crumb',\n",
              "  'bread cube',\n",
              "  'rye bread'],\n",
              " 'lime juice': [],\n",
              " 'shallot': [],\n",
              " 'cayenne pepper': [],\n",
              " 'shortening': ['vegetable shortening',\n",
              "  'solid shortening',\n",
              "  'liquid shortening',\n",
              "  'soft shortening'],\n",
              " 'zucchini': [],\n",
              " 'cilantro': ['cilantro leaf',\n",
              "  'fresh cilantro',\n",
              "  'handful cilantro',\n",
              "  'freshly chopped cilantro',\n",
              "  'cilantro sprig',\n",
              "  'cilantro stem',\n",
              "  'bunches cilantro',\n",
              "  'handful fresh cilantro'],\n",
              " 'shrimp': ['fresh shrimp', 'peeled shrimp', 'jumbo shrimp', 'frozen shrimp'],\n",
              " 'ground cumin': [],\n",
              " 'bread crumb': [],\n",
              " 'egg white': [],\n",
              " 'extra-virgin olive oil': [],\n",
              " 'tomato': ['fresh tomato', 'roma tomato'],\n",
              " 'coconut': ['shredded coconut',\n",
              "  'flaked coconut',\n",
              "  'grated coconut',\n",
              "  'coconut flake',\n",
              "  'unsweetened coconut',\n",
              "  'flake coconut',\n",
              "  'coconut chip',\n",
              "  'unsweetened coconut flake',\n",
              "  'fresh coconut',\n",
              "  'coconut shredded',\n",
              "  'cream of coconut',\n",
              "  'coconut extract'],\n",
              " 'cocoa': ['cocoa powder',\n",
              "  'baking cocoa',\n",
              "  'unsweetened cocoa',\n",
              "  'dark cocoa',\n",
              "  'natural cocoa'],\n",
              " 'ground black pepper': [],\n",
              " 'chocolate chip': [],\n",
              " 'canola oil': [],\n",
              " 'extra virgin olive oil': [],\n",
              " 'red bell pepper': []}"
            ]
          },
          "metadata": {},
          "execution_count": 27
        }
      ]
    },
    {
      "cell_type": "code",
      "source": [
        "reverse_map = {token:key for key,tokens in test.items() for token in tokens}"
      ],
      "metadata": {
        "id": "OPyyyxAyOtq0"
      },
      "execution_count": 47,
      "outputs": []
    },
    {
      "cell_type": "code",
      "source": [
        "recipes_pdf['NER_deduped'] = recipes_pdf['NER'].apply(lambda row: [reverse_map.get(token, token) for token in row])"
      ],
      "metadata": {
        "id": "dnxNN6NoPQAa"
      },
      "execution_count": 48,
      "outputs": []
    },
    {
      "cell_type": "code",
      "source": [
        "recipes_pdf['sorted_char'] = recipes_pdf['NER_deduped'].apply(lambda row: ''.join(sorted(''.join(row).replace(' ', ''))))"
      ],
      "metadata": {
        "id": "ROunQjarPU33"
      },
      "execution_count": 50,
      "outputs": []
    },
    {
      "cell_type": "code",
      "source": [
        "recipes_pdf = recipes_pdf.drop_duplicates(subset = 'sorted_char')\n",
        "recipes_pdf.shape"
      ],
      "metadata": {
        "id": "MzzK8zu-PVPC",
        "outputId": "b2f0376a-f944-401f-b792-74b8c5392e18",
        "colab": {
          "base_uri": "https://localhost:8080/"
        }
      },
      "execution_count": 51,
      "outputs": [
        {
          "output_type": "execute_result",
          "data": {
            "text/plain": [
              "(1908628, 4)"
            ]
          },
          "metadata": {},
          "execution_count": 51
        }
      ]
    },
    {
      "cell_type": "code",
      "source": [
        "recipe_w2v_16_dedupe = Word2Vec(recipes_pdf['NER_deduped'], size=16, min_count=10)"
      ],
      "metadata": {
        "id": "8Hh66xDzP_F1"
      },
      "execution_count": 52,
      "outputs": []
    },
    {
      "cell_type": "code",
      "source": [
        "recipe_w2v_16_dedupe.most_similar('barley', topn=20)"
      ],
      "metadata": {
        "id": "qzQbpD_7RSWE",
        "outputId": "c4036029-f486-418a-de7e-55cecf643d51",
        "colab": {
          "base_uri": "https://localhost:8080/"
        }
      },
      "execution_count": 77,
      "outputs": [
        {
          "output_type": "execute_result",
          "data": {
            "text/plain": [
              "[('pearl barley', 0.9491546154022217),\n",
              " ('lentil', 0.8735455274581909),\n",
              " ('dry lentil', 0.871431827545166),\n",
              " ('green split pea', 0.8645519614219666),\n",
              " ('dried lentil', 0.8634966611862183),\n",
              " ('long grain brown rice', 0.8455582857131958),\n",
              " ('dried great northern bean', 0.8414177298545837),\n",
              " ('green lentil', 0.8296129107475281),\n",
              " ('yellow pea', 0.8275840282440186),\n",
              " ('brown lentil', 0.822412371635437),\n",
              " ('split pea', 0.8048617839813232),\n",
              " ('cranberry bean', 0.7999374866485596),\n",
              " ('alphabet pasta', 0.7965269088745117),\n",
              " ('potato', 0.7870755195617676),\n",
              " ('swede', 0.78580641746521),\n",
              " ('quick-cooking barley', 0.7856820225715637),\n",
              " ('ditalini', 0.7836834192276001),\n",
              " ('white bean', 0.7797808647155762),\n",
              " ('carrot', 0.7792209982872009),\n",
              " ('beef soup bone', 0.7789251804351807)]"
            ]
          },
          "metadata": {},
          "execution_count": 77
        }
      ]
    },
    {
      "cell_type": "code",
      "source": [
        "recipe_w2v_16.most_similar('barley', topn=20)"
      ],
      "metadata": {
        "id": "6HPppyDtRZnR",
        "outputId": "15185641-12af-4597-a3dc-c1c5a7e0e6a0",
        "colab": {
          "base_uri": "https://localhost:8080/"
        }
      },
      "execution_count": 78,
      "outputs": [
        {
          "output_type": "execute_result",
          "data": {
            "text/plain": [
              "[('pearl barley', 0.9637734889984131),\n",
              " ('dried lentil', 0.925638735294342),\n",
              " ('lentil', 0.9177876710891724),\n",
              " ('dry lentil', 0.8902276754379272),\n",
              " ('brown lentil', 0.8776227235794067),\n",
              " ('green lentil', 0.8661330938339233),\n",
              " ('quick-cooking barley', 0.8623511791229248),\n",
              " ('carrot', 0.8284534215927124),\n",
              " ('lamb stew meat', 0.8240671753883362),\n",
              " ('long grain brown rice', 0.8050515651702881),\n",
              " ('stalks celery', 0.7979966402053833),\n",
              " ('dried great northern bean', 0.7950857281684875),\n",
              " ('yellow pea', 0.7908360362052917),\n",
              " ('white bean', 0.7860153913497925),\n",
              " ('split pea', 0.7850393056869507),\n",
              " ('chunk', 0.7847321033477783),\n",
              " ('green split pea', 0.7832866907119751),\n",
              " ('lamb shank', 0.7812250256538391),\n",
              " ('bulgur', 0.7739902138710022),\n",
              " ('stalks of celery', 0.771740734577179)]"
            ]
          },
          "metadata": {},
          "execution_count": 78
        }
      ]
    },
    {
      "cell_type": "code",
      "source": [],
      "metadata": {
        "id": "3iyC0W6IUQ_5"
      },
      "execution_count": null,
      "outputs": []
    }
  ]
}