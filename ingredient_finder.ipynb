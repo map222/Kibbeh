{
  "nbformat": 4,
  "nbformat_minor": 0,
  "metadata": {
    "colab": {
      "provenance": [],
      "collapsed_sections": [],
      "include_colab_link": true
    },
    "kernelspec": {
      "name": "python3",
      "display_name": "Python 3"
    },
    "widgets": {
      "application/vnd.jupyter.widget-state+json": {
        "fb2fd96dab514b99b113cea404e46ee1": {
          "model_module": "@jupyter-widgets/controls",
          "model_name": "VBoxModel",
          "model_module_version": "1.5.0",
          "state": {
            "_dom_classes": [],
            "_model_module": "@jupyter-widgets/controls",
            "_model_module_version": "1.5.0",
            "_model_name": "VBoxModel",
            "_view_count": null,
            "_view_module": "@jupyter-widgets/controls",
            "_view_module_version": "1.5.0",
            "_view_name": "VBoxView",
            "box_style": "",
            "children": [
              "IPY_MODEL_b5a00adcc17e40009cc4a3d9a59b2751",
              "IPY_MODEL_a0e4e6b2326449a9b2fc9a5ef2066cd9",
              "IPY_MODEL_3e640f46c5f7449d9d2456ee4c5efd34",
              "IPY_MODEL_abf594a37dcc40adb24fc2f3dfb76d66"
            ],
            "layout": "IPY_MODEL_7ab3ea97ff0647aca587ca4fe1d678e1"
          }
        },
        "b5a00adcc17e40009cc4a3d9a59b2751": {
          "model_module": "@jupyter-widgets/controls",
          "model_name": "HTMLModel",
          "model_module_version": "1.5.0",
          "state": {
            "_dom_classes": [],
            "_model_module": "@jupyter-widgets/controls",
            "_model_module_version": "1.5.0",
            "_model_name": "HTMLModel",
            "_view_count": null,
            "_view_module": "@jupyter-widgets/controls",
            "_view_module_version": "1.5.0",
            "_view_name": "HTMLView",
            "description": "",
            "description_tooltip": null,
            "layout": "IPY_MODEL_801ed972025c4c82964ef2b291005d83",
            "placeholder": "​",
            "style": "IPY_MODEL_c4cd946f59ab43c1b94fe0b75c3f82a0",
            "value": "<center> <img\nsrc=https://huggingface.co/front/assets/huggingface_logo-noborder.svg\nalt='Hugging Face'> <br> Copy a token from <a\nhref=\"https://huggingface.co/settings/tokens\" target=\"_blank\">your Hugging Face\ntokens page</a> and paste it below. <br> Immediately click login after copying\nyour token or it might be stored in plain text in this notebook file. </center>"
          }
        },
        "a0e4e6b2326449a9b2fc9a5ef2066cd9": {
          "model_module": "@jupyter-widgets/controls",
          "model_name": "PasswordModel",
          "model_module_version": "1.5.0",
          "state": {
            "_dom_classes": [],
            "_model_module": "@jupyter-widgets/controls",
            "_model_module_version": "1.5.0",
            "_model_name": "PasswordModel",
            "_view_count": null,
            "_view_module": "@jupyter-widgets/controls",
            "_view_module_version": "1.5.0",
            "_view_name": "PasswordView",
            "continuous_update": true,
            "description": "Token:",
            "description_tooltip": null,
            "disabled": false,
            "layout": "IPY_MODEL_6012c0ecc88840b192d3bb4918f3491e",
            "placeholder": "​",
            "style": "IPY_MODEL_aff5288178fa466d95247084af2be33a",
            "value": ""
          }
        },
        "3e640f46c5f7449d9d2456ee4c5efd34": {
          "model_module": "@jupyter-widgets/controls",
          "model_name": "ButtonModel",
          "model_module_version": "1.5.0",
          "state": {
            "_dom_classes": [],
            "_model_module": "@jupyter-widgets/controls",
            "_model_module_version": "1.5.0",
            "_model_name": "ButtonModel",
            "_view_count": null,
            "_view_module": "@jupyter-widgets/controls",
            "_view_module_version": "1.5.0",
            "_view_name": "ButtonView",
            "button_style": "",
            "description": "Login",
            "disabled": false,
            "icon": "",
            "layout": "IPY_MODEL_c2ad0a661b0d443397af3a9695a4db01",
            "style": "IPY_MODEL_d22865dcf18348d3b486fbefac0686d3",
            "tooltip": ""
          }
        },
        "abf594a37dcc40adb24fc2f3dfb76d66": {
          "model_module": "@jupyter-widgets/controls",
          "model_name": "HTMLModel",
          "model_module_version": "1.5.0",
          "state": {
            "_dom_classes": [],
            "_model_module": "@jupyter-widgets/controls",
            "_model_module_version": "1.5.0",
            "_model_name": "HTMLModel",
            "_view_count": null,
            "_view_module": "@jupyter-widgets/controls",
            "_view_module_version": "1.5.0",
            "_view_name": "HTMLView",
            "description": "",
            "description_tooltip": null,
            "layout": "IPY_MODEL_2c3546dc9c0744b5be1ebd6025bb9fe7",
            "placeholder": "​",
            "style": "IPY_MODEL_4d8f7870b7b946138dc63b7cd103c91a",
            "value": "\n<b>Pro Tip:</b> If you don't already have one, you can create a dedicated\n'notebooks' token with 'write' access, that you can then easily reuse for all\nnotebooks. </center>"
          }
        },
        "7ab3ea97ff0647aca587ca4fe1d678e1": {
          "model_module": "@jupyter-widgets/base",
          "model_name": "LayoutModel",
          "model_module_version": "1.2.0",
          "state": {
            "_model_module": "@jupyter-widgets/base",
            "_model_module_version": "1.2.0",
            "_model_name": "LayoutModel",
            "_view_count": null,
            "_view_module": "@jupyter-widgets/base",
            "_view_module_version": "1.2.0",
            "_view_name": "LayoutView",
            "align_content": null,
            "align_items": "center",
            "align_self": null,
            "border": null,
            "bottom": null,
            "display": "flex",
            "flex": null,
            "flex_flow": "column",
            "grid_area": null,
            "grid_auto_columns": null,
            "grid_auto_flow": null,
            "grid_auto_rows": null,
            "grid_column": null,
            "grid_gap": null,
            "grid_row": null,
            "grid_template_areas": null,
            "grid_template_columns": null,
            "grid_template_rows": null,
            "height": null,
            "justify_content": null,
            "justify_items": null,
            "left": null,
            "margin": null,
            "max_height": null,
            "max_width": null,
            "min_height": null,
            "min_width": null,
            "object_fit": null,
            "object_position": null,
            "order": null,
            "overflow": null,
            "overflow_x": null,
            "overflow_y": null,
            "padding": null,
            "right": null,
            "top": null,
            "visibility": null,
            "width": "50%"
          }
        },
        "801ed972025c4c82964ef2b291005d83": {
          "model_module": "@jupyter-widgets/base",
          "model_name": "LayoutModel",
          "model_module_version": "1.2.0",
          "state": {
            "_model_module": "@jupyter-widgets/base",
            "_model_module_version": "1.2.0",
            "_model_name": "LayoutModel",
            "_view_count": null,
            "_view_module": "@jupyter-widgets/base",
            "_view_module_version": "1.2.0",
            "_view_name": "LayoutView",
            "align_content": null,
            "align_items": null,
            "align_self": null,
            "border": null,
            "bottom": null,
            "display": null,
            "flex": null,
            "flex_flow": null,
            "grid_area": null,
            "grid_auto_columns": null,
            "grid_auto_flow": null,
            "grid_auto_rows": null,
            "grid_column": null,
            "grid_gap": null,
            "grid_row": null,
            "grid_template_areas": null,
            "grid_template_columns": null,
            "grid_template_rows": null,
            "height": null,
            "justify_content": null,
            "justify_items": null,
            "left": null,
            "margin": null,
            "max_height": null,
            "max_width": null,
            "min_height": null,
            "min_width": null,
            "object_fit": null,
            "object_position": null,
            "order": null,
            "overflow": null,
            "overflow_x": null,
            "overflow_y": null,
            "padding": null,
            "right": null,
            "top": null,
            "visibility": null,
            "width": null
          }
        },
        "c4cd946f59ab43c1b94fe0b75c3f82a0": {
          "model_module": "@jupyter-widgets/controls",
          "model_name": "DescriptionStyleModel",
          "model_module_version": "1.5.0",
          "state": {
            "_model_module": "@jupyter-widgets/controls",
            "_model_module_version": "1.5.0",
            "_model_name": "DescriptionStyleModel",
            "_view_count": null,
            "_view_module": "@jupyter-widgets/base",
            "_view_module_version": "1.2.0",
            "_view_name": "StyleView",
            "description_width": ""
          }
        },
        "6012c0ecc88840b192d3bb4918f3491e": {
          "model_module": "@jupyter-widgets/base",
          "model_name": "LayoutModel",
          "model_module_version": "1.2.0",
          "state": {
            "_model_module": "@jupyter-widgets/base",
            "_model_module_version": "1.2.0",
            "_model_name": "LayoutModel",
            "_view_count": null,
            "_view_module": "@jupyter-widgets/base",
            "_view_module_version": "1.2.0",
            "_view_name": "LayoutView",
            "align_content": null,
            "align_items": null,
            "align_self": null,
            "border": null,
            "bottom": null,
            "display": null,
            "flex": null,
            "flex_flow": null,
            "grid_area": null,
            "grid_auto_columns": null,
            "grid_auto_flow": null,
            "grid_auto_rows": null,
            "grid_column": null,
            "grid_gap": null,
            "grid_row": null,
            "grid_template_areas": null,
            "grid_template_columns": null,
            "grid_template_rows": null,
            "height": null,
            "justify_content": null,
            "justify_items": null,
            "left": null,
            "margin": null,
            "max_height": null,
            "max_width": null,
            "min_height": null,
            "min_width": null,
            "object_fit": null,
            "object_position": null,
            "order": null,
            "overflow": null,
            "overflow_x": null,
            "overflow_y": null,
            "padding": null,
            "right": null,
            "top": null,
            "visibility": null,
            "width": null
          }
        },
        "aff5288178fa466d95247084af2be33a": {
          "model_module": "@jupyter-widgets/controls",
          "model_name": "DescriptionStyleModel",
          "model_module_version": "1.5.0",
          "state": {
            "_model_module": "@jupyter-widgets/controls",
            "_model_module_version": "1.5.0",
            "_model_name": "DescriptionStyleModel",
            "_view_count": null,
            "_view_module": "@jupyter-widgets/base",
            "_view_module_version": "1.2.0",
            "_view_name": "StyleView",
            "description_width": ""
          }
        },
        "c2ad0a661b0d443397af3a9695a4db01": {
          "model_module": "@jupyter-widgets/base",
          "model_name": "LayoutModel",
          "model_module_version": "1.2.0",
          "state": {
            "_model_module": "@jupyter-widgets/base",
            "_model_module_version": "1.2.0",
            "_model_name": "LayoutModel",
            "_view_count": null,
            "_view_module": "@jupyter-widgets/base",
            "_view_module_version": "1.2.0",
            "_view_name": "LayoutView",
            "align_content": null,
            "align_items": null,
            "align_self": null,
            "border": null,
            "bottom": null,
            "display": null,
            "flex": null,
            "flex_flow": null,
            "grid_area": null,
            "grid_auto_columns": null,
            "grid_auto_flow": null,
            "grid_auto_rows": null,
            "grid_column": null,
            "grid_gap": null,
            "grid_row": null,
            "grid_template_areas": null,
            "grid_template_columns": null,
            "grid_template_rows": null,
            "height": null,
            "justify_content": null,
            "justify_items": null,
            "left": null,
            "margin": null,
            "max_height": null,
            "max_width": null,
            "min_height": null,
            "min_width": null,
            "object_fit": null,
            "object_position": null,
            "order": null,
            "overflow": null,
            "overflow_x": null,
            "overflow_y": null,
            "padding": null,
            "right": null,
            "top": null,
            "visibility": null,
            "width": null
          }
        },
        "d22865dcf18348d3b486fbefac0686d3": {
          "model_module": "@jupyter-widgets/controls",
          "model_name": "ButtonStyleModel",
          "model_module_version": "1.5.0",
          "state": {
            "_model_module": "@jupyter-widgets/controls",
            "_model_module_version": "1.5.0",
            "_model_name": "ButtonStyleModel",
            "_view_count": null,
            "_view_module": "@jupyter-widgets/base",
            "_view_module_version": "1.2.0",
            "_view_name": "StyleView",
            "button_color": null,
            "font_weight": ""
          }
        },
        "2c3546dc9c0744b5be1ebd6025bb9fe7": {
          "model_module": "@jupyter-widgets/base",
          "model_name": "LayoutModel",
          "model_module_version": "1.2.0",
          "state": {
            "_model_module": "@jupyter-widgets/base",
            "_model_module_version": "1.2.0",
            "_model_name": "LayoutModel",
            "_view_count": null,
            "_view_module": "@jupyter-widgets/base",
            "_view_module_version": "1.2.0",
            "_view_name": "LayoutView",
            "align_content": null,
            "align_items": null,
            "align_self": null,
            "border": null,
            "bottom": null,
            "display": null,
            "flex": null,
            "flex_flow": null,
            "grid_area": null,
            "grid_auto_columns": null,
            "grid_auto_flow": null,
            "grid_auto_rows": null,
            "grid_column": null,
            "grid_gap": null,
            "grid_row": null,
            "grid_template_areas": null,
            "grid_template_columns": null,
            "grid_template_rows": null,
            "height": null,
            "justify_content": null,
            "justify_items": null,
            "left": null,
            "margin": null,
            "max_height": null,
            "max_width": null,
            "min_height": null,
            "min_width": null,
            "object_fit": null,
            "object_position": null,
            "order": null,
            "overflow": null,
            "overflow_x": null,
            "overflow_y": null,
            "padding": null,
            "right": null,
            "top": null,
            "visibility": null,
            "width": null
          }
        },
        "4d8f7870b7b946138dc63b7cd103c91a": {
          "model_module": "@jupyter-widgets/controls",
          "model_name": "DescriptionStyleModel",
          "model_module_version": "1.5.0",
          "state": {
            "_model_module": "@jupyter-widgets/controls",
            "_model_module_version": "1.5.0",
            "_model_name": "DescriptionStyleModel",
            "_view_count": null,
            "_view_module": "@jupyter-widgets/base",
            "_view_module_version": "1.2.0",
            "_view_name": "StyleView",
            "description_width": ""
          }
        }
      }
    }
  },
  "cells": [
    {
      "cell_type": "markdown",
      "metadata": {
        "id": "view-in-github",
        "colab_type": "text"
      },
      "source": [
        "<a href=\"https://colab.research.google.com/github/map222/Kibbeh/blob/deploy_space/ingredient_finder.ipynb\" target=\"_parent\"><img src=\"https://colab.research.google.com/assets/colab-badge.svg\" alt=\"Open In Colab\"/></a>"
      ]
    },
    {
      "cell_type": "markdown",
      "metadata": {
        "id": "EHbiJCs7QAr_"
      },
      "source": [
        "# Ingredient recommender\n",
        "This notebook may not auto-save. To save, you need to go to File menu, then save to github. You can either push directly to master, or create a branch\n"
      ]
    },
    {
      "cell_type": "markdown",
      "metadata": {
        "id": "Ia_5KpAyw-mS"
      },
      "source": [
        "## Setup:\n"
      ]
    },
    {
      "cell_type": "markdown",
      "source": [
        "### Google drive\n",
        "First, mount files from Google drive (to copy the file to your share folder, click [this link](https://drive.google.com/drive/folders/1fh5C0Wlda0QMzBXqOj6znhS8SlsCZm9O?usp=sharing)):"
      ],
      "metadata": {
        "id": "3JyKTcF3N9Is"
      }
    },
    {
      "cell_type": "code",
      "metadata": {
        "id": "yvbKPK8EcHTc",
        "outputId": "ee7a5464-db42-4e77-eb56-3673bca2868b",
        "colab": {
          "base_uri": "https://localhost:8080/"
        }
      },
      "source": [
        "from google.colab import drive\n",
        "drive.mount('/content/gdrive')"
      ],
      "execution_count": 2,
      "outputs": [
        {
          "output_type": "stream",
          "name": "stdout",
          "text": [
            "Drive already mounted at /content/gdrive; to attempt to forcibly remount, call drive.mount(\"/content/gdrive\", force_remount=True).\n"
          ]
        }
      ]
    },
    {
      "cell_type": "code",
      "metadata": {
        "id": "WPnJGsVm8bsz"
      },
      "source": [
        "folder_loc = r'/content/gdrive/My Drive/Colab Notebooks/data/recipes/'"
      ],
      "execution_count": 3,
      "outputs": []
    },
    {
      "cell_type": "markdown",
      "source": [
        "### Hugging Face"
      ],
      "metadata": {
        "id": "Kale8cKwODL6"
      }
    },
    {
      "cell_type": "code",
      "source": [
        "!pip install huggingface_hub"
      ],
      "metadata": {
        "colab": {
          "base_uri": "https://localhost:8080/"
        },
        "id": "OxxnA5RpDMOC",
        "outputId": "4e702028-6b5f-454b-cdf8-42dd3429e62b"
      },
      "execution_count": 5,
      "outputs": [
        {
          "output_type": "stream",
          "name": "stdout",
          "text": [
            "Looking in indexes: https://pypi.org/simple, https://us-python.pkg.dev/colab-wheels/public/simple/\n",
            "Collecting huggingface_hub\n",
            "  Downloading huggingface_hub-0.10.1-py3-none-any.whl (163 kB)\n",
            "\u001b[K     |████████████████████████████████| 163 kB 5.4 MB/s \n",
            "\u001b[?25hRequirement already satisfied: tqdm in /usr/local/lib/python3.7/dist-packages (from huggingface_hub) (4.64.1)\n",
            "Requirement already satisfied: importlib-metadata in /usr/local/lib/python3.7/dist-packages (from huggingface_hub) (4.13.0)\n",
            "Requirement already satisfied: requests in /usr/local/lib/python3.7/dist-packages (from huggingface_hub) (2.23.0)\n",
            "Requirement already satisfied: packaging>=20.9 in /usr/local/lib/python3.7/dist-packages (from huggingface_hub) (21.3)\n",
            "Requirement already satisfied: typing-extensions>=3.7.4.3 in /usr/local/lib/python3.7/dist-packages (from huggingface_hub) (4.1.1)\n",
            "Requirement already satisfied: filelock in /usr/local/lib/python3.7/dist-packages (from huggingface_hub) (3.8.0)\n",
            "Requirement already satisfied: pyyaml>=5.1 in /usr/local/lib/python3.7/dist-packages (from huggingface_hub) (6.0)\n",
            "Requirement already satisfied: pyparsing!=3.0.5,>=2.0.2 in /usr/local/lib/python3.7/dist-packages (from packaging>=20.9->huggingface_hub) (3.0.9)\n",
            "Requirement already satisfied: zipp>=0.5 in /usr/local/lib/python3.7/dist-packages (from importlib-metadata->huggingface_hub) (3.10.0)\n",
            "Requirement already satisfied: urllib3!=1.25.0,!=1.25.1,<1.26,>=1.21.1 in /usr/local/lib/python3.7/dist-packages (from requests->huggingface_hub) (1.24.3)\n",
            "Requirement already satisfied: certifi>=2017.4.17 in /usr/local/lib/python3.7/dist-packages (from requests->huggingface_hub) (2022.9.24)\n",
            "Requirement already satisfied: chardet<4,>=3.0.2 in /usr/local/lib/python3.7/dist-packages (from requests->huggingface_hub) (3.0.4)\n",
            "Requirement already satisfied: idna<3,>=2.5 in /usr/local/lib/python3.7/dist-packages (from requests->huggingface_hub) (2.10)\n",
            "Installing collected packages: huggingface-hub\n",
            "Successfully installed huggingface-hub-0.10.1\n"
          ]
        }
      ]
    },
    {
      "cell_type": "code",
      "source": [
        "from huggingface_hub import notebook_login\n",
        "notebook_login()"
      ],
      "metadata": {
        "colab": {
          "base_uri": "https://localhost:8080/",
          "height": 299,
          "referenced_widgets": [
            "fb2fd96dab514b99b113cea404e46ee1",
            "b5a00adcc17e40009cc4a3d9a59b2751",
            "a0e4e6b2326449a9b2fc9a5ef2066cd9",
            "3e640f46c5f7449d9d2456ee4c5efd34",
            "abf594a37dcc40adb24fc2f3dfb76d66",
            "7ab3ea97ff0647aca587ca4fe1d678e1",
            "801ed972025c4c82964ef2b291005d83",
            "c4cd946f59ab43c1b94fe0b75c3f82a0",
            "6012c0ecc88840b192d3bb4918f3491e",
            "aff5288178fa466d95247084af2be33a",
            "c2ad0a661b0d443397af3a9695a4db01",
            "d22865dcf18348d3b486fbefac0686d3",
            "2c3546dc9c0744b5be1ebd6025bb9fe7",
            "4d8f7870b7b946138dc63b7cd103c91a"
          ]
        },
        "id": "Z71Sy3vdOEYD",
        "outputId": "8eb28600-d313-4e41-b0a9-9c5cf644a33f"
      },
      "execution_count": 6,
      "outputs": [
        {
          "output_type": "stream",
          "name": "stdout",
          "text": [
            "Login successful\n",
            "Your token has been saved to /root/.huggingface/token\n"
          ]
        }
      ]
    },
    {
      "cell_type": "markdown",
      "metadata": {
        "id": "jQ3-HTchbp2d"
      },
      "source": [
        "### Imports"
      ]
    },
    {
      "cell_type": "code",
      "metadata": {
        "id": "5ZJ136Hzi9fG"
      },
      "source": [
        "import pandas as pd\n",
        "import numpy as np\n",
        "from gensim.models import KeyedVectors, Word2Vec\n",
        "import warnings\n",
        "warnings.filterwarnings('ignore')\n",
        "from collections import defaultdict, Counter\n",
        "import json"
      ],
      "execution_count": 33,
      "outputs": []
    },
    {
      "cell_type": "code",
      "metadata": {
        "id": "gpF3-bncBIwn"
      },
      "source": [
        "import matplotlib\n",
        "import matplotlib.pyplot as plt\n",
        "import seaborn as sns\n",
        "%matplotlib inline\n",
        "from ast import literal_eval\n",
        "fs = 22\n",
        "font = {'family' : 'normal',\n",
        "        'weight' : 'normal',\n",
        "        'size'   : fs}\n",
        "\n",
        "matplotlib.rc('font', **font)\n",
        "plt.rc('xtick', labelsize=fs-6)\n",
        "plt.rc('ytick', labelsize=fs-6)"
      ],
      "execution_count": 12,
      "outputs": []
    },
    {
      "cell_type": "markdown",
      "source": [
        "## Load recipes"
      ],
      "metadata": {
        "id": "uiJE1D_oiRRE"
      }
    },
    {
      "cell_type": "code",
      "source": [
        "test = pd.read_csv(folder_loc + 'RecipeNLG_dataset.csv', nrows = 5, sep = ',', index_col = 0)"
      ],
      "metadata": {
        "id": "PSTe0S4ugJxt"
      },
      "execution_count": 13,
      "outputs": []
    },
    {
      "cell_type": "code",
      "source": [
        "test.head()"
      ],
      "metadata": {
        "colab": {
          "base_uri": "https://localhost:8080/",
          "height": 337
        },
        "id": "PX3lvfYSgYsB",
        "outputId": "7ec5a59b-3089-4249-baed-72cbaf8c04fc"
      },
      "execution_count": 14,
      "outputs": [
        {
          "output_type": "execute_result",
          "data": {
            "text/plain": [
              "                   title                                        ingredients  \\\n",
              "0    No-Bake Nut Cookies  [\"1 c. firmly packed brown sugar\", \"1/2 c. eva...   \n",
              "1  Jewell Ball'S Chicken  [\"1 small jar chipped beef, cut up\", \"4 boned ...   \n",
              "2            Creamy Corn  [\"2 (16 oz.) pkg. frozen corn\", \"1 (8 oz.) pkg...   \n",
              "3          Chicken Funny  [\"1 large whole chicken\", \"2 (10 1/2 oz.) cans...   \n",
              "4   Reeses Cups(Candy)    [\"1 c. peanut butter\", \"3/4 c. graham cracker ...   \n",
              "\n",
              "                                          directions  \\\n",
              "0  [\"In a heavy 2-quart saucepan, mix brown sugar...   \n",
              "1  [\"Place chipped beef on bottom of baking dish....   \n",
              "2  [\"In a slow cooker, combine all ingredients. C...   \n",
              "3  [\"Boil and debone chicken.\", \"Put bite size pi...   \n",
              "4  [\"Combine first four ingredients and press in ...   \n",
              "\n",
              "                                              link    source  \\\n",
              "0   www.cookbooks.com/Recipe-Details.aspx?id=44874  Gathered   \n",
              "1  www.cookbooks.com/Recipe-Details.aspx?id=699419  Gathered   \n",
              "2   www.cookbooks.com/Recipe-Details.aspx?id=10570  Gathered   \n",
              "3  www.cookbooks.com/Recipe-Details.aspx?id=897570  Gathered   \n",
              "4  www.cookbooks.com/Recipe-Details.aspx?id=659239  Gathered   \n",
              "\n",
              "                                                 NER  \n",
              "0  [\"brown sugar\", \"milk\", \"vanilla\", \"nuts\", \"bu...  \n",
              "1  [\"beef\", \"chicken breasts\", \"cream of mushroom...  \n",
              "2  [\"frozen corn\", \"cream cheese\", \"butter\", \"gar...  \n",
              "3  [\"chicken\", \"chicken gravy\", \"cream of mushroo...  \n",
              "4  [\"peanut butter\", \"graham cracker crumbs\", \"bu...  "
            ],
            "text/html": [
              "\n",
              "  <div id=\"df-72b47c01-57cd-45b4-b7a3-7e179b8f03f7\">\n",
              "    <div class=\"colab-df-container\">\n",
              "      <div>\n",
              "<style scoped>\n",
              "    .dataframe tbody tr th:only-of-type {\n",
              "        vertical-align: middle;\n",
              "    }\n",
              "\n",
              "    .dataframe tbody tr th {\n",
              "        vertical-align: top;\n",
              "    }\n",
              "\n",
              "    .dataframe thead th {\n",
              "        text-align: right;\n",
              "    }\n",
              "</style>\n",
              "<table border=\"1\" class=\"dataframe\">\n",
              "  <thead>\n",
              "    <tr style=\"text-align: right;\">\n",
              "      <th></th>\n",
              "      <th>title</th>\n",
              "      <th>ingredients</th>\n",
              "      <th>directions</th>\n",
              "      <th>link</th>\n",
              "      <th>source</th>\n",
              "      <th>NER</th>\n",
              "    </tr>\n",
              "  </thead>\n",
              "  <tbody>\n",
              "    <tr>\n",
              "      <th>0</th>\n",
              "      <td>No-Bake Nut Cookies</td>\n",
              "      <td>[\"1 c. firmly packed brown sugar\", \"1/2 c. eva...</td>\n",
              "      <td>[\"In a heavy 2-quart saucepan, mix brown sugar...</td>\n",
              "      <td>www.cookbooks.com/Recipe-Details.aspx?id=44874</td>\n",
              "      <td>Gathered</td>\n",
              "      <td>[\"brown sugar\", \"milk\", \"vanilla\", \"nuts\", \"bu...</td>\n",
              "    </tr>\n",
              "    <tr>\n",
              "      <th>1</th>\n",
              "      <td>Jewell Ball'S Chicken</td>\n",
              "      <td>[\"1 small jar chipped beef, cut up\", \"4 boned ...</td>\n",
              "      <td>[\"Place chipped beef on bottom of baking dish....</td>\n",
              "      <td>www.cookbooks.com/Recipe-Details.aspx?id=699419</td>\n",
              "      <td>Gathered</td>\n",
              "      <td>[\"beef\", \"chicken breasts\", \"cream of mushroom...</td>\n",
              "    </tr>\n",
              "    <tr>\n",
              "      <th>2</th>\n",
              "      <td>Creamy Corn</td>\n",
              "      <td>[\"2 (16 oz.) pkg. frozen corn\", \"1 (8 oz.) pkg...</td>\n",
              "      <td>[\"In a slow cooker, combine all ingredients. C...</td>\n",
              "      <td>www.cookbooks.com/Recipe-Details.aspx?id=10570</td>\n",
              "      <td>Gathered</td>\n",
              "      <td>[\"frozen corn\", \"cream cheese\", \"butter\", \"gar...</td>\n",
              "    </tr>\n",
              "    <tr>\n",
              "      <th>3</th>\n",
              "      <td>Chicken Funny</td>\n",
              "      <td>[\"1 large whole chicken\", \"2 (10 1/2 oz.) cans...</td>\n",
              "      <td>[\"Boil and debone chicken.\", \"Put bite size pi...</td>\n",
              "      <td>www.cookbooks.com/Recipe-Details.aspx?id=897570</td>\n",
              "      <td>Gathered</td>\n",
              "      <td>[\"chicken\", \"chicken gravy\", \"cream of mushroo...</td>\n",
              "    </tr>\n",
              "    <tr>\n",
              "      <th>4</th>\n",
              "      <td>Reeses Cups(Candy)</td>\n",
              "      <td>[\"1 c. peanut butter\", \"3/4 c. graham cracker ...</td>\n",
              "      <td>[\"Combine first four ingredients and press in ...</td>\n",
              "      <td>www.cookbooks.com/Recipe-Details.aspx?id=659239</td>\n",
              "      <td>Gathered</td>\n",
              "      <td>[\"peanut butter\", \"graham cracker crumbs\", \"bu...</td>\n",
              "    </tr>\n",
              "  </tbody>\n",
              "</table>\n",
              "</div>\n",
              "      <button class=\"colab-df-convert\" onclick=\"convertToInteractive('df-72b47c01-57cd-45b4-b7a3-7e179b8f03f7')\"\n",
              "              title=\"Convert this dataframe to an interactive table.\"\n",
              "              style=\"display:none;\">\n",
              "        \n",
              "  <svg xmlns=\"http://www.w3.org/2000/svg\" height=\"24px\"viewBox=\"0 0 24 24\"\n",
              "       width=\"24px\">\n",
              "    <path d=\"M0 0h24v24H0V0z\" fill=\"none\"/>\n",
              "    <path d=\"M18.56 5.44l.94 2.06.94-2.06 2.06-.94-2.06-.94-.94-2.06-.94 2.06-2.06.94zm-11 1L8.5 8.5l.94-2.06 2.06-.94-2.06-.94L8.5 2.5l-.94 2.06-2.06.94zm10 10l.94 2.06.94-2.06 2.06-.94-2.06-.94-.94-2.06-.94 2.06-2.06.94z\"/><path d=\"M17.41 7.96l-1.37-1.37c-.4-.4-.92-.59-1.43-.59-.52 0-1.04.2-1.43.59L10.3 9.45l-7.72 7.72c-.78.78-.78 2.05 0 2.83L4 21.41c.39.39.9.59 1.41.59.51 0 1.02-.2 1.41-.59l7.78-7.78 2.81-2.81c.8-.78.8-2.07 0-2.86zM5.41 20L4 18.59l7.72-7.72 1.47 1.35L5.41 20z\"/>\n",
              "  </svg>\n",
              "      </button>\n",
              "      \n",
              "  <style>\n",
              "    .colab-df-container {\n",
              "      display:flex;\n",
              "      flex-wrap:wrap;\n",
              "      gap: 12px;\n",
              "    }\n",
              "\n",
              "    .colab-df-convert {\n",
              "      background-color: #E8F0FE;\n",
              "      border: none;\n",
              "      border-radius: 50%;\n",
              "      cursor: pointer;\n",
              "      display: none;\n",
              "      fill: #1967D2;\n",
              "      height: 32px;\n",
              "      padding: 0 0 0 0;\n",
              "      width: 32px;\n",
              "    }\n",
              "\n",
              "    .colab-df-convert:hover {\n",
              "      background-color: #E2EBFA;\n",
              "      box-shadow: 0px 1px 2px rgba(60, 64, 67, 0.3), 0px 1px 3px 1px rgba(60, 64, 67, 0.15);\n",
              "      fill: #174EA6;\n",
              "    }\n",
              "\n",
              "    [theme=dark] .colab-df-convert {\n",
              "      background-color: #3B4455;\n",
              "      fill: #D2E3FC;\n",
              "    }\n",
              "\n",
              "    [theme=dark] .colab-df-convert:hover {\n",
              "      background-color: #434B5C;\n",
              "      box-shadow: 0px 1px 3px 1px rgba(0, 0, 0, 0.15);\n",
              "      filter: drop-shadow(0px 1px 2px rgba(0, 0, 0, 0.3));\n",
              "      fill: #FFFFFF;\n",
              "    }\n",
              "  </style>\n",
              "\n",
              "      <script>\n",
              "        const buttonEl =\n",
              "          document.querySelector('#df-72b47c01-57cd-45b4-b7a3-7e179b8f03f7 button.colab-df-convert');\n",
              "        buttonEl.style.display =\n",
              "          google.colab.kernel.accessAllowed ? 'block' : 'none';\n",
              "\n",
              "        async function convertToInteractive(key) {\n",
              "          const element = document.querySelector('#df-72b47c01-57cd-45b4-b7a3-7e179b8f03f7');\n",
              "          const dataTable =\n",
              "            await google.colab.kernel.invokeFunction('convertToInteractive',\n",
              "                                                     [key], {});\n",
              "          if (!dataTable) return;\n",
              "\n",
              "          const docLinkHtml = 'Like what you see? Visit the ' +\n",
              "            '<a target=\"_blank\" href=https://colab.research.google.com/notebooks/data_table.ipynb>data table notebook</a>'\n",
              "            + ' to learn more about interactive tables.';\n",
              "          element.innerHTML = '';\n",
              "          dataTable['output_type'] = 'display_data';\n",
              "          await google.colab.output.renderOutput(dataTable, element);\n",
              "          const docLink = document.createElement('div');\n",
              "          docLink.innerHTML = docLinkHtml;\n",
              "          element.appendChild(docLink);\n",
              "        }\n",
              "      </script>\n",
              "    </div>\n",
              "  </div>\n",
              "  "
            ]
          },
          "metadata": {},
          "execution_count": 14
        }
      ]
    },
    {
      "cell_type": "code",
      "source": [
        "%%time\n",
        "\n",
        "recipes_pdf = pd.read_csv(folder_loc + 'RecipeNLG_dataset.csv', sep = ',',usecols = ['title', 'NER'], converters={\"NER\": literal_eval})"
      ],
      "metadata": {
        "id": "WviWIaHTgj05",
        "colab": {
          "base_uri": "https://localhost:8080/"
        },
        "outputId": "4233d664-fec9-4005-e163-cc39aec5b8d1"
      },
      "execution_count": 15,
      "outputs": [
        {
          "output_type": "stream",
          "name": "stdout",
          "text": [
            "CPU times: user 1min 2s, sys: 6.84 s, total: 1min 9s\n",
            "Wall time: 1min 21s\n"
          ]
        }
      ]
    },
    {
      "cell_type": "code",
      "source": [
        "recipes_pdf.info()"
      ],
      "metadata": {
        "colab": {
          "base_uri": "https://localhost:8080/"
        },
        "id": "2MTmiMUCgtRc",
        "outputId": "c48d1af5-888e-4643-fffb-f21e9c0aec25"
      },
      "execution_count": 16,
      "outputs": [
        {
          "output_type": "stream",
          "name": "stdout",
          "text": [
            "<class 'pandas.core.frame.DataFrame'>\n",
            "RangeIndex: 2231142 entries, 0 to 2231141\n",
            "Data columns (total 2 columns):\n",
            " #   Column  Dtype \n",
            "---  ------  ----- \n",
            " 0   title   object\n",
            " 1   NER     object\n",
            "dtypes: object(2)\n",
            "memory usage: 34.0+ MB\n"
          ]
        }
      ]
    },
    {
      "cell_type": "markdown",
      "source": [
        "## Pre-processing"
      ],
      "metadata": {
        "id": "hA1Pf_pIcX9l"
      }
    },
    {
      "cell_type": "markdown",
      "source": [
        "### Stemming\n",
        "First, remove trailing `s`s to reduce token count"
      ],
      "metadata": {
        "id": "-kaHo8uHcl9N"
      }
    },
    {
      "cell_type": "code",
      "source": [
        "def pre_process(token_list):\n",
        "  return [word.rstrip('s').lower() for word in token_list]\n",
        "recipes_pdf['NER'] = recipes_pdf['NER'].apply(pre_process)"
      ],
      "metadata": {
        "id": "vQCg21AfcXrl"
      },
      "execution_count": 17,
      "outputs": []
    },
    {
      "cell_type": "code",
      "source": [
        "recipes_pdf['NER'].head()"
      ],
      "metadata": {
        "colab": {
          "base_uri": "https://localhost:8080/"
        },
        "id": "NX3gWfSTdFZn",
        "outputId": "021483cb-7f27-44ee-9bff-14bdaebc4336"
      },
      "execution_count": 18,
      "outputs": [
        {
          "output_type": "execute_result",
          "data": {
            "text/plain": [
              "0    [brown sugar, milk, vanilla, nut, butter, bite...\n",
              "1    [beef, chicken breast, cream of mushroom soup,...\n",
              "2    [frozen corn, cream cheese, butter, garlic pow...\n",
              "3    [chicken, chicken gravy, cream of mushroom sou...\n",
              "4    [peanut butter, graham cracker crumb, butter, ...\n",
              "Name: NER, dtype: object"
            ]
          },
          "metadata": {},
          "execution_count": 18
        }
      ]
    },
    {
      "cell_type": "markdown",
      "source": [
        "### Remove duplicate recipes\n",
        "There are many duplicate recipes. We can see that at first by looking at recipe names. Below are the 2000th most common recipe titles, and we can see even this low in the rankings there are many duplicates."
      ],
      "metadata": {
        "id": "CajDVGINMH4k"
      }
    },
    {
      "cell_type": "code",
      "source": [
        "recipes_pdf['title'].value_counts().head(2000).tail()"
      ],
      "metadata": {
        "colab": {
          "base_uri": "https://localhost:8080/"
        },
        "id": "dZIjHi_Edqky",
        "outputId": "a69433b4-6df1-45aa-eb84-c4ccee11d1d0"
      },
      "execution_count": 19,
      "outputs": [
        {
          "output_type": "execute_result",
          "data": {
            "text/plain": [
              "Tuna Ball                   59\n",
              "Easy Coconut Cake           59\n",
              "Lemon Poppy Seed Muffins    59\n",
              "Tomato Pudding              59\n",
              "Mrs. Field'S Cookies        59\n",
              "Name: title, dtype: int64"
            ]
          },
          "metadata": {},
          "execution_count": 19
        }
      ]
    },
    {
      "cell_type": "markdown",
      "source": [
        "#### Janky way to remove duplicates\n",
        "One way to remove duplicate recipes would be to find all recipes with the same set of ingredients. This would involve tokenizing stuff. My lazy way to do this is to just concatenate all the character together, and use pandas `drop_duplicates`."
      ],
      "metadata": {
        "id": "EiY_6RvqMS50"
      }
    },
    {
      "cell_type": "code",
      "source": [
        "recipes_pdf['sorted_char'] = recipes_pdf['NER'].apply(lambda row: ''.join(sorted(''.join(row).replace(' ', ''))))\n"
      ],
      "metadata": {
        "id": "ahYChmD_duE4"
      },
      "execution_count": 20,
      "outputs": []
    },
    {
      "cell_type": "code",
      "source": [
        "recipes_pdf['sorted_char'].value_counts().head()"
      ],
      "metadata": {
        "colab": {
          "base_uri": "https://localhost:8080/"
        },
        "id": "hwjEATUff7nV",
        "outputId": "85377fd3-4019-4f6b-fdfc-5935cff3b679"
      },
      "execution_count": 21,
      "outputs": [
        {
          "output_type": "execute_result",
          "data": {
            "text/plain": [
              "                                                  574\n",
              "aaaaabbdeeefggggiiikklllllmnnooprrrrsstttuuuvw    449\n",
              "aefggiklllmorstu                                  336\n",
              "aaegrrstuw                                        311\n",
              "aaabbdeeefggggiikklllmnooprrrrsstttuuuw           307\n",
              "Name: sorted_char, dtype: int64"
            ]
          },
          "metadata": {},
          "execution_count": 21
        }
      ]
    },
    {
      "cell_type": "code",
      "source": [
        "recipes_pdf.loc[recipes_pdf['sorted_char'] == 'aaabbdeeefggggiikklllmnooprrrrsstttuuuw'].head()"
      ],
      "metadata": {
        "colab": {
          "base_uri": "https://localhost:8080/",
          "height": 206
        },
        "id": "7ARyFoN_gIf5",
        "outputId": "d765c979-8e07-4cfc-b39e-e6c43e289510"
      },
      "execution_count": 22,
      "outputs": [
        {
          "output_type": "execute_result",
          "data": {
            "text/plain": [
              "                   title                                                NER  \\\n",
              "175       Mom'S Pancakes  [flour, baking powder, salt, sugar, egg, milk,...   \n",
              "6031   Homemade Pancakes  [flour, salt, sugar, egg, baking powder, milk,...   \n",
              "7300      Plain Biscuits  [flour, baking powder, sugar, salt, butter, mi...   \n",
              "11873         Picklelets  [egg, milk, baking powder, butter, sugar, flou...   \n",
              "18121           Pancakes  [baking powder, flour, sugar, salt, milk, egg,...   \n",
              "\n",
              "                                   sorted_char  \n",
              "175    aaabbdeeefggggiikklllmnooprrrrsstttuuuw  \n",
              "6031   aaabbdeeefggggiikklllmnooprrrrsstttuuuw  \n",
              "7300   aaabbdeeefggggiikklllmnooprrrrsstttuuuw  \n",
              "11873  aaabbdeeefggggiikklllmnooprrrrsstttuuuw  \n",
              "18121  aaabbdeeefggggiikklllmnooprrrrsstttuuuw  "
            ],
            "text/html": [
              "\n",
              "  <div id=\"df-7bf3dc50-c26c-4cdf-9e8b-49e925b121d0\">\n",
              "    <div class=\"colab-df-container\">\n",
              "      <div>\n",
              "<style scoped>\n",
              "    .dataframe tbody tr th:only-of-type {\n",
              "        vertical-align: middle;\n",
              "    }\n",
              "\n",
              "    .dataframe tbody tr th {\n",
              "        vertical-align: top;\n",
              "    }\n",
              "\n",
              "    .dataframe thead th {\n",
              "        text-align: right;\n",
              "    }\n",
              "</style>\n",
              "<table border=\"1\" class=\"dataframe\">\n",
              "  <thead>\n",
              "    <tr style=\"text-align: right;\">\n",
              "      <th></th>\n",
              "      <th>title</th>\n",
              "      <th>NER</th>\n",
              "      <th>sorted_char</th>\n",
              "    </tr>\n",
              "  </thead>\n",
              "  <tbody>\n",
              "    <tr>\n",
              "      <th>175</th>\n",
              "      <td>Mom'S Pancakes</td>\n",
              "      <td>[flour, baking powder, salt, sugar, egg, milk,...</td>\n",
              "      <td>aaabbdeeefggggiikklllmnooprrrrsstttuuuw</td>\n",
              "    </tr>\n",
              "    <tr>\n",
              "      <th>6031</th>\n",
              "      <td>Homemade Pancakes</td>\n",
              "      <td>[flour, salt, sugar, egg, baking powder, milk,...</td>\n",
              "      <td>aaabbdeeefggggiikklllmnooprrrrsstttuuuw</td>\n",
              "    </tr>\n",
              "    <tr>\n",
              "      <th>7300</th>\n",
              "      <td>Plain Biscuits</td>\n",
              "      <td>[flour, baking powder, sugar, salt, butter, mi...</td>\n",
              "      <td>aaabbdeeefggggiikklllmnooprrrrsstttuuuw</td>\n",
              "    </tr>\n",
              "    <tr>\n",
              "      <th>11873</th>\n",
              "      <td>Picklelets</td>\n",
              "      <td>[egg, milk, baking powder, butter, sugar, flou...</td>\n",
              "      <td>aaabbdeeefggggiikklllmnooprrrrsstttuuuw</td>\n",
              "    </tr>\n",
              "    <tr>\n",
              "      <th>18121</th>\n",
              "      <td>Pancakes</td>\n",
              "      <td>[baking powder, flour, sugar, salt, milk, egg,...</td>\n",
              "      <td>aaabbdeeefggggiikklllmnooprrrrsstttuuuw</td>\n",
              "    </tr>\n",
              "  </tbody>\n",
              "</table>\n",
              "</div>\n",
              "      <button class=\"colab-df-convert\" onclick=\"convertToInteractive('df-7bf3dc50-c26c-4cdf-9e8b-49e925b121d0')\"\n",
              "              title=\"Convert this dataframe to an interactive table.\"\n",
              "              style=\"display:none;\">\n",
              "        \n",
              "  <svg xmlns=\"http://www.w3.org/2000/svg\" height=\"24px\"viewBox=\"0 0 24 24\"\n",
              "       width=\"24px\">\n",
              "    <path d=\"M0 0h24v24H0V0z\" fill=\"none\"/>\n",
              "    <path d=\"M18.56 5.44l.94 2.06.94-2.06 2.06-.94-2.06-.94-.94-2.06-.94 2.06-2.06.94zm-11 1L8.5 8.5l.94-2.06 2.06-.94-2.06-.94L8.5 2.5l-.94 2.06-2.06.94zm10 10l.94 2.06.94-2.06 2.06-.94-2.06-.94-.94-2.06-.94 2.06-2.06.94z\"/><path d=\"M17.41 7.96l-1.37-1.37c-.4-.4-.92-.59-1.43-.59-.52 0-1.04.2-1.43.59L10.3 9.45l-7.72 7.72c-.78.78-.78 2.05 0 2.83L4 21.41c.39.39.9.59 1.41.59.51 0 1.02-.2 1.41-.59l7.78-7.78 2.81-2.81c.8-.78.8-2.07 0-2.86zM5.41 20L4 18.59l7.72-7.72 1.47 1.35L5.41 20z\"/>\n",
              "  </svg>\n",
              "      </button>\n",
              "      \n",
              "  <style>\n",
              "    .colab-df-container {\n",
              "      display:flex;\n",
              "      flex-wrap:wrap;\n",
              "      gap: 12px;\n",
              "    }\n",
              "\n",
              "    .colab-df-convert {\n",
              "      background-color: #E8F0FE;\n",
              "      border: none;\n",
              "      border-radius: 50%;\n",
              "      cursor: pointer;\n",
              "      display: none;\n",
              "      fill: #1967D2;\n",
              "      height: 32px;\n",
              "      padding: 0 0 0 0;\n",
              "      width: 32px;\n",
              "    }\n",
              "\n",
              "    .colab-df-convert:hover {\n",
              "      background-color: #E2EBFA;\n",
              "      box-shadow: 0px 1px 2px rgba(60, 64, 67, 0.3), 0px 1px 3px 1px rgba(60, 64, 67, 0.15);\n",
              "      fill: #174EA6;\n",
              "    }\n",
              "\n",
              "    [theme=dark] .colab-df-convert {\n",
              "      background-color: #3B4455;\n",
              "      fill: #D2E3FC;\n",
              "    }\n",
              "\n",
              "    [theme=dark] .colab-df-convert:hover {\n",
              "      background-color: #434B5C;\n",
              "      box-shadow: 0px 1px 3px 1px rgba(0, 0, 0, 0.15);\n",
              "      filter: drop-shadow(0px 1px 2px rgba(0, 0, 0, 0.3));\n",
              "      fill: #FFFFFF;\n",
              "    }\n",
              "  </style>\n",
              "\n",
              "      <script>\n",
              "        const buttonEl =\n",
              "          document.querySelector('#df-7bf3dc50-c26c-4cdf-9e8b-49e925b121d0 button.colab-df-convert');\n",
              "        buttonEl.style.display =\n",
              "          google.colab.kernel.accessAllowed ? 'block' : 'none';\n",
              "\n",
              "        async function convertToInteractive(key) {\n",
              "          const element = document.querySelector('#df-7bf3dc50-c26c-4cdf-9e8b-49e925b121d0');\n",
              "          const dataTable =\n",
              "            await google.colab.kernel.invokeFunction('convertToInteractive',\n",
              "                                                     [key], {});\n",
              "          if (!dataTable) return;\n",
              "\n",
              "          const docLinkHtml = 'Like what you see? Visit the ' +\n",
              "            '<a target=\"_blank\" href=https://colab.research.google.com/notebooks/data_table.ipynb>data table notebook</a>'\n",
              "            + ' to learn more about interactive tables.';\n",
              "          element.innerHTML = '';\n",
              "          dataTable['output_type'] = 'display_data';\n",
              "          await google.colab.output.renderOutput(dataTable, element);\n",
              "          const docLink = document.createElement('div');\n",
              "          docLink.innerHTML = docLinkHtml;\n",
              "          element.appendChild(docLink);\n",
              "        }\n",
              "      </script>\n",
              "    </div>\n",
              "  </div>\n",
              "  "
            ]
          },
          "metadata": {},
          "execution_count": 22
        }
      ]
    },
    {
      "cell_type": "code",
      "source": [
        "recipes_pdf = recipes_pdf.drop_duplicates(subset = 'sorted_char')\n",
        "recipes_pdf.shape"
      ],
      "metadata": {
        "colab": {
          "base_uri": "https://localhost:8080/"
        },
        "id": "9-K_6byRgbxc",
        "outputId": "952f37fe-8aac-4de7-c4ba-1108f29004de"
      },
      "execution_count": 23,
      "outputs": [
        {
          "output_type": "execute_result",
          "data": {
            "text/plain": [
              "(1976599, 3)"
            ]
          },
          "metadata": {},
          "execution_count": 23
        }
      ]
    },
    {
      "cell_type": "markdown",
      "source": [
        "Removed 20k recipes"
      ],
      "metadata": {
        "id": "IPwBL1nMgkiM"
      }
    },
    {
      "cell_type": "markdown",
      "source": [
        "#### Get ingredient counts, for understanding how common an ingredient is"
      ],
      "metadata": {
        "id": "tUrNCijqMjIc"
      }
    },
    {
      "cell_type": "code",
      "source": [
        "ingredient_count = Counter([token for row in recipes_pdf['NER'].values for token in row])"
      ],
      "metadata": {
        "id": "_w3fp5RYlOsa"
      },
      "execution_count": 28,
      "outputs": []
    },
    {
      "cell_type": "markdown",
      "metadata": {
        "id": "CuF_AyH2bv_A"
      },
      "source": [
        "## Build W2V model"
      ]
    },
    {
      "cell_type": "markdown",
      "source": [
        "### Train embeddings with different number of dimensions"
      ],
      "metadata": {
        "id": "PUPmjZumM30Q"
      }
    },
    {
      "cell_type": "code",
      "metadata": {
        "id": "rmkwu3QyqXpI",
        "outputId": "1d7e75ad-f9d7-4580-c776-d83cc5dd45a5",
        "colab": {
          "base_uri": "https://localhost:8080/"
        }
      },
      "source": [
        "%%time\n",
        "recipe_w2v_100 = Word2Vec(recipes_pdf['NER'], min_count=10)\n",
        "recipe_w2v_50 = Word2Vec(recipes_pdf['NER'], size=50, min_count=10)\n",
        "recipe_w2v_25 = Word2Vec(recipes_pdf['NER'], size=25, min_count=10)\n",
        "recipe_w2v_16 = Word2Vec(recipes_pdf['NER'], size=16, min_count=10)"
      ],
      "execution_count": 75,
      "outputs": [
        {
          "output_type": "stream",
          "name": "stdout",
          "text": [
            "CPU times: user 3min 4s, sys: 1.05 s, total: 3min 5s\n",
            "Wall time: 1min 46s\n"
          ]
        }
      ]
    },
    {
      "cell_type": "code",
      "metadata": {
        "id": "XzdzwhgqtO08",
        "colab": {
          "base_uri": "https://localhost:8080/"
        },
        "outputId": "661045de-d6ad-4da4-9f3f-b2adae14eece"
      },
      "source": [
        "# number of ingredients\n",
        "len(recipe_w2v.wv.vocab)"
      ],
      "execution_count": 72,
      "outputs": [
        {
          "output_type": "execute_result",
          "data": {
            "text/plain": [
              "31124"
            ]
          },
          "metadata": {},
          "execution_count": 72
        }
      ]
    },
    {
      "cell_type": "markdown",
      "source": [
        "### Lower-dimensional embeddings look better on the surface than high-dimensions\n",
        "When I initially trained these ingredient-embeddings, I found some surprising results, like `bone` showing up in the most similar ingredients for `carrot`. While this is somewhat understandable since people make lots of soups, this would make for some surprising ingredient replacements.\n",
        "\n",
        "One hypothesis I had for this was that the default number of embeddings dimensions is too high. Anthropic AI has an [interesting paper about how embeddings are able to represent more features than there are dimensions](https://transformer-circuits.pub/2022/toy_model/index.html#motivation) by using \"superposition.\" The default number of dimensions for GenSim is 100, which implies it could encode hundreds of dimensions in flavor space. So I tested reducing the number of dimensions of the embeddings, and lo and behold it seemed to fix the `carrot-bone` similarity problem. Below are examples of this for carrots and apples. "
      ],
      "metadata": {
        "id": "u4p7pcx4MnkA"
      }
    },
    {
      "cell_type": "markdown",
      "source": [
        "#### Carrots\n",
        "With the default number of dimensions (100), the most similar ingredients  to `carrot` are `carrot` variants, but `bone` and `beef bone` show up in the top 10."
      ],
      "metadata": {
        "id": "0ET22zeINwqj"
      }
    },
    {
      "cell_type": "code",
      "source": [
        "recipe_w2v.most_similar('carrot')"
      ],
      "metadata": {
        "colab": {
          "base_uri": "https://localhost:8080/"
        },
        "id": "dBsNhqYfJzue",
        "outputId": "d1dc4a54-4f40-4447-ec02-dce3def8ebc6"
      },
      "execution_count": 55,
      "outputs": [
        {
          "output_type": "execute_result",
          "data": {
            "text/plain": [
              "[('baby carrot', 0.8065677881240845),\n",
              " ('fresh carrot', 0.6772737503051758),\n",
              " ('peeled carrot', 0.6647123694419861),\n",
              " ('fresh baby carrot', 0.5763121843338013),\n",
              " ('grated carrot', 0.5363171696662903),\n",
              " ('beef bone', 0.5336546897888184),\n",
              " ('bone', 0.522489070892334),\n",
              " ('pearl barley', 0.4999176263809204),\n",
              " ('barley', 0.4961257576942444),\n",
              " ('only', 0.48451071977615356)]"
            ]
          },
          "metadata": {},
          "execution_count": 55
        }
      ]
    },
    {
      "cell_type": "markdown",
      "source": [
        "25 dimensions pushes `bone` out of the top 10, but still surprisingly high."
      ],
      "metadata": {
        "id": "BpRtQJ9EO9Cu"
      }
    },
    {
      "cell_type": "code",
      "source": [
        "recipe_w2v_25.most_similar('carrot' , topn=15)"
      ],
      "metadata": {
        "colab": {
          "base_uri": "https://localhost:8080/"
        },
        "id": "_CBvzJbBKnQg",
        "outputId": "83b4adf5-665d-46bb-b5e2-bd0a0bc0e1c8"
      },
      "execution_count": 77,
      "outputs": [
        {
          "output_type": "execute_result",
          "data": {
            "text/plain": [
              "[('baby carrot', 0.8326777219772339),\n",
              " ('fresh carrot', 0.7855518460273743),\n",
              " ('white turnip', 0.7434546947479248),\n",
              " ('pearl barley', 0.7420206665992737),\n",
              " ('parsley root', 0.7365614175796509),\n",
              " ('turnip', 0.7275972962379456),\n",
              " ('barley', 0.7271861433982849),\n",
              " ('sweet potato', 0.7265936136245728),\n",
              " ('swede', 0.7255061864852905),\n",
              " ('green lentil', 0.7225844860076904),\n",
              " ('parsnip', 0.7192715406417847),\n",
              " ('bone', 0.715190589427948),\n",
              " ('chunk', 0.7009220123291016),\n",
              " ('stalks of celery', 0.6996918320655823),\n",
              " ('lentil', 0.6953086256980896)]"
            ]
          },
          "metadata": {},
          "execution_count": 77
        }
      ]
    },
    {
      "cell_type": "markdown",
      "source": [
        "16 dimensions gets it out of the top 20"
      ],
      "metadata": {
        "id": "5Cw93AbUQlZ5"
      }
    },
    {
      "cell_type": "code",
      "source": [
        "recipe_w2v_16.most_similar('carrot' , topn=20)"
      ],
      "metadata": {
        "colab": {
          "base_uri": "https://localhost:8080/"
        },
        "id": "5QscCb3LQb0Q",
        "outputId": "757fbb01-e20d-4deb-c08e-12e2ad6de921"
      },
      "execution_count": 76,
      "outputs": [
        {
          "output_type": "execute_result",
          "data": {
            "text/plain": [
              "[('stalks celery', 0.8890523910522461),\n",
              " ('baby carrot', 0.8877623081207275),\n",
              " ('celery', 0.8522034287452698),\n",
              " ('pearl barley', 0.8518322706222534),\n",
              " ('barley', 0.8432409167289734),\n",
              " ('stalks of celery', 0.8340665698051453),\n",
              " ('celery stalk', 0.8294845223426819),\n",
              " ('lentil', 0.8264703154563904),\n",
              " ('stalk celery', 0.8254605531692505),\n",
              " ('green bean', 0.8253151178359985),\n",
              " ('green lentil', 0.8252203464508057),\n",
              " ('parsnip', 0.8249714374542236),\n",
              " ('dried lentil', 0.817329466342926),\n",
              " ('white cabbage', 0.8002745509147644),\n",
              " ('turnip', 0.7969602346420288),\n",
              " ('potato', 0.7907851338386536),\n",
              " ('fresh carrot', 0.7867233753204346),\n",
              " ('chunk', 0.7820314168930054),\n",
              " ('fresh green bean', 0.7777174711227417),\n",
              " ('white turnip', 0.7760671377182007)]"
            ]
          },
          "metadata": {},
          "execution_count": 76
        }
      ]
    },
    {
      "cell_type": "markdown",
      "source": [
        "### Another ingredient"
      ],
      "metadata": {
        "id": "PIKQd9WTQndI"
      }
    },
    {
      "cell_type": "code",
      "source": [
        "recipe_w2v_100.most_similar('oregano', topn=20)"
      ],
      "metadata": {
        "colab": {
          "base_uri": "https://localhost:8080/"
        },
        "id": "XLujI4DEQpeS",
        "outputId": "8ee20c85-6550-4251-ad56-99850b8cb1b7"
      },
      "execution_count": 120,
      "outputs": [
        {
          "output_type": "execute_result",
          "data": {
            "text/plain": [
              "[('ground oregano', 0.7718523740768433),\n",
              " ('leaf oregano', 0.7263194918632507),\n",
              " ('oregano flake', 0.7059062719345093),\n",
              " ('fresh oregano', 0.6925216913223267),\n",
              " ('oregano leave', 0.6920971870422363),\n",
              " ('oregeno', 0.6829726696014404),\n",
              " ('italian seasoning', 0.6229325532913208),\n",
              " ('italian spice', 0.5812777876853943),\n",
              " ('oregano dried', 0.5680622458457947),\n",
              " ('marjoram', 0.5490894913673401),\n",
              " ('italian herb seasoning', 0.5356825590133667),\n",
              " ('italian herb', 0.513263463973999),\n",
              " ('dried oregano', 0.5126845240592957),\n",
              " ('tomato paste', 0.5118139982223511),\n",
              " ('tomato sauce', 0.5104940533638),\n",
              " ('mixed italian herb', 0.5072267651557922),\n",
              " ('tomatoe', 0.4902517795562744),\n",
              " ('italian tomatoe', 0.47530269622802734),\n",
              " ('dried marjoram', 0.4749998450279236),\n",
              " ('fennel seed', 0.47368210554122925)]"
            ]
          },
          "metadata": {},
          "execution_count": 120
        }
      ]
    },
    {
      "cell_type": "code",
      "source": [
        "recipe_w2v_16.most_similar('oregano', topn=20)"
      ],
      "metadata": {
        "colab": {
          "base_uri": "https://localhost:8080/"
        },
        "id": "GgdXRieRQsj2",
        "outputId": "bfe33e59-8d56-474f-ce45-13aac95ba16e"
      },
      "execution_count": 121,
      "outputs": [
        {
          "output_type": "execute_result",
          "data": {
            "text/plain": [
              "[('oregano dried', 0.9083280563354492),\n",
              " ('sweet basil', 0.904662013053894),\n",
              " ('dried basil', 0.9041186571121216),\n",
              " ('dried leaf basil', 0.8976918458938599),\n",
              " ('tomato paste', 0.8945822715759277),\n",
              " ('tomato sauce', 0.8814541101455688),\n",
              " ('basil', 0.8676785230636597),\n",
              " ('ground oregano', 0.8636078834533691),\n",
              " ('italian seasoning', 0.8266404271125793),\n",
              " ('tomatoe', 0.8259135484695435),\n",
              " ('oregano flake', 0.8163722157478333),\n",
              " ('tomato puree', 0.8131784200668335),\n",
              " ('ground basil', 0.8062314987182617),\n",
              " ('oregano ground', 0.7994402647018433),\n",
              " ('leaf oregano', 0.7947260141372681),\n",
              " ('fresh oregano', 0.7930879592895508),\n",
              " ('dried marjoram', 0.7881389260292053),\n",
              " ('lean ground lamb', 0.7843124866485596),\n",
              " ('italian plum', 0.7773176431655884),\n",
              " ('marjoram', 0.7710994482040405)]"
            ]
          },
          "metadata": {},
          "execution_count": 121
        }
      ]
    },
    {
      "cell_type": "markdown",
      "source": [
        "# The ingredient finding part\n",
        "Find ingredients that are similar in embedding space, but not used together commonly"
      ],
      "metadata": {
        "id": "kuyE4dh3KfA-"
      }
    },
    {
      "cell_type": "code",
      "source": [
        "def calc_cooccurrence(ingredient: str,\n",
        "                      candidates,\n",
        "                      recipes):\n",
        "  ''' Calc how often the top ingredient co-occurs with the candidates\n",
        "    - also removes candidates that are re-phrase of ingredient (e.g. \"beef\" and \"ground beef\")\n",
        "    ingredient: str name of an ingredient (\"apple\")\n",
        "    candidates: potential other ingredients (\"orange\")\n",
        "    recipes: iterable of possible ingredients\n",
        "  '''\n",
        "\n",
        "\n",
        "  co_count = {}\n",
        "  for candidate in candidates:\n",
        "    co_count[candidate] = sum([candidate in recipe and ingredient in recipe for recipe in recipes])\n",
        "  return co_count"
      ],
      "metadata": {
        "id": "pi8SnRmcmjn6"
      },
      "execution_count": 29,
      "outputs": []
    },
    {
      "cell_type": "code",
      "source": [
        "def get_fusion_ingredients(ingredient: str,\n",
        "                           recipe_model, #gensim model\n",
        "                           recipes, #iterable of recipes\n",
        "                           ingredient_count: dict,\n",
        "                           max_candidates = 20,\n",
        "                           min_occurence_factor = 100 # minimum number of recipes an ingredient has to be in\n",
        "                           ):\n",
        "\n",
        "  ingredient_recipes = recipes.loc[recipes.apply(lambda row: ingredient in row)]\n",
        "\n",
        "  ingredient_candidates = recipe_model.most_similar(ingredient, topn=50) # get top similar ingredients\n",
        "  candidate_names = list(zip(*ingredient_candidates))[0]\n",
        "  pruned_candidates = [candidate for candidate in candidate_names if ingredient not in candidate][:max_candidates] # clean up candidates to remove duplicates (e.g. \"gala apple\")\n",
        "  cooccurrence_counts = calc_cooccurrence(ingredient, candidate_names, ingredient_recipes) # get counts for normalization\n",
        "  # final score for sorting: similarity / how often co-occur / total occurences\n",
        "  min_occurences = max(cooccurrence_counts.values()) / min_occurence_factor\n",
        "  print(min_occurences)\n",
        "  freq_norm_candidates = {candidate[0]: candidate[1] / (cooccurrence_counts[candidate[0]]+1) / ingredient_count[candidate[0]] for candidate in ingredient_candidates if candidate[0] in pruned_candidates and cooccurrence_counts[candidate[0]] > min_occurences}\n",
        "  top_candidates = sorted([(k,v) for k,v in freq_norm_candidates.items()], key=lambda x: x[1])[-5:]\n",
        "  return top_candidates, cooccurrence_counts, ingredient_candidates # return multiple for debugging"
      ],
      "metadata": {
        "id": "JF02W45ijWVn"
      },
      "execution_count": 30,
      "outputs": []
    },
    {
      "cell_type": "code",
      "source": [
        "%%time\n",
        "get_fusion_ingredients('orange', recipe_w2v_25, recipes_pdf['NER'], ingredient_count)"
      ],
      "metadata": {
        "colab": {
          "base_uri": "https://localhost:8080/"
        },
        "id": "2GH5mhtvk4nA",
        "outputId": "a19dc08b-e52f-4442-cbac-09bfbb97b5ce"
      },
      "execution_count": 60,
      "outputs": [
        {
          "output_type": "stream",
          "name": "stdout",
          "text": [
            "37.84\n",
            "CPU times: user 2.8 s, sys: 122 ms, total: 2.92 s\n",
            "Wall time: 3.18 s\n"
          ]
        },
        {
          "output_type": "execute_result",
          "data": {
            "text/plain": [
              "([('tangerine', 1.4669418242644563e-05),\n",
              "  ('red grapefruit', 1.9075492737998423e-05),\n",
              "  ('plum', 2.4063287866286987e-05),\n",
              "  ('clementine', 3.4001893315020326e-05),\n",
              "  ('kumquat', 3.4480510623283614e-05)],\n",
              " {'tangerine': 96,\n",
              "  'clementine': 56,\n",
              "  'kumquat': 60,\n",
              "  'grapefruit': 178,\n",
              "  'red grapefruit': 119,\n",
              "  'fresh squeezed orange juice': 58,\n",
              "  'pear': 224,\n",
              "  'pink grapefruit': 152,\n",
              "  'tangerine juice': 16,\n",
              "  'pomegranate': 90,\n",
              "  'pomegranate aril': 11,\n",
              "  'carrot juice': 14,\n",
              "  'orange slice': 113,\n",
              "  'pomegranate juice': 108,\n",
              "  'firm pear': 9,\n",
              "  'green apple': 99,\n",
              "  'orange juice': 3784,\n",
              "  'cranberrie': 1693,\n",
              "  'valencia': 3,\n",
              "  'fresh orange': 9,\n",
              "  'freshly squeezed orange juice': 222,\n",
              "  'pomegranate seed': 123,\n",
              "  'persimmon': 15,\n",
              "  'plum': 46,\n",
              "  'bosc pear': 6,\n",
              "  'cranberry juice': 269,\n",
              "  'valencia orange': 5,\n",
              "  'red plum': 6,\n",
              "  'fresh juice': 4,\n",
              "  'pear nectar': 0,\n",
              "  'purple': 16,\n",
              "  'grape juice': 76,\n",
              "  'orange blossom honey': 27,\n",
              "  'mandarin': 10,\n",
              "  'fresh-squeezed orange juice': 5,\n",
              "  'white grape juice': 33,\n",
              "  'freshly-squeezed orange juice': 0,\n",
              "  'orange rind strip': 3,\n",
              "  'asian pear': 12,\n",
              "  'black grape': 14,\n",
              "  'fig': 61,\n",
              "  'orange juice fresh': 8,\n",
              "  'firm': 14,\n",
              "  'orange section': 23,\n",
              "  'apricot': 245,\n",
              "  'grape': 429,\n",
              "  'golden': 6,\n",
              "  'gala apple': 10,\n",
              "  'bartlett': 35,\n",
              "  'pear juice': 3},\n",
              " [('tangerine', 0.9092545509338379),\n",
              "  ('clementine', 0.8779628872871399),\n",
              "  ('kumquat', 0.8497377038002014),\n",
              "  ('grapefruit', 0.8225606083869934),\n",
              "  ('red grapefruit', 0.8126159906387329),\n",
              "  ('fresh squeezed orange juice', 0.7974966764450073),\n",
              "  ('pear', 0.79206782579422),\n",
              "  ('pink grapefruit', 0.7875085473060608),\n",
              "  ('tangerine juice', 0.7840539216995239),\n",
              "  ('pomegranate', 0.7835109829902649),\n",
              "  ('pomegranate aril', 0.7797521352767944),\n",
              "  ('carrot juice', 0.7795317769050598),\n",
              "  ('orange slice', 0.7749267816543579),\n",
              "  ('pomegranate juice', 0.772537887096405),\n",
              "  ('firm pear', 0.7696105241775513),\n",
              "  ('green apple', 0.7670159339904785),\n",
              "  ('orange juice', 0.7576022744178772),\n",
              "  ('cranberrie', 0.7548837661743164),\n",
              "  ('valencia', 0.7544904351234436),\n",
              "  ('fresh orange', 0.7510762214660645),\n",
              "  ('freshly squeezed orange juice', 0.7487016916275024),\n",
              "  ('pomegranate seed', 0.7484813928604126),\n",
              "  ('persimmon', 0.7465596795082092),\n",
              "  ('plum', 0.7396573424339294),\n",
              "  ('bosc pear', 0.7386593818664551),\n",
              "  ('cranberry juice', 0.733825147151947),\n",
              "  ('valencia orange', 0.7331854104995728),\n",
              "  ('red plum', 0.7323850393295288),\n",
              "  ('fresh juice', 0.7321370840072632),\n",
              "  ('pear nectar', 0.731795072555542),\n",
              "  ('purple', 0.7284356951713562),\n",
              "  ('grape juice', 0.7270456552505493),\n",
              "  ('orange blossom honey', 0.7229253053665161),\n",
              "  ('mandarin', 0.7227696180343628),\n",
              "  ('fresh-squeezed orange juice', 0.7200968861579895),\n",
              "  ('white grape juice', 0.7192829251289368),\n",
              "  ('freshly-squeezed orange juice', 0.7178441286087036),\n",
              "  ('orange rind strip', 0.7175629734992981),\n",
              "  ('asian pear', 0.7150248885154724),\n",
              "  ('black grape', 0.7108983397483826),\n",
              "  ('fig', 0.7101004719734192),\n",
              "  ('orange juice fresh', 0.7093366980552673),\n",
              "  ('firm', 0.7071822285652161),\n",
              "  ('orange section', 0.7071002721786499),\n",
              "  ('apricot', 0.7058442234992981),\n",
              "  ('grape', 0.705044686794281),\n",
              "  ('golden', 0.7031469941139221),\n",
              "  ('gala apple', 0.7028553485870361),\n",
              "  ('bartlett', 0.7023744583129883),\n",
              "  ('pear juice', 0.6958560943603516)])"
            ]
          },
          "metadata": {},
          "execution_count": 60
        }
      ]
    },
    {
      "cell_type": "code",
      "source": [
        "a,b,c = get_fusion_ingredients('apple', recipe_w2v_25, recipes_pdf['NER'], ingredient_count,20)"
      ],
      "metadata": {
        "id": "72q1fGlukYQB",
        "colab": {
          "base_uri": "https://localhost:8080/"
        },
        "outputId": "cc66b974-832a-48ad-c10f-8a6f9408164a"
      },
      "execution_count": 61,
      "outputs": [
        {
          "output_type": "stream",
          "name": "stdout",
          "text": [
            "46.19\n"
          ]
        }
      ]
    },
    {
      "cell_type": "code",
      "source": [
        "a"
      ],
      "metadata": {
        "colab": {
          "base_uri": "https://localhost:8080/"
        },
        "id": "Epmg8lWdpl2i",
        "outputId": "41e5de39-208c-4dcc-db06-0ced52aba8c7"
      },
      "execution_count": 62,
      "outputs": [
        {
          "output_type": "execute_result",
          "data": {
            "text/plain": [
              "[('yam', 4.598554950495624e-06),\n",
              " ('craisin', 1.3405399475123224e-05),\n",
              " ('bartlett', 1.4835682855074244e-05),\n",
              " ('acorn squash', 2.186774596344618e-05),\n",
              " ('frozen cranberrie', 2.3645754286065995e-05)]"
            ]
          },
          "metadata": {},
          "execution_count": 62
        }
      ]
    },
    {
      "cell_type": "code",
      "source": [
        "fish_sauce = get_fusion_ingredients('fish sauce', recipe_w2v, recipes_pdf['NER'],ingredient_count, 10)"
      ],
      "metadata": {
        "id": "ZXX409QDq5Hu",
        "colab": {
          "base_uri": "https://localhost:8080/"
        },
        "outputId": "bf75ef9b-9a01-4901-80bb-e93b64e2ae7b"
      },
      "execution_count": 63,
      "outputs": [
        {
          "output_type": "stream",
          "name": "stdout",
          "text": [
            "6.76\n"
          ]
        }
      ]
    },
    {
      "cell_type": "code",
      "source": [
        "fish_sauce[0]"
      ],
      "metadata": {
        "colab": {
          "base_uri": "https://localhost:8080/"
        },
        "id": "QD2HmLb7q-NW",
        "outputId": "4461a224-f8ee-4282-a838-bfe58d475978"
      },
      "execution_count": 64,
      "outputs": [
        {
          "output_type": "execute_result",
          "data": {
            "text/plain": [
              "[('rice vermicelli', 1.4720903420300217e-05),\n",
              " ('fresh lemongra', 1.538415095900283e-05),\n",
              " ('lemongra', 1.8311396896240826e-05),\n",
              " ('sweet soy sauce', 0.00011322733184419209),\n",
              " ('mani', 0.00011857803910970688)]"
            ]
          },
          "metadata": {},
          "execution_count": 64
        }
      ]
    },
    {
      "cell_type": "code",
      "source": [
        "fish_sauce[2]"
      ],
      "metadata": {
        "colab": {
          "base_uri": "https://localhost:8080/"
        },
        "id": "hlNHFjzHuDTV",
        "outputId": "2c03ebfb-8f3e-4ec9-b900-058e6e74d1b8"
      },
      "execution_count": null,
      "outputs": [
        {
          "output_type": "execute_result",
          "data": {
            "text/plain": [
              "[('asian fish sauce', 0.7992143630981445),\n",
              " ('rice noodle', 0.7358037829399109),\n",
              " ('nuoc', 0.7349714040756226),\n",
              " ('lemon gra', 0.727480411529541),\n",
              " ('mani', 0.7231417298316956),\n",
              " ('sweet soy sauce', 0.7184907793998718),\n",
              " ('stalk lemongra', 0.7184152603149414),\n",
              " ('ketjap mani', 0.7102898359298706),\n",
              " ('stalks lemongra', 0.710004448890686),\n",
              " ('rice vermicelli', 0.7045285701751709),\n",
              " ('fresh lemongra', 0.7023175954818726),\n",
              " ('lemongra', 0.700231671333313),\n",
              " ('nuoc nam', 0.6911463141441345),\n",
              " ('lime leaf', 0.6892822980880737),\n",
              " ('red chili paste', 0.6854043006896973),\n",
              " ('fresh galangal', 0.6847156882286072),\n",
              " ('bird chile', 0.6795110106468201),\n",
              " ('lime leave', 0.6791095733642578),\n",
              " ('fishsauce', 0.677825927734375),\n",
              " ('red curry', 0.6775223016738892),\n",
              " ('shrimp paste', 0.6735805869102478),\n",
              " ('tamarind juice', 0.672806441783905),\n",
              " ('oyster sauce', 0.6725000739097595),\n",
              " ('red bird', 0.6667814254760742),\n",
              " ('cilantro root', 0.6667782068252563),\n",
              " ('ﬁsh sauce', 0.6667441725730896),\n",
              " ('lemongrass stalk', 0.6627397537231445),\n",
              " ('palm sugar', 0.6620825529098511),\n",
              " ('sambal oelek', 0.6530277132987976),\n",
              " ('tamarind concentrate', 0.6506115198135376),\n",
              " ('chili paste', 0.6492502689361572),\n",
              " ('red thai chile', 0.6490031480789185),\n",
              " ('nam', 0.645410418510437),\n",
              " ('thai chili paste', 0.6452690362930298),\n",
              " ('sambal', 0.6442736387252808),\n",
              " ('black soy sauce', 0.641382098197937),\n",
              " ('tamarind paste', 0.6396978497505188),\n",
              " ('black bean sauce', 0.6382615566253662),\n",
              " ('coriander root', 0.6362042427062988),\n",
              " ('chili oil', 0.6321280002593994),\n",
              " ('galangal', 0.6311790943145752),\n",
              " ('long red chili pepper', 0.6302767992019653),\n",
              " ('straw mushroom', 0.6266177892684937),\n",
              " ('pati', 0.6245619058609009),\n",
              " ('galangal root', 0.6229275465011597),\n",
              " ('candlenut', 0.6229219436645508),\n",
              " ('vermicelli rice noodle', 0.620451807975769),\n",
              " ('rice wine', 0.6197420954704285),\n",
              " ('long bean', 0.6187158823013306),\n",
              " ('thin rice noodle', 0.6185775399208069)]"
            ]
          },
          "metadata": {},
          "execution_count": 91
        }
      ]
    },
    {
      "cell_type": "code",
      "source": [
        "a,b,c = get_fusion_ingredients('carrot', recipe_w2v, recipes_pdf['NER'], ingredient_count, 10)"
      ],
      "metadata": {
        "id": "BPzEJCTOrSCP",
        "colab": {
          "base_uri": "https://localhost:8080/"
        },
        "outputId": "786f8952-2da3-4791-bb3d-5ed83460d97e"
      },
      "execution_count": null,
      "outputs": [
        {
          "output_type": "stream",
          "name": "stdout",
          "text": [
            "23.51\n"
          ]
        }
      ]
    },
    {
      "cell_type": "code",
      "source": [
        "a"
      ],
      "metadata": {
        "colab": {
          "base_uri": "https://localhost:8080/"
        },
        "id": "9ejq8zdYrdEn",
        "outputId": "d3fa5273-6b4c-4397-e2de-e27fce522666"
      },
      "execution_count": null,
      "outputs": [
        {
          "output_type": "execute_result",
          "data": {
            "text/plain": [
              "[('bone', 3.4262489299384916e-05),\n",
              " ('beef bone', 6.591575503591108e-05),\n",
              " ('kale leave', 7.309549723339305e-05),\n",
              " ('chunk', 8.086041287258938e-05),\n",
              " ('soup bone', 0.00023302498216531717)]"
            ]
          },
          "metadata": {},
          "execution_count": 95
        }
      ]
    },
    {
      "cell_type": "code",
      "source": [
        "a,b,c = get_fusion_ingredients('celery', recipe_w2v_25, recipes_pdf['NER'], ingredient_count, 10, 200)"
      ],
      "metadata": {
        "id": "5FnRYOYIr7DJ",
        "colab": {
          "base_uri": "https://localhost:8080/"
        },
        "outputId": "3811cc87-3786-4740-a96b-20c5b2951564"
      },
      "execution_count": 69,
      "outputs": [
        {
          "output_type": "stream",
          "name": "stdout",
          "text": [
            "145.195\n"
          ]
        }
      ]
    },
    {
      "cell_type": "code",
      "source": [
        "a"
      ],
      "metadata": {
        "colab": {
          "base_uri": "https://localhost:8080/"
        },
        "id": "ZDMznPDHroCU",
        "outputId": "998c13c5-c578-4323-85ff-640925bf7a40"
      },
      "execution_count": 70,
      "outputs": [
        {
          "output_type": "execute_result",
          "data": {
            "text/plain": [
              "[('pea', 2.6550650463943598e-08),\n",
              " ('red potatoe', 7.504685987482834e-08),\n",
              " ('pimiento', 8.571710535817896e-08),\n",
              " ('head cabbage', 3.9551559040775317e-07),\n",
              " ('green cabbage', 5.220314260075893e-07)]"
            ]
          },
          "metadata": {},
          "execution_count": 70
        }
      ]
    },
    {
      "cell_type": "code",
      "source": [
        "ingredient_count['kielbasa'], ingredient_count['rutabaga']"
      ],
      "metadata": {
        "colab": {
          "base_uri": "https://localhost:8080/"
        },
        "id": "mWjqaq-prfAQ",
        "outputId": "fc4da176-956b-4f38-bc5f-b9027649581d"
      },
      "execution_count": null,
      "outputs": [
        {
          "output_type": "execute_result",
          "data": {
            "text/plain": [
              "(1680, 356)"
            ]
          },
          "metadata": {},
          "execution_count": 119
        }
      ]
    },
    {
      "cell_type": "code",
      "source": [
        "b['kielbasa'], b['rutabaga']"
      ],
      "metadata": {
        "colab": {
          "base_uri": "https://localhost:8080/"
        },
        "id": "2Gi_5G73rwDk",
        "outputId": "0c0250fa-48c6-4f32-a5a8-e3b8acc1e789"
      },
      "execution_count": null,
      "outputs": [
        {
          "output_type": "execute_result",
          "data": {
            "text/plain": [
              "(204, 33)"
            ]
          },
          "metadata": {},
          "execution_count": 123
        }
      ]
    },
    {
      "cell_type": "code",
      "source": [
        "c"
      ],
      "metadata": {
        "colab": {
          "base_uri": "https://localhost:8080/"
        },
        "id": "pI9JAikmpLwg",
        "outputId": "2e254cf9-0fbe-4b64-86c8-4c6f9c5631d2"
      },
      "execution_count": 67,
      "outputs": [
        {
          "output_type": "execute_result",
          "data": {
            "text/plain": [
              "[('stalks celery', 0.9407098889350891),\n",
              " ('celery stalk', 0.8794925212860107),\n",
              " ('stalk celery', 0.8570525646209717),\n",
              " ('stalks of celery', 0.7485243082046509),\n",
              " ('celery rib', 0.5456163883209229),\n",
              " ('stalk of celery', 0.5421972274780273),\n",
              " ('fresh celery', 0.5250746607780457),\n",
              " ('celery heart', 0.5132310390472412),\n",
              " ('head green cabbage', 0.49086734652519226),\n",
              " ('cabbage', 0.4817184507846832),\n",
              " ('green cabbage', 0.47366559505462646),\n",
              " ('celery root', 0.47208115458488464),\n",
              " ('celery salt', 0.4491557776927948),\n",
              " ('celery top', 0.4421187937259674),\n",
              " ('head of cabbage', 0.43540793657302856),\n",
              " ('sweet pea', 0.4314376711845398),\n",
              " ('head of green cabbage', 0.4291992783546448),\n",
              " ('pea', 0.4287971258163452),\n",
              " ('kielbasa', 0.4215185046195984),\n",
              " ('wild rice', 0.41996079683303833),\n",
              " ('red potato', 0.419281929731369),\n",
              " ('turkey kielbasa', 0.4128633141517639),\n",
              " ('head cabbage', 0.41173380613327026),\n",
              " ('red cabbage', 0.411342978477478),\n",
              " ('rutabaga', 0.4067332148551941),\n",
              " ('turkey', 0.4032738208770752),\n",
              " ('celery seed', 0.4029501974582672),\n",
              " ('new potato', 0.4021405279636383),\n",
              " ('celery flake', 0.4014739990234375),\n",
              " ('fennel bulb', 0.4014275074005127),\n",
              " ('green pea', 0.400781512260437),\n",
              " ('white pearl onion', 0.39849844574928284),\n",
              " ('white turnip', 0.39767083525657654),\n",
              " ('green bean', 0.39547595381736755),\n",
              " ('fresh green bean', 0.3944387435913086),\n",
              " ('parsley sprig', 0.39327389001846313),\n",
              " ('pearl onion', 0.3927529752254486),\n",
              " ('lean bacon', 0.3917961120605469),\n",
              " ('bunches celery', 0.389548122882843),\n",
              " ('curry powder', 0.38649266958236694),\n",
              " ('celeriac', 0.3861910104751587),\n",
              " ('tarragon', 0.3815073072910309),\n",
              " ('kielbasa sausage', 0.38033878803253174),\n",
              " ('new potatoe', 0.37970617413520813),\n",
              " ('white cabbage', 0.37852293252944946),\n",
              " ('pimiento', 0.3751625418663025),\n",
              " ('frozen green pea', 0.3745656907558441),\n",
              " ('chicken', 0.3721849024295807),\n",
              " ('dried lentil', 0.37203264236450195),\n",
              " ('fresh fennel', 0.37079912424087524)]"
            ]
          },
          "metadata": {},
          "execution_count": 67
        }
      ]
    },
    {
      "cell_type": "code",
      "source": [
        "recipes_pdf.loc[(recipes_pdf['NER'].apply(lambda row: 'celery' in row)) & (recipes_pdf['NER'].apply(lambda row: 'kielbasa' in row)), 'title'].value_counts()"
      ],
      "metadata": {
        "colab": {
          "base_uri": "https://localhost:8080/"
        },
        "id": "GjgYoqwZpMSZ",
        "outputId": "9d404ae5-5cc3-492c-a512-7f5ba5c2c5d2"
      },
      "execution_count": 68,
      "outputs": [
        {
          "output_type": "execute_result",
          "data": {
            "text/plain": [
              "Jambalaya                         7\n",
              "Kielbasa Bean Soup                4\n",
              "Bean Soup                         3\n",
              "Kielbasa Soup                     2\n",
              "Sausage Stew                      2\n",
              "                                 ..\n",
              "Oven Baked Split Pea Soup         1\n",
              "Turkey And Sausage Jambalaya      1\n",
              "Kielbasa And Lentil Soup          1\n",
              "Creole Stuffed Shrimp             1\n",
              "Incredible 20 Minute Bean Soup    1\n",
              "Name: title, Length: 184, dtype: int64"
            ]
          },
          "metadata": {},
          "execution_count": 68
        }
      ]
    },
    {
      "cell_type": "markdown",
      "source": [
        "# Save outputs"
      ],
      "metadata": {
        "id": "ahfPoYn1EMHE"
      }
    },
    {
      "cell_type": "markdown",
      "source": [
        "## To drive"
      ],
      "metadata": {
        "id": "8qF7f16UEO-9"
      }
    },
    {
      "cell_type": "code",
      "source": [
        "recipe_w2v_file = 'recipe_w2v.gensim'\n",
        "recipe_w2v.save(folder_loc + recipe_w2v_file)"
      ],
      "metadata": {
        "id": "WfAQsnngENVs"
      },
      "execution_count": 122,
      "outputs": []
    },
    {
      "cell_type": "code",
      "source": [
        "recipe_w2v_file_50 = 'recipe_w2v_50.gensim'\n",
        "recipe_w2v_50.save(folder_loc + recipe_w2v_file_50)"
      ],
      "metadata": {
        "id": "0nny5KtsJOfs"
      },
      "execution_count": 123,
      "outputs": []
    },
    {
      "cell_type": "code",
      "source": [
        "recipe_w2v_file_25 = 'recipe_w2v_25.gensim'\n",
        "recipe_w2v_25.save(folder_loc + recipe_w2v_file_25)"
      ],
      "metadata": {
        "id": "FiGNXyiSKWFB"
      },
      "execution_count": 124,
      "outputs": []
    },
    {
      "cell_type": "code",
      "source": [
        "recipe_w2v_file_16 = 'recipe_w2v_16.gensim'\n",
        "recipe_w2v_16.save(folder_loc + recipe_w2v_file_16)"
      ],
      "metadata": {
        "id": "GPQjlQ3gUEnG"
      },
      "execution_count": 127,
      "outputs": []
    },
    {
      "cell_type": "code",
      "source": [
        "ingredient_file = 'ingredient_count.json'\n",
        "with open(folder_loc + ingredient_file, 'w') as ingredient_stream:\n",
        "  json.dump(ingredient_count, ingredient_stream)"
      ],
      "metadata": {
        "id": "jhTIVNrdFX5u"
      },
      "execution_count": 125,
      "outputs": []
    },
    {
      "cell_type": "code",
      "source": [
        "NER_tsv = 'recipe_NER.tsv'\n",
        "recipes_pdf['NER'].to_csv(folder_loc + NER_tsv, sep='\\t')"
      ],
      "metadata": {
        "colab": {
          "base_uri": "https://localhost:8080/",
          "height": 242
        },
        "id": "madnsrJ4FYt4",
        "outputId": "6ba21b2e-4727-4663-e798-e0dde0742e30"
      },
      "execution_count": 126,
      "outputs": [
        {
          "output_type": "error",
          "ename": "KeyboardInterrupt",
          "evalue": "ignored",
          "traceback": [
            "\u001b[0;31m---------------------------------------------------------------------------\u001b[0m",
            "\u001b[0;31mKeyboardInterrupt\u001b[0m                         Traceback (most recent call last)",
            "\u001b[0;32m<ipython-input-126-38e521472095>\u001b[0m in \u001b[0;36m<module>\u001b[0;34m\u001b[0m\n\u001b[1;32m      1\u001b[0m \u001b[0mNER_tsv\u001b[0m \u001b[0;34m=\u001b[0m \u001b[0;34m'recipe_NER.tsv'\u001b[0m\u001b[0;34m\u001b[0m\u001b[0;34m\u001b[0m\u001b[0m\n\u001b[0;32m----> 2\u001b[0;31m \u001b[0mrecipes_pdf\u001b[0m\u001b[0;34m[\u001b[0m\u001b[0;34m'NER'\u001b[0m\u001b[0;34m]\u001b[0m\u001b[0;34m.\u001b[0m\u001b[0mto_csv\u001b[0m\u001b[0;34m(\u001b[0m\u001b[0mfolder_loc\u001b[0m \u001b[0;34m+\u001b[0m \u001b[0mNER_tsv\u001b[0m\u001b[0;34m,\u001b[0m \u001b[0msep\u001b[0m\u001b[0;34m=\u001b[0m\u001b[0;34m'\\t'\u001b[0m\u001b[0;34m)\u001b[0m\u001b[0;34m\u001b[0m\u001b[0;34m\u001b[0m\u001b[0m\n\u001b[0m",
            "\u001b[0;32m/usr/local/lib/python3.7/dist-packages/pandas/core/generic.py\u001b[0m in \u001b[0;36mto_csv\u001b[0;34m(self, path_or_buf, sep, na_rep, float_format, columns, header, index, index_label, mode, encoding, compression, quoting, quotechar, line_terminator, chunksize, date_format, doublequote, escapechar, decimal, errors, storage_options)\u001b[0m\n\u001b[1;32m   3480\u001b[0m             \u001b[0mdoublequote\u001b[0m\u001b[0;34m=\u001b[0m\u001b[0mdoublequote\u001b[0m\u001b[0;34m,\u001b[0m\u001b[0;34m\u001b[0m\u001b[0;34m\u001b[0m\u001b[0m\n\u001b[1;32m   3481\u001b[0m             \u001b[0mescapechar\u001b[0m\u001b[0;34m=\u001b[0m\u001b[0mescapechar\u001b[0m\u001b[0;34m,\u001b[0m\u001b[0;34m\u001b[0m\u001b[0;34m\u001b[0m\u001b[0m\n\u001b[0;32m-> 3482\u001b[0;31m             \u001b[0mstorage_options\u001b[0m\u001b[0;34m=\u001b[0m\u001b[0mstorage_options\u001b[0m\u001b[0;34m,\u001b[0m\u001b[0;34m\u001b[0m\u001b[0;34m\u001b[0m\u001b[0m\n\u001b[0m\u001b[1;32m   3483\u001b[0m         )\n\u001b[1;32m   3484\u001b[0m \u001b[0;34m\u001b[0m\u001b[0m\n",
            "\u001b[0;32m/usr/local/lib/python3.7/dist-packages/pandas/io/formats/format.py\u001b[0m in \u001b[0;36mto_csv\u001b[0;34m(self, path_or_buf, encoding, sep, columns, index_label, mode, compression, quoting, quotechar, line_terminator, chunksize, date_format, doublequote, escapechar, errors, storage_options)\u001b[0m\n\u001b[1;32m   1103\u001b[0m             \u001b[0mformatter\u001b[0m\u001b[0;34m=\u001b[0m\u001b[0mself\u001b[0m\u001b[0;34m.\u001b[0m\u001b[0mfmt\u001b[0m\u001b[0;34m,\u001b[0m\u001b[0;34m\u001b[0m\u001b[0;34m\u001b[0m\u001b[0m\n\u001b[1;32m   1104\u001b[0m         )\n\u001b[0;32m-> 1105\u001b[0;31m         \u001b[0mcsv_formatter\u001b[0m\u001b[0;34m.\u001b[0m\u001b[0msave\u001b[0m\u001b[0;34m(\u001b[0m\u001b[0;34m)\u001b[0m\u001b[0;34m\u001b[0m\u001b[0;34m\u001b[0m\u001b[0m\n\u001b[0m\u001b[1;32m   1106\u001b[0m \u001b[0;34m\u001b[0m\u001b[0m\n\u001b[1;32m   1107\u001b[0m         \u001b[0;32mif\u001b[0m \u001b[0mcreated_buffer\u001b[0m\u001b[0;34m:\u001b[0m\u001b[0;34m\u001b[0m\u001b[0;34m\u001b[0m\u001b[0m\n",
            "\u001b[0;32m/usr/local/lib/python3.7/dist-packages/pandas/io/formats/csvs.py\u001b[0m in \u001b[0;36msave\u001b[0;34m(self)\u001b[0m\n\u001b[1;32m    255\u001b[0m             )\n\u001b[1;32m    256\u001b[0m \u001b[0;34m\u001b[0m\u001b[0m\n\u001b[0;32m--> 257\u001b[0;31m             \u001b[0mself\u001b[0m\u001b[0;34m.\u001b[0m\u001b[0m_save\u001b[0m\u001b[0;34m(\u001b[0m\u001b[0;34m)\u001b[0m\u001b[0;34m\u001b[0m\u001b[0;34m\u001b[0m\u001b[0m\n\u001b[0m\u001b[1;32m    258\u001b[0m \u001b[0;34m\u001b[0m\u001b[0m\n\u001b[1;32m    259\u001b[0m     \u001b[0;32mdef\u001b[0m \u001b[0m_save\u001b[0m\u001b[0;34m(\u001b[0m\u001b[0mself\u001b[0m\u001b[0;34m)\u001b[0m \u001b[0;34m->\u001b[0m \u001b[0;32mNone\u001b[0m\u001b[0;34m:\u001b[0m\u001b[0;34m\u001b[0m\u001b[0;34m\u001b[0m\u001b[0m\n",
            "\u001b[0;32m/usr/local/lib/python3.7/dist-packages/pandas/io/formats/csvs.py\u001b[0m in \u001b[0;36m_save\u001b[0;34m(self)\u001b[0m\n\u001b[1;32m    260\u001b[0m         \u001b[0;32mif\u001b[0m \u001b[0mself\u001b[0m\u001b[0;34m.\u001b[0m\u001b[0m_need_to_save_header\u001b[0m\u001b[0;34m:\u001b[0m\u001b[0;34m\u001b[0m\u001b[0;34m\u001b[0m\u001b[0m\n\u001b[1;32m    261\u001b[0m             \u001b[0mself\u001b[0m\u001b[0;34m.\u001b[0m\u001b[0m_save_header\u001b[0m\u001b[0;34m(\u001b[0m\u001b[0;34m)\u001b[0m\u001b[0;34m\u001b[0m\u001b[0;34m\u001b[0m\u001b[0m\n\u001b[0;32m--> 262\u001b[0;31m         \u001b[0mself\u001b[0m\u001b[0;34m.\u001b[0m\u001b[0m_save_body\u001b[0m\u001b[0;34m(\u001b[0m\u001b[0;34m)\u001b[0m\u001b[0;34m\u001b[0m\u001b[0;34m\u001b[0m\u001b[0m\n\u001b[0m\u001b[1;32m    263\u001b[0m \u001b[0;34m\u001b[0m\u001b[0m\n\u001b[1;32m    264\u001b[0m     \u001b[0;32mdef\u001b[0m \u001b[0m_save_header\u001b[0m\u001b[0;34m(\u001b[0m\u001b[0mself\u001b[0m\u001b[0;34m)\u001b[0m \u001b[0;34m->\u001b[0m \u001b[0;32mNone\u001b[0m\u001b[0;34m:\u001b[0m\u001b[0;34m\u001b[0m\u001b[0;34m\u001b[0m\u001b[0m\n",
            "\u001b[0;32m/usr/local/lib/python3.7/dist-packages/pandas/io/formats/csvs.py\u001b[0m in \u001b[0;36m_save_body\u001b[0;34m(self)\u001b[0m\n\u001b[1;32m    298\u001b[0m             \u001b[0;32mif\u001b[0m \u001b[0mstart_i\u001b[0m \u001b[0;34m>=\u001b[0m \u001b[0mend_i\u001b[0m\u001b[0;34m:\u001b[0m\u001b[0;34m\u001b[0m\u001b[0;34m\u001b[0m\u001b[0m\n\u001b[1;32m    299\u001b[0m                 \u001b[0;32mbreak\u001b[0m\u001b[0;34m\u001b[0m\u001b[0;34m\u001b[0m\u001b[0m\n\u001b[0;32m--> 300\u001b[0;31m             \u001b[0mself\u001b[0m\u001b[0;34m.\u001b[0m\u001b[0m_save_chunk\u001b[0m\u001b[0;34m(\u001b[0m\u001b[0mstart_i\u001b[0m\u001b[0;34m,\u001b[0m \u001b[0mend_i\u001b[0m\u001b[0;34m)\u001b[0m\u001b[0;34m\u001b[0m\u001b[0;34m\u001b[0m\u001b[0m\n\u001b[0m\u001b[1;32m    301\u001b[0m \u001b[0;34m\u001b[0m\u001b[0m\n\u001b[1;32m    302\u001b[0m     \u001b[0;32mdef\u001b[0m \u001b[0m_save_chunk\u001b[0m\u001b[0;34m(\u001b[0m\u001b[0mself\u001b[0m\u001b[0;34m,\u001b[0m \u001b[0mstart_i\u001b[0m\u001b[0;34m:\u001b[0m \u001b[0mint\u001b[0m\u001b[0;34m,\u001b[0m \u001b[0mend_i\u001b[0m\u001b[0;34m:\u001b[0m \u001b[0mint\u001b[0m\u001b[0;34m)\u001b[0m \u001b[0;34m->\u001b[0m \u001b[0;32mNone\u001b[0m\u001b[0;34m:\u001b[0m\u001b[0;34m\u001b[0m\u001b[0;34m\u001b[0m\u001b[0m\n",
            "\u001b[0;32m/usr/local/lib/python3.7/dist-packages/pandas/io/formats/csvs.py\u001b[0m in \u001b[0;36m_save_chunk\u001b[0;34m(self, start_i, end_i)\u001b[0m\n\u001b[1;32m    314\u001b[0m             \u001b[0mself\u001b[0m\u001b[0;34m.\u001b[0m\u001b[0mnlevels\u001b[0m\u001b[0;34m,\u001b[0m\u001b[0;34m\u001b[0m\u001b[0;34m\u001b[0m\u001b[0m\n\u001b[1;32m    315\u001b[0m             \u001b[0mself\u001b[0m\u001b[0;34m.\u001b[0m\u001b[0mcols\u001b[0m\u001b[0;34m,\u001b[0m\u001b[0;34m\u001b[0m\u001b[0;34m\u001b[0m\u001b[0m\n\u001b[0;32m--> 316\u001b[0;31m             \u001b[0mself\u001b[0m\u001b[0;34m.\u001b[0m\u001b[0mwriter\u001b[0m\u001b[0;34m,\u001b[0m\u001b[0;34m\u001b[0m\u001b[0;34m\u001b[0m\u001b[0m\n\u001b[0m\u001b[1;32m    317\u001b[0m         )\n",
            "\u001b[0;32m/usr/local/lib/python3.7/dist-packages/pandas/_libs/writers.pyx\u001b[0m in \u001b[0;36mpandas._libs.writers.write_csv_rows\u001b[0;34m()\u001b[0m\n",
            "\u001b[0;31mKeyboardInterrupt\u001b[0m: "
          ]
        }
      ]
    },
    {
      "cell_type": "markdown",
      "source": [
        "## To huggingface"
      ],
      "metadata": {
        "id": "FO6f-4GXEP6P"
      }
    },
    {
      "cell_type": "code",
      "source": [
        "from huggingface_hub import HfApi\n",
        "api = HfApi()"
      ],
      "metadata": {
        "id": "TNzDQQPWFIRX"
      },
      "execution_count": null,
      "outputs": []
    },
    {
      "cell_type": "code",
      "source": [
        "api.upload_file(\n",
        "    path_or_fileobj=folder_loc + recipe_w2v_file,\n",
        "    path_in_repo=recipe_w2v_file,\n",
        "    repo_id=\"map222/recipe-spice\",\n",
        "    repo_type=\"space\",\n",
        ")"
      ],
      "metadata": {
        "id": "gDuQJ58Qpvrl"
      },
      "execution_count": null,
      "outputs": []
    },
    {
      "cell_type": "code",
      "source": [
        "api.upload_file(\n",
        "    path_or_fileobj=folder_loc + ingredient_file,\n",
        "    path_in_repo=ingredient_file,\n",
        "    repo_id=\"map222/recipe-spice\",\n",
        "    repo_type=\"space\",\n",
        ")"
      ],
      "metadata": {
        "id": "fAyldi__Gaav"
      },
      "execution_count": null,
      "outputs": []
    },
    {
      "cell_type": "code",
      "source": [
        "api.upload_file(\n",
        "    path_or_fileobj=folder_loc + NER_tsv,\n",
        "    path_in_repo=NER_tsv,\n",
        "    repo_id=\"map222/recipe-spice\",\n",
        "    repo_type=\"space\",\n",
        ")"
      ],
      "metadata": {
        "id": "M3sgpPxbGtuj"
      },
      "execution_count": null,
      "outputs": []
    },
    {
      "cell_type": "code",
      "source": [],
      "metadata": {
        "id": "0SGr4qJTGzct"
      },
      "execution_count": null,
      "outputs": []
    },
    {
      "cell_type": "markdown",
      "source": [
        "# Some cleaning that seems too finnicky"
      ],
      "metadata": {
        "id": "PFOaGcUpSjjR"
      }
    },
    {
      "cell_type": "code",
      "source": [
        "def get_w2v_duplicate_map(ingredient_embedding, ingredient_count_local):\n",
        "  top_ingredients = list(zip(*ingredient_count_local.most_common(100)))[0]\n",
        "  ingredient_map = {}\n",
        "  for top_ingredient in top_ingredients:\n",
        "    similar_ingredients = list(zip(*ingredient_embedding.most_similar(top_ingredient, topn=20)))[0]\n",
        "    ingredient_map[top_ingredient] = [ingredient for ingredient in similar_ingredients if top_ingredient in ingredient.split(' ')]\n",
        "  return ingredient_map"
      ],
      "metadata": {
        "id": "wVomSNkCQ4ig"
      },
      "execution_count": 95,
      "outputs": []
    },
    {
      "cell_type": "code",
      "source": [
        "test = get_w2v_duplicate_map(recipe_w2v_16, ingredient_count)"
      ],
      "metadata": {
        "id": "IdG-VY8bR9Hs"
      },
      "execution_count": 96,
      "outputs": []
    },
    {
      "cell_type": "code",
      "source": [
        "test"
      ],
      "metadata": {
        "colab": {
          "base_uri": "https://localhost:8080/"
        },
        "id": "yEBpuelfSE_X",
        "outputId": "c7a19ff7-2d49-4e12-e5a6-67c163437db8"
      },
      "execution_count": 101,
      "outputs": [
        {
          "output_type": "execute_result",
          "data": {
            "text/plain": [
              "{'salt': ['coarse salt', 'kosher salt'],\n",
              " 'sugar': ['white sugar',\n",
              "  'granulated sugar',\n",
              "  'cane sugar',\n",
              "  't sugar',\n",
              "  'demerara sugar',\n",
              "  'light brown sugar',\n",
              "  'turbinado sugar',\n",
              "  'brown sugar',\n",
              "  'powdered sugar',\n",
              "  'weight sugar',\n",
              "  'sugar substitute'],\n",
              " 'egg': ['egg white', 'egg substitute'],\n",
              " 'butter': ['unsalted butter', 'sweet butter', 'cold butter'],\n",
              " 'onion': ['yellow onion', 'spanish onion', 'cooking onion', 'white onion'],\n",
              " 'flour': ['all-purpose flour', 'white flour'],\n",
              " 'garlic': ['clove garlic', 'fresh garlic', 'cloves garlic', 'garlic smashed'],\n",
              " 'water': ['hot water',\n",
              "  'boiling water',\n",
              "  'cold water',\n",
              "  'water boiling',\n",
              "  'water cold'],\n",
              " 'milk': ['low-fat milk', 'hot milk', 'sweet milk', 'warm milk'],\n",
              " 'vanilla': ['vanilla extract'],\n",
              " 'olive oil': [],\n",
              " 'pepper': ['black pepper',\n",
              "  'ground black pepper',\n",
              "  'ground pepper',\n",
              "  'black ground pepper',\n",
              "  'fresh ground pepper',\n",
              "  'lemon pepper',\n",
              "  'freshly grnd pepper',\n",
              "  'freshly grnd black pepper'],\n",
              " 'tomatoe': ['fresh tomatoe', 'roma tomatoe', 'fire roasted tomatoe'],\n",
              " 'brown sugar': [],\n",
              " 'lemon juice': [],\n",
              " 'baking powder': [],\n",
              " 'carrot': ['baby carrot', 'fresh carrot'],\n",
              " 'cinnamon': ['ground cinnamon', 'powdered cinnamon', 'cinnamon ground'],\n",
              " 'celery': ['stalks celery',\n",
              "  'stalk celery',\n",
              "  'celery stalk',\n",
              "  'stalks of celery'],\n",
              " 'chicken': ['chicken breast',\n",
              "  'chicken thigh',\n",
              "  'roasting chicken',\n",
              "  'chicken broth',\n",
              "  'whole chicken',\n",
              "  'chicken piece',\n",
              "  'chicken breast halve',\n",
              "  'chicken quarter',\n",
              "  'chicken meat',\n",
              "  'chicken stock',\n",
              "  'boneless chicken',\n",
              "  'fryer chicken',\n",
              "  'vegetable or chicken'],\n",
              " 'sour cream': [],\n",
              " 'parsley': ['fresh parsley',\n",
              "  'flat leaf parsley',\n",
              "  'parsley sprig',\n",
              "  'italian parsley',\n",
              "  'fresh chopped parsley'],\n",
              " 'baking soda': [],\n",
              " 'cream cheese': [],\n",
              " 'cheddar cheese': [],\n",
              " 'vegetable oil': [],\n",
              " 'margarine': ['corn oil margarine', 'light margarine'],\n",
              " 'parmesan cheese': [],\n",
              " 'mayonnaise': ['light mayonnaise',\n",
              "  'low-fat mayonnaise',\n",
              "  'olive oil mayonnaise',\n",
              "  'nonfat mayonnaise',\n",
              "  'canola mayonnaise',\n",
              "  'regular mayonnaise',\n",
              "  'soy mayonnaise'],\n",
              " 'green onion': [],\n",
              " 'kosher salt': [],\n",
              " 'oil': ['cooking oil',\n",
              "  'salad oil',\n",
              "  'corn oil',\n",
              "  'vegetable oil',\n",
              "  'wesson oil',\n",
              "  'crisco oil',\n",
              "  'sunflower oil',\n",
              "  'veg oil',\n",
              "  'hot oil',\n",
              "  'safflower oil',\n",
              "  'canola oil',\n",
              "  'of oil',\n",
              "  'peanut oil',\n",
              "  'coconut oil',\n",
              "  'light olive oil'],\n",
              " 'soy sauce': [],\n",
              " 'black pepper': [],\n",
              " 'potatoe': ['white potatoe',\n",
              "  'new potatoe',\n",
              "  'red potatoe',\n",
              "  'boiling potatoe',\n",
              "  'russet potatoe',\n",
              "  'baking potatoe'],\n",
              " 'honey': ['liquid honey', 'clear honey', 'runny honey'],\n",
              " 'thyme': ['dried leaf thyme', 'fresh thyme', 'ground thyme'],\n",
              " 'pecan': ['pecan halve', 'pecan piece', 'ground pecan'],\n",
              " 'mushroom': ['fresh mushroom',\n",
              "  'button mushroom',\n",
              "  'mixed mushroom',\n",
              "  'weight mushroom',\n",
              "  'fresh button mushroom',\n",
              "  'brown mushroom',\n",
              "  'mushroom cap',\n",
              "  'white mushroom',\n",
              "  'baby portabella mushroom',\n",
              "  'bella mushroom',\n",
              "  'fresh white mushroom',\n",
              "  'baby portobello mushroom',\n",
              "  'white button mushroom',\n",
              "  'mushroom stem'],\n",
              " 'green pepper': [],\n",
              " 'lemon': ['lemon juiced',\n",
              "  'lemon juice',\n",
              "  'lemon juice fresh',\n",
              "  'freshly squeezed lemon juice',\n",
              "  'fresh squeezed lemon juice',\n",
              "  'lemon zest',\n",
              "  'lemon juice freshly squeezed',\n",
              "  'fresh lemon',\n",
              "  'lemon peel',\n",
              "  'lemon thyme',\n",
              "  'lemon slice',\n",
              "  'lemon wedge',\n",
              "  'preserved lemon',\n",
              "  'lemon rind'],\n",
              " 'chicken broth': [],\n",
              " 'oregano': ['oregano dried',\n",
              "  'ground oregano',\n",
              "  'oregano flake',\n",
              "  'oregano ground',\n",
              "  'leaf oregano',\n",
              "  'fresh oregano'],\n",
              " 'bacon': ['bacon strip', 'lean bacon', 'bacon fat'],\n",
              " 'red pepper': [],\n",
              " 'unsalted butter': [],\n",
              " 'mustard': ['dijon mustard',\n",
              "  'brown mustard',\n",
              "  'whole grain mustard',\n",
              "  'dry mustard',\n",
              "  'grain mustard',\n",
              "  'stone-ground mustard',\n",
              "  'grainy mustard',\n",
              "  'stone ground mustard',\n",
              "  'whole-grain mustard',\n",
              "  'ground mustard',\n",
              "  'hot mustard',\n",
              "  'yellow mustard',\n",
              "  'prepared mustard',\n",
              "  'powdered mustard'],\n",
              " 'ground beef': [],\n",
              " 'worcestershire sauce': [],\n",
              " 'nut': ['nut meat'],\n",
              " 'pineapple': ['pineapple tidbit',\n",
              "  'pineapple chunk',\n",
              "  'pineapple bit',\n",
              "  'fresh pineapple',\n",
              "  'pineapple ring'],\n",
              " 'paprika': ['sweet paprika', 'ground paprika', 'hot paprika'],\n",
              " 'cornstarch': ['cornstarch mixed'],\n",
              " 'chicken breast': [],\n",
              " 'ground cinnamon': [],\n",
              " 'red onion': [],\n",
              " 'vinegar': ['white vinegar',\n",
              "  'cider vinegar',\n",
              "  'malt vinegar',\n",
              "  'apple vinegar',\n",
              "  'red vinegar',\n",
              "  'wine vinegar',\n",
              "  'distilled vinegar',\n",
              "  'apple cider vinegar',\n",
              "  'brown vinegar',\n",
              "  'distilled white vinegar',\n",
              "  'dark vinegar',\n",
              "  'white wine vinegar',\n",
              "  'white distilled vinegar',\n",
              "  'red wine vinegar',\n",
              "  'tarragon vinegar',\n",
              "  'vinegar white',\n",
              "  'pickling vinegar',\n",
              "  'salad vinegar'],\n",
              " 'basil': ['sweet basil',\n",
              "  'dried basil',\n",
              "  'leaf basil',\n",
              "  'dried leaf basil',\n",
              "  'fresh basil'],\n",
              " 'nutmeg': ['ground nutmeg', 'nutmeg ground', 'grated nutmeg'],\n",
              " 'powdered sugar': [],\n",
              " 'walnut': ['walnut piece', 'walnut halve', 'black walnut'],\n",
              " 'rice': ['white rice',\n",
              "  'long grain rice',\n",
              "  'regular rice',\n",
              "  'instant rice',\n",
              "  \"uncle ben's rice\",\n",
              "  'long grain white rice',\n",
              "  'cold cooked rice',\n",
              "  'cooking rice',\n",
              "  'grain rice',\n",
              "  'steamed rice',\n",
              "  'hot rice',\n",
              "  'long-grain rice',\n",
              "  'jasmine rice',\n",
              "  'grain white rice'],\n",
              " 'heavy cream': [],\n",
              " 'chili powder': [],\n",
              " 'clove garlic': [],\n",
              " 'egg yolk': [],\n",
              " 'cheese': ['cheddar cheese',\n",
              "  'shredded monterey jack cheese',\n",
              "  'shredded white cheddar cheese',\n",
              "  'shredded sharp cheddar cheese',\n",
              "  'colby cheese',\n",
              "  'pepper cheese',\n",
              "  'jack cheese',\n",
              "  'shredded cheese',\n",
              "  'gouda cheese',\n",
              "  'muenster cheese',\n",
              "  'mozzarella cheese'],\n",
              " 'raisin': ['dark raisin',\n",
              "  'seeded raisin',\n",
              "  'seedless raisin',\n",
              "  'golden raisin',\n",
              "  'white raisin',\n",
              "  'yellow raisin',\n",
              "  'light raisin'],\n",
              " 'apple': ['tart apple',\n",
              "  'granny smith apple',\n",
              "  'golden delicious apple',\n",
              "  'cooking apple',\n",
              "  'sweet apple',\n",
              "  'green apple',\n",
              "  'gala apple',\n",
              "  'braeburn apple',\n",
              "  'fuji apple',\n",
              "  'apple juice',\n",
              "  'apple -'],\n",
              " 'all-purpose': ['all-purpose flour'],\n",
              " 'ginger': ['ginger root',\n",
              "  'fresh ginger',\n",
              "  'ginger powder',\n",
              "  'fresh ginger root',\n",
              "  'powdered ginger',\n",
              "  'freshly grated ginger',\n",
              "  'grated ginger',\n",
              "  'ginger grated',\n",
              "  'ginger fresh',\n",
              "  'ginger freshly'],\n",
              " 'almond': ['blanched slivered almond',\n",
              "  'slivered almond',\n",
              "  'blanched almond',\n",
              "  'toasted almond',\n",
              "  'almond sliver',\n",
              "  'natural almond'],\n",
              " 'white wine': [],\n",
              " 'tomato sauce': [],\n",
              " '¼': [],\n",
              " 'mozzarella cheese': [],\n",
              " 'white sugar': [],\n",
              " 'orange juice': [],\n",
              " 'buttermilk': ['low-fat buttermilk', 'nonfat buttermilk'],\n",
              " 'banana': ['very ripe banana',\n",
              "  'mashed banana',\n",
              "  'overripe banana',\n",
              "  'mashed ripe banana'],\n",
              " 'bread': ['white bread',\n",
              "  'italian bread',\n",
              "  'whole wheat bread',\n",
              "  'rye bread',\n",
              "  'bread cube',\n",
              "  'bread crumb',\n",
              "  'white sandwich bread'],\n",
              " 'lime juice': [],\n",
              " 'shallot': [],\n",
              " 'cayenne pepper': [],\n",
              " 'shortening': ['vegetable shortening',\n",
              "  'shortening for',\n",
              "  'solid shortening',\n",
              "  'soft shortening',\n",
              "  'liquid shortening'],\n",
              " 'zucchini': ['green zucchini'],\n",
              " 'cilantro': ['cilantro leaf',\n",
              "  'fresh cilantro',\n",
              "  'handful cilantro',\n",
              "  'cilantro sprig',\n",
              "  'cilantro stem',\n",
              "  'bunches cilantro',\n",
              "  'handful fresh cilantro',\n",
              "  'cilantro freshly',\n",
              "  'handful of fresh cilantro'],\n",
              " 'shrimp': ['fresh shrimp', 'jumbo shrimp', 'peeled shrimp', 'frozen shrimp'],\n",
              " 'ground cumin': [],\n",
              " 'bread crumb': [],\n",
              " 'egg white': [],\n",
              " 'extra-virgin olive oil': [],\n",
              " 'tomato': ['fresh tomato', 'roma tomato', 'tomato wedge'],\n",
              " 'coconut': ['shredded coconut',\n",
              "  'grated coconut',\n",
              "  'flaked coconut',\n",
              "  'coconut flake',\n",
              "  'unsweetened coconut',\n",
              "  'coconut shredded',\n",
              "  'toasted coconut flake',\n",
              "  'coconut extract',\n",
              "  'coconut chip',\n",
              "  'unsweetened coconut flake',\n",
              "  'flake coconut',\n",
              "  'fresh coconut',\n",
              "  'coconut flaked'],\n",
              " 'cocoa': ['cocoa powder',\n",
              "  'baking cocoa',\n",
              "  'unsweetened cocoa',\n",
              "  'natural cocoa',\n",
              "  'dark cocoa',\n",
              "  'chocolate cocoa'],\n",
              " 'ground black pepper': [],\n",
              " 'chocolate chip': [],\n",
              " 'canola oil': [],\n",
              " 'extra virgin olive oil': [],\n",
              " 'red bell pepper': []}"
            ]
          },
          "metadata": {},
          "execution_count": 101
        }
      ]
    }
  ]
}