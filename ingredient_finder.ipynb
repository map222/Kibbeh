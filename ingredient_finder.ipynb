{
  "nbformat": 4,
  "nbformat_minor": 0,
  "metadata": {
    "colab": {
      "provenance": [],
      "collapsed_sections": [],
      "include_colab_link": true
    },
    "kernelspec": {
      "name": "python3",
      "display_name": "Python 3"
    }
  },
  "cells": [
    {
      "cell_type": "markdown",
      "metadata": {
        "id": "view-in-github",
        "colab_type": "text"
      },
      "source": [
        "<a href=\"https://colab.research.google.com/github/map222/Kibbeh/blob/master/ingredient_finder.ipynb\" target=\"_parent\"><img src=\"https://colab.research.google.com/assets/colab-badge.svg\" alt=\"Open In Colab\"/></a>"
      ]
    },
    {
      "cell_type": "markdown",
      "metadata": {
        "id": "EHbiJCs7QAr_"
      },
      "source": [
        "# Ingredient recommender\n",
        "\n"
      ]
    },
    {
      "cell_type": "markdown",
      "metadata": {
        "id": "Ia_5KpAyw-mS"
      },
      "source": [
        "## Setup:\n"
      ]
    },
    {
      "cell_type": "markdown",
      "source": [
        "### Google drive\n",
        "First, mount files from Google drive (to copy the file to your share folder, click [this link](https://drive.google.com/drive/folders/1fh5C0Wlda0QMzBXqOj6znhS8SlsCZm9O?usp=sharing)):"
      ],
      "metadata": {
        "id": "3JyKTcF3N9Is"
      }
    },
    {
      "cell_type": "code",
      "metadata": {
        "id": "yvbKPK8EcHTc",
        "outputId": "4231a443-121b-4fea-c6ee-ccd5597d8098",
        "colab": {
          "base_uri": "https://localhost:8080/"
        }
      },
      "source": [
        "from google.colab import drive\n",
        "drive.mount('/content/gdrive')"
      ],
      "execution_count": null,
      "outputs": [
        {
          "output_type": "stream",
          "name": "stdout",
          "text": [
            "Mounted at /content/gdrive\n"
          ]
        }
      ]
    },
    {
      "cell_type": "code",
      "metadata": {
        "id": "WPnJGsVm8bsz"
      },
      "source": [
        "folder_loc = r'/content/gdrive/My Drive/Colab Notebooks/data/recipes/'"
      ],
      "execution_count": null,
      "outputs": []
    },
    {
      "cell_type": "markdown",
      "source": [
        "### Hugging Face"
      ],
      "metadata": {
        "id": "Kale8cKwODL6"
      }
    },
    {
      "cell_type": "code",
      "source": [
        "from huggingface_hub import notebook_login\n",
        "notebook_login()"
      ],
      "metadata": {
        "colab": {
          "base_uri": "https://localhost:8080/",
          "height": 322
        },
        "id": "Z71Sy3vdOEYD",
        "outputId": "9ae5bbbe-4f3f-4f82-8e35-8d5e1a8bda0b"
      },
      "execution_count": 2,
      "outputs": [
        {
          "output_type": "error",
          "ename": "ModuleNotFoundError",
          "evalue": "ignored",
          "traceback": [
            "\u001b[0;31m---------------------------------------------------------------------------\u001b[0m",
            "\u001b[0;31mModuleNotFoundError\u001b[0m                       Traceback (most recent call last)",
            "\u001b[0;32m<ipython-input-2-8d90e1ab2248>\u001b[0m in \u001b[0;36m<module>\u001b[0;34m\u001b[0m\n\u001b[0;32m----> 1\u001b[0;31m \u001b[0;32mfrom\u001b[0m \u001b[0mhuggingface_hub\u001b[0m \u001b[0;32mimport\u001b[0m \u001b[0mnotebook_login\u001b[0m\u001b[0;34m\u001b[0m\u001b[0;34m\u001b[0m\u001b[0m\n\u001b[0m\u001b[1;32m      2\u001b[0m \u001b[0mnotebook_login\u001b[0m\u001b[0;34m(\u001b[0m\u001b[0;34m)\u001b[0m\u001b[0;34m\u001b[0m\u001b[0;34m\u001b[0m\u001b[0m\n",
            "\u001b[0;31mModuleNotFoundError\u001b[0m: No module named 'huggingface_hub'",
            "",
            "\u001b[0;31m---------------------------------------------------------------------------\u001b[0;32m\nNOTE: If your import is failing due to a missing package, you can\nmanually install dependencies using either !pip or !apt.\n\nTo view examples of installing some common dependencies, click the\n\"Open Examples\" button below.\n\u001b[0;31m---------------------------------------------------------------------------\u001b[0m\n"
          ],
          "errorDetails": {
            "actions": [
              {
                "action": "open_url",
                "actionText": "Open Examples",
                "url": "/notebooks/snippets/importing_libraries.ipynb"
              }
            ]
          }
        }
      ]
    },
    {
      "cell_type": "markdown",
      "metadata": {
        "id": "jQ3-HTchbp2d"
      },
      "source": [
        "### Imports"
      ]
    },
    {
      "cell_type": "code",
      "metadata": {
        "id": "5ZJ136Hzi9fG"
      },
      "source": [
        "import pandas as pd\n",
        "import numpy as np\n",
        "from gensim.models import KeyedVectors, Word2Vec\n",
        "import warnings\n",
        "warnings.filterwarnings('ignore')\n",
        "from collections import defaultdict, Counter"
      ],
      "execution_count": null,
      "outputs": []
    },
    {
      "cell_type": "code",
      "metadata": {
        "id": "gpF3-bncBIwn"
      },
      "source": [
        "import matplotlib\n",
        "import matplotlib.pyplot as plt\n",
        "import seaborn as sns\n",
        "%matplotlib inline\n",
        "from ast import literal_eval\n",
        "fs = 22\n",
        "font = {'family' : 'normal',\n",
        "        'weight' : 'normal',\n",
        "        'size'   : fs}\n",
        "\n",
        "matplotlib.rc('font', **font)\n",
        "plt.rc('xtick', labelsize=fs-6)\n",
        "plt.rc('ytick', labelsize=fs-6)"
      ],
      "execution_count": null,
      "outputs": []
    },
    {
      "cell_type": "markdown",
      "source": [
        "## Load recipes"
      ],
      "metadata": {
        "id": "uiJE1D_oiRRE"
      }
    },
    {
      "cell_type": "code",
      "source": [
        "test = pd.read_csv(folder_loc + 'RecipeNLG_dataset.csv', nrows = 5, sep = ',', index_col = 0)"
      ],
      "metadata": {
        "id": "PSTe0S4ugJxt"
      },
      "execution_count": null,
      "outputs": []
    },
    {
      "cell_type": "code",
      "source": [
        "test.head()"
      ],
      "metadata": {
        "colab": {
          "base_uri": "https://localhost:8080/",
          "height": 337
        },
        "id": "PX3lvfYSgYsB",
        "outputId": "c070553a-8738-4246-f70c-33d5ce6e62af"
      },
      "execution_count": null,
      "outputs": [
        {
          "output_type": "execute_result",
          "data": {
            "text/plain": [
              "                   title                                        ingredients  \\\n",
              "0    No-Bake Nut Cookies  [\"1 c. firmly packed brown sugar\", \"1/2 c. eva...   \n",
              "1  Jewell Ball'S Chicken  [\"1 small jar chipped beef, cut up\", \"4 boned ...   \n",
              "2            Creamy Corn  [\"2 (16 oz.) pkg. frozen corn\", \"1 (8 oz.) pkg...   \n",
              "3          Chicken Funny  [\"1 large whole chicken\", \"2 (10 1/2 oz.) cans...   \n",
              "4   Reeses Cups(Candy)    [\"1 c. peanut butter\", \"3/4 c. graham cracker ...   \n",
              "\n",
              "                                          directions  \\\n",
              "0  [\"In a heavy 2-quart saucepan, mix brown sugar...   \n",
              "1  [\"Place chipped beef on bottom of baking dish....   \n",
              "2  [\"In a slow cooker, combine all ingredients. C...   \n",
              "3  [\"Boil and debone chicken.\", \"Put bite size pi...   \n",
              "4  [\"Combine first four ingredients and press in ...   \n",
              "\n",
              "                                              link    source  \\\n",
              "0   www.cookbooks.com/Recipe-Details.aspx?id=44874  Gathered   \n",
              "1  www.cookbooks.com/Recipe-Details.aspx?id=699419  Gathered   \n",
              "2   www.cookbooks.com/Recipe-Details.aspx?id=10570  Gathered   \n",
              "3  www.cookbooks.com/Recipe-Details.aspx?id=897570  Gathered   \n",
              "4  www.cookbooks.com/Recipe-Details.aspx?id=659239  Gathered   \n",
              "\n",
              "                                                 NER  \n",
              "0  [\"brown sugar\", \"milk\", \"vanilla\", \"nuts\", \"bu...  \n",
              "1  [\"beef\", \"chicken breasts\", \"cream of mushroom...  \n",
              "2  [\"frozen corn\", \"cream cheese\", \"butter\", \"gar...  \n",
              "3  [\"chicken\", \"chicken gravy\", \"cream of mushroo...  \n",
              "4  [\"peanut butter\", \"graham cracker crumbs\", \"bu...  "
            ],
            "text/html": [
              "\n",
              "  <div id=\"df-e423e799-f0df-4687-baf2-e4e738a856f2\">\n",
              "    <div class=\"colab-df-container\">\n",
              "      <div>\n",
              "<style scoped>\n",
              "    .dataframe tbody tr th:only-of-type {\n",
              "        vertical-align: middle;\n",
              "    }\n",
              "\n",
              "    .dataframe tbody tr th {\n",
              "        vertical-align: top;\n",
              "    }\n",
              "\n",
              "    .dataframe thead th {\n",
              "        text-align: right;\n",
              "    }\n",
              "</style>\n",
              "<table border=\"1\" class=\"dataframe\">\n",
              "  <thead>\n",
              "    <tr style=\"text-align: right;\">\n",
              "      <th></th>\n",
              "      <th>title</th>\n",
              "      <th>ingredients</th>\n",
              "      <th>directions</th>\n",
              "      <th>link</th>\n",
              "      <th>source</th>\n",
              "      <th>NER</th>\n",
              "    </tr>\n",
              "  </thead>\n",
              "  <tbody>\n",
              "    <tr>\n",
              "      <th>0</th>\n",
              "      <td>No-Bake Nut Cookies</td>\n",
              "      <td>[\"1 c. firmly packed brown sugar\", \"1/2 c. eva...</td>\n",
              "      <td>[\"In a heavy 2-quart saucepan, mix brown sugar...</td>\n",
              "      <td>www.cookbooks.com/Recipe-Details.aspx?id=44874</td>\n",
              "      <td>Gathered</td>\n",
              "      <td>[\"brown sugar\", \"milk\", \"vanilla\", \"nuts\", \"bu...</td>\n",
              "    </tr>\n",
              "    <tr>\n",
              "      <th>1</th>\n",
              "      <td>Jewell Ball'S Chicken</td>\n",
              "      <td>[\"1 small jar chipped beef, cut up\", \"4 boned ...</td>\n",
              "      <td>[\"Place chipped beef on bottom of baking dish....</td>\n",
              "      <td>www.cookbooks.com/Recipe-Details.aspx?id=699419</td>\n",
              "      <td>Gathered</td>\n",
              "      <td>[\"beef\", \"chicken breasts\", \"cream of mushroom...</td>\n",
              "    </tr>\n",
              "    <tr>\n",
              "      <th>2</th>\n",
              "      <td>Creamy Corn</td>\n",
              "      <td>[\"2 (16 oz.) pkg. frozen corn\", \"1 (8 oz.) pkg...</td>\n",
              "      <td>[\"In a slow cooker, combine all ingredients. C...</td>\n",
              "      <td>www.cookbooks.com/Recipe-Details.aspx?id=10570</td>\n",
              "      <td>Gathered</td>\n",
              "      <td>[\"frozen corn\", \"cream cheese\", \"butter\", \"gar...</td>\n",
              "    </tr>\n",
              "    <tr>\n",
              "      <th>3</th>\n",
              "      <td>Chicken Funny</td>\n",
              "      <td>[\"1 large whole chicken\", \"2 (10 1/2 oz.) cans...</td>\n",
              "      <td>[\"Boil and debone chicken.\", \"Put bite size pi...</td>\n",
              "      <td>www.cookbooks.com/Recipe-Details.aspx?id=897570</td>\n",
              "      <td>Gathered</td>\n",
              "      <td>[\"chicken\", \"chicken gravy\", \"cream of mushroo...</td>\n",
              "    </tr>\n",
              "    <tr>\n",
              "      <th>4</th>\n",
              "      <td>Reeses Cups(Candy)</td>\n",
              "      <td>[\"1 c. peanut butter\", \"3/4 c. graham cracker ...</td>\n",
              "      <td>[\"Combine first four ingredients and press in ...</td>\n",
              "      <td>www.cookbooks.com/Recipe-Details.aspx?id=659239</td>\n",
              "      <td>Gathered</td>\n",
              "      <td>[\"peanut butter\", \"graham cracker crumbs\", \"bu...</td>\n",
              "    </tr>\n",
              "  </tbody>\n",
              "</table>\n",
              "</div>\n",
              "      <button class=\"colab-df-convert\" onclick=\"convertToInteractive('df-e423e799-f0df-4687-baf2-e4e738a856f2')\"\n",
              "              title=\"Convert this dataframe to an interactive table.\"\n",
              "              style=\"display:none;\">\n",
              "        \n",
              "  <svg xmlns=\"http://www.w3.org/2000/svg\" height=\"24px\"viewBox=\"0 0 24 24\"\n",
              "       width=\"24px\">\n",
              "    <path d=\"M0 0h24v24H0V0z\" fill=\"none\"/>\n",
              "    <path d=\"M18.56 5.44l.94 2.06.94-2.06 2.06-.94-2.06-.94-.94-2.06-.94 2.06-2.06.94zm-11 1L8.5 8.5l.94-2.06 2.06-.94-2.06-.94L8.5 2.5l-.94 2.06-2.06.94zm10 10l.94 2.06.94-2.06 2.06-.94-2.06-.94-.94-2.06-.94 2.06-2.06.94z\"/><path d=\"M17.41 7.96l-1.37-1.37c-.4-.4-.92-.59-1.43-.59-.52 0-1.04.2-1.43.59L10.3 9.45l-7.72 7.72c-.78.78-.78 2.05 0 2.83L4 21.41c.39.39.9.59 1.41.59.51 0 1.02-.2 1.41-.59l7.78-7.78 2.81-2.81c.8-.78.8-2.07 0-2.86zM5.41 20L4 18.59l7.72-7.72 1.47 1.35L5.41 20z\"/>\n",
              "  </svg>\n",
              "      </button>\n",
              "      \n",
              "  <style>\n",
              "    .colab-df-container {\n",
              "      display:flex;\n",
              "      flex-wrap:wrap;\n",
              "      gap: 12px;\n",
              "    }\n",
              "\n",
              "    .colab-df-convert {\n",
              "      background-color: #E8F0FE;\n",
              "      border: none;\n",
              "      border-radius: 50%;\n",
              "      cursor: pointer;\n",
              "      display: none;\n",
              "      fill: #1967D2;\n",
              "      height: 32px;\n",
              "      padding: 0 0 0 0;\n",
              "      width: 32px;\n",
              "    }\n",
              "\n",
              "    .colab-df-convert:hover {\n",
              "      background-color: #E2EBFA;\n",
              "      box-shadow: 0px 1px 2px rgba(60, 64, 67, 0.3), 0px 1px 3px 1px rgba(60, 64, 67, 0.15);\n",
              "      fill: #174EA6;\n",
              "    }\n",
              "\n",
              "    [theme=dark] .colab-df-convert {\n",
              "      background-color: #3B4455;\n",
              "      fill: #D2E3FC;\n",
              "    }\n",
              "\n",
              "    [theme=dark] .colab-df-convert:hover {\n",
              "      background-color: #434B5C;\n",
              "      box-shadow: 0px 1px 3px 1px rgba(0, 0, 0, 0.15);\n",
              "      filter: drop-shadow(0px 1px 2px rgba(0, 0, 0, 0.3));\n",
              "      fill: #FFFFFF;\n",
              "    }\n",
              "  </style>\n",
              "\n",
              "      <script>\n",
              "        const buttonEl =\n",
              "          document.querySelector('#df-e423e799-f0df-4687-baf2-e4e738a856f2 button.colab-df-convert');\n",
              "        buttonEl.style.display =\n",
              "          google.colab.kernel.accessAllowed ? 'block' : 'none';\n",
              "\n",
              "        async function convertToInteractive(key) {\n",
              "          const element = document.querySelector('#df-e423e799-f0df-4687-baf2-e4e738a856f2');\n",
              "          const dataTable =\n",
              "            await google.colab.kernel.invokeFunction('convertToInteractive',\n",
              "                                                     [key], {});\n",
              "          if (!dataTable) return;\n",
              "\n",
              "          const docLinkHtml = 'Like what you see? Visit the ' +\n",
              "            '<a target=\"_blank\" href=https://colab.research.google.com/notebooks/data_table.ipynb>data table notebook</a>'\n",
              "            + ' to learn more about interactive tables.';\n",
              "          element.innerHTML = '';\n",
              "          dataTable['output_type'] = 'display_data';\n",
              "          await google.colab.output.renderOutput(dataTable, element);\n",
              "          const docLink = document.createElement('div');\n",
              "          docLink.innerHTML = docLinkHtml;\n",
              "          element.appendChild(docLink);\n",
              "        }\n",
              "      </script>\n",
              "    </div>\n",
              "  </div>\n",
              "  "
            ]
          },
          "metadata": {},
          "execution_count": 7
        }
      ]
    },
    {
      "cell_type": "code",
      "source": [
        "%%time\n",
        "\n",
        "recipes_pdf = pd.read_csv(folder_loc + 'RecipeNLG_dataset.csv', sep = ',',usecols = ['title', 'NER'], converters={\"NER\": literal_eval})"
      ],
      "metadata": {
        "id": "WviWIaHTgj05",
        "colab": {
          "base_uri": "https://localhost:8080/"
        },
        "outputId": "065356ed-6bbe-42a3-dbcb-e155653b5946"
      },
      "execution_count": null,
      "outputs": [
        {
          "output_type": "stream",
          "name": "stdout",
          "text": [
            "CPU times: user 46 s, sys: 3.96 s, total: 50 s\n",
            "Wall time: 58.8 s\n"
          ]
        }
      ]
    },
    {
      "cell_type": "code",
      "source": [
        "recipes_pdf.info()"
      ],
      "metadata": {
        "colab": {
          "base_uri": "https://localhost:8080/"
        },
        "id": "2MTmiMUCgtRc",
        "outputId": "868d380d-97eb-4515-9485-2d85f119c38d"
      },
      "execution_count": null,
      "outputs": [
        {
          "output_type": "stream",
          "name": "stdout",
          "text": [
            "<class 'pandas.core.frame.DataFrame'>\n",
            "RangeIndex: 2231142 entries, 0 to 2231141\n",
            "Data columns (total 2 columns):\n",
            " #   Column  Dtype \n",
            "---  ------  ----- \n",
            " 0   title   object\n",
            " 1   NER     object\n",
            "dtypes: object(2)\n",
            "memory usage: 34.0+ MB\n"
          ]
        }
      ]
    },
    {
      "cell_type": "markdown",
      "source": [
        "## Pre-processing"
      ],
      "metadata": {
        "id": "hA1Pf_pIcX9l"
      }
    },
    {
      "cell_type": "markdown",
      "source": [
        "### Stemming"
      ],
      "metadata": {
        "id": "-kaHo8uHcl9N"
      }
    },
    {
      "cell_type": "code",
      "source": [
        "def pre_process(token_list):\n",
        "  return [word.rstrip('s').lower() for word in token_list]\n",
        "recipes_pdf['NER'] = recipes_pdf['NER'].apply(pre_process)"
      ],
      "metadata": {
        "id": "vQCg21AfcXrl"
      },
      "execution_count": null,
      "outputs": []
    },
    {
      "cell_type": "code",
      "source": [
        "recipes_pdf['NER'].head()"
      ],
      "metadata": {
        "colab": {
          "base_uri": "https://localhost:8080/"
        },
        "id": "NX3gWfSTdFZn",
        "outputId": "81f627c7-4144-4c7a-cea3-73b61e17f561"
      },
      "execution_count": null,
      "outputs": [
        {
          "output_type": "execute_result",
          "data": {
            "text/plain": [
              "0    [brown sugar, milk, vanilla, nut, butter, bite...\n",
              "1    [beef, chicken breast, cream of mushroom soup,...\n",
              "2    [frozen corn, cream cheese, butter, garlic pow...\n",
              "3    [chicken, chicken gravy, cream of mushroom sou...\n",
              "4    [peanut butter, graham cracker crumb, butter, ...\n",
              "Name: NER, dtype: object"
            ]
          },
          "metadata": {},
          "execution_count": 9
        }
      ]
    },
    {
      "cell_type": "code",
      "source": [
        "recipes_pdf['title'].value_counts().head(2000).tail()"
      ],
      "metadata": {
        "colab": {
          "base_uri": "https://localhost:8080/"
        },
        "id": "dZIjHi_Edqky",
        "outputId": "db0379ac-9650-4c55-c7f0-306ce82bb174"
      },
      "execution_count": null,
      "outputs": [
        {
          "output_type": "execute_result",
          "data": {
            "text/plain": [
              "Tuna Ball                   59\n",
              "Easy Coconut Cake           59\n",
              "Lemon Poppy Seed Muffins    59\n",
              "Tomato Pudding              59\n",
              "Mrs. Field'S Cookies        59\n",
              "Name: title, dtype: int64"
            ]
          },
          "metadata": {},
          "execution_count": 32
        }
      ]
    },
    {
      "cell_type": "code",
      "source": [
        "recipes_pdf['sorted_char'] = recipes_pdf['NER'].apply(lambda row: ''.join(sorted(''.join(row).replace(' ', ''))))\n"
      ],
      "metadata": {
        "id": "ahYChmD_duE4"
      },
      "execution_count": null,
      "outputs": []
    },
    {
      "cell_type": "code",
      "source": [
        "recipes_pdf['sorted_char'].value_counts().head()"
      ],
      "metadata": {
        "colab": {
          "base_uri": "https://localhost:8080/"
        },
        "id": "hwjEATUff7nV",
        "outputId": "bc88ce70-7803-4979-c8e3-4606b3d7c1c0"
      },
      "execution_count": null,
      "outputs": [
        {
          "output_type": "execute_result",
          "data": {
            "text/plain": [
              "                                                  574\n",
              "aaaaabbdeeefggggiiikklllllmnnooprrrrsstttuuuvw    449\n",
              "aefggiklllmorstu                                  336\n",
              "aaegrrstuw                                        311\n",
              "aaabbdeeefggggiikklllmnooprrrrsstttuuuw           307\n",
              "Name: sorted_char, dtype: int64"
            ]
          },
          "metadata": {},
          "execution_count": 41
        }
      ]
    },
    {
      "cell_type": "code",
      "source": [
        "recipes_pdf.loc[recipes_pdf['sorted_char'] == 'aaabbdeeefggggiikklllmnooprrrrsstttuuuw'].head()"
      ],
      "metadata": {
        "colab": {
          "base_uri": "https://localhost:8080/",
          "height": 206
        },
        "id": "7ARyFoN_gIf5",
        "outputId": "499dce36-f585-4b60-a9ec-304f9de075f5"
      },
      "execution_count": null,
      "outputs": [
        {
          "output_type": "execute_result",
          "data": {
            "text/plain": [
              "                   title                                                NER  \\\n",
              "175       Mom'S Pancakes  [flour, baking powder, salt, sugar, egg, milk,...   \n",
              "6031   Homemade Pancakes  [flour, salt, sugar, egg, baking powder, milk,...   \n",
              "7300      Plain Biscuits  [flour, baking powder, sugar, salt, butter, mi...   \n",
              "11873         Picklelets  [egg, milk, baking powder, butter, sugar, flou...   \n",
              "18121           Pancakes  [baking powder, flour, sugar, salt, milk, egg,...   \n",
              "\n",
              "                                   sorted_char  \n",
              "175    aaabbdeeefggggiikklllmnooprrrrsstttuuuw  \n",
              "6031   aaabbdeeefggggiikklllmnooprrrrsstttuuuw  \n",
              "7300   aaabbdeeefggggiikklllmnooprrrrsstttuuuw  \n",
              "11873  aaabbdeeefggggiikklllmnooprrrrsstttuuuw  \n",
              "18121  aaabbdeeefggggiikklllmnooprrrrsstttuuuw  "
            ],
            "text/html": [
              "\n",
              "  <div id=\"df-511f2d43-2859-4e22-a34d-c4b54285adf9\">\n",
              "    <div class=\"colab-df-container\">\n",
              "      <div>\n",
              "<style scoped>\n",
              "    .dataframe tbody tr th:only-of-type {\n",
              "        vertical-align: middle;\n",
              "    }\n",
              "\n",
              "    .dataframe tbody tr th {\n",
              "        vertical-align: top;\n",
              "    }\n",
              "\n",
              "    .dataframe thead th {\n",
              "        text-align: right;\n",
              "    }\n",
              "</style>\n",
              "<table border=\"1\" class=\"dataframe\">\n",
              "  <thead>\n",
              "    <tr style=\"text-align: right;\">\n",
              "      <th></th>\n",
              "      <th>title</th>\n",
              "      <th>NER</th>\n",
              "      <th>sorted_char</th>\n",
              "    </tr>\n",
              "  </thead>\n",
              "  <tbody>\n",
              "    <tr>\n",
              "      <th>175</th>\n",
              "      <td>Mom'S Pancakes</td>\n",
              "      <td>[flour, baking powder, salt, sugar, egg, milk,...</td>\n",
              "      <td>aaabbdeeefggggiikklllmnooprrrrsstttuuuw</td>\n",
              "    </tr>\n",
              "    <tr>\n",
              "      <th>6031</th>\n",
              "      <td>Homemade Pancakes</td>\n",
              "      <td>[flour, salt, sugar, egg, baking powder, milk,...</td>\n",
              "      <td>aaabbdeeefggggiikklllmnooprrrrsstttuuuw</td>\n",
              "    </tr>\n",
              "    <tr>\n",
              "      <th>7300</th>\n",
              "      <td>Plain Biscuits</td>\n",
              "      <td>[flour, baking powder, sugar, salt, butter, mi...</td>\n",
              "      <td>aaabbdeeefggggiikklllmnooprrrrsstttuuuw</td>\n",
              "    </tr>\n",
              "    <tr>\n",
              "      <th>11873</th>\n",
              "      <td>Picklelets</td>\n",
              "      <td>[egg, milk, baking powder, butter, sugar, flou...</td>\n",
              "      <td>aaabbdeeefggggiikklllmnooprrrrsstttuuuw</td>\n",
              "    </tr>\n",
              "    <tr>\n",
              "      <th>18121</th>\n",
              "      <td>Pancakes</td>\n",
              "      <td>[baking powder, flour, sugar, salt, milk, egg,...</td>\n",
              "      <td>aaabbdeeefggggiikklllmnooprrrrsstttuuuw</td>\n",
              "    </tr>\n",
              "  </tbody>\n",
              "</table>\n",
              "</div>\n",
              "      <button class=\"colab-df-convert\" onclick=\"convertToInteractive('df-511f2d43-2859-4e22-a34d-c4b54285adf9')\"\n",
              "              title=\"Convert this dataframe to an interactive table.\"\n",
              "              style=\"display:none;\">\n",
              "        \n",
              "  <svg xmlns=\"http://www.w3.org/2000/svg\" height=\"24px\"viewBox=\"0 0 24 24\"\n",
              "       width=\"24px\">\n",
              "    <path d=\"M0 0h24v24H0V0z\" fill=\"none\"/>\n",
              "    <path d=\"M18.56 5.44l.94 2.06.94-2.06 2.06-.94-2.06-.94-.94-2.06-.94 2.06-2.06.94zm-11 1L8.5 8.5l.94-2.06 2.06-.94-2.06-.94L8.5 2.5l-.94 2.06-2.06.94zm10 10l.94 2.06.94-2.06 2.06-.94-2.06-.94-.94-2.06-.94 2.06-2.06.94z\"/><path d=\"M17.41 7.96l-1.37-1.37c-.4-.4-.92-.59-1.43-.59-.52 0-1.04.2-1.43.59L10.3 9.45l-7.72 7.72c-.78.78-.78 2.05 0 2.83L4 21.41c.39.39.9.59 1.41.59.51 0 1.02-.2 1.41-.59l7.78-7.78 2.81-2.81c.8-.78.8-2.07 0-2.86zM5.41 20L4 18.59l7.72-7.72 1.47 1.35L5.41 20z\"/>\n",
              "  </svg>\n",
              "      </button>\n",
              "      \n",
              "  <style>\n",
              "    .colab-df-container {\n",
              "      display:flex;\n",
              "      flex-wrap:wrap;\n",
              "      gap: 12px;\n",
              "    }\n",
              "\n",
              "    .colab-df-convert {\n",
              "      background-color: #E8F0FE;\n",
              "      border: none;\n",
              "      border-radius: 50%;\n",
              "      cursor: pointer;\n",
              "      display: none;\n",
              "      fill: #1967D2;\n",
              "      height: 32px;\n",
              "      padding: 0 0 0 0;\n",
              "      width: 32px;\n",
              "    }\n",
              "\n",
              "    .colab-df-convert:hover {\n",
              "      background-color: #E2EBFA;\n",
              "      box-shadow: 0px 1px 2px rgba(60, 64, 67, 0.3), 0px 1px 3px 1px rgba(60, 64, 67, 0.15);\n",
              "      fill: #174EA6;\n",
              "    }\n",
              "\n",
              "    [theme=dark] .colab-df-convert {\n",
              "      background-color: #3B4455;\n",
              "      fill: #D2E3FC;\n",
              "    }\n",
              "\n",
              "    [theme=dark] .colab-df-convert:hover {\n",
              "      background-color: #434B5C;\n",
              "      box-shadow: 0px 1px 3px 1px rgba(0, 0, 0, 0.15);\n",
              "      filter: drop-shadow(0px 1px 2px rgba(0, 0, 0, 0.3));\n",
              "      fill: #FFFFFF;\n",
              "    }\n",
              "  </style>\n",
              "\n",
              "      <script>\n",
              "        const buttonEl =\n",
              "          document.querySelector('#df-511f2d43-2859-4e22-a34d-c4b54285adf9 button.colab-df-convert');\n",
              "        buttonEl.style.display =\n",
              "          google.colab.kernel.accessAllowed ? 'block' : 'none';\n",
              "\n",
              "        async function convertToInteractive(key) {\n",
              "          const element = document.querySelector('#df-511f2d43-2859-4e22-a34d-c4b54285adf9');\n",
              "          const dataTable =\n",
              "            await google.colab.kernel.invokeFunction('convertToInteractive',\n",
              "                                                     [key], {});\n",
              "          if (!dataTable) return;\n",
              "\n",
              "          const docLinkHtml = 'Like what you see? Visit the ' +\n",
              "            '<a target=\"_blank\" href=https://colab.research.google.com/notebooks/data_table.ipynb>data table notebook</a>'\n",
              "            + ' to learn more about interactive tables.';\n",
              "          element.innerHTML = '';\n",
              "          dataTable['output_type'] = 'display_data';\n",
              "          await google.colab.output.renderOutput(dataTable, element);\n",
              "          const docLink = document.createElement('div');\n",
              "          docLink.innerHTML = docLinkHtml;\n",
              "          element.appendChild(docLink);\n",
              "        }\n",
              "      </script>\n",
              "    </div>\n",
              "  </div>\n",
              "  "
            ]
          },
          "metadata": {},
          "execution_count": 42
        }
      ]
    },
    {
      "cell_type": "code",
      "source": [
        "recipes_pdf = recipes_pdf.drop_duplicates(subset = 'sorted_char')\n",
        "recipes_pdf.shape"
      ],
      "metadata": {
        "colab": {
          "base_uri": "https://localhost:8080/"
        },
        "id": "9-K_6byRgbxc",
        "outputId": "f2d3bd82-9517-4148-eddd-7fdc62b3df53"
      },
      "execution_count": null,
      "outputs": [
        {
          "output_type": "execute_result",
          "data": {
            "text/plain": [
              "(1976599, 3)"
            ]
          },
          "metadata": {},
          "execution_count": 43
        }
      ]
    },
    {
      "cell_type": "markdown",
      "source": [
        "Removed 200k recipes"
      ],
      "metadata": {
        "id": "IPwBL1nMgkiM"
      }
    },
    {
      "cell_type": "markdown",
      "metadata": {
        "id": "CuF_AyH2bv_A"
      },
      "source": [
        "## Build W2V model"
      ]
    },
    {
      "cell_type": "code",
      "metadata": {
        "id": "rmkwu3QyqXpI",
        "outputId": "f7d05b79-53b0-42a4-f1fd-c436a8cdcbbc",
        "colab": {
          "base_uri": "https://localhost:8080/"
        }
      },
      "source": [
        "%%time\n",
        "recipe_w2v = Word2Vec(recipes_pdf['NER'])"
      ],
      "execution_count": null,
      "outputs": [
        {
          "output_type": "stream",
          "name": "stdout",
          "text": [
            "CPU times: user 2min 31s, sys: 970 ms, total: 2min 32s\n",
            "Wall time: 1min 28s\n"
          ]
        }
      ]
    },
    {
      "cell_type": "code",
      "source": [
        "recipe_w2v.most_similar('fish sauce', topn=10)"
      ],
      "metadata": {
        "colab": {
          "base_uri": "https://localhost:8080/"
        },
        "id": "8wWJ1mdDtztQ",
        "outputId": "4d7d5cef-8ad7-4803-ce75-476f9d181fa1"
      },
      "execution_count": null,
      "outputs": [
        {
          "output_type": "execute_result",
          "data": {
            "text/plain": [
              "[('asian fish sauce', 0.7992143630981445),\n",
              " ('rice noodle', 0.7358037829399109),\n",
              " ('nuoc', 0.7349714040756226),\n",
              " ('lemon gra', 0.727480411529541),\n",
              " ('mani', 0.7231417298316956),\n",
              " ('sweet soy sauce', 0.7184907793998718),\n",
              " ('stalk lemongra', 0.7184152603149414),\n",
              " ('ketjap mani', 0.7102898359298706),\n",
              " ('stalks lemongra', 0.710004448890686),\n",
              " ('rice vermicelli', 0.7045285701751709)]"
            ]
          },
          "metadata": {},
          "execution_count": 45
        }
      ]
    },
    {
      "cell_type": "code",
      "source": [
        "recipe_w2v.most_similar('apple', topn=20)"
      ],
      "metadata": {
        "colab": {
          "base_uri": "https://localhost:8080/"
        },
        "id": "8-myhY8-l0NW",
        "outputId": "23edc2d7-f7d8-4f18-f9ac-7c3e9cdb499c"
      },
      "execution_count": null,
      "outputs": [
        {
          "output_type": "execute_result",
          "data": {
            "text/plain": [
              "[('tart apple', 0.9103819131851196),\n",
              " ('granny smith apple', 0.8886793255805969),\n",
              " ('green apple', 0.8739408254623413),\n",
              " ('golden delicious apple', 0.8227909803390503),\n",
              " ('cooking apple', 0.82215815782547),\n",
              " ('gala apple', 0.7559868693351746),\n",
              " ('peeled apple', 0.7551245093345642),\n",
              " ('baking apple', 0.754971444606781),\n",
              " ('red apple', 0.7516821622848511),\n",
              " ('sweet apple', 0.7216936349868774),\n",
              " ('apple -', 0.7083069086074829),\n",
              " ('red delicious apple', 0.6939435005187988),\n",
              " ('gala', 0.6930819749832153),\n",
              " ('braeburn apple', 0.6748573780059814),\n",
              " ('delicious apple', 0.6615157127380371),\n",
              " ('unpeeled apple', 0.6543431282043457),\n",
              " ('crisp apple', 0.6522817015647888),\n",
              " ('apple slice', 0.6502648591995239),\n",
              " ('fuji apple', 0.628289520740509),\n",
              " ('sweet-tart apple', 0.6156004667282104)]"
            ]
          },
          "metadata": {},
          "execution_count": 46
        }
      ]
    },
    {
      "cell_type": "code",
      "metadata": {
        "id": "XzdzwhgqtO08",
        "colab": {
          "base_uri": "https://localhost:8080/"
        },
        "outputId": "c3bb1db4-07e7-4d23-d44e-f1c55f2cbdc9"
      },
      "source": [
        "# number of ingredients\n",
        "len(recipe_w2v.wv.vocab)"
      ],
      "execution_count": null,
      "outputs": [
        {
          "output_type": "execute_result",
          "data": {
            "text/plain": [
              "31124"
            ]
          },
          "metadata": {},
          "execution_count": 47
        }
      ]
    },
    {
      "cell_type": "code",
      "source": [
        "ingredient_count = Counter([token for row in recipes_pdf['NER'].values for token in row])"
      ],
      "metadata": {
        "id": "_w3fp5RYlOsa"
      },
      "execution_count": null,
      "outputs": []
    },
    {
      "cell_type": "code",
      "source": [
        "def calc_cooccurrence(ingredient: str,\n",
        "                      candidates,\n",
        "                      recipes):\n",
        "  ''' Calc how often the top ingredient co-occurs with the candidates\n",
        "    - also removes candidates that are re-phrase of ingredient (e.g. \"beef\" and \"ground beef\")\n",
        "    ingredient: str name of an ingredient (\"apple\")\n",
        "    candidates: potential other ingredients (\"orange\")\n",
        "    recipes: iterable of possible ingredients\n",
        "  '''\n",
        "\n",
        "\n",
        "  co_count = {}\n",
        "  for candidate in candidates:\n",
        "    co_count[candidate] = sum([candidate in recipe and ingredient in recipe for recipe in recipes])\n",
        "  return co_count"
      ],
      "metadata": {
        "id": "pi8SnRmcmjn6"
      },
      "execution_count": null,
      "outputs": []
    },
    {
      "cell_type": "code",
      "source": [
        "def get_fusion_ingredients(ingredient: str,\n",
        "                           recipe_model, #gensim model\n",
        "                           recipes, #iterable of recipes\n",
        "                           ingredient_count: dict,\n",
        "                           max_candidates = 20,\n",
        "                           min_occurence_factor = 100 # minimum number of recipes an ingredient has to be in\n",
        "                           ):\n",
        "\n",
        "  ingredient_recipes = recipes.loc[recipes.apply(lambda row: ingredient in row)]\n",
        "\n",
        "  ingredient_candidates = recipe_model.most_similar(ingredient, topn=50) # get top similar ingredients\n",
        "  candidate_names = list(zip(*ingredient_candidates))[0]\n",
        "  pruned_candidates = [candidate for candidate in candidate_names if ingredient not in candidate][:max_candidates] # clean up candidates to remove duplicates (e.g. \"gala apple\")\n",
        "  cooccurrence_counts = calc_cooccurrence(ingredient, candidate_names, ingredient_recipes) # get counts for normalization\n",
        "  # final score for sorting: similarity / how often co-occur / total occurences\n",
        "  min_occurences = max(cooccurrence_counts.values()) / min_occurence_factor\n",
        "  print(min_occurences)\n",
        "  freq_norm_candidates = {candidate[0]: candidate[1] / (cooccurrence_counts[candidate[0]]+1) / ingredient_count[candidate[0]] for candidate in ingredient_candidates if candidate[0] in pruned_candidates and cooccurrence_counts[candidate[0]] > min_occurences}\n",
        "  top_candidates = sorted([(k,v) for k,v in freq_norm_candidates.items()], key=lambda x: x[1])[-5:]\n",
        "  return top_candidates, cooccurrence_counts, ingredient_candidates # return multiple for debugging"
      ],
      "metadata": {
        "id": "JF02W45ijWVn"
      },
      "execution_count": null,
      "outputs": []
    },
    {
      "cell_type": "code",
      "source": [
        "%%time\n",
        "get_fusion_ingredients('orange', recipe_w2v, recipes_pdf['NER'], ingredient_count)"
      ],
      "metadata": {
        "colab": {
          "base_uri": "https://localhost:8080/"
        },
        "id": "2GH5mhtvk4nA",
        "outputId": "db44f167-704d-4850-8cfb-b46a3b21b1d3"
      },
      "execution_count": null,
      "outputs": [
        {
          "output_type": "stream",
          "name": "stdout",
          "text": [
            "37.84\n",
            "CPU times: user 1.91 s, sys: 93.3 ms, total: 2 s\n",
            "Wall time: 1.89 s\n"
          ]
        },
        {
          "output_type": "execute_result",
          "data": {
            "text/plain": [
              "([('red grapefruit', 1.608362360179704e-05),\n",
              "  ('grapefruit juice', 1.6227832766752586e-05),\n",
              "  ('kumquat', 2.9104959653233033e-05),\n",
              "  ('clementine', 2.997461284399448e-05),\n",
              "  ('marmalade', 4.245900077584349e-05)],\n",
              " {'tangerine': 96,\n",
              "  'clementine': 56,\n",
              "  'kumquat': 60,\n",
              "  'grapefruit': 178,\n",
              "  'red grapefruit': 119,\n",
              "  'pink grapefruit': 152,\n",
              "  'valencia orange': 5,\n",
              "  'grapefruit juice': 51,\n",
              "  'fresh orange': 9,\n",
              "  'orange section': 23,\n",
              "  'tangerine juice': 16,\n",
              "  'mandarin': 10,\n",
              "  'sweet orange': 6,\n",
              "  'pomegranate': 90,\n",
              "  'fresh orange section': 0,\n",
              "  'orange slice': 113,\n",
              "  'pomegranate juice': 108,\n",
              "  'orange juiced': 7,\n",
              "  'fresh orange zest': 11,\n",
              "  'orange rind strip': 3,\n",
              "  'orange zest': 881,\n",
              "  'marmalade': 39,\n",
              "  'black grape': 14,\n",
              "  'zest': 9,\n",
              "  'orange blossom honey': 27,\n",
              "  'persimmon': 15,\n",
              "  'pear': 224,\n",
              "  'pomegranate aril': 11,\n",
              "  'sweet white wine': 9,\n",
              "  'orange rind': 305,\n",
              "  'fresh juice': 4,\n",
              "  'freshly squeezed orange juice': 222,\n",
              "  'orange flower': 39,\n",
              "  'mandarin orange': 117,\n",
              "  'fig': 61,\n",
              "  'peel': 14,\n",
              "  'firm pear': 9,\n",
              "  'zest of one orange': 7,\n",
              "  'clementine juice': 2,\n",
              "  'cranberry juice': 269,\n",
              "  'bartlett': 35,\n",
              "  'fresh cranberrie': 606,\n",
              "  'apricot': 245,\n",
              "  'orange juice': 3784,\n",
              "  'fresh squeezed orange juice': 58,\n",
              "  'dried apricot': 44,\n",
              "  'white grapefruit': 18,\n",
              "  'zest from': 18,\n",
              "  'whole apricot': 2,\n",
              "  'quince': 4},\n",
              " [('tangerine', 0.7859792113304138),\n",
              "  ('clementine', 0.7739744782447815),\n",
              "  ('kumquat', 0.7172626256942749),\n",
              "  ('grapefruit', 0.702051043510437),\n",
              "  ('red grapefruit', 0.685162365436554),\n",
              "  ('pink grapefruit', 0.6637303829193115),\n",
              "  ('valencia orange', 0.655399739742279),\n",
              "  ('grapefruit juice', 0.6362608671188354),\n",
              "  ('fresh orange', 0.6301747560501099),\n",
              "  ('orange section', 0.6289480924606323),\n",
              "  ('tangerine juice', 0.6251323223114014),\n",
              "  ('mandarin', 0.6187543869018555),\n",
              "  ('sweet orange', 0.6076681613922119),\n",
              "  ('pomegranate', 0.6033187508583069),\n",
              "  ('fresh orange section', 0.5943577885627747),\n",
              "  ('orange slice', 0.594047486782074),\n",
              "  ('pomegranate juice', 0.584794282913208),\n",
              "  ('orange juiced', 0.5790227651596069),\n",
              "  ('fresh orange zest', 0.5668885707855225),\n",
              "  ('orange rind strip', 0.5586397647857666),\n",
              "  ('orange zest', 0.5560837984085083),\n",
              "  ('marmalade', 0.5502686500549316),\n",
              "  ('black grape', 0.547420859336853),\n",
              "  ('zest', 0.5397742390632629),\n",
              "  ('orange blossom honey', 0.5372331738471985),\n",
              "  ('persimmon', 0.5360857248306274),\n",
              "  ('pear', 0.5356351137161255),\n",
              "  ('pomegranate aril', 0.5350862145423889),\n",
              "  ('sweet white wine', 0.5346179008483887),\n",
              "  ('orange rind', 0.531035304069519),\n",
              "  ('fresh juice', 0.5282832384109497),\n",
              "  ('freshly squeezed orange juice', 0.5279449820518494),\n",
              "  ('orange flower', 0.5273801684379578),\n",
              "  ('mandarin orange', 0.5258176326751709),\n",
              "  ('fig', 0.5254494547843933),\n",
              "  ('peel', 0.5253826379776001),\n",
              "  ('firm pear', 0.5211586356163025),\n",
              "  ('zest of one orange', 0.5182309746742249),\n",
              "  ('clementine juice', 0.5181286931037903),\n",
              "  ('cranberry juice', 0.5179953575134277),\n",
              "  ('bartlett', 0.5177552700042725),\n",
              "  ('fresh cranberrie', 0.5174181461334229),\n",
              "  ('apricot', 0.5143827199935913),\n",
              "  ('orange juice', 0.5118946433067322),\n",
              "  ('fresh squeezed orange juice', 0.5111973285675049),\n",
              "  ('dried apricot', 0.5086997747421265),\n",
              "  ('white grapefruit', 0.507193922996521),\n",
              "  ('zest from', 0.5065817832946777),\n",
              "  ('whole apricot', 0.5065469145774841),\n",
              "  ('quince', 0.5050784945487976)])"
            ]
          },
          "metadata": {},
          "execution_count": 81
        }
      ]
    },
    {
      "cell_type": "code",
      "source": [
        "a,b,c = get_fusion_ingredients('apple', recipe_w2v, recipes_pdf['NER'], ingredient_count,20)"
      ],
      "metadata": {
        "id": "72q1fGlukYQB",
        "colab": {
          "base_uri": "https://localhost:8080/"
        },
        "outputId": "aff25b28-3733-4a4a-bf71-6472d7d6749b"
      },
      "execution_count": null,
      "outputs": [
        {
          "output_type": "stream",
          "name": "stdout",
          "text": [
            "21.82\n"
          ]
        }
      ]
    },
    {
      "cell_type": "code",
      "source": [
        "a"
      ],
      "metadata": {
        "colab": {
          "base_uri": "https://localhost:8080/"
        },
        "id": "Epmg8lWdpl2i",
        "outputId": "810d5137-ccb8-45b4-fd83-f1ce9fe542c1"
      },
      "execution_count": null,
      "outputs": [
        {
          "output_type": "execute_result",
          "data": {
            "text/plain": [
              "[('cranberrie', 1.523270798268965e-08),\n",
              " ('apricot', 2.300174697387224e-07),\n",
              " ('pear', 2.959156797837719e-07),\n",
              " ('fresh cranberrie', 3.0331627957046705e-07),\n",
              " ('bartlett', 1.2924371311070563e-05)]"
            ]
          },
          "metadata": {},
          "execution_count": 87
        }
      ]
    },
    {
      "cell_type": "code",
      "source": [
        "fish_sauce = get_fusion_ingredients('fish sauce', recipe_w2v, recipes_pdf['NER'],ingredient_count, 10)"
      ],
      "metadata": {
        "id": "ZXX409QDq5Hu",
        "colab": {
          "base_uri": "https://localhost:8080/"
        },
        "outputId": "adad8fe9-9ed9-43e3-8bf9-fa4bc1d2024f"
      },
      "execution_count": null,
      "outputs": [
        {
          "output_type": "stream",
          "name": "stdout",
          "text": [
            "6.76\n"
          ]
        }
      ]
    },
    {
      "cell_type": "code",
      "source": [
        "fish_sauce[0]"
      ],
      "metadata": {
        "colab": {
          "base_uri": "https://localhost:8080/"
        },
        "id": "QD2HmLb7q-NW",
        "outputId": "bcf36d8f-e818-4136-f702-ea6841f3916d"
      },
      "execution_count": null,
      "outputs": [
        {
          "output_type": "execute_result",
          "data": {
            "text/plain": [
              "[('rice vermicelli', 1.458651284006565e-05),\n",
              " ('fresh lemongra', 1.4904556259032546e-05),\n",
              " ('sweet soy sauce', 0.00011279290100468946),\n",
              " ('mani', 0.00011893778451179203),\n",
              " ('ketjap mani', 0.00019862691161349848)]"
            ]
          },
          "metadata": {},
          "execution_count": 89
        }
      ]
    },
    {
      "cell_type": "code",
      "source": [
        "fish_sauce[2]"
      ],
      "metadata": {
        "colab": {
          "base_uri": "https://localhost:8080/"
        },
        "id": "hlNHFjzHuDTV",
        "outputId": "2c03ebfb-8f3e-4ec9-b900-058e6e74d1b8"
      },
      "execution_count": null,
      "outputs": [
        {
          "output_type": "execute_result",
          "data": {
            "text/plain": [
              "[('asian fish sauce', 0.7992143630981445),\n",
              " ('rice noodle', 0.7358037829399109),\n",
              " ('nuoc', 0.7349714040756226),\n",
              " ('lemon gra', 0.727480411529541),\n",
              " ('mani', 0.7231417298316956),\n",
              " ('sweet soy sauce', 0.7184907793998718),\n",
              " ('stalk lemongra', 0.7184152603149414),\n",
              " ('ketjap mani', 0.7102898359298706),\n",
              " ('stalks lemongra', 0.710004448890686),\n",
              " ('rice vermicelli', 0.7045285701751709),\n",
              " ('fresh lemongra', 0.7023175954818726),\n",
              " ('lemongra', 0.700231671333313),\n",
              " ('nuoc nam', 0.6911463141441345),\n",
              " ('lime leaf', 0.6892822980880737),\n",
              " ('red chili paste', 0.6854043006896973),\n",
              " ('fresh galangal', 0.6847156882286072),\n",
              " ('bird chile', 0.6795110106468201),\n",
              " ('lime leave', 0.6791095733642578),\n",
              " ('fishsauce', 0.677825927734375),\n",
              " ('red curry', 0.6775223016738892),\n",
              " ('shrimp paste', 0.6735805869102478),\n",
              " ('tamarind juice', 0.672806441783905),\n",
              " ('oyster sauce', 0.6725000739097595),\n",
              " ('red bird', 0.6667814254760742),\n",
              " ('cilantro root', 0.6667782068252563),\n",
              " ('ﬁsh sauce', 0.6667441725730896),\n",
              " ('lemongrass stalk', 0.6627397537231445),\n",
              " ('palm sugar', 0.6620825529098511),\n",
              " ('sambal oelek', 0.6530277132987976),\n",
              " ('tamarind concentrate', 0.6506115198135376),\n",
              " ('chili paste', 0.6492502689361572),\n",
              " ('red thai chile', 0.6490031480789185),\n",
              " ('nam', 0.645410418510437),\n",
              " ('thai chili paste', 0.6452690362930298),\n",
              " ('sambal', 0.6442736387252808),\n",
              " ('black soy sauce', 0.641382098197937),\n",
              " ('tamarind paste', 0.6396978497505188),\n",
              " ('black bean sauce', 0.6382615566253662),\n",
              " ('coriander root', 0.6362042427062988),\n",
              " ('chili oil', 0.6321280002593994),\n",
              " ('galangal', 0.6311790943145752),\n",
              " ('long red chili pepper', 0.6302767992019653),\n",
              " ('straw mushroom', 0.6266177892684937),\n",
              " ('pati', 0.6245619058609009),\n",
              " ('galangal root', 0.6229275465011597),\n",
              " ('candlenut', 0.6229219436645508),\n",
              " ('vermicelli rice noodle', 0.620451807975769),\n",
              " ('rice wine', 0.6197420954704285),\n",
              " ('long bean', 0.6187158823013306),\n",
              " ('thin rice noodle', 0.6185775399208069)]"
            ]
          },
          "metadata": {},
          "execution_count": 91
        }
      ]
    },
    {
      "cell_type": "code",
      "source": [
        "a,b,c = get_fusion_ingredients('carrot', recipe_w2v, recipes_pdf['NER'], ingredient_count, 10)"
      ],
      "metadata": {
        "id": "BPzEJCTOrSCP",
        "colab": {
          "base_uri": "https://localhost:8080/"
        },
        "outputId": "786f8952-2da3-4791-bb3d-5ed83460d97e"
      },
      "execution_count": null,
      "outputs": [
        {
          "output_type": "stream",
          "name": "stdout",
          "text": [
            "23.51\n"
          ]
        }
      ]
    },
    {
      "cell_type": "code",
      "source": [
        "a"
      ],
      "metadata": {
        "colab": {
          "base_uri": "https://localhost:8080/"
        },
        "id": "9ejq8zdYrdEn",
        "outputId": "d3fa5273-6b4c-4397-e2de-e27fce522666"
      },
      "execution_count": null,
      "outputs": [
        {
          "output_type": "execute_result",
          "data": {
            "text/plain": [
              "[('bone', 3.4262489299384916e-05),\n",
              " ('beef bone', 6.591575503591108e-05),\n",
              " ('kale leave', 7.309549723339305e-05),\n",
              " ('chunk', 8.086041287258938e-05),\n",
              " ('soup bone', 0.00023302498216531717)]"
            ]
          },
          "metadata": {},
          "execution_count": 95
        }
      ]
    },
    {
      "cell_type": "code",
      "source": [
        "a,b,c = get_fusion_ingredients('celery', recipe_w2v, recipes_pdf['NER'], ingredient_count, 10, 200)"
      ],
      "metadata": {
        "id": "5FnRYOYIr7DJ",
        "colab": {
          "base_uri": "https://localhost:8080/"
        },
        "outputId": "ab8458fa-2f13-414d-9486-688598e1393b"
      },
      "execution_count": null,
      "outputs": [
        {
          "output_type": "stream",
          "name": "stdout",
          "text": [
            "20.97\n"
          ]
        }
      ]
    },
    {
      "cell_type": "code",
      "source": [
        "a"
      ],
      "metadata": {
        "colab": {
          "base_uri": "https://localhost:8080/"
        },
        "id": "ZDMznPDHroCU",
        "outputId": "a11aff8f-57ac-4cee-f439-7bb15c5a9051"
      },
      "execution_count": null,
      "outputs": [
        {
          "output_type": "execute_result",
          "data": {
            "text/plain": [
              "[('kielbasa', 1.2254227779191268e-06),\n",
              " ('fresh green bean', 4.0977841990005564e-06),\n",
              " ('sweet pea', 5.708070176332871e-06),\n",
              " ('head of cabbage', 8.651156025192663e-06),\n",
              " ('red potato', 2.1824589695292288e-05)]"
            ]
          },
          "metadata": {},
          "execution_count": 120
        }
      ]
    },
    {
      "cell_type": "code",
      "source": [
        "ingredient_count['kielbasa'], ingredient_count['rutabaga']"
      ],
      "metadata": {
        "colab": {
          "base_uri": "https://localhost:8080/"
        },
        "id": "mWjqaq-prfAQ",
        "outputId": "fc4da176-956b-4f38-bc5f-b9027649581d"
      },
      "execution_count": null,
      "outputs": [
        {
          "output_type": "execute_result",
          "data": {
            "text/plain": [
              "(1680, 356)"
            ]
          },
          "metadata": {},
          "execution_count": 119
        }
      ]
    },
    {
      "cell_type": "code",
      "source": [
        "b['kielbasa'], b['rutabaga']"
      ],
      "metadata": {
        "colab": {
          "base_uri": "https://localhost:8080/"
        },
        "id": "2Gi_5G73rwDk",
        "outputId": "0c0250fa-48c6-4f32-a5a8-e3b8acc1e789"
      },
      "execution_count": null,
      "outputs": [
        {
          "output_type": "execute_result",
          "data": {
            "text/plain": [
              "(204, 33)"
            ]
          },
          "metadata": {},
          "execution_count": 123
        }
      ]
    },
    {
      "cell_type": "code",
      "source": [
        "c"
      ],
      "metadata": {
        "colab": {
          "base_uri": "https://localhost:8080/"
        },
        "id": "pI9JAikmpLwg",
        "outputId": "b03a20c0-4989-4b89-ffbf-e88a9fab90e3"
      },
      "execution_count": null,
      "outputs": [
        {
          "output_type": "execute_result",
          "data": {
            "text/plain": [
              "[('stalks celery', 0.9442585706710815),\n",
              " ('celery stalk', 0.8846400380134583),\n",
              " ('stalk celery', 0.854391872882843),\n",
              " ('stalks of celery', 0.7531700730323792),\n",
              " ('fresh celery', 0.6134802103042603),\n",
              " ('celery rib', 0.5167121291160583),\n",
              " ('stalk of celery', 0.5093518495559692),\n",
              " ('celery heart', 0.49992477893829346),\n",
              " ('celery top', 0.47260695695877075),\n",
              " ('cabbage', 0.4697415828704834),\n",
              " ('celery root', 0.46823692321777344),\n",
              " ('head green cabbage', 0.46069324016571045),\n",
              " ('head of cabbage', 0.45221322774887085),\n",
              " ('green cabbage', 0.44685351848602295),\n",
              " ('celery salt', 0.4338985085487366),\n",
              " ('sweet pea', 0.4328030049800873),\n",
              " ('celery seed', 0.42702776193618774),\n",
              " ('new potato', 0.42619502544403076),\n",
              " ('fresh green bean', 0.4241206645965576),\n",
              " ('celery flake', 0.42285841703414917),\n",
              " ('kielbasa', 0.4220356047153473),\n",
              " ('rib of celery', 0.42201733589172363),\n",
              " ('head cabbage', 0.41616204380989075),\n",
              " ('red potato', 0.41484180092811584),\n",
              " ('wild rice', 0.4129950702190399),\n",
              " ('white turnip', 0.4062510132789612),\n",
              " ('kielbasa sausage', 0.4057149887084961),\n",
              " ('pea', 0.4045093059539795),\n",
              " ('rutabaga', 0.4030866026878357),\n",
              " ('green pea', 0.40305569767951965),\n",
              " ('bunches celery', 0.4025086462497711),\n",
              " ('pimiento', 0.3971317410469055),\n",
              " ('green bean', 0.3968738913536072),\n",
              " ('turnip', 0.3962658941745758),\n",
              " ('curry powder', 0.39416298270225525),\n",
              " ('lean bacon', 0.3916354775428772),\n",
              " ('tarragon', 0.3915121853351593),\n",
              " ('new potatoe', 0.39096060395240784),\n",
              " ('pearl onion', 0.38647377490997314),\n",
              " ('white pearl onion', 0.38485461473464966),\n",
              " ('celeriac', 0.38238269090652466),\n",
              " ('boiling onion', 0.3808942437171936),\n",
              " ('rabbit', 0.3808732032775879),\n",
              " ('fennel bulb', 0.38061386346817017),\n",
              " ('baby turnip', 0.37920787930488586),\n",
              " ('turkey kielbasa', 0.37761980295181274),\n",
              " ('marjoram', 0.37744396924972534),\n",
              " ('turkey', 0.3758143186569214),\n",
              " ('parsley root', 0.37340688705444336),\n",
              " ('red cabbage', 0.37086743116378784)]"
            ]
          },
          "metadata": {},
          "execution_count": 122
        }
      ]
    },
    {
      "cell_type": "code",
      "source": [
        "recipes_pdf.loc[(recipes_pdf['NER'].apply(lambda row: 'celery' in row)) & (recipes_pdf['NER'].apply(lambda row: 'kielbasa' in row)), 'title'].value_counts()"
      ],
      "metadata": {
        "colab": {
          "base_uri": "https://localhost:8080/"
        },
        "id": "GjgYoqwZpMSZ",
        "outputId": "cc4c2115-ff98-42ef-e829-1c33702cf276"
      },
      "execution_count": null,
      "outputs": [
        {
          "output_type": "execute_result",
          "data": {
            "text/plain": [
              "Jambalaya                         7\n",
              "Kielbasa Bean Soup                4\n",
              "Bean Soup                         3\n",
              "Kielbasa Soup                     2\n",
              "Sausage Stew                      2\n",
              "                                 ..\n",
              "Oven Baked Split Pea Soup         1\n",
              "Turkey And Sausage Jambalaya      1\n",
              "Kielbasa And Lentil Soup          1\n",
              "Creole Stuffed Shrimp             1\n",
              "Incredible 20 Minute Bean Soup    1\n",
              "Name: title, Length: 184, dtype: int64"
            ]
          },
          "metadata": {},
          "execution_count": 104
        }
      ]
    },
    {
      "cell_type": "code",
      "source": [],
      "metadata": {
        "id": "gDuQJ58Qpvrl"
      },
      "execution_count": null,
      "outputs": []
    }
  ]
}