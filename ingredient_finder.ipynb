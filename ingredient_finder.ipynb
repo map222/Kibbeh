{
  "nbformat": 4,
  "nbformat_minor": 0,
  "metadata": {
    "colab": {
      "provenance": [],
      "include_colab_link": true
    },
    "kernelspec": {
      "name": "python3",
      "display_name": "Python 3"
    },
    "widgets": {
      "application/vnd.jupyter.widget-state+json": {
        "a099a2f726d1465dbacc54dc910c6074": {
          "model_module": "@jupyter-widgets/controls",
          "model_name": "VBoxModel",
          "model_module_version": "1.5.0",
          "state": {
            "_dom_classes": [],
            "_model_module": "@jupyter-widgets/controls",
            "_model_module_version": "1.5.0",
            "_model_name": "VBoxModel",
            "_view_count": null,
            "_view_module": "@jupyter-widgets/controls",
            "_view_module_version": "1.5.0",
            "_view_name": "VBoxView",
            "box_style": "",
            "children": [
              "IPY_MODEL_698fab531fef4701ab473ceba6d3ba80",
              "IPY_MODEL_5f3c4aa575d3460babc8038f724c0ef5",
              "IPY_MODEL_70e4331a80e849ce8ae2a5425091cdf1",
              "IPY_MODEL_163cabd0005546859a624043d01e0d17",
              "IPY_MODEL_e0bf43b6232a4f59b2c0f903ccb65f51"
            ],
            "layout": "IPY_MODEL_5f73bd88ccc94144a0d66a8676a3ab9f"
          }
        },
        "698fab531fef4701ab473ceba6d3ba80": {
          "model_module": "@jupyter-widgets/controls",
          "model_name": "HTMLModel",
          "model_module_version": "1.5.0",
          "state": {
            "_dom_classes": [],
            "_model_module": "@jupyter-widgets/controls",
            "_model_module_version": "1.5.0",
            "_model_name": "HTMLModel",
            "_view_count": null,
            "_view_module": "@jupyter-widgets/controls",
            "_view_module_version": "1.5.0",
            "_view_name": "HTMLView",
            "description": "",
            "description_tooltip": null,
            "layout": "IPY_MODEL_d3ff9ce5e0ab4b7a8fcb370598acf764",
            "placeholder": "​",
            "style": "IPY_MODEL_869413c364a74aebb98cab2ba79bbb81",
            "value": "<center> <img\nsrc=https://huggingface.co/front/assets/huggingface_logo-noborder.svg\nalt='Hugging Face'> <br> Copy a token from <a\nhref=\"https://huggingface.co/settings/tokens\" target=\"_blank\">your Hugging Face\ntokens page</a> and paste it below. <br> Immediately click login after copying\nyour token or it might be stored in plain text in this notebook file. </center>"
          }
        },
        "5f3c4aa575d3460babc8038f724c0ef5": {
          "model_module": "@jupyter-widgets/controls",
          "model_name": "PasswordModel",
          "model_module_version": "1.5.0",
          "state": {
            "_dom_classes": [],
            "_model_module": "@jupyter-widgets/controls",
            "_model_module_version": "1.5.0",
            "_model_name": "PasswordModel",
            "_view_count": null,
            "_view_module": "@jupyter-widgets/controls",
            "_view_module_version": "1.5.0",
            "_view_name": "PasswordView",
            "continuous_update": true,
            "description": "Token:",
            "description_tooltip": null,
            "disabled": false,
            "layout": "IPY_MODEL_df683f7d51d341abb4bd3e59bf6fd31e",
            "placeholder": "​",
            "style": "IPY_MODEL_35b23e0b9eca45abbdd41008d6c32354",
            "value": ""
          }
        },
        "70e4331a80e849ce8ae2a5425091cdf1": {
          "model_module": "@jupyter-widgets/controls",
          "model_name": "CheckboxModel",
          "model_module_version": "1.5.0",
          "state": {
            "_dom_classes": [],
            "_model_module": "@jupyter-widgets/controls",
            "_model_module_version": "1.5.0",
            "_model_name": "CheckboxModel",
            "_view_count": null,
            "_view_module": "@jupyter-widgets/controls",
            "_view_module_version": "1.5.0",
            "_view_name": "CheckboxView",
            "description": "Add token as git credential?",
            "description_tooltip": null,
            "disabled": false,
            "indent": true,
            "layout": "IPY_MODEL_181a954600ff4fa78c2d60c7bdcec89b",
            "style": "IPY_MODEL_6cb182ac883c47529ab0ea7421ee984a",
            "value": false
          }
        },
        "163cabd0005546859a624043d01e0d17": {
          "model_module": "@jupyter-widgets/controls",
          "model_name": "ButtonModel",
          "model_module_version": "1.5.0",
          "state": {
            "_dom_classes": [],
            "_model_module": "@jupyter-widgets/controls",
            "_model_module_version": "1.5.0",
            "_model_name": "ButtonModel",
            "_view_count": null,
            "_view_module": "@jupyter-widgets/controls",
            "_view_module_version": "1.5.0",
            "_view_name": "ButtonView",
            "button_style": "",
            "description": "Login",
            "disabled": false,
            "icon": "",
            "layout": "IPY_MODEL_b5ab9698031441eba5164227604fa2b4",
            "style": "IPY_MODEL_73b7abd295bb44f39b216313b675fdb9",
            "tooltip": ""
          }
        },
        "e0bf43b6232a4f59b2c0f903ccb65f51": {
          "model_module": "@jupyter-widgets/controls",
          "model_name": "HTMLModel",
          "model_module_version": "1.5.0",
          "state": {
            "_dom_classes": [],
            "_model_module": "@jupyter-widgets/controls",
            "_model_module_version": "1.5.0",
            "_model_name": "HTMLModel",
            "_view_count": null,
            "_view_module": "@jupyter-widgets/controls",
            "_view_module_version": "1.5.0",
            "_view_name": "HTMLView",
            "description": "",
            "description_tooltip": null,
            "layout": "IPY_MODEL_36f03c6b8fa54754b887cd70526ecd30",
            "placeholder": "​",
            "style": "IPY_MODEL_d346d512d82b473682436f3b610aa927",
            "value": "\n<b>Pro Tip:</b> If you don't already have one, you can create a dedicated\n'notebooks' token with 'write' access, that you can then easily reuse for all\nnotebooks. </center>"
          }
        },
        "5f73bd88ccc94144a0d66a8676a3ab9f": {
          "model_module": "@jupyter-widgets/base",
          "model_name": "LayoutModel",
          "model_module_version": "1.2.0",
          "state": {
            "_model_module": "@jupyter-widgets/base",
            "_model_module_version": "1.2.0",
            "_model_name": "LayoutModel",
            "_view_count": null,
            "_view_module": "@jupyter-widgets/base",
            "_view_module_version": "1.2.0",
            "_view_name": "LayoutView",
            "align_content": null,
            "align_items": "center",
            "align_self": null,
            "border": null,
            "bottom": null,
            "display": "flex",
            "flex": null,
            "flex_flow": "column",
            "grid_area": null,
            "grid_auto_columns": null,
            "grid_auto_flow": null,
            "grid_auto_rows": null,
            "grid_column": null,
            "grid_gap": null,
            "grid_row": null,
            "grid_template_areas": null,
            "grid_template_columns": null,
            "grid_template_rows": null,
            "height": null,
            "justify_content": null,
            "justify_items": null,
            "left": null,
            "margin": null,
            "max_height": null,
            "max_width": null,
            "min_height": null,
            "min_width": null,
            "object_fit": null,
            "object_position": null,
            "order": null,
            "overflow": null,
            "overflow_x": null,
            "overflow_y": null,
            "padding": null,
            "right": null,
            "top": null,
            "visibility": null,
            "width": "50%"
          }
        },
        "d3ff9ce5e0ab4b7a8fcb370598acf764": {
          "model_module": "@jupyter-widgets/base",
          "model_name": "LayoutModel",
          "model_module_version": "1.2.0",
          "state": {
            "_model_module": "@jupyter-widgets/base",
            "_model_module_version": "1.2.0",
            "_model_name": "LayoutModel",
            "_view_count": null,
            "_view_module": "@jupyter-widgets/base",
            "_view_module_version": "1.2.0",
            "_view_name": "LayoutView",
            "align_content": null,
            "align_items": null,
            "align_self": null,
            "border": null,
            "bottom": null,
            "display": null,
            "flex": null,
            "flex_flow": null,
            "grid_area": null,
            "grid_auto_columns": null,
            "grid_auto_flow": null,
            "grid_auto_rows": null,
            "grid_column": null,
            "grid_gap": null,
            "grid_row": null,
            "grid_template_areas": null,
            "grid_template_columns": null,
            "grid_template_rows": null,
            "height": null,
            "justify_content": null,
            "justify_items": null,
            "left": null,
            "margin": null,
            "max_height": null,
            "max_width": null,
            "min_height": null,
            "min_width": null,
            "object_fit": null,
            "object_position": null,
            "order": null,
            "overflow": null,
            "overflow_x": null,
            "overflow_y": null,
            "padding": null,
            "right": null,
            "top": null,
            "visibility": null,
            "width": null
          }
        },
        "869413c364a74aebb98cab2ba79bbb81": {
          "model_module": "@jupyter-widgets/controls",
          "model_name": "DescriptionStyleModel",
          "model_module_version": "1.5.0",
          "state": {
            "_model_module": "@jupyter-widgets/controls",
            "_model_module_version": "1.5.0",
            "_model_name": "DescriptionStyleModel",
            "_view_count": null,
            "_view_module": "@jupyter-widgets/base",
            "_view_module_version": "1.2.0",
            "_view_name": "StyleView",
            "description_width": ""
          }
        },
        "df683f7d51d341abb4bd3e59bf6fd31e": {
          "model_module": "@jupyter-widgets/base",
          "model_name": "LayoutModel",
          "model_module_version": "1.2.0",
          "state": {
            "_model_module": "@jupyter-widgets/base",
            "_model_module_version": "1.2.0",
            "_model_name": "LayoutModel",
            "_view_count": null,
            "_view_module": "@jupyter-widgets/base",
            "_view_module_version": "1.2.0",
            "_view_name": "LayoutView",
            "align_content": null,
            "align_items": null,
            "align_self": null,
            "border": null,
            "bottom": null,
            "display": null,
            "flex": null,
            "flex_flow": null,
            "grid_area": null,
            "grid_auto_columns": null,
            "grid_auto_flow": null,
            "grid_auto_rows": null,
            "grid_column": null,
            "grid_gap": null,
            "grid_row": null,
            "grid_template_areas": null,
            "grid_template_columns": null,
            "grid_template_rows": null,
            "height": null,
            "justify_content": null,
            "justify_items": null,
            "left": null,
            "margin": null,
            "max_height": null,
            "max_width": null,
            "min_height": null,
            "min_width": null,
            "object_fit": null,
            "object_position": null,
            "order": null,
            "overflow": null,
            "overflow_x": null,
            "overflow_y": null,
            "padding": null,
            "right": null,
            "top": null,
            "visibility": null,
            "width": null
          }
        },
        "35b23e0b9eca45abbdd41008d6c32354": {
          "model_module": "@jupyter-widgets/controls",
          "model_name": "DescriptionStyleModel",
          "model_module_version": "1.5.0",
          "state": {
            "_model_module": "@jupyter-widgets/controls",
            "_model_module_version": "1.5.0",
            "_model_name": "DescriptionStyleModel",
            "_view_count": null,
            "_view_module": "@jupyter-widgets/base",
            "_view_module_version": "1.2.0",
            "_view_name": "StyleView",
            "description_width": ""
          }
        },
        "181a954600ff4fa78c2d60c7bdcec89b": {
          "model_module": "@jupyter-widgets/base",
          "model_name": "LayoutModel",
          "model_module_version": "1.2.0",
          "state": {
            "_model_module": "@jupyter-widgets/base",
            "_model_module_version": "1.2.0",
            "_model_name": "LayoutModel",
            "_view_count": null,
            "_view_module": "@jupyter-widgets/base",
            "_view_module_version": "1.2.0",
            "_view_name": "LayoutView",
            "align_content": null,
            "align_items": null,
            "align_self": null,
            "border": null,
            "bottom": null,
            "display": null,
            "flex": null,
            "flex_flow": null,
            "grid_area": null,
            "grid_auto_columns": null,
            "grid_auto_flow": null,
            "grid_auto_rows": null,
            "grid_column": null,
            "grid_gap": null,
            "grid_row": null,
            "grid_template_areas": null,
            "grid_template_columns": null,
            "grid_template_rows": null,
            "height": null,
            "justify_content": null,
            "justify_items": null,
            "left": null,
            "margin": null,
            "max_height": null,
            "max_width": null,
            "min_height": null,
            "min_width": null,
            "object_fit": null,
            "object_position": null,
            "order": null,
            "overflow": null,
            "overflow_x": null,
            "overflow_y": null,
            "padding": null,
            "right": null,
            "top": null,
            "visibility": null,
            "width": null
          }
        },
        "6cb182ac883c47529ab0ea7421ee984a": {
          "model_module": "@jupyter-widgets/controls",
          "model_name": "DescriptionStyleModel",
          "model_module_version": "1.5.0",
          "state": {
            "_model_module": "@jupyter-widgets/controls",
            "_model_module_version": "1.5.0",
            "_model_name": "DescriptionStyleModel",
            "_view_count": null,
            "_view_module": "@jupyter-widgets/base",
            "_view_module_version": "1.2.0",
            "_view_name": "StyleView",
            "description_width": ""
          }
        },
        "b5ab9698031441eba5164227604fa2b4": {
          "model_module": "@jupyter-widgets/base",
          "model_name": "LayoutModel",
          "model_module_version": "1.2.0",
          "state": {
            "_model_module": "@jupyter-widgets/base",
            "_model_module_version": "1.2.0",
            "_model_name": "LayoutModel",
            "_view_count": null,
            "_view_module": "@jupyter-widgets/base",
            "_view_module_version": "1.2.0",
            "_view_name": "LayoutView",
            "align_content": null,
            "align_items": null,
            "align_self": null,
            "border": null,
            "bottom": null,
            "display": null,
            "flex": null,
            "flex_flow": null,
            "grid_area": null,
            "grid_auto_columns": null,
            "grid_auto_flow": null,
            "grid_auto_rows": null,
            "grid_column": null,
            "grid_gap": null,
            "grid_row": null,
            "grid_template_areas": null,
            "grid_template_columns": null,
            "grid_template_rows": null,
            "height": null,
            "justify_content": null,
            "justify_items": null,
            "left": null,
            "margin": null,
            "max_height": null,
            "max_width": null,
            "min_height": null,
            "min_width": null,
            "object_fit": null,
            "object_position": null,
            "order": null,
            "overflow": null,
            "overflow_x": null,
            "overflow_y": null,
            "padding": null,
            "right": null,
            "top": null,
            "visibility": null,
            "width": null
          }
        },
        "73b7abd295bb44f39b216313b675fdb9": {
          "model_module": "@jupyter-widgets/controls",
          "model_name": "ButtonStyleModel",
          "model_module_version": "1.5.0",
          "state": {
            "_model_module": "@jupyter-widgets/controls",
            "_model_module_version": "1.5.0",
            "_model_name": "ButtonStyleModel",
            "_view_count": null,
            "_view_module": "@jupyter-widgets/base",
            "_view_module_version": "1.2.0",
            "_view_name": "StyleView",
            "button_color": null,
            "font_weight": ""
          }
        },
        "36f03c6b8fa54754b887cd70526ecd30": {
          "model_module": "@jupyter-widgets/base",
          "model_name": "LayoutModel",
          "model_module_version": "1.2.0",
          "state": {
            "_model_module": "@jupyter-widgets/base",
            "_model_module_version": "1.2.0",
            "_model_name": "LayoutModel",
            "_view_count": null,
            "_view_module": "@jupyter-widgets/base",
            "_view_module_version": "1.2.0",
            "_view_name": "LayoutView",
            "align_content": null,
            "align_items": null,
            "align_self": null,
            "border": null,
            "bottom": null,
            "display": null,
            "flex": null,
            "flex_flow": null,
            "grid_area": null,
            "grid_auto_columns": null,
            "grid_auto_flow": null,
            "grid_auto_rows": null,
            "grid_column": null,
            "grid_gap": null,
            "grid_row": null,
            "grid_template_areas": null,
            "grid_template_columns": null,
            "grid_template_rows": null,
            "height": null,
            "justify_content": null,
            "justify_items": null,
            "left": null,
            "margin": null,
            "max_height": null,
            "max_width": null,
            "min_height": null,
            "min_width": null,
            "object_fit": null,
            "object_position": null,
            "order": null,
            "overflow": null,
            "overflow_x": null,
            "overflow_y": null,
            "padding": null,
            "right": null,
            "top": null,
            "visibility": null,
            "width": null
          }
        },
        "d346d512d82b473682436f3b610aa927": {
          "model_module": "@jupyter-widgets/controls",
          "model_name": "DescriptionStyleModel",
          "model_module_version": "1.5.0",
          "state": {
            "_model_module": "@jupyter-widgets/controls",
            "_model_module_version": "1.5.0",
            "_model_name": "DescriptionStyleModel",
            "_view_count": null,
            "_view_module": "@jupyter-widgets/base",
            "_view_module_version": "1.2.0",
            "_view_name": "StyleView",
            "description_width": ""
          }
        }
      }
    }
  },
  "cells": [
    {
      "cell_type": "markdown",
      "metadata": {
        "id": "view-in-github",
        "colab_type": "text"
      },
      "source": [
        "<a href=\"https://colab.research.google.com/github/map222/Kibbeh/blob/deploy_space/ingredient_finder.ipynb\" target=\"_parent\"><img src=\"https://colab.research.google.com/assets/colab-badge.svg\" alt=\"Open In Colab\"/></a>"
      ]
    },
    {
      "cell_type": "markdown",
      "metadata": {
        "id": "EHbiJCs7QAr_"
      },
      "source": [
        "# Ingredient recommender\n",
        "One of my best recipes is mashed potatoes with parsnip; the potatoes provide familiarity, but the parsnip provides a little spice, and makes the dish more memorable. This is just one example of how, when cooking, adding a novel ingredient can make old recipes more interesting. Being better at ML than cooking, I created an ingredient recommender that given an ingredient will suggest something similar to it, but that doesn't occur with it often. This project has two parts:\n",
        "1. This training notebook where I develop the model\n",
        "2. A hugging face deployment that allows anyone to input an ingredient, and get back similar ingredients, as well as \"spicy\" ingredients.\n",
        "\n",
        "## Summary of findings\n",
        "* For ingredients, it appears that using lower-dimensional embeddings provides better results. This could be because the \"taste space\" is relatively low dimensional; having more dimensions could allow for overfitting.\n",
        "* The ingredient recommender works, and is able to identify offbeat ingredient replacements, like suggesting kumquats to replace oranges. [Try it out yourself here!](https://huggingface.co/spaces/map222/recipe-spice)"
      ]
    },
    {
      "cell_type": "markdown",
      "metadata": {
        "id": "Ia_5KpAyw-mS"
      },
      "source": [
        "# Setup:\n",
        "### Note to self:\n",
        "This notebook may not auto-save. To save, you need to go to File menu, then save to github. You can either push directly to master, or create a branch"
      ]
    },
    {
      "cell_type": "markdown",
      "source": [
        "### Google drive\n",
        "First, mount files from Google drive (to copy the file to your share folder, click [this link](https://drive.google.com/drive/folders/1fh5C0Wlda0QMzBXqOj6znhS8SlsCZm9O?usp=sharing)):"
      ],
      "metadata": {
        "id": "3JyKTcF3N9Is"
      }
    },
    {
      "cell_type": "code",
      "metadata": {
        "id": "yvbKPK8EcHTc",
        "outputId": "3b6bdf77-8e17-49fb-a6b3-ef72985a2fee",
        "colab": {
          "base_uri": "https://localhost:8080/"
        }
      },
      "source": [
        "from google.colab import drive\n",
        "drive.mount('/content/gdrive')"
      ],
      "execution_count": 1,
      "outputs": [
        {
          "output_type": "stream",
          "name": "stdout",
          "text": [
            "Mounted at /content/gdrive\n"
          ]
        }
      ]
    },
    {
      "cell_type": "code",
      "metadata": {
        "id": "WPnJGsVm8bsz"
      },
      "source": [
        "folder_loc = r'/content/gdrive/My Drive/Colab Notebooks/data/recipes/'"
      ],
      "execution_count": 2,
      "outputs": []
    },
    {
      "cell_type": "markdown",
      "source": [
        "### Hugging Face"
      ],
      "metadata": {
        "id": "Kale8cKwODL6"
      }
    },
    {
      "cell_type": "code",
      "source": [
        "!pip install huggingface_hub"
      ],
      "metadata": {
        "id": "OxxnA5RpDMOC",
        "outputId": "f28d3d8a-75d5-451d-98c7-f4338b35ecef",
        "colab": {
          "base_uri": "https://localhost:8080/"
        }
      },
      "execution_count": 3,
      "outputs": [
        {
          "output_type": "stream",
          "name": "stdout",
          "text": [
            "Looking in indexes: https://pypi.org/simple, https://us-python.pkg.dev/colab-wheels/public/simple/\n",
            "Collecting huggingface_hub\n",
            "  Downloading huggingface_hub-0.13.3-py3-none-any.whl (199 kB)\n",
            "\u001b[2K     \u001b[90m━━━━━━━━━━━━━━━━━━━━━━━━━━━━━━━━━━━━━━━\u001b[0m \u001b[32m199.8/199.8 KB\u001b[0m \u001b[31m7.5 MB/s\u001b[0m eta \u001b[36m0:00:00\u001b[0m\n",
            "\u001b[?25hRequirement already satisfied: typing-extensions>=3.7.4.3 in /usr/local/lib/python3.9/dist-packages (from huggingface_hub) (4.5.0)\n",
            "Requirement already satisfied: pyyaml>=5.1 in /usr/local/lib/python3.9/dist-packages (from huggingface_hub) (6.0)\n",
            "Requirement already satisfied: filelock in /usr/local/lib/python3.9/dist-packages (from huggingface_hub) (3.10.0)\n",
            "Requirement already satisfied: requests in /usr/local/lib/python3.9/dist-packages (from huggingface_hub) (2.27.1)\n",
            "Requirement already satisfied: tqdm>=4.42.1 in /usr/local/lib/python3.9/dist-packages (from huggingface_hub) (4.65.0)\n",
            "Requirement already satisfied: packaging>=20.9 in /usr/local/lib/python3.9/dist-packages (from huggingface_hub) (23.0)\n",
            "Requirement already satisfied: idna<4,>=2.5 in /usr/local/lib/python3.9/dist-packages (from requests->huggingface_hub) (3.4)\n",
            "Requirement already satisfied: charset-normalizer~=2.0.0 in /usr/local/lib/python3.9/dist-packages (from requests->huggingface_hub) (2.0.12)\n",
            "Requirement already satisfied: certifi>=2017.4.17 in /usr/local/lib/python3.9/dist-packages (from requests->huggingface_hub) (2022.12.7)\n",
            "Requirement already satisfied: urllib3<1.27,>=1.21.1 in /usr/local/lib/python3.9/dist-packages (from requests->huggingface_hub) (1.26.15)\n",
            "Installing collected packages: huggingface_hub\n",
            "Successfully installed huggingface_hub-0.13.3\n"
          ]
        }
      ]
    },
    {
      "cell_type": "code",
      "source": [
        "from huggingface_hub import notebook_login\n",
        "notebook_login()"
      ],
      "metadata": {
        "colab": {
          "base_uri": "https://localhost:8080/",
          "height": 331,
          "referenced_widgets": [
            "a099a2f726d1465dbacc54dc910c6074",
            "698fab531fef4701ab473ceba6d3ba80",
            "5f3c4aa575d3460babc8038f724c0ef5",
            "70e4331a80e849ce8ae2a5425091cdf1",
            "163cabd0005546859a624043d01e0d17",
            "e0bf43b6232a4f59b2c0f903ccb65f51",
            "5f73bd88ccc94144a0d66a8676a3ab9f",
            "d3ff9ce5e0ab4b7a8fcb370598acf764",
            "869413c364a74aebb98cab2ba79bbb81",
            "df683f7d51d341abb4bd3e59bf6fd31e",
            "35b23e0b9eca45abbdd41008d6c32354",
            "181a954600ff4fa78c2d60c7bdcec89b",
            "6cb182ac883c47529ab0ea7421ee984a",
            "b5ab9698031441eba5164227604fa2b4",
            "73b7abd295bb44f39b216313b675fdb9",
            "36f03c6b8fa54754b887cd70526ecd30",
            "d346d512d82b473682436f3b610aa927"
          ]
        },
        "id": "Z71Sy3vdOEYD",
        "outputId": "3098801f-1632-4c53-fa3a-337e26253387"
      },
      "execution_count": 4,
      "outputs": [
        {
          "output_type": "stream",
          "name": "stdout",
          "text": [
            "Token is valid.\n",
            "Your token has been saved to /root/.cache/huggingface/token\n",
            "Login successful\n"
          ]
        }
      ]
    },
    {
      "cell_type": "markdown",
      "metadata": {
        "id": "jQ3-HTchbp2d"
      },
      "source": [
        "### Imports"
      ]
    },
    {
      "cell_type": "code",
      "metadata": {
        "id": "5ZJ136Hzi9fG"
      },
      "source": [
        "import pandas as pd\n",
        "import numpy as np\n",
        "from gensim.models import KeyedVectors, Word2Vec\n",
        "import warnings\n",
        "warnings.filterwarnings('ignore')\n",
        "from collections import defaultdict, Counter\n",
        "import json"
      ],
      "execution_count": 5,
      "outputs": []
    },
    {
      "cell_type": "code",
      "metadata": {
        "id": "gpF3-bncBIwn"
      },
      "source": [
        "import matplotlib\n",
        "import matplotlib.pyplot as plt\n",
        "import seaborn as sns\n",
        "%matplotlib inline\n",
        "from ast import literal_eval\n",
        "fs = 22\n",
        "font = {'family' : 'normal',\n",
        "        'weight' : 'normal',\n",
        "        'size'   : fs}\n",
        "\n",
        "matplotlib.rc('font', **font)\n",
        "plt.rc('xtick', labelsize=fs-6)\n",
        "plt.rc('ytick', labelsize=fs-6)"
      ],
      "execution_count": 6,
      "outputs": []
    },
    {
      "cell_type": "markdown",
      "source": [
        "## Load recipes\n",
        "I downloaded a set of over [2M recipes from Kaggle](https://www.kaggle.com/code/paultimothymooney/explore-recipe-nlg-dataset). The dataset has titles for the recipes, as well as pre-processed named entity recognition (NER)."
      ],
      "metadata": {
        "id": "uiJE1D_oiRRE"
      }
    },
    {
      "cell_type": "code",
      "source": [
        "test = pd.read_csv(folder_loc + 'RecipeNLG_dataset.csv', nrows = 5, sep = ',', index_col = 0)"
      ],
      "metadata": {
        "id": "PSTe0S4ugJxt"
      },
      "execution_count": 7,
      "outputs": []
    },
    {
      "cell_type": "code",
      "source": [
        "test.head()"
      ],
      "metadata": {
        "colab": {
          "base_uri": "https://localhost:8080/",
          "height": 319
        },
        "id": "PX3lvfYSgYsB",
        "outputId": "51bff085-ca72-47a9-a3d5-900acd8de2f3"
      },
      "execution_count": 8,
      "outputs": [
        {
          "output_type": "execute_result",
          "data": {
            "text/plain": [
              "                   title                                        ingredients  \\\n",
              "0    No-Bake Nut Cookies  [\"1 c. firmly packed brown sugar\", \"1/2 c. eva...   \n",
              "1  Jewell Ball'S Chicken  [\"1 small jar chipped beef, cut up\", \"4 boned ...   \n",
              "2            Creamy Corn  [\"2 (16 oz.) pkg. frozen corn\", \"1 (8 oz.) pkg...   \n",
              "3          Chicken Funny  [\"1 large whole chicken\", \"2 (10 1/2 oz.) cans...   \n",
              "4   Reeses Cups(Candy)    [\"1 c. peanut butter\", \"3/4 c. graham cracker ...   \n",
              "\n",
              "                                          directions  \\\n",
              "0  [\"In a heavy 2-quart saucepan, mix brown sugar...   \n",
              "1  [\"Place chipped beef on bottom of baking dish....   \n",
              "2  [\"In a slow cooker, combine all ingredients. C...   \n",
              "3  [\"Boil and debone chicken.\", \"Put bite size pi...   \n",
              "4  [\"Combine first four ingredients and press in ...   \n",
              "\n",
              "                                              link    source  \\\n",
              "0   www.cookbooks.com/Recipe-Details.aspx?id=44874  Gathered   \n",
              "1  www.cookbooks.com/Recipe-Details.aspx?id=699419  Gathered   \n",
              "2   www.cookbooks.com/Recipe-Details.aspx?id=10570  Gathered   \n",
              "3  www.cookbooks.com/Recipe-Details.aspx?id=897570  Gathered   \n",
              "4  www.cookbooks.com/Recipe-Details.aspx?id=659239  Gathered   \n",
              "\n",
              "                                                 NER  \n",
              "0  [\"brown sugar\", \"milk\", \"vanilla\", \"nuts\", \"bu...  \n",
              "1  [\"beef\", \"chicken breasts\", \"cream of mushroom...  \n",
              "2  [\"frozen corn\", \"cream cheese\", \"butter\", \"gar...  \n",
              "3  [\"chicken\", \"chicken gravy\", \"cream of mushroo...  \n",
              "4  [\"peanut butter\", \"graham cracker crumbs\", \"bu...  "
            ],
            "text/html": [
              "\n",
              "  <div id=\"df-042a164b-9970-4606-bd42-8b28c5e35a97\">\n",
              "    <div class=\"colab-df-container\">\n",
              "      <div>\n",
              "<style scoped>\n",
              "    .dataframe tbody tr th:only-of-type {\n",
              "        vertical-align: middle;\n",
              "    }\n",
              "\n",
              "    .dataframe tbody tr th {\n",
              "        vertical-align: top;\n",
              "    }\n",
              "\n",
              "    .dataframe thead th {\n",
              "        text-align: right;\n",
              "    }\n",
              "</style>\n",
              "<table border=\"1\" class=\"dataframe\">\n",
              "  <thead>\n",
              "    <tr style=\"text-align: right;\">\n",
              "      <th></th>\n",
              "      <th>title</th>\n",
              "      <th>ingredients</th>\n",
              "      <th>directions</th>\n",
              "      <th>link</th>\n",
              "      <th>source</th>\n",
              "      <th>NER</th>\n",
              "    </tr>\n",
              "  </thead>\n",
              "  <tbody>\n",
              "    <tr>\n",
              "      <th>0</th>\n",
              "      <td>No-Bake Nut Cookies</td>\n",
              "      <td>[\"1 c. firmly packed brown sugar\", \"1/2 c. eva...</td>\n",
              "      <td>[\"In a heavy 2-quart saucepan, mix brown sugar...</td>\n",
              "      <td>www.cookbooks.com/Recipe-Details.aspx?id=44874</td>\n",
              "      <td>Gathered</td>\n",
              "      <td>[\"brown sugar\", \"milk\", \"vanilla\", \"nuts\", \"bu...</td>\n",
              "    </tr>\n",
              "    <tr>\n",
              "      <th>1</th>\n",
              "      <td>Jewell Ball'S Chicken</td>\n",
              "      <td>[\"1 small jar chipped beef, cut up\", \"4 boned ...</td>\n",
              "      <td>[\"Place chipped beef on bottom of baking dish....</td>\n",
              "      <td>www.cookbooks.com/Recipe-Details.aspx?id=699419</td>\n",
              "      <td>Gathered</td>\n",
              "      <td>[\"beef\", \"chicken breasts\", \"cream of mushroom...</td>\n",
              "    </tr>\n",
              "    <tr>\n",
              "      <th>2</th>\n",
              "      <td>Creamy Corn</td>\n",
              "      <td>[\"2 (16 oz.) pkg. frozen corn\", \"1 (8 oz.) pkg...</td>\n",
              "      <td>[\"In a slow cooker, combine all ingredients. C...</td>\n",
              "      <td>www.cookbooks.com/Recipe-Details.aspx?id=10570</td>\n",
              "      <td>Gathered</td>\n",
              "      <td>[\"frozen corn\", \"cream cheese\", \"butter\", \"gar...</td>\n",
              "    </tr>\n",
              "    <tr>\n",
              "      <th>3</th>\n",
              "      <td>Chicken Funny</td>\n",
              "      <td>[\"1 large whole chicken\", \"2 (10 1/2 oz.) cans...</td>\n",
              "      <td>[\"Boil and debone chicken.\", \"Put bite size pi...</td>\n",
              "      <td>www.cookbooks.com/Recipe-Details.aspx?id=897570</td>\n",
              "      <td>Gathered</td>\n",
              "      <td>[\"chicken\", \"chicken gravy\", \"cream of mushroo...</td>\n",
              "    </tr>\n",
              "    <tr>\n",
              "      <th>4</th>\n",
              "      <td>Reeses Cups(Candy)</td>\n",
              "      <td>[\"1 c. peanut butter\", \"3/4 c. graham cracker ...</td>\n",
              "      <td>[\"Combine first four ingredients and press in ...</td>\n",
              "      <td>www.cookbooks.com/Recipe-Details.aspx?id=659239</td>\n",
              "      <td>Gathered</td>\n",
              "      <td>[\"peanut butter\", \"graham cracker crumbs\", \"bu...</td>\n",
              "    </tr>\n",
              "  </tbody>\n",
              "</table>\n",
              "</div>\n",
              "      <button class=\"colab-df-convert\" onclick=\"convertToInteractive('df-042a164b-9970-4606-bd42-8b28c5e35a97')\"\n",
              "              title=\"Convert this dataframe to an interactive table.\"\n",
              "              style=\"display:none;\">\n",
              "        \n",
              "  <svg xmlns=\"http://www.w3.org/2000/svg\" height=\"24px\"viewBox=\"0 0 24 24\"\n",
              "       width=\"24px\">\n",
              "    <path d=\"M0 0h24v24H0V0z\" fill=\"none\"/>\n",
              "    <path d=\"M18.56 5.44l.94 2.06.94-2.06 2.06-.94-2.06-.94-.94-2.06-.94 2.06-2.06.94zm-11 1L8.5 8.5l.94-2.06 2.06-.94-2.06-.94L8.5 2.5l-.94 2.06-2.06.94zm10 10l.94 2.06.94-2.06 2.06-.94-2.06-.94-.94-2.06-.94 2.06-2.06.94z\"/><path d=\"M17.41 7.96l-1.37-1.37c-.4-.4-.92-.59-1.43-.59-.52 0-1.04.2-1.43.59L10.3 9.45l-7.72 7.72c-.78.78-.78 2.05 0 2.83L4 21.41c.39.39.9.59 1.41.59.51 0 1.02-.2 1.41-.59l7.78-7.78 2.81-2.81c.8-.78.8-2.07 0-2.86zM5.41 20L4 18.59l7.72-7.72 1.47 1.35L5.41 20z\"/>\n",
              "  </svg>\n",
              "      </button>\n",
              "      \n",
              "  <style>\n",
              "    .colab-df-container {\n",
              "      display:flex;\n",
              "      flex-wrap:wrap;\n",
              "      gap: 12px;\n",
              "    }\n",
              "\n",
              "    .colab-df-convert {\n",
              "      background-color: #E8F0FE;\n",
              "      border: none;\n",
              "      border-radius: 50%;\n",
              "      cursor: pointer;\n",
              "      display: none;\n",
              "      fill: #1967D2;\n",
              "      height: 32px;\n",
              "      padding: 0 0 0 0;\n",
              "      width: 32px;\n",
              "    }\n",
              "\n",
              "    .colab-df-convert:hover {\n",
              "      background-color: #E2EBFA;\n",
              "      box-shadow: 0px 1px 2px rgba(60, 64, 67, 0.3), 0px 1px 3px 1px rgba(60, 64, 67, 0.15);\n",
              "      fill: #174EA6;\n",
              "    }\n",
              "\n",
              "    [theme=dark] .colab-df-convert {\n",
              "      background-color: #3B4455;\n",
              "      fill: #D2E3FC;\n",
              "    }\n",
              "\n",
              "    [theme=dark] .colab-df-convert:hover {\n",
              "      background-color: #434B5C;\n",
              "      box-shadow: 0px 1px 3px 1px rgba(0, 0, 0, 0.15);\n",
              "      filter: drop-shadow(0px 1px 2px rgba(0, 0, 0, 0.3));\n",
              "      fill: #FFFFFF;\n",
              "    }\n",
              "  </style>\n",
              "\n",
              "      <script>\n",
              "        const buttonEl =\n",
              "          document.querySelector('#df-042a164b-9970-4606-bd42-8b28c5e35a97 button.colab-df-convert');\n",
              "        buttonEl.style.display =\n",
              "          google.colab.kernel.accessAllowed ? 'block' : 'none';\n",
              "\n",
              "        async function convertToInteractive(key) {\n",
              "          const element = document.querySelector('#df-042a164b-9970-4606-bd42-8b28c5e35a97');\n",
              "          const dataTable =\n",
              "            await google.colab.kernel.invokeFunction('convertToInteractive',\n",
              "                                                     [key], {});\n",
              "          if (!dataTable) return;\n",
              "\n",
              "          const docLinkHtml = 'Like what you see? Visit the ' +\n",
              "            '<a target=\"_blank\" href=https://colab.research.google.com/notebooks/data_table.ipynb>data table notebook</a>'\n",
              "            + ' to learn more about interactive tables.';\n",
              "          element.innerHTML = '';\n",
              "          dataTable['output_type'] = 'display_data';\n",
              "          await google.colab.output.renderOutput(dataTable, element);\n",
              "          const docLink = document.createElement('div');\n",
              "          docLink.innerHTML = docLinkHtml;\n",
              "          element.appendChild(docLink);\n",
              "        }\n",
              "      </script>\n",
              "    </div>\n",
              "  </div>\n",
              "  "
            ]
          },
          "metadata": {},
          "execution_count": 8
        }
      ]
    },
    {
      "cell_type": "code",
      "source": [
        "%%time\n",
        "\n",
        "recipes_pdf = pd.read_csv(folder_loc + 'RecipeNLG_dataset.csv', sep = ',',usecols = ['title', 'NER'], converters={\"NER\": literal_eval})"
      ],
      "metadata": {
        "id": "WviWIaHTgj05",
        "colab": {
          "base_uri": "https://localhost:8080/"
        },
        "outputId": "4e6a4250-8b98-4d65-e014-367d2708b1ee"
      },
      "execution_count": 9,
      "outputs": [
        {
          "output_type": "stream",
          "name": "stdout",
          "text": [
            "CPU times: user 1min 30s, sys: 5.14 s, total: 1min 35s\n",
            "Wall time: 2min 14s\n"
          ]
        }
      ]
    },
    {
      "cell_type": "code",
      "source": [
        "recipes_pdf.info()"
      ],
      "metadata": {
        "colab": {
          "base_uri": "https://localhost:8080/"
        },
        "id": "2MTmiMUCgtRc",
        "outputId": "bec2fba2-ce39-4ea7-cb8b-28297c3252d1"
      },
      "execution_count": 10,
      "outputs": [
        {
          "output_type": "stream",
          "name": "stdout",
          "text": [
            "<class 'pandas.core.frame.DataFrame'>\n",
            "RangeIndex: 2231142 entries, 0 to 2231141\n",
            "Data columns (total 2 columns):\n",
            " #   Column  Dtype \n",
            "---  ------  ----- \n",
            " 0   title   object\n",
            " 1   NER     object\n",
            "dtypes: object(2)\n",
            "memory usage: 34.0+ MB\n"
          ]
        }
      ]
    },
    {
      "cell_type": "markdown",
      "source": [
        "# Pre-processing\n",
        "As in any NLP application, we need to do some pre-processing. As I am focusing on the embedding aspect of this project, I only did some light stemming (removing plurals), and deduplication of recipes that had the same ingredients."
      ],
      "metadata": {
        "id": "hA1Pf_pIcX9l"
      }
    },
    {
      "cell_type": "markdown",
      "source": [
        "### Stemming\n",
        "First, remove trailing `s`s to reduce token count"
      ],
      "metadata": {
        "id": "-kaHo8uHcl9N"
      }
    },
    {
      "cell_type": "code",
      "source": [
        "def pre_process(token_list):\n",
        "  return [word.rstrip('s').lower() for word in token_list]\n",
        "recipes_pdf['NER'] = recipes_pdf['NER'].apply(pre_process)"
      ],
      "metadata": {
        "id": "vQCg21AfcXrl"
      },
      "execution_count": 11,
      "outputs": []
    },
    {
      "cell_type": "code",
      "source": [
        "recipes_pdf['NER'].head()"
      ],
      "metadata": {
        "colab": {
          "base_uri": "https://localhost:8080/"
        },
        "id": "NX3gWfSTdFZn",
        "outputId": "6955b1f8-4bdb-4ea2-dc86-ec3bc2e1ef47"
      },
      "execution_count": 12,
      "outputs": [
        {
          "output_type": "execute_result",
          "data": {
            "text/plain": [
              "0    [brown sugar, milk, vanilla, nut, butter, bite...\n",
              "1    [beef, chicken breast, cream of mushroom soup,...\n",
              "2    [frozen corn, cream cheese, butter, garlic pow...\n",
              "3    [chicken, chicken gravy, cream of mushroom sou...\n",
              "4    [peanut butter, graham cracker crumb, butter, ...\n",
              "Name: NER, dtype: object"
            ]
          },
          "metadata": {},
          "execution_count": 12
        }
      ]
    },
    {
      "cell_type": "markdown",
      "source": [
        "## Remove duplicate recipes\n",
        "There are many duplicate recipes. We can see that at first by looking at recipe names. Below are the 2000th most common recipe titles, and we can see even this low in the rankings there are many duplicates."
      ],
      "metadata": {
        "id": "CajDVGINMH4k"
      }
    },
    {
      "cell_type": "code",
      "source": [
        "recipes_pdf['title'].value_counts().head(2000).tail()"
      ],
      "metadata": {
        "colab": {
          "base_uri": "https://localhost:8080/"
        },
        "id": "dZIjHi_Edqky",
        "outputId": "43dad36e-8ec8-49a6-8235-669966df0570"
      },
      "execution_count": 13,
      "outputs": [
        {
          "output_type": "execute_result",
          "data": {
            "text/plain": [
              "Tuna Ball                   59\n",
              "Easy Coconut Cake           59\n",
              "Lemon Poppy Seed Muffins    59\n",
              "Tomato Pudding              59\n",
              "Mrs. Field'S Cookies        59\n",
              "Name: title, dtype: int64"
            ]
          },
          "metadata": {},
          "execution_count": 13
        }
      ]
    },
    {
      "cell_type": "markdown",
      "source": [
        "### Janky way to remove duplicates\n",
        "One way to remove duplicate recipes would be to find all recipes with the same set of ingredients. This would involve tokenizing stuff. My lazy way to do this is to just concatenate all the character together, and use pandas `drop_duplicates`."
      ],
      "metadata": {
        "id": "EiY_6RvqMS50"
      }
    },
    {
      "cell_type": "code",
      "source": [
        "recipes_pdf['sorted_char'] = recipes_pdf['NER'].apply(lambda row: ''.join(sorted(''.join(row).replace(' ', ''))))\n"
      ],
      "metadata": {
        "id": "ahYChmD_duE4"
      },
      "execution_count": 14,
      "outputs": []
    },
    {
      "cell_type": "code",
      "source": [
        "recipes_pdf['sorted_char'].value_counts().head()"
      ],
      "metadata": {
        "colab": {
          "base_uri": "https://localhost:8080/"
        },
        "id": "hwjEATUff7nV",
        "outputId": "32824d27-eb89-4271-8b32-19d8c634eba8"
      },
      "execution_count": 15,
      "outputs": [
        {
          "output_type": "execute_result",
          "data": {
            "text/plain": [
              "                                                  574\n",
              "aaaaabbdeeefggggiiikklllllmnnooprrrrsstttuuuvw    449\n",
              "aefggiklllmorstu                                  336\n",
              "aaegrrstuw                                        311\n",
              "aaabbdeeefggggiikklllmnooprrrrsstttuuuw           307\n",
              "Name: sorted_char, dtype: int64"
            ]
          },
          "metadata": {},
          "execution_count": 15
        }
      ]
    },
    {
      "cell_type": "code",
      "source": [
        "recipes_pdf.loc[recipes_pdf['sorted_char'] == 'aaabbdeeefggggiikklllmnooprrrrsstttuuuw'].head()"
      ],
      "metadata": {
        "colab": {
          "base_uri": "https://localhost:8080/",
          "height": 206
        },
        "id": "7ARyFoN_gIf5",
        "outputId": "20ed5bc9-1f06-4188-c01d-d4ce3d189f70"
      },
      "execution_count": 16,
      "outputs": [
        {
          "output_type": "execute_result",
          "data": {
            "text/plain": [
              "                   title                                                NER  \\\n",
              "175       Mom'S Pancakes  [flour, baking powder, salt, sugar, egg, milk,...   \n",
              "6031   Homemade Pancakes  [flour, salt, sugar, egg, baking powder, milk,...   \n",
              "7300      Plain Biscuits  [flour, baking powder, sugar, salt, butter, mi...   \n",
              "11873         Picklelets  [egg, milk, baking powder, butter, sugar, flou...   \n",
              "18121           Pancakes  [baking powder, flour, sugar, salt, milk, egg,...   \n",
              "\n",
              "                                   sorted_char  \n",
              "175    aaabbdeeefggggiikklllmnooprrrrsstttuuuw  \n",
              "6031   aaabbdeeefggggiikklllmnooprrrrsstttuuuw  \n",
              "7300   aaabbdeeefggggiikklllmnooprrrrsstttuuuw  \n",
              "11873  aaabbdeeefggggiikklllmnooprrrrsstttuuuw  \n",
              "18121  aaabbdeeefggggiikklllmnooprrrrsstttuuuw  "
            ],
            "text/html": [
              "\n",
              "  <div id=\"df-be2c3091-6542-4fd4-94fb-5c1276de75c7\">\n",
              "    <div class=\"colab-df-container\">\n",
              "      <div>\n",
              "<style scoped>\n",
              "    .dataframe tbody tr th:only-of-type {\n",
              "        vertical-align: middle;\n",
              "    }\n",
              "\n",
              "    .dataframe tbody tr th {\n",
              "        vertical-align: top;\n",
              "    }\n",
              "\n",
              "    .dataframe thead th {\n",
              "        text-align: right;\n",
              "    }\n",
              "</style>\n",
              "<table border=\"1\" class=\"dataframe\">\n",
              "  <thead>\n",
              "    <tr style=\"text-align: right;\">\n",
              "      <th></th>\n",
              "      <th>title</th>\n",
              "      <th>NER</th>\n",
              "      <th>sorted_char</th>\n",
              "    </tr>\n",
              "  </thead>\n",
              "  <tbody>\n",
              "    <tr>\n",
              "      <th>175</th>\n",
              "      <td>Mom'S Pancakes</td>\n",
              "      <td>[flour, baking powder, salt, sugar, egg, milk,...</td>\n",
              "      <td>aaabbdeeefggggiikklllmnooprrrrsstttuuuw</td>\n",
              "    </tr>\n",
              "    <tr>\n",
              "      <th>6031</th>\n",
              "      <td>Homemade Pancakes</td>\n",
              "      <td>[flour, salt, sugar, egg, baking powder, milk,...</td>\n",
              "      <td>aaabbdeeefggggiikklllmnooprrrrsstttuuuw</td>\n",
              "    </tr>\n",
              "    <tr>\n",
              "      <th>7300</th>\n",
              "      <td>Plain Biscuits</td>\n",
              "      <td>[flour, baking powder, sugar, salt, butter, mi...</td>\n",
              "      <td>aaabbdeeefggggiikklllmnooprrrrsstttuuuw</td>\n",
              "    </tr>\n",
              "    <tr>\n",
              "      <th>11873</th>\n",
              "      <td>Picklelets</td>\n",
              "      <td>[egg, milk, baking powder, butter, sugar, flou...</td>\n",
              "      <td>aaabbdeeefggggiikklllmnooprrrrsstttuuuw</td>\n",
              "    </tr>\n",
              "    <tr>\n",
              "      <th>18121</th>\n",
              "      <td>Pancakes</td>\n",
              "      <td>[baking powder, flour, sugar, salt, milk, egg,...</td>\n",
              "      <td>aaabbdeeefggggiikklllmnooprrrrsstttuuuw</td>\n",
              "    </tr>\n",
              "  </tbody>\n",
              "</table>\n",
              "</div>\n",
              "      <button class=\"colab-df-convert\" onclick=\"convertToInteractive('df-be2c3091-6542-4fd4-94fb-5c1276de75c7')\"\n",
              "              title=\"Convert this dataframe to an interactive table.\"\n",
              "              style=\"display:none;\">\n",
              "        \n",
              "  <svg xmlns=\"http://www.w3.org/2000/svg\" height=\"24px\"viewBox=\"0 0 24 24\"\n",
              "       width=\"24px\">\n",
              "    <path d=\"M0 0h24v24H0V0z\" fill=\"none\"/>\n",
              "    <path d=\"M18.56 5.44l.94 2.06.94-2.06 2.06-.94-2.06-.94-.94-2.06-.94 2.06-2.06.94zm-11 1L8.5 8.5l.94-2.06 2.06-.94-2.06-.94L8.5 2.5l-.94 2.06-2.06.94zm10 10l.94 2.06.94-2.06 2.06-.94-2.06-.94-.94-2.06-.94 2.06-2.06.94z\"/><path d=\"M17.41 7.96l-1.37-1.37c-.4-.4-.92-.59-1.43-.59-.52 0-1.04.2-1.43.59L10.3 9.45l-7.72 7.72c-.78.78-.78 2.05 0 2.83L4 21.41c.39.39.9.59 1.41.59.51 0 1.02-.2 1.41-.59l7.78-7.78 2.81-2.81c.8-.78.8-2.07 0-2.86zM5.41 20L4 18.59l7.72-7.72 1.47 1.35L5.41 20z\"/>\n",
              "  </svg>\n",
              "      </button>\n",
              "      \n",
              "  <style>\n",
              "    .colab-df-container {\n",
              "      display:flex;\n",
              "      flex-wrap:wrap;\n",
              "      gap: 12px;\n",
              "    }\n",
              "\n",
              "    .colab-df-convert {\n",
              "      background-color: #E8F0FE;\n",
              "      border: none;\n",
              "      border-radius: 50%;\n",
              "      cursor: pointer;\n",
              "      display: none;\n",
              "      fill: #1967D2;\n",
              "      height: 32px;\n",
              "      padding: 0 0 0 0;\n",
              "      width: 32px;\n",
              "    }\n",
              "\n",
              "    .colab-df-convert:hover {\n",
              "      background-color: #E2EBFA;\n",
              "      box-shadow: 0px 1px 2px rgba(60, 64, 67, 0.3), 0px 1px 3px 1px rgba(60, 64, 67, 0.15);\n",
              "      fill: #174EA6;\n",
              "    }\n",
              "\n",
              "    [theme=dark] .colab-df-convert {\n",
              "      background-color: #3B4455;\n",
              "      fill: #D2E3FC;\n",
              "    }\n",
              "\n",
              "    [theme=dark] .colab-df-convert:hover {\n",
              "      background-color: #434B5C;\n",
              "      box-shadow: 0px 1px 3px 1px rgba(0, 0, 0, 0.15);\n",
              "      filter: drop-shadow(0px 1px 2px rgba(0, 0, 0, 0.3));\n",
              "      fill: #FFFFFF;\n",
              "    }\n",
              "  </style>\n",
              "\n",
              "      <script>\n",
              "        const buttonEl =\n",
              "          document.querySelector('#df-be2c3091-6542-4fd4-94fb-5c1276de75c7 button.colab-df-convert');\n",
              "        buttonEl.style.display =\n",
              "          google.colab.kernel.accessAllowed ? 'block' : 'none';\n",
              "\n",
              "        async function convertToInteractive(key) {\n",
              "          const element = document.querySelector('#df-be2c3091-6542-4fd4-94fb-5c1276de75c7');\n",
              "          const dataTable =\n",
              "            await google.colab.kernel.invokeFunction('convertToInteractive',\n",
              "                                                     [key], {});\n",
              "          if (!dataTable) return;\n",
              "\n",
              "          const docLinkHtml = 'Like what you see? Visit the ' +\n",
              "            '<a target=\"_blank\" href=https://colab.research.google.com/notebooks/data_table.ipynb>data table notebook</a>'\n",
              "            + ' to learn more about interactive tables.';\n",
              "          element.innerHTML = '';\n",
              "          dataTable['output_type'] = 'display_data';\n",
              "          await google.colab.output.renderOutput(dataTable, element);\n",
              "          const docLink = document.createElement('div');\n",
              "          docLink.innerHTML = docLinkHtml;\n",
              "          element.appendChild(docLink);\n",
              "        }\n",
              "      </script>\n",
              "    </div>\n",
              "  </div>\n",
              "  "
            ]
          },
          "metadata": {},
          "execution_count": 16
        }
      ]
    },
    {
      "cell_type": "code",
      "source": [
        "recipes_pdf = recipes_pdf.drop_duplicates(subset = 'sorted_char')\n",
        "recipes_pdf.shape"
      ],
      "metadata": {
        "colab": {
          "base_uri": "https://localhost:8080/"
        },
        "id": "9-K_6byRgbxc",
        "outputId": "3e7bb849-7d07-460f-f9e2-2cb243d27bcd"
      },
      "execution_count": 17,
      "outputs": [
        {
          "output_type": "execute_result",
          "data": {
            "text/plain": [
              "(1976599, 3)"
            ]
          },
          "metadata": {},
          "execution_count": 17
        }
      ]
    },
    {
      "cell_type": "markdown",
      "source": [
        "Removed 20k recipes"
      ],
      "metadata": {
        "id": "IPwBL1nMgkiM"
      }
    },
    {
      "cell_type": "markdown",
      "source": [
        "# Modeling\n",
        "To build a model for ingredients, I wanted a way to embed ingredients in space. The first thing that came to mind was to use Word2Vec, as it does just that. Here I train embeddings with different numbers of dimensions, ranging from 16-100. This is doable on a Google Colab CPU in about 3 minutes per model, for 2M recipes"
      ],
      "metadata": {
        "id": "fMs_iM85ZJQ9"
      }
    },
    {
      "cell_type": "markdown",
      "source": [
        "### Train embeddings with different number of dimensions"
      ],
      "metadata": {
        "id": "PUPmjZumM30Q"
      }
    },
    {
      "cell_type": "code",
      "metadata": {
        "id": "rmkwu3QyqXpI",
        "outputId": "1d273f61-3aae-4d54-bdf8-c3fd4e01ef8f",
        "colab": {
          "base_uri": "https://localhost:8080/"
        }
      },
      "source": [
        "%%time\n",
        "recipe_w2v_100 = Word2Vec(recipes_pdf['NER'], min_count=10)\n",
        "recipe_w2v_50 = Word2Vec(recipes_pdf['NER'], size=50, min_count=10)\n",
        "recipe_w2v_25 = Word2Vec(recipes_pdf['NER'], size=25, min_count=10)\n",
        "recipe_w2v_16 = Word2Vec(recipes_pdf['NER'], size=16, min_count=10)"
      ],
      "execution_count": 18,
      "outputs": [
        {
          "output_type": "stream",
          "name": "stdout",
          "text": [
            "CPU times: user 3min 16s, sys: 1.16 s, total: 3min 17s\n",
            "Wall time: 2min 24s\n"
          ]
        }
      ]
    },
    {
      "cell_type": "markdown",
      "source": [
        "We have about 20k ingredients after training"
      ],
      "metadata": {
        "id": "dnO5UGgUZiao"
      }
    },
    {
      "cell_type": "code",
      "metadata": {
        "id": "XzdzwhgqtO08",
        "colab": {
          "base_uri": "https://localhost:8080/"
        },
        "outputId": "bee07792-3615-4091-c368-98107e44390a"
      },
      "source": [
        "# number of ingredients\n",
        "len(recipe_w2v_16.wv.vocab)"
      ],
      "execution_count": 19,
      "outputs": [
        {
          "output_type": "execute_result",
          "data": {
            "text/plain": [
              "18877"
            ]
          },
          "metadata": {},
          "execution_count": 19
        }
      ]
    },
    {
      "cell_type": "markdown",
      "source": [
        "## Lower-dimensional embeddings look better on the surface than high-dimensions\n",
        "When I initially trained these ingredient-embeddings, I found some surprising results, like `bone` showing up in the most similar ingredients for `carrot`. While this is somewhat understandable since people make lots of soups, this would make for some surprising ingredient replacements.\n",
        "\n",
        "One hypothesis I had for this was that the default number of embeddings dimensions is too high. Anthropic AI has an [interesting paper about how embeddings are able to represent more features than there are dimensions](https://transformer-circuits.pub/2022/toy_model/index.html#motivation) by using \"superposition.\" The default number of dimensions for GenSim is 100, which implies it could encode hundreds of dimensions in flavor space. So I tested reducing the number of dimensions of the embeddings, and lo and behold it seemed to fix the `carrot-bone` similarity problem. Below are examples of this for carrots and apples. "
      ],
      "metadata": {
        "id": "u4p7pcx4MnkA"
      }
    },
    {
      "cell_type": "markdown",
      "source": [
        "### Carrots\n",
        "With the default number of dimensions (100), the most similar ingredients  to `carrot` are `carrot` variants, but `bone` and `beef bone` show up in the top 10."
      ],
      "metadata": {
        "id": "0ET22zeINwqj"
      }
    },
    {
      "cell_type": "code",
      "source": [
        "recipe_w2v_100.most_similar('carrot')"
      ],
      "metadata": {
        "colab": {
          "base_uri": "https://localhost:8080/"
        },
        "id": "dBsNhqYfJzue",
        "outputId": "d1dc4a54-4f40-4447-ec02-dce3def8ebc6"
      },
      "execution_count": null,
      "outputs": [
        {
          "output_type": "execute_result",
          "data": {
            "text/plain": [
              "[('baby carrot', 0.8065677881240845),\n",
              " ('fresh carrot', 0.6772737503051758),\n",
              " ('peeled carrot', 0.6647123694419861),\n",
              " ('fresh baby carrot', 0.5763121843338013),\n",
              " ('grated carrot', 0.5363171696662903),\n",
              " ('beef bone', 0.5336546897888184),\n",
              " ('bone', 0.522489070892334),\n",
              " ('pearl barley', 0.4999176263809204),\n",
              " ('barley', 0.4961257576942444),\n",
              " ('only', 0.48451071977615356)]"
            ]
          },
          "metadata": {},
          "execution_count": 55
        }
      ]
    },
    {
      "cell_type": "markdown",
      "source": [
        "Reducing to 25 dimensions pushes `bone` out of the top 10, but still surprisingly high."
      ],
      "metadata": {
        "id": "BpRtQJ9EO9Cu"
      }
    },
    {
      "cell_type": "code",
      "source": [
        "recipe_w2v_25.most_similar('carrot' , topn=15)"
      ],
      "metadata": {
        "colab": {
          "base_uri": "https://localhost:8080/"
        },
        "id": "_CBvzJbBKnQg",
        "outputId": "83b4adf5-665d-46bb-b5e2-bd0a0bc0e1c8"
      },
      "execution_count": null,
      "outputs": [
        {
          "output_type": "execute_result",
          "data": {
            "text/plain": [
              "[('baby carrot', 0.8326777219772339),\n",
              " ('fresh carrot', 0.7855518460273743),\n",
              " ('white turnip', 0.7434546947479248),\n",
              " ('pearl barley', 0.7420206665992737),\n",
              " ('parsley root', 0.7365614175796509),\n",
              " ('turnip', 0.7275972962379456),\n",
              " ('barley', 0.7271861433982849),\n",
              " ('sweet potato', 0.7265936136245728),\n",
              " ('swede', 0.7255061864852905),\n",
              " ('green lentil', 0.7225844860076904),\n",
              " ('parsnip', 0.7192715406417847),\n",
              " ('bone', 0.715190589427948),\n",
              " ('chunk', 0.7009220123291016),\n",
              " ('stalks of celery', 0.6996918320655823),\n",
              " ('lentil', 0.6953086256980896)]"
            ]
          },
          "metadata": {},
          "execution_count": 77
        }
      ]
    },
    {
      "cell_type": "markdown",
      "source": [
        "16 dimensions gets it out of the top 20"
      ],
      "metadata": {
        "id": "5Cw93AbUQlZ5"
      }
    },
    {
      "cell_type": "code",
      "source": [
        "recipe_w2v_16.most_similar('carrot' , topn=20)"
      ],
      "metadata": {
        "colab": {
          "base_uri": "https://localhost:8080/"
        },
        "id": "5QscCb3LQb0Q",
        "outputId": "757fbb01-e20d-4deb-c08e-12e2ad6de921"
      },
      "execution_count": null,
      "outputs": [
        {
          "output_type": "execute_result",
          "data": {
            "text/plain": [
              "[('stalks celery', 0.8890523910522461),\n",
              " ('baby carrot', 0.8877623081207275),\n",
              " ('celery', 0.8522034287452698),\n",
              " ('pearl barley', 0.8518322706222534),\n",
              " ('barley', 0.8432409167289734),\n",
              " ('stalks of celery', 0.8340665698051453),\n",
              " ('celery stalk', 0.8294845223426819),\n",
              " ('lentil', 0.8264703154563904),\n",
              " ('stalk celery', 0.8254605531692505),\n",
              " ('green bean', 0.8253151178359985),\n",
              " ('green lentil', 0.8252203464508057),\n",
              " ('parsnip', 0.8249714374542236),\n",
              " ('dried lentil', 0.817329466342926),\n",
              " ('white cabbage', 0.8002745509147644),\n",
              " ('turnip', 0.7969602346420288),\n",
              " ('potato', 0.7907851338386536),\n",
              " ('fresh carrot', 0.7867233753204346),\n",
              " ('chunk', 0.7820314168930054),\n",
              " ('fresh green bean', 0.7777174711227417),\n",
              " ('white turnip', 0.7760671377182007)]"
            ]
          },
          "metadata": {},
          "execution_count": 76
        }
      ]
    },
    {
      "cell_type": "markdown",
      "source": [
        "### Barley\n",
        "We can see a similar situation with barley: with a large number of dimensions, meat bones are 4/20 most similar ingredients. However, if we reduce the number of dimensions to 16, we find that 2/20 are meat."
      ],
      "metadata": {
        "id": "PIKQd9WTQndI"
      }
    },
    {
      "cell_type": "code",
      "source": [
        "recipe_w2v_100.most_similar('barley', topn=20)"
      ],
      "metadata": {
        "colab": {
          "base_uri": "https://localhost:8080/"
        },
        "id": "XLujI4DEQpeS",
        "outputId": "a2cfa6cd-2654-4407-f3d7-c6cb483f745f"
      },
      "execution_count": null,
      "outputs": [
        {
          "output_type": "execute_result",
          "data": {
            "text/plain": [
              "[('pearl barley', 0.9185601472854614),\n",
              " ('dried lentil', 0.7291703820228577),\n",
              " ('lentil', 0.7216474413871765),\n",
              " ('dry lentil', 0.6877376437187195),\n",
              " ('long grain brown rice', 0.6726171970367432),\n",
              " ('green lentil', 0.669456422328949),\n",
              " ('quick-cooking barley', 0.6392723321914673),\n",
              " ('brown lentil', 0.6360408067703247),\n",
              " ('frozen green bean', 0.6338297128677368),\n",
              " ('green split pea', 0.6311508417129517),\n",
              " ('ham bone', 0.628990888595581),\n",
              " ('beef soup bone', 0.6211417317390442),\n",
              " ('brown rice', 0.6149815320968628),\n",
              " ('alphabet pasta', 0.6042261719703674),\n",
              " ('cooking barley', 0.5910148024559021),\n",
              " ('frozen lima bean', 0.5896640419960022),\n",
              " ('beef bone', 0.5829190015792847),\n",
              " ('white bean', 0.5824376344680786),\n",
              " ('bone', 0.5795758962631226),\n",
              " ('vegetable bouillon', 0.5782933235168457)]"
            ]
          },
          "metadata": {},
          "execution_count": 79
        }
      ]
    },
    {
      "cell_type": "code",
      "source": [
        "recipe_w2v_16.most_similar('barley', topn=20)"
      ],
      "metadata": {
        "colab": {
          "base_uri": "https://localhost:8080/"
        },
        "id": "GgdXRieRQsj2",
        "outputId": "d68b74fe-d882-4eb0-d11b-8de2c1ba4f6e"
      },
      "execution_count": null,
      "outputs": [
        {
          "output_type": "execute_result",
          "data": {
            "text/plain": [
              "[('pearl barley', 0.9637734889984131),\n",
              " ('dried lentil', 0.925638735294342),\n",
              " ('lentil', 0.9177876710891724),\n",
              " ('dry lentil', 0.8902276754379272),\n",
              " ('brown lentil', 0.8776227235794067),\n",
              " ('green lentil', 0.8661330938339233),\n",
              " ('quick-cooking barley', 0.8623511791229248),\n",
              " ('carrot', 0.8284534215927124),\n",
              " ('lamb stew meat', 0.8240671753883362),\n",
              " ('long grain brown rice', 0.8050515651702881),\n",
              " ('stalks celery', 0.7979966402053833),\n",
              " ('dried great northern bean', 0.7950857281684875),\n",
              " ('yellow pea', 0.7908360362052917),\n",
              " ('white bean', 0.7860153913497925),\n",
              " ('split pea', 0.7850393056869507),\n",
              " ('chunk', 0.7847321033477783),\n",
              " ('green split pea', 0.7832866907119751),\n",
              " ('lamb shank', 0.7812250256538391),\n",
              " ('bulgur', 0.7739902138710022),\n",
              " ('stalks of celery', 0.771740734577179)]"
            ]
          },
          "metadata": {},
          "execution_count": 80
        }
      ]
    },
    {
      "cell_type": "markdown",
      "source": [
        "### Word2Vec addition\n",
        "One fun thing to do with word embeddings is to see what you get with the standard vector addition. (In general, vector subtraction didn't make much sense in ingredient space).\n",
        "\n",
        "For example, if you ask for the most similar ingredient to `kiwi + banana`, you get suggestions to add yogurt (in addition to some nonsense in `fruit` and `frozen banana`)."
      ],
      "metadata": {
        "id": "xqoHKbKeaucG"
      }
    },
    {
      "cell_type": "code",
      "source": [
        "recipe_w2v_16.wv.most_similar(['kiwi', 'banana'], topn=3, )"
      ],
      "metadata": {
        "id": "4vyafsuccO18",
        "outputId": "87a143bc-9e64-4faa-e2b1-6fc71e0f8fd9",
        "colab": {
          "base_uri": "https://localhost:8080/"
        }
      },
      "execution_count": 45,
      "outputs": [
        {
          "output_type": "execute_result",
          "data": {
            "text/plain": [
              "[('fruit', 0.9203987717628479),\n",
              " ('vanilla yogurt', 0.888529360294342),\n",
              " ('frozen banana', 0.885556697845459)]"
            ]
          },
          "metadata": {},
          "execution_count": 45
        }
      ]
    },
    {
      "cell_type": "markdown",
      "source": [
        "Or maybe you have a bunch of ingredients lying around, and want to know what will go well, you can throw them in the model. The suggestions for `lettuce, feta, and tortilla chip` are surprisingly good: add an olive, or make a pita pocket."
      ],
      "metadata": {
        "id": "FH2au2gkX-8E"
      }
    },
    {
      "cell_type": "code",
      "source": [
        "recipe_w2v_16.wv.most_similar(['lettuce', 'feta', 'tortilla chip'], topn=3, )"
      ],
      "metadata": {
        "id": "4Rrc9MWcfgC6",
        "outputId": "31474e3b-a811-4458-fa6c-fa776f1daf3a",
        "colab": {
          "base_uri": "https://localhost:8080/"
        }
      },
      "execution_count": 53,
      "outputs": [
        {
          "output_type": "execute_result",
          "data": {
            "text/plain": [
              "[('shredded lettuce', 0.8785420656204224),\n",
              " ('black olive', 0.8727546334266663),\n",
              " ('pita pocket', 0.8659997582435608)]"
            ]
          },
          "metadata": {},
          "execution_count": 53
        }
      ]
    },
    {
      "cell_type": "markdown",
      "source": [
        "# Finding new ingredients\n",
        "Now that we have an ingredient embedding, we can build our ingredient recommender. Given a source ingredient `Ing_S`, and a potential replacement ingredient `Ing_R`, the novelty score for is:\n",
        "\n",
        "$$NoveltyScore = CosineSimilarity(Ing_S, Ing_R) * \\frac{\\#\\ of\\ recipes\\ with\\ Ing_S}{\\# of\\ recipes\\ with\\ both\\ Ing_S and Ing_R}$$\n",
        "\n",
        "This means that as similarity goes up, ingredients are more likely to be recommended; and ingredients which co-occur will have a lower score."
      ],
      "metadata": {
        "id": "kuyE4dh3KfA-"
      }
    },
    {
      "cell_type": "markdown",
      "source": [
        "### Get ingredient counts, for understanding how common an ingredient is\n",
        "One key component of the above score is the counts of how often each ingredient occurs. We can pre-calculate this to save time at inference."
      ],
      "metadata": {
        "id": "tUrNCijqMjIc"
      }
    },
    {
      "cell_type": "code",
      "source": [
        "ingredient_count = Counter([token for row in recipes_pdf['NER'].values for token in row])"
      ],
      "metadata": {
        "id": "_w3fp5RYlOsa"
      },
      "execution_count": 59,
      "outputs": []
    },
    {
      "cell_type": "code",
      "source": [
        "def get_fusion_ingredients(ingredient: str,\n",
        "                           recipe_model, #gensim model\n",
        "                           recipes, #iterable of recipes\n",
        "                           ingredient_count: dict,\n",
        "                           max_candidates = 20,\n",
        "                           min_occurence_factor = 100 # minimum number of recipes an ingredient has to be in\n",
        "                           ):\n",
        "\n",
        "  ingredient_recipes = recipes.loc[recipes.apply(lambda row: ingredient in row)]\n",
        "\n",
        "  ingredient_candidates = recipe_model.most_similar(ingredient, topn=50) # get top similar ingredients\n",
        "  candidate_names = list(zip(*ingredient_candidates))[0] # get the names from the first column\n",
        "\n",
        " # clean up candidates to remove duplicates (e.g. for apple, remove \"gala apple\")\n",
        "  pruned_candidates = [candidate for candidate in candidate_names if ingredient not in candidate][:max_candidates]\n",
        "\n",
        " #  count how often these ingredients occur together for novelty score\n",
        "  cooccurrence_counts = calc_cooccurrence(ingredient, candidate_names, ingredient_recipes)\n",
        "\n",
        "  # final score for sorting: similarity / how often co-occur / total occurences\n",
        "  min_occurences = max(cooccurrence_counts.values()) / min_occurence_factor\n",
        "\n",
        "  # build a dictionary of novelty scores\n",
        "  freq_norm_candidates = {candidate[0]: candidate[1] / (cooccurrence_counts[candidate[0]]+1) / ingredient_count[candidate[0]] for candidate in ingredient_candidates if candidate[0] in pruned_candidates and cooccurrence_counts[candidate[0]] > min_occurences}\n",
        "\n",
        "  top_candidates = sorted([(k,v) for k,v in freq_norm_candidates.items()], key=lambda x: x[1])[-5:] # get top 5 candidates, and return as list rather than dictionary\n",
        "  return top_candidates, cooccurrence_counts, ingredient_candidates # return multiple for debugging"
      ],
      "metadata": {
        "id": "JF02W45ijWVn"
      },
      "execution_count": 56,
      "outputs": []
    },
    {
      "cell_type": "code",
      "source": [
        "def calc_cooccurrence(ingredient: str,\n",
        "                      candidates,\n",
        "                      recipes):\n",
        "  ''' Calc how often the top ingredient co-occurs with the candidates\n",
        "    - also removes candidates that are re-phrase of ingredient (e.g. \"beef\" and \"ground beef\")\n",
        "    ingredient: str name of an ingredient (\"apple\")\n",
        "    candidates: potential other ingredients (\"orange\")\n",
        "    recipes: iterable of possible ingredients\n",
        "  '''\n",
        "\n",
        "\n",
        "  co_count = {}\n",
        "  for candidate in candidates:\n",
        "    co_count[candidate] = sum([candidate in recipe and ingredient in recipe for recipe in recipes])\n",
        "  return co_count"
      ],
      "metadata": {
        "id": "pi8SnRmcmjn6"
      },
      "execution_count": 55,
      "outputs": []
    },
    {
      "cell_type": "markdown",
      "source": [
        "### Example recommendations\n",
        "#### Orange\n",
        "Running the function takes about two second, primarily due to calculating co-occurences"
      ],
      "metadata": {
        "id": "t0rv86HNblO9"
      }
    },
    {
      "cell_type": "code",
      "source": [
        "%%time\n",
        "top_candidates, cooccurrence_counts, ingredient_candidates = get_fusion_ingredients('orange', recipe_w2v_16, recipes_pdf['NER'], ingredient_count)\n"
      ],
      "metadata": {
        "colab": {
          "base_uri": "https://localhost:8080/"
        },
        "id": "2GH5mhtvk4nA",
        "outputId": "6f0f970b-8425-470e-cef5-c69a22b4eea1"
      },
      "execution_count": 62,
      "outputs": [
        {
          "output_type": "stream",
          "name": "stdout",
          "text": [
            "37.84\n",
            "CPU times: user 2.22 s, sys: 115 ms, total: 2.33 s\n",
            "Wall time: 2.24 s\n"
          ]
        }
      ]
    },
    {
      "cell_type": "markdown",
      "source": [
        "Below are the raw cosine similarities between orange and the top ingredients. The most similar fruits to orange are tangerine and clementine, with kumquat coming in 3rd."
      ],
      "metadata": {
        "id": "ubO6xl87b4xF"
      }
    },
    {
      "cell_type": "code",
      "source": [
        "ingredient_candidates[:5]"
      ],
      "metadata": {
        "id": "722xIyEdTWgF",
        "outputId": "b01d585c-e98d-4fb7-c426-13bbef1db026",
        "colab": {
          "base_uri": "https://localhost:8080/"
        }
      },
      "execution_count": 66,
      "outputs": [
        {
          "output_type": "execute_result",
          "data": {
            "text/plain": [
              "[('tangerine', 0.944675087928772),\n",
              " ('clementine', 0.8985823392868042),\n",
              " ('kumquat', 0.8837090730667114),\n",
              " ('pomegranate', 0.8730214834213257),\n",
              " ('pear', 0.842303991317749)]"
            ]
          },
          "metadata": {},
          "execution_count": 66
        }
      ]
    },
    {
      "cell_type": "markdown",
      "source": [
        "Below are the top five novelty scoress. After occurence counting kumquat comes rises to the top, as it is less commonly found with oranges. Note that the novelty scores are not interpretable, as they generally are some small number"
      ],
      "metadata": {
        "id": "TQkHb9Jjb_Mm"
      }
    },
    {
      "cell_type": "code",
      "source": [
        "top_candidates[::-1]"
      ],
      "metadata": {
        "id": "umC5uskhgHSF",
        "outputId": "463536b2-5c38-45f7-86a0-6197efc3aa84",
        "colab": {
          "base_uri": "https://localhost:8080/"
        }
      },
      "execution_count": 63,
      "outputs": [
        {
          "output_type": "execute_result",
          "data": {
            "text/plain": [
              "[('kumquat', 3.585899501163413e-05),\n",
              " ('clementine', 3.4800446895426364e-05),\n",
              " ('plum', 2.6533793546761154e-05),\n",
              " ('red grapefruit', 1.914712324948378e-05),\n",
              " ('tangerine', 1.5240873915892616e-05)]"
            ]
          },
          "metadata": {},
          "execution_count": 63
        }
      ]
    },
    {
      "cell_type": "markdown",
      "source": [
        "# Serving the model\n",
        "To allow everyone to spice up their recipes, I built a simple web interface so you can [try the model yourself here](https://huggingface.co/spaces/map222/recipe-spice).\n",
        "\n",
        "To build the web interface, I used HuggingFace's Spaces framework. In this framework, I have [one repo, `recipe-spice-model`](https://huggingface.co/map222/recipe-spice-model/tree/main) that stores the `KeyedVector` and other binary files. For serving, there is a [separate repo, `recipe-spice`](https://huggingface.co/spaces/map222/recipe-spice/tree/main) that contains a file [`app.py`](https://huggingface.co/spaces/map222/recipe-spice/blob/main/app.py) which contains the code for calculating similarity and launching the code.\n",
        "\n",
        "Overall, I found it fairly straightforward to build the interface. However, given it was my first time using the framework, I ended up using the web interface to try to debug filenames, which does not seem ideal."
      ],
      "metadata": {
        "id": "9ggAN-9YgggT"
      }
    },
    {
      "cell_type": "markdown",
      "source": [
        "# Save outputs"
      ],
      "metadata": {
        "id": "ahfPoYn1EMHE"
      }
    },
    {
      "cell_type": "markdown",
      "source": [
        "## To drive"
      ],
      "metadata": {
        "id": "8qF7f16UEO-9"
      }
    },
    {
      "cell_type": "code",
      "source": [
        "recipe_w2v_file = 'recipe_w2v.gensim'\n",
        "recipe_w2v.save(folder_loc + recipe_w2v_file)"
      ],
      "metadata": {
        "id": "WfAQsnngENVs"
      },
      "execution_count": null,
      "outputs": []
    },
    {
      "cell_type": "code",
      "source": [
        "recipe_w2v_file_50 = 'recipe_w2v_50.gensim'\n",
        "recipe_w2v_50.save(folder_loc + recipe_w2v_file_50)"
      ],
      "metadata": {
        "id": "0nny5KtsJOfs"
      },
      "execution_count": null,
      "outputs": []
    },
    {
      "cell_type": "code",
      "source": [
        "recipe_w2v_file_25 = 'recipe_w2v_25.gensim'\n",
        "recipe_w2v_25.save(folder_loc + recipe_w2v_file_25)"
      ],
      "metadata": {
        "id": "FiGNXyiSKWFB"
      },
      "execution_count": null,
      "outputs": []
    },
    {
      "cell_type": "code",
      "source": [
        "recipe_w2v_file_16 = 'recipe_w2v_16.gensim'\n",
        "recipe_w2v_16.save(folder_loc + recipe_w2v_file_16)"
      ],
      "metadata": {
        "id": "GPQjlQ3gUEnG"
      },
      "execution_count": 67,
      "outputs": []
    },
    {
      "cell_type": "code",
      "source": [
        "ingredient_file = 'ingredient_count.json'\n",
        "with open(folder_loc + ingredient_file, 'w') as ingredient_stream:\n",
        "  json.dump(ingredient_count, ingredient_stream)"
      ],
      "metadata": {
        "id": "jhTIVNrdFX5u"
      },
      "execution_count": null,
      "outputs": []
    },
    {
      "cell_type": "code",
      "source": [
        "NER_tsv = 'recipe_NER.tsv'\n",
        "recipes_pdf['NER'].to_csv(folder_loc + NER_tsv, sep='\\t')"
      ],
      "metadata": {
        "id": "madnsrJ4FYt4"
      },
      "execution_count": null,
      "outputs": []
    },
    {
      "cell_type": "markdown",
      "source": [
        "## To huggingface"
      ],
      "metadata": {
        "id": "FO6f-4GXEP6P"
      }
    },
    {
      "cell_type": "code",
      "source": [
        "from huggingface_hub import HfApi\n",
        "api = HfApi()"
      ],
      "metadata": {
        "id": "TNzDQQPWFIRX"
      },
      "execution_count": 69,
      "outputs": []
    },
    {
      "cell_type": "code",
      "source": [
        "recipe_w2v_file = recipe_w2v_file_16"
      ],
      "metadata": {
        "id": "w8d0zyjdd8qY"
      },
      "execution_count": 71,
      "outputs": []
    },
    {
      "cell_type": "code",
      "source": [
        "api.upload_file(\n",
        "    path_or_fileobj=folder_loc + recipe_w2v_file,\n",
        "    path_in_repo=recipe_w2v_file,\n",
        "    repo_id=\"map222/recipe-spice\",\n",
        "    repo_type=\"space\",\n",
        "    create_pr =1\n",
        ")"
      ],
      "metadata": {
        "id": "gDuQJ58Qpvrl"
      },
      "execution_count": null,
      "outputs": []
    },
    {
      "cell_type": "code",
      "source": [
        "api.upload_file(\n",
        "    path_or_fileobj=folder_loc + ingredient_file,\n",
        "    path_in_repo=ingredient_file,\n",
        "    repo_id=\"map222/recipe-spice\",\n",
        "    repo_type=\"space\",\n",
        ")"
      ],
      "metadata": {
        "id": "fAyldi__Gaav"
      },
      "execution_count": null,
      "outputs": []
    },
    {
      "cell_type": "code",
      "source": [
        "api.upload_file(\n",
        "    path_or_fileobj=folder_loc + NER_tsv,\n",
        "    path_in_repo=NER_tsv,\n",
        "    repo_id=\"map222/recipe-spice\",\n",
        "    repo_type=\"space\",\n",
        ")"
      ],
      "metadata": {
        "id": "M3sgpPxbGtuj"
      },
      "execution_count": null,
      "outputs": []
    },
    {
      "cell_type": "code",
      "source": [],
      "metadata": {
        "id": "0SGr4qJTGzct"
      },
      "execution_count": null,
      "outputs": []
    },
    {
      "cell_type": "code",
      "source": [],
      "metadata": {
        "id": "3iyC0W6IUQ_5"
      },
      "execution_count": null,
      "outputs": []
    }
  ]
}